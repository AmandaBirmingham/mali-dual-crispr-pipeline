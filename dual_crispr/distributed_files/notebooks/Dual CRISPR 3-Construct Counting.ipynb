{
 "cells": [
  {
   "cell_type": "markdown",
   "metadata": {},
   "source": [
    "# Dual CRISPR Screen Analysis\n",
    "# Step 3: Construct Counting\n",
    "Amanda Birmingham, CCBB, UCSD (abirmingham@ucsd.edu)\n",
    "\n",
    "## Instructions\n",
    "\n",
    "To run this notebook reproducibly, follow these steps:\n",
    "1. Click **Kernel** > **Restart & Clear Output**\n",
    "2. When prompted, click the red **Restart & clear all outputs** button\n",
    "3. Fill in the values for your analysis for each of the variables in the [Input Parameters](#Input-Parameters) section\n",
    "4. Click **Cell** > **Run All**\n",
    "\n",
    "## Input Parameters"
   ]
  },
  {
   "cell_type": "code",
   "execution_count": null,
   "metadata": {
    "collapsed": true
   },
   "outputs": [],
   "source": [
    "g_num_processors = 3\n",
    "g_filtered_fastqs_dir = '/home/ec2-user/dual_crispr/test_data/test_set_3'\n",
    "g_library_fp = '/home/ec2-user/dual_crispr/library_definitions/test_library.txt'\n",
    "g_len_of_seq_to_match = 19\n",
    "g_num_allowed_mismatches = 1\n",
    "g_fastq_counts_run_prefix = 'notebook_3_test'\n",
    "g_fastq_counts_dir = '/home/ec2-user/dual_crispr/test_outputs/test_set_3'"
   ]
  },
  {
   "cell_type": "markdown",
   "metadata": {},
   "source": [
    "## Automated Set-Up"
   ]
  },
  {
   "cell_type": "code",
   "execution_count": null,
   "metadata": {
    "collapsed": true
   },
   "outputs": [],
   "source": [
    "import inspect\n",
    "\n",
    "import ccbb_pyutils.analysis_run_prefixes as ns_runs\n",
    "import ccbb_pyutils.files_and_paths as ns_files\n",
    "import ccbb_pyutils.notebook_logging as ns_logs\n",
    "\n",
    "\n",
    "def describe_var_list(input_var_name_list):\n",
    "    description_list =  [\"{0}: {1}\\n\".format(name, eval(name)) for name in input_var_name_list]\n",
    "    return \"\".join(description_list)\n",
    "\n",
    "\n",
    "ns_logs.set_stdout_info_logger()"
   ]
  },
  {
   "cell_type": "code",
   "execution_count": null,
   "metadata": {
    "collapsed": false
   },
   "outputs": [],
   "source": [
    "g_fastq_counts_dir = ns_runs.check_or_set(g_fastq_counts_dir, g_filtered_fastqs_dir)\n",
    "g_fastq_counts_run_prefix = ns_runs.check_or_set(g_fastq_counts_run_prefix, ns_runs.generate_run_prefix())\n",
    "print(describe_var_list(['g_fastq_counts_run_prefix', 'g_fastq_counts_dir']))\n",
    "ns_files.verify_or_make_dir(g_fastq_counts_dir)"
   ]
  },
  {
   "cell_type": "markdown",
   "metadata": {},
   "source": [
    "## Construct Counting Functions"
   ]
  },
  {
   "cell_type": "code",
   "execution_count": null,
   "metadata": {
    "collapsed": false
   },
   "outputs": [],
   "source": [
    "import dual_crispr.count_filterer as ns_filter\n",
    "print(inspect.getsource(ns_filter.get_filtered_file_suffix))"
   ]
  },
  {
   "cell_type": "code",
   "execution_count": null,
   "metadata": {
    "collapsed": false,
    "scrolled": false
   },
   "outputs": [],
   "source": [
    "import dual_crispr.construct_file_extracter as ns_extractor\n",
    "print(inspect.getsource(ns_extractor))"
   ]
  },
  {
   "cell_type": "code",
   "execution_count": null,
   "metadata": {
    "collapsed": false
   },
   "outputs": [],
   "source": [
    "import dual_crispr.grna_position_matcher as ns_matcher\n",
    "print(inspect.getsource(ns_matcher))"
   ]
  },
  {
   "cell_type": "code",
   "execution_count": null,
   "metadata": {
    "collapsed": false
   },
   "outputs": [],
   "source": [
    "import dual_crispr.construct_counter as ns_counter\n",
    "print(inspect.getsource(ns_counter))"
   ]
  },
  {
   "cell_type": "code",
   "execution_count": null,
   "metadata": {
    "collapsed": true
   },
   "outputs": [],
   "source": [
    "def count_constructs_for_one_fastq_pair(curr_base, run_prefix, seq_len, num_allowed_mismatches, constructs_fp, \n",
    "                                        output_dir, fw_fastq_fp, rv_fastq_fp):\n",
    "    construct_names, grna_name_seq_pairs = ns_extractor.extract_construct_and_grna_info(constructs_fp)\n",
    "    trimmed_grna_name_seq_pairs = ns_extractor.trim_probes(grna_name_seq_pairs, seq_len)\n",
    "    # Note: currently same value (num_allowed_mismatches) is being used for number of mismatches allowed in forward\n",
    "    # read and number of mismatches allowed in reverse read, but this can be altered if desired\n",
    "    grna_matcher = ns_matcher.GrnaPositionMatcher(trimmed_grna_name_seq_pairs, seq_len, num_allowed_mismatches, \n",
    "                                       num_allowed_mismatches)    \n",
    "    output_fp = ns_files.build_multipart_fp(output_dir, [curr_base, run_prefix, ns_counter.get_counts_file_suffix()])\n",
    "    ns_counter.generate_construct_counts(grna_matcher, construct_names, output_fp, fw_fastq_fp, rv_fastq_fp)"
   ]
  },
  {
   "cell_type": "code",
   "execution_count": null,
   "metadata": {
    "collapsed": false
   },
   "outputs": [],
   "source": [
    "import ccbb_pyutils.parallel_process_fastqs as ns_parallel\n",
    "\n",
    "g_parallel_results = ns_parallel.parallel_process_paired_reads(g_filtered_fastqs_dir, \n",
    "    ns_filter.get_filtered_file_suffix(), g_num_processors, count_constructs_for_one_fastq_pair, \n",
    "    [g_fastq_counts_run_prefix, g_len_of_seq_to_match, g_num_allowed_mismatches, g_library_fp,\n",
    "     g_fastq_counts_dir], True)"
   ]
  },
  {
   "cell_type": "code",
   "execution_count": null,
   "metadata": {
    "collapsed": false,
    "scrolled": false
   },
   "outputs": [],
   "source": [
    "print(ns_parallel.concatenate_parallel_results(g_parallel_results))"
   ]
  }
 ],
 "metadata": {
  "anaconda-cloud": {},
  "kernelspec": {
   "display_name": "Python [default]",
   "language": "python",
   "name": "python3"
  },
  "language_info": {
   "codemirror_mode": {
    "name": "ipython",
    "version": 3
   },
   "file_extension": ".py",
   "mimetype": "text/x-python",
   "name": "python",
   "nbconvert_exporter": "python",
   "pygments_lexer": "ipython3",
   "version": "3.5.2"
  }
 },
 "nbformat": 4,
 "nbformat_minor": 0
}
