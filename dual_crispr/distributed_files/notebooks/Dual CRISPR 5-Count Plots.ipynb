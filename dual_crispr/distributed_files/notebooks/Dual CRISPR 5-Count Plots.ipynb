{
 "cells": [
  {
   "cell_type": "markdown",
   "metadata": {},
   "source": [
    "# Dual CRISPR Screen Analysis\n",
    "# Step 5: Count Plots\n",
    "Amanda Birmingham, CCBB, UCSD (abirmingham@ucsd.edu)\n",
    "\n",
    "## Instructions\n",
    "\n",
    "To run this notebook reproducibly, follow these steps:\n",
    "1. Click **Kernel** > **Restart & Clear Output**\n",
    "2. When prompted, click the red **Restart & clear all outputs** button\n",
    "3. Fill in the values for your analysis for each of the variables in the [Input Parameters](#Input-Parameters) section\n",
    "4. Click **Cell** > **Run All**\n",
    "\n",
    "## Input Parameters"
   ]
  },
  {
   "cell_type": "code",
   "execution_count": null,
   "metadata": {
    "collapsed": false
   },
   "outputs": [],
   "source": [
    "g_dataset_name = \"Notebook5Test\"\n",
    "g_fastq_counts_run_prefix = \"TestSet5\"\n",
    "g_fastq_counts_dir = '~/dual_crispr/test_data/test_set_5'\n",
    "g_collapsed_counts_run_prefix = \"\"\n",
    "g_collapsed_counts_dir = \"\"\n",
    "g_combined_counts_run_prefix = \"\"\n",
    "g_combined_counts_dir = \"\"\n",
    "g_plots_run_prefix = \"\"\n",
    "g_plots_dir = '~/dual_crispr/test_outputs/test_set_5'"
   ]
  },
  {
   "cell_type": "markdown",
   "metadata": {},
   "source": [
    "## Automated Set-Up"
   ]
  },
  {
   "cell_type": "code",
   "execution_count": null,
   "metadata": {
    "collapsed": true
   },
   "outputs": [],
   "source": [
    "import inspect\n",
    "import os\n",
    "\n",
    "import ccbb_pyutils.analysis_run_prefixes as ns_runs\n",
    "import ccbb_pyutils.files_and_paths as ns_files\n",
    "import ccbb_pyutils.notebook_logging as ns_logs\n",
    "\n",
    "\n",
    "def describe_var_list(input_var_name_list):\n",
    "    description_list =  [\"{0}: {1}\\n\".format(name, eval(name)) for name in input_var_name_list]\n",
    "    return \"\".join(description_list)\n",
    "\n",
    "\n",
    "ns_logs.set_stdout_info_logger()"
   ]
  },
  {
   "cell_type": "code",
   "execution_count": null,
   "metadata": {
    "collapsed": false
   },
   "outputs": [],
   "source": [
    "g_fastq_counts_dir = os.path.abspath(g_fastq_counts_dir)\n",
    "g_collapsed_counts_run_prefix = ns_runs.check_or_set(g_collapsed_counts_run_prefix, g_fastq_counts_run_prefix)\n",
    "g_collapsed_counts_dir = os.path.abspath(ns_runs.check_or_set(g_collapsed_counts_dir, g_fastq_counts_dir))\n",
    "g_combined_counts_run_prefix = ns_runs.check_or_set(g_combined_counts_run_prefix, g_collapsed_counts_run_prefix)\n",
    "g_combined_counts_dir = os.path.abspath(ns_runs.check_or_set(g_combined_counts_dir, g_collapsed_counts_dir))\n",
    "g_plots_run_prefix = ns_runs.check_or_set(g_plots_run_prefix, ns_runs.generate_run_prefix(g_dataset_name))\n",
    "g_plots_dir = os.path.abspath(ns_runs.check_or_set(g_plots_dir, g_combined_counts_dir))\n",
    "\n",
    "print(describe_var_list(['g_fastq_counts_dir', 'g_collapsed_counts_run_prefix','g_collapsed_counts_dir',  \n",
    "                         'g_combined_counts_run_prefix', 'g_combined_counts_dir', \n",
    "                         'g_plots_run_prefix', 'g_plots_dir']))\n",
    "\n",
    "ns_files.verify_or_make_dir(g_collapsed_counts_dir)\n",
    "ns_files.verify_or_make_dir(g_combined_counts_dir)\n",
    "ns_files.verify_or_make_dir(g_plots_dir)"
   ]
  },
  {
   "cell_type": "code",
   "execution_count": null,
   "metadata": {
    "collapsed": false
   },
   "outputs": [],
   "source": [
    "%matplotlib inline"
   ]
  },
  {
   "cell_type": "markdown",
   "metadata": {},
   "source": [
    "## Count File Suffixes"
   ]
  },
  {
   "cell_type": "code",
   "execution_count": null,
   "metadata": {
    "collapsed": false
   },
   "outputs": [],
   "source": [
    "import dual_crispr.construct_counter as ns_counter\n",
    "print(inspect.getsource(ns_counter.get_counts_file_suffix))"
   ]
  },
  {
   "cell_type": "code",
   "execution_count": null,
   "metadata": {
    "collapsed": false
   },
   "outputs": [],
   "source": [
    "import dual_crispr.count_combination as ns_combine\n",
    "print(inspect.getsource(ns_combine.get_collapsed_counts_file_suffix))\n",
    "print(inspect.getsource(ns_combine.get_combined_counts_file_suffix))"
   ]
  },
  {
   "cell_type": "markdown",
   "metadata": {},
   "source": [
    "## Count Plots Functions"
   ]
  },
  {
   "cell_type": "code",
   "execution_count": null,
   "metadata": {
    "collapsed": false
   },
   "outputs": [],
   "source": [
    "import dual_crispr.count_plots as ns_plot\n",
    "print(inspect.getsource(ns_plot))"
   ]
  },
  {
   "cell_type": "markdown",
   "metadata": {},
   "source": [
    "## Individual fastq Plots"
   ]
  },
  {
   "cell_type": "code",
   "execution_count": null,
   "metadata": {
    "collapsed": false
   },
   "outputs": [],
   "source": [
    "print(ns_files.check_file_presence(g_fastq_counts_dir, g_fastq_counts_run_prefix, \n",
    "                                   ns_counter.get_counts_file_suffix(),\n",
    "                                   check_failure_msg=\"Count plots could not detect any individual fastq count files.\"))"
   ]
  },
  {
   "cell_type": "code",
   "execution_count": null,
   "metadata": {
    "collapsed": false,
    "scrolled": false
   },
   "outputs": [],
   "source": [
    "ns_plot.plot_raw_counts(g_fastq_counts_dir, g_fastq_counts_run_prefix, ns_counter.get_counts_file_suffix(), \n",
    "    g_plots_dir, g_plots_run_prefix, ns_plot.get_boxplot_suffix())"
   ]
  },
  {
   "cell_type": "markdown",
   "metadata": {},
   "source": [
    "## Individual Sample Plots"
   ]
  },
  {
   "cell_type": "code",
   "execution_count": null,
   "metadata": {
    "collapsed": false
   },
   "outputs": [],
   "source": [
    "print(ns_files.check_file_presence(g_collapsed_counts_dir, g_collapsed_counts_run_prefix, \n",
    "                                   ns_combine.get_collapsed_counts_file_suffix(),\n",
    "                                   check_failure_msg=\"Count plots could not detect any individual sample count files.\")\n",
    "     )"
   ]
  },
  {
   "cell_type": "code",
   "execution_count": null,
   "metadata": {
    "collapsed": false,
    "scrolled": false
   },
   "outputs": [],
   "source": [
    "ns_plot.plot_raw_counts(g_collapsed_counts_dir, g_collapsed_counts_run_prefix, \n",
    "    ns_combine.get_collapsed_counts_file_suffix(), g_plots_dir, g_plots_run_prefix, ns_plot.get_boxplot_suffix())"
   ]
  },
  {
   "cell_type": "markdown",
   "metadata": {
    "collapsed": false
   },
   "source": [
    "## Combined Samples Plot"
   ]
  },
  {
   "cell_type": "code",
   "execution_count": null,
   "metadata": {
    "collapsed": false
   },
   "outputs": [],
   "source": [
    "print(ns_files.check_file_presence(g_combined_counts_dir, g_combined_counts_run_prefix, \n",
    "                                   ns_combine.get_combined_counts_file_suffix(),\n",
    "                                   check_failure_msg=\"Count plots could not detect a combined count file.\"))"
   ]
  },
  {
   "cell_type": "code",
   "execution_count": null,
   "metadata": {
    "collapsed": false
   },
   "outputs": [],
   "source": [
    "ns_plot.plot_combined_raw_counts(g_combined_counts_dir, g_combined_counts_run_prefix, \n",
    "    ns_combine.get_combined_counts_file_suffix(), g_plots_dir, g_plots_run_prefix, ns_plot.get_boxplot_suffix())"
   ]
  }
 ],
 "metadata": {
  "anaconda-cloud": {},
  "kernelspec": {
   "display_name": "Python [default]",
   "language": "python",
   "name": "python3"
  },
  "language_info": {
   "codemirror_mode": {
    "name": "ipython",
    "version": 3
   },
   "file_extension": ".py",
   "mimetype": "text/x-python",
   "name": "python",
   "nbconvert_exporter": "python",
   "pygments_lexer": "ipython3",
   "version": "3.5.2"
  }
 },
 "nbformat": 4,
 "nbformat_minor": 0
}
