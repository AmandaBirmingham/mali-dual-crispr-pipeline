{
 "cells": [
  {
   "cell_type": "markdown",
   "metadata": {},
   "source": [
    "# Dual CRISPR Screen Analysis\n",
    "# Step 4: Count Combination\n",
    "Amanda Birmingham, CCBB, UCSD (abirmingham@ucsd.edu)\n",
    "\n",
    "## Instructions\n",
    "\n",
    "To run this notebook reproducibly, follow these steps:\n",
    "1. Click **Kernel** > **Restart & Clear Output**\n",
    "2. When prompted, click the red **Restart & clear all outputs** button\n",
    "3. Fill in the values for your analysis for each of the variables in the [Input Parameters](#Input-Parameters) section\n",
    "4. Click **Cell** > **Run All**\n",
    "\n",
    "## Input Parameters"
   ]
  },
  {
   "cell_type": "code",
   "execution_count": null,
   "metadata": {
    "collapsed": false
   },
   "outputs": [],
   "source": [
    "g_dataset_name = \"Notebook4Test\"\n",
    "g_fastq_counts_run_prefix = \"TestSet4\"\n",
    "g_fastq_counts_dir = '/home/ec2-user/dual_crispr/test_data/test_set_4'\n",
    "g_collapsed_counts_run_prefix = \"\"\n",
    "g_collapsed_counts_dir = '/home/ec2-user/dual_crispr/test_outputs/test_set_4'\n",
    "g_combined_counts_dir = \"\"\n",
    "g_combined_counts_run_prefix = \"\""
   ]
  },
  {
   "cell_type": "markdown",
   "metadata": {},
   "source": [
    "## Automated Set-Up"
   ]
  },
  {
   "cell_type": "code",
   "execution_count": null,
   "metadata": {
    "collapsed": true
   },
   "outputs": [],
   "source": [
    "import inspect\n",
    "import os\n",
    "\n",
    "import ccbb_pyutils.analysis_run_prefixes as ns_runs\n",
    "import ccbb_pyutils.files_and_paths as ns_files\n",
    "import ccbb_pyutils.notebook_logging as ns_logs\n",
    "\n",
    "\n",
    "def describe_var_list(input_var_name_list):\n",
    "    description_list =  [\"{0}: {1}\\n\".format(name, eval(name)) for name in input_var_name_list]\n",
    "    return \"\".join(description_list)\n",
    "\n",
    "\n",
    "ns_logs.set_stdout_info_logger()"
   ]
  },
  {
   "cell_type": "code",
   "execution_count": null,
   "metadata": {
    "collapsed": false
   },
   "outputs": [],
   "source": [
    "g_fastq_counts_dir = os.path.abspath(g_fastq_counts_dir)\n",
    "g_collapsed_counts_run_prefix = ns_runs.check_or_set(g_collapsed_counts_run_prefix, \n",
    "                                                     ns_runs.generate_run_prefix(g_dataset_name))\n",
    "g_collapsed_counts_dir = os.path.abspath(ns_runs.check_or_set(g_collapsed_counts_dir, g_fastq_counts_dir))\n",
    "g_combined_counts_run_prefix = ns_runs.check_or_set(g_combined_counts_run_prefix, g_collapsed_counts_run_prefix)\n",
    "g_combined_counts_dir = os.path.abspath(ns_runs.check_or_set(g_combined_counts_dir, g_collapsed_counts_dir))\n",
    "\n",
    "print(describe_var_list(['g_fastq_counts_dir','g_collapsed_counts_run_prefix','g_collapsed_counts_dir',\n",
    "                         'g_combined_counts_run_prefix','g_combined_counts_dir']))\n",
    "\n",
    "ns_files.verify_or_make_dir(g_collapsed_counts_dir)\n",
    "ns_files.verify_or_make_dir(g_combined_counts_dir)"
   ]
  },
  {
   "cell_type": "markdown",
   "metadata": {},
   "source": [
    "## Count Combination Functions"
   ]
  },
  {
   "cell_type": "code",
   "execution_count": null,
   "metadata": {
    "collapsed": false
   },
   "outputs": [],
   "source": [
    "import dual_crispr.construct_counter as ns_counter\n",
    "print(inspect.getsource(ns_counter.get_counts_file_suffix))"
   ]
  },
  {
   "cell_type": "code",
   "execution_count": null,
   "metadata": {
    "collapsed": false
   },
   "outputs": [],
   "source": [
    "import dual_crispr.count_combination as ns_combine\n",
    "print(inspect.getsource(ns_combine))"
   ]
  },
  {
   "cell_type": "markdown",
   "metadata": {},
   "source": [
    "## Input Count Filenames"
   ]
  },
  {
   "cell_type": "code",
   "execution_count": null,
   "metadata": {
    "collapsed": false
   },
   "outputs": [],
   "source": [
    "print(ns_files.summarize_filenames_for_prefix_and_suffix(g_fastq_counts_dir, g_fastq_counts_run_prefix, \n",
    "                                                         ns_counter.get_counts_file_suffix()))"
   ]
  },
  {
   "cell_type": "markdown",
   "metadata": {},
   "source": [
    "## Count Combination Execution"
   ]
  },
  {
   "cell_type": "code",
   "execution_count": null,
   "metadata": {
    "collapsed": false
   },
   "outputs": [],
   "source": [
    "ns_combine.write_collapsed_count_files(g_fastq_counts_dir, g_collapsed_counts_dir, g_collapsed_counts_run_prefix, \n",
    "                            g_fastq_counts_run_prefix, ns_counter.get_counts_file_suffix(), \n",
    "                            ns_combine.get_collapsed_counts_file_suffix())"
   ]
  },
  {
   "cell_type": "code",
   "execution_count": null,
   "metadata": {
    "collapsed": true
   },
   "outputs": [],
   "source": [
    "print(ns_files.check_file_presence(g_collapsed_counts_dir, g_collapsed_counts_run_prefix, \n",
    "                                   ns_combine.get_collapsed_counts_file_suffix(),\n",
    "                                   check_failure_msg=\"Count combination failed to produce collapsed count file(s).\"))"
   ]
  },
  {
   "cell_type": "code",
   "execution_count": null,
   "metadata": {
    "collapsed": false
   },
   "outputs": [],
   "source": [
    "ns_combine.write_combined_count_file(g_collapsed_counts_dir, g_combined_counts_dir, g_collapsed_counts_run_prefix, \n",
    "                          g_combined_counts_run_prefix, ns_combine.get_collapsed_counts_file_suffix(), \n",
    "                          ns_combine.get_combined_counts_file_suffix())"
   ]
  },
  {
   "cell_type": "code",
   "execution_count": null,
   "metadata": {
    "collapsed": true
   },
   "outputs": [],
   "source": [
    "print(ns_files.check_file_presence(g_combined_counts_dir, g_collapsed_counts_run_prefix, \n",
    "                                   ns_combine.get_collapsed_counts_file_suffix(), \n",
    "                                   check_failure_msg=\"Count combination failed to produce combined count file.\"))"
   ]
  }
 ],
 "metadata": {
  "anaconda-cloud": {},
  "kernelspec": {
   "display_name": "Python [default]",
   "language": "python",
   "name": "python3"
  },
  "language_info": {
   "codemirror_mode": {
    "name": "ipython",
    "version": 3
   },
   "file_extension": ".py",
   "mimetype": "text/x-python",
   "name": "python",
   "nbconvert_exporter": "python",
   "pygments_lexer": "ipython3",
   "version": "3.5.2"
  }
 },
 "nbformat": 4,
 "nbformat_minor": 0
}
