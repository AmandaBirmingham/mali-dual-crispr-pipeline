{
 "cells": [
  {
   "cell_type": "markdown",
   "metadata": {},
   "source": [
    "# Dual CRISPR Screen Analysis\n",
    "# Construct Counting\n",
    "Amanda Birmingham, CCBB, UCSD (abirmingham@ucsd.edu)"
   ]
  },
  {
   "cell_type": "markdown",
   "metadata": {},
   "source": [
    "## Instructions\n",
    "\n",
    "To run this notebook reproducibly, follow these steps:\n",
    "1. Click **Kernel** > **Restart & Clear Output**\n",
    "2. When prompted, click the red **Restart & clear all outputs** button\n",
    "3. Fill in the values for your analysis for each of the variables in the [Input Parameters](#input-parameters) section\n",
    "4. Click **Cell** > **Run All**"
   ]
  },
  {
   "cell_type": "markdown",
   "metadata": {},
   "source": [
    "<a name = \"input-parameters\"></a>\n",
    "\n",
    "## Input Parameters"
   ]
  },
  {
   "cell_type": "code",
   "execution_count": 1,
   "metadata": {
    "collapsed": true
   },
   "outputs": [],
   "source": [
    "g_timestamp = '20160713235254'\n",
    "g_num_processors = 4\n",
    "g_filtered_fastqs_dir = '/data/interim/20160706_D00611_0304_BHVVJ3BCXX'\n",
    "g_count_alg_name = '19mer_1mm_py'\n",
    "g_constructs_fp = '/home/ec2-user/library_definitions/Metabolism_dual_spacers.txt'\n",
    "g_col_indices_str = '1,6,10'\n",
    "g_len_of_seq_to_match = 19\n",
    "g_num_allowed_mismatches = 1\n",
    "g_fastq_counts_dir = '/data/interim/20160706_D00611_0304_BHVVJ3BCXX'\n",
    "g_fastq_counts_run_prefix = '20160706_HeLa_A549_MV4_20160713235254'\n",
    "g_code_location = '/home/ec2-user/jupyter-genomics/src/crispr'"
   ]
  },
  {
   "cell_type": "markdown",
   "metadata": {},
   "source": [
    "## CCBB Library Imports"
   ]
  },
  {
   "cell_type": "code",
   "execution_count": 2,
   "metadata": {
    "collapsed": false
   },
   "outputs": [],
   "source": [
    "import sys\n",
    "sys.path.append(g_code_location)"
   ]
  },
  {
   "cell_type": "markdown",
   "metadata": {},
   "source": [
    "## Automated Set-Up"
   ]
  },
  {
   "cell_type": "code",
   "execution_count": 3,
   "metadata": {
    "collapsed": true
   },
   "outputs": [],
   "source": [
    "# %load -s describe_var_list /Users/Birmingham/Repositories/ccbb_tickets/20160210_mali_crispr/src/python/ccbbucsd/utilities/analysis_run_prefixes.py\n",
    "def describe_var_list(input_var_name_list):\n",
    "    description_list =  [\"{0}: {1}\\n\".format(name, eval(name)) for name in input_var_name_list]\n",
    "    return \"\".join(description_list)\n"
   ]
  },
  {
   "cell_type": "code",
   "execution_count": 4,
   "metadata": {
    "collapsed": false
   },
   "outputs": [
    {
     "name": "stdout",
     "output_type": "stream",
     "text": [
      "g_timestamp: 20160713235254\n",
      "g_fastq_counts_dir: /data/interim/20160706_D00611_0304_BHVVJ3BCXX\n",
      "g_fastq_counts_run_prefix: 20160706_HeLa_A549_MV4_20160713235254\n",
      "\n"
     ]
    }
   ],
   "source": [
    "from ccbbucsd.utilities.analysis_run_prefixes import check_or_set, get_run_prefix, get_timestamp\n",
    "g_timestamp = check_or_set(g_timestamp, get_timestamp())\n",
    "g_fastq_counts_dir = check_or_set(g_fastq_counts_dir, g_filtered_fastqs_dir)\n",
    "g_fastq_counts_run_prefix = check_or_set(g_fastq_counts_run_prefix, \n",
    "                                         get_run_prefix(None, g_count_alg_name, g_timestamp))\n",
    "print(describe_var_list(['g_timestamp','g_fastq_counts_dir', 'g_fastq_counts_run_prefix']))"
   ]
  },
  {
   "cell_type": "code",
   "execution_count": 5,
   "metadata": {
    "collapsed": true
   },
   "outputs": [],
   "source": [
    "from ccbbucsd.utilities.files_and_paths import verify_or_make_dir\n",
    "verify_or_make_dir(g_fastq_counts_dir)"
   ]
  },
  {
   "cell_type": "markdown",
   "metadata": {},
   "source": [
    "## Info Logging Pass-Through"
   ]
  },
  {
   "cell_type": "code",
   "execution_count": 6,
   "metadata": {
    "collapsed": true
   },
   "outputs": [],
   "source": [
    "from ccbbucsd.utilities.notebook_logging import set_stdout_info_logger\n",
    "set_stdout_info_logger()"
   ]
  },
  {
   "cell_type": "markdown",
   "metadata": {},
   "source": [
    "## Construct Counting Functions"
   ]
  },
  {
   "cell_type": "code",
   "execution_count": 7,
   "metadata": {
    "collapsed": false
   },
   "outputs": [],
   "source": [
    "# %load -s get_filtered_file_suffix /Users/Birmingham/Repositories/ccbb_tickets/20160210_mali_crispr/src/python/ccbbucsd/malicrispr/count_filterer.py\n",
    "def get_filtered_file_suffix():\n",
    "    return \"_len_filtered.fastq\"\n"
   ]
  },
  {
   "cell_type": "code",
   "execution_count": 8,
   "metadata": {
    "collapsed": false
   },
   "outputs": [],
   "source": [
    "# %load /Users/Birmingham/Repositories/ccbb_tickets/20160210_mali_crispr/src/python/ccbbucsd/malicrispr/construct_file_extracter.py\n",
    "# third-party libraries\n",
    "import pandas\n",
    "\n",
    "# ccbb libraries\n",
    "from ccbbucsd.utilities.bio_seq_utilities import trim_seq\n",
    "\n",
    "__author__ = \"Amanda Birmingham\"\n",
    "__maintainer__ = \"Amanda Birmingham\"\n",
    "__email__ = \"abirmingham@ucsd.edu\"\n",
    "__status__ = \"prototype\"\n",
    "\n",
    "_CONSTRUCT_ID = \"CONSTRUCT_ID\"\n",
    "_GENE_A_SEQ = \"GENE_A_SEQ\"\n",
    "_GENE_B_SEQ = \"GENE_B_SEQ\"\n",
    "_CONSTRUCT_A_NAME = \"CONSTRUCT_A_NAME\"\n",
    "_CONSTRUCT_B_NAME = \"CONSTRUCT_B_NAME\"\n",
    "\n",
    "\n",
    "def get_construct_separator():\n",
    "    return \"__\"\n",
    "\n",
    "\n",
    "def extract_construct_and_grna_info(constructs_fp, column_indices):\n",
    "    construct_table = _read_in_construct_table(constructs_fp, column_indices, rows_to_skip=1)\n",
    "    seq_name_sets = _extract_grnas_from_construct_table(construct_table)\n",
    "    grna_name_seq_pairs = _format_and_check_grnas_input(seq_name_sets)\n",
    "    construct_names = construct_table[_CONSTRUCT_ID].unique().tolist()\n",
    "    return construct_names, grna_name_seq_pairs\n",
    "\n",
    "\n",
    "def _read_in_construct_table(constructs_fp, column_indices, rows_to_skip=1):\n",
    "    result = pandas.read_table(constructs_fp, skiprows=rows_to_skip, header=None)\n",
    "    result = _rename_columns(result, column_indices)\n",
    "    return result\n",
    "\n",
    "\n",
    "def _rename_columns(construct_table, column_indices):\n",
    "    new_names = [_CONSTRUCT_ID, _GENE_A_SEQ, _GENE_B_SEQ]\n",
    "    existing_names = list(construct_table.columns.values)\n",
    "\n",
    "    existing_to_new_names = {}\n",
    "    for curr_index in range(0, len(column_indices)):\n",
    "        curr_col_index = column_indices[curr_index]\n",
    "        curr_existing_name = existing_names[curr_col_index]\n",
    "        existing_to_new_names[curr_existing_name] = new_names[curr_index]\n",
    "\n",
    "    return construct_table.rename(columns=existing_to_new_names)\n",
    "\n",
    "\n",
    "def _extract_grnas_from_construct_table(construct_table):\n",
    "    grna_name_key = \"grna_name\"\n",
    "    grna_seq_key = \"grna_seq\"\n",
    "\n",
    "    # split the construct id in each row into two pieces--the two construct names--and put them into new columns\n",
    "    construct_table[_CONSTRUCT_A_NAME], construct_table[_CONSTRUCT_B_NAME] = \\\n",
    "        zip(*construct_table[_CONSTRUCT_ID].str.split(get_construct_separator()).tolist())\n",
    "\n",
    "    # get the gene/sequence pairs for each of the two genes and concatenate them\n",
    "    gene_a_pairs = _extract_grna_name_and_seq_df(construct_table, _CONSTRUCT_A_NAME,\n",
    "                                                 _GENE_A_SEQ, grna_name_key, grna_seq_key)\n",
    "    gene_b_pairs = _extract_grna_name_and_seq_df(construct_table, _CONSTRUCT_B_NAME,\n",
    "                                                 _GENE_B_SEQ, grna_name_key, grna_seq_key)\n",
    "    gene_pairs = pandas.concat([gene_a_pairs, gene_b_pairs])\n",
    "    gene_pairs[grna_seq_key] = gene_pairs[grna_seq_key].str.upper()  # upper-case all gRNA sequences\n",
    "\n",
    "    # extract only the unique pairs\n",
    "    grna_seq_name_groups = gene_pairs.groupby([grna_seq_key, grna_name_key]).groups\n",
    "    result = [x for x in grna_seq_name_groups]\n",
    "    return sorted(result)  # NB sort so that output order is predictable\n",
    "\n",
    "\n",
    "def _extract_grna_name_and_seq_df(construct_table, name_key, seq_key, grna_name_key, grna_seq_key):\n",
    "    name_and_seq_df = construct_table[[name_key, seq_key]]\n",
    "    name_and_seq_df.rename(columns={name_key: grna_name_key, seq_key: grna_seq_key}, inplace=True)\n",
    "    return name_and_seq_df\n",
    "\n",
    "\n",
    "def trim_grnas(grnas_name_and_seq_list, retain_len):\n",
    "    result = []\n",
    "    for name_seq_tuple in grnas_name_and_seq_list:\n",
    "        grna_name = name_seq_tuple[0]\n",
    "        full_seq = name_seq_tuple[1]\n",
    "        trimmed_seq = trim_seq(full_seq, retain_len, False)  # False = do not retain from 5p end but from 3p end\n",
    "        result.append((grna_name, trimmed_seq))\n",
    "    return result\n",
    "\n",
    "\n",
    "def _read_in_grnas(grnas_fp):\n",
    "    list_from_file = _read_grnas_input(grnas_fp)\n",
    "    return _format_and_check_grnas_input(list_from_file)\n",
    "\n",
    "\n",
    "def _read_grnas_input(grnas_fp, comment_prefix=\"#\", delimiter=\"\\t\"):\n",
    "    result = []\n",
    "    with open(grnas_fp, 'r') as file_handle:\n",
    "        for line in file_handle:\n",
    "            if not line.startswith(comment_prefix):\n",
    "                pieces = line.strip().split(delimiter)\n",
    "                result.append(pieces)\n",
    "    return result\n",
    "\n",
    "\n",
    "def _format_and_check_grnas_input(grnas_seq_and_name_list):\n",
    "    expected_num_pieces = 2\n",
    "    seqs_by_names = {}\n",
    "    names_by_seqs = {}\n",
    "    result = []\n",
    "\n",
    "    for curr_set in grnas_seq_and_name_list:\n",
    "        if len(curr_set) != expected_num_pieces:\n",
    "            raise ValueError(\n",
    "                \"input '{0}' has {1} pieces instead of the expected {2}\".format(\n",
    "                    curr_set, len(curr_set), expected_num_pieces\n",
    "                ))\n",
    "        curr_seq = curr_set[0]\n",
    "        curr_name = curr_set[1]\n",
    "\n",
    "        if curr_seq in names_by_seqs:\n",
    "            raise ValueError(\n",
    "                \"sequence '{0}' associated with name '{1}' but was already associated with name '{2}'\".format(\n",
    "                    curr_seq, curr_name, names_by_seqs[curr_seq]\n",
    "                ))\n",
    "\n",
    "        if curr_name in seqs_by_names:\n",
    "            raise ValueError(\n",
    "                \"name '{0}' associated with sequence '{1}' but was already associated with sequence '{2}'\".format(\n",
    "                    curr_name, curr_seq, seqs_by_names[curr_name]\n",
    "                ))\n",
    "\n",
    "        names_by_seqs[curr_seq] = curr_name\n",
    "        seqs_by_names[curr_name] = curr_seq\n",
    "        result.append((curr_name, curr_seq))\n",
    "    # next pair in\n",
    "\n",
    "    return result\n"
   ]
  },
  {
   "cell_type": "code",
   "execution_count": 9,
   "metadata": {
    "collapsed": false
   },
   "outputs": [],
   "source": [
    "# %load /Users/Birmingham/Repositories/ccbb_tickets/20160210_mali_crispr/src/python/ccbbucsd/malicrispr/grna_position_matcher.py\n",
    "# ccbb libraries\n",
    "from ccbbucsd.utilities.bio_seq_utilities import rev_comp_canonical_dna_seq\n",
    "\n",
    "__author__ = \"Amanda Birmingham\"\n",
    "__maintainer__ = \"Amanda Birmingham\"\n",
    "__email__ = \"abirmingham@ucsd.edu\"\n",
    "__status__ = \"development\"\n",
    "\n",
    "\n",
    "class GrnaPositionMatcher:\n",
    "    @staticmethod\n",
    "    def _generate_seqs_to_check(fw_whole_seq, rv_whole_seq):\n",
    "        rc_whole_rv_seq = rev_comp_canonical_dna_seq(rv_whole_seq)\n",
    "        return fw_whole_seq, rc_whole_rv_seq\n",
    "\n",
    "    def __init__(self, grna_names_and_seqs, expected_len, num_allowed_fw_mismatches, num_allowed_rv_mismatches):\n",
    "        self._grna_names_and_seqs = grna_names_and_seqs\n",
    "        self._num_allowed_fw_mismatches = num_allowed_fw_mismatches\n",
    "        self._num_allowed_rv_mismatches = num_allowed_rv_mismatches\n",
    "        self._seq_len = expected_len\n",
    "\n",
    "    @property\n",
    "    def num_allowed_fw_mismatches(self):\n",
    "        return self._num_allowed_fw_mismatches\n",
    "\n",
    "    @property\n",
    "    def num_allowed_rv_mismatches(self):\n",
    "        return self._num_allowed_rv_mismatches\n",
    "\n",
    "    def find_fw_and_rv_read_matches(self, fw_whole_seq, rv_whole_seq):\n",
    "        fw_construct_window, rc_rv_construct_window = self._generate_seqs_to_check(fw_whole_seq, rv_whole_seq)\n",
    "        return self._id_pair_matches(fw_construct_window, rc_rv_construct_window)\n",
    "\n",
    "    def _id_pair_matches(self, input1_seq, input2_seq):\n",
    "        input2_match_name = None\n",
    "        input1_match_name = self._id_sequence_match(self.num_allowed_fw_mismatches, input1_seq)\n",
    "        if input1_match_name is not None:\n",
    "            input2_match_name = self._id_sequence_match(self.num_allowed_rv_mismatches, input2_seq)\n",
    "\n",
    "        return input1_match_name, input2_match_name\n",
    "\n",
    "    def _id_sequence_match(self, num_allowed_mismatches, input_seq):\n",
    "        found_name = None\n",
    "\n",
    "        # check for perfect matches\n",
    "        for potential_name, potential_reference in self._grna_names_and_seqs:\n",
    "            if input_seq == potential_reference:\n",
    "                found_name = potential_name\n",
    "                break\n",
    "\n",
    "        # if no perfect matches found, check for mismatches\n",
    "        if found_name is None:\n",
    "            min_found_mismatches = num_allowed_mismatches + 1  # nothing checked yet so num mismatches is maximum\n",
    "            found_name = None\n",
    "            for potential_name, potential_reference in self._grna_names_and_seqs:\n",
    "\n",
    "                # this way is not elegant, but it IS fast :) .... >3x faster than XOR approach\n",
    "                num_mismatches = 0\n",
    "                for x in range(0, self._seq_len):\n",
    "                    if input_seq[x] != potential_reference[x]:  # NB assumption that both are the same fixed length!\n",
    "                        num_mismatches += 1\n",
    "                        if num_mismatches > num_allowed_mismatches:\n",
    "                            break\n",
    "\n",
    "                if num_mismatches < min_found_mismatches:\n",
    "                    min_found_mismatches = num_mismatches\n",
    "                    if num_mismatches <= num_allowed_mismatches:\n",
    "                        found_name = potential_name\n",
    "\n",
    "        return found_name\n"
   ]
  },
  {
   "cell_type": "code",
   "execution_count": 10,
   "metadata": {
    "collapsed": false
   },
   "outputs": [],
   "source": [
    "# %load /Users/Birmingham/Repositories/ccbb_tickets/20160210_mali_crispr/src/python/ccbbucsd/malicrispr/construct_counter.py\n",
    "\"\"\"This module counts almost-perfect matches of small sequences within forward and reverse fastq sequence pairs.\"\"\"\n",
    "\n",
    "# standard libraries\n",
    "import csv\n",
    "import datetime\n",
    "import logging\n",
    "\n",
    "# ccbb libraries\n",
    "from ccbbucsd.utilities.basic_fastq import FastqHandler, paired_fastq_generator\n",
    "\n",
    "# project-specific libraries\n",
    "from ccbbucsd.malicrispr.construct_file_extracter import get_construct_separator\n",
    "\n",
    "__author__ = \"Amanda Birmingham\"\n",
    "__maintainer__ = \"Amanda Birmingham\"\n",
    "__email__ = \"abirmingham@ucsd.edu\"\n",
    "__status__ = \"development\"\n",
    "\n",
    "\n",
    "def get_counts_file_suffix():\n",
    "    return \"counts.txt\"\n",
    "\n",
    "\n",
    "def get_counter_from_names(names_to_count):\n",
    "    return {x: 0 for x in names_to_count}\n",
    "\n",
    "\n",
    "def generate_construct_counts(grna_matcher, construct_names, output_fp, fw_fastq_fp, rv_fastq_fp):\n",
    "    counts_info_tuple = _match_and_count_constructs_from_files(grna_matcher, construct_names, fw_fastq_fp, rv_fastq_fp)\n",
    "    counts_by_construct = counts_info_tuple[0]\n",
    "    counts_by_type = counts_info_tuple[1]\n",
    "    _write_counts(counts_by_construct, counts_by_type, output_fp)\n",
    "\n",
    "\n",
    "def _match_and_count_constructs_from_files(grna_matcher, construct_names, fw_fastq_fp, rv_fastq_fp):\n",
    "    construct_counts = get_counter_from_names(construct_names)\n",
    "    fw_fastq_handler = FastqHandler(fw_fastq_fp)\n",
    "    rv_fastq_handler = FastqHandler(rv_fastq_fp)\n",
    "    return _match_and_count_constructs(grna_matcher, construct_counts, fw_fastq_handler, rv_fastq_handler)\n",
    "\n",
    "\n",
    "def _match_and_count_constructs(grna_matcher, construct_counts, fw_fastq_handler, rv_fastq_handler):\n",
    "    summary_counts = {\"num_pairs\": 0, \"num_pairs_unrecognized\": 0, \"num_constructs_found\": 0,\n",
    "                      \"num_constructs_unrecognized\": 0, \"num_constructs_recognized\": 0}\n",
    "\n",
    "    paired_fastq_seqs = paired_fastq_generator(fw_fastq_handler, rv_fastq_handler)\n",
    "    for curr_pair_seqs in paired_fastq_seqs:\n",
    "        summary_counts[\"num_pairs\"] += 1\n",
    "        _report_progress(summary_counts[\"num_pairs\"])\n",
    "\n",
    "        grna_name_A, grna_name_B = grna_matcher.find_fw_and_rv_read_matches(*curr_pair_seqs)\n",
    "        if grna_name_A is not None and grna_name_B is not None:\n",
    "            construct_name = _generate_construct_name(grna_name_A, grna_name_B)\n",
    "            summary_counts[\"num_constructs_found\"] += 1\n",
    "\n",
    "            if construct_name in construct_counts:\n",
    "                summary_counts[\"num_constructs_recognized\"] += 1\n",
    "                construct_counts[construct_name] += 1\n",
    "            else:\n",
    "                summary_counts[\"num_constructs_unrecognized\"] += 1\n",
    "                logging.debug(\"Unrecognized construct name: {0}\".format(construct_name))\n",
    "        else:\n",
    "            summary_counts[\"num_pairs_unrecognized\"] += 1\n",
    "            logging.debug(\"Unrecognized sequence: {0},{1}\".format(*curr_pair_seqs))\n",
    "\n",
    "    return construct_counts, summary_counts\n",
    "\n",
    "\n",
    "def _report_progress(num_fastq_pairs):\n",
    "    if num_fastq_pairs % 100000 == 0:\n",
    "        logging.info(\"On fastq pair number {0} at {1}\".format(num_fastq_pairs, datetime.datetime.now()))\n",
    "\n",
    "\n",
    "def _generate_construct_name(grna_name_A, grna_name_B):\n",
    "    return \"{0}{1}{2}\".format(grna_name_A, get_construct_separator(), grna_name_B)\n",
    "\n",
    "\n",
    "def _write_counts(counts_by_construct, counts_by_type, output_fp):\n",
    "    construct_names = list(counts_by_construct.keys())\n",
    "    construct_names.sort()\n",
    "\n",
    "    with open(output_fp, 'w') as file_handle:\n",
    "        summary_pieces = []\n",
    "        for curr_key, curr_value in counts_by_type.items():\n",
    "            summary_pieces.append(\"{0}:{1}\".format(curr_key, curr_value))\n",
    "        summary_comment = \",\".join(summary_pieces)\n",
    "        summary_comment = \"# \" + summary_comment\n",
    "        header = [\"construct_id\", \"counts\"]\n",
    "        writer = csv.writer(file_handle, delimiter=\"\\t\")\n",
    "\n",
    "        writer.writerow([summary_comment])\n",
    "        writer.writerow(header)\n",
    "        for curr_name in construct_names:\n",
    "            row = [curr_name, counts_by_construct[curr_name]]\n",
    "            writer.writerow(row)"
   ]
  },
  {
   "cell_type": "code",
   "execution_count": 11,
   "metadata": {
    "collapsed": true
   },
   "outputs": [],
   "source": [
    "from ccbbucsd.utilities.files_and_paths import build_multipart_fp\n",
    "\n",
    "def count_constructs_for_one_fastq_pair(curr_base, run_prefix, seq_len, num_allowed_mismatches, constructs_fp, \n",
    "                                        col_indices, output_dir, fw_fastq_fp, rv_fastq_fp):\n",
    "    construct_names, grna_name_seq_pairs = extract_construct_and_grna_info(constructs_fp, col_indices)\n",
    "    trimmed_grna_name_seq_pairs = trim_grnas(grna_name_seq_pairs, seq_len)\n",
    "    # Note: currently same value (num_allowed_mismatches) is being used for number of mismatches allowed in forward\n",
    "    # read and number of mismatches allowed in reverse read, but this can be altered if desired\n",
    "    grna_matcher = GrnaPositionMatcher(trimmed_grna_name_seq_pairs, seq_len, num_allowed_mismatches, \n",
    "                                       num_allowed_mismatches)    \n",
    "    output_fp = build_multipart_fp(output_dir, [curr_base, run_prefix, get_counts_file_suffix()])\n",
    "    generate_construct_counts(grna_matcher, construct_names, output_fp, fw_fastq_fp, rv_fastq_fp)"
   ]
  },
  {
   "cell_type": "code",
   "execution_count": 12,
   "metadata": {
    "collapsed": false
   },
   "outputs": [
    {
     "name": "stdout",
     "output_type": "stream",
     "text": [
      "Starting parallel processing at 2016-07-14 01:12:08.246914\n"
     ]
    },
    {
     "name": "stdout",
     "output_type": "stream",
     "text": [
      "Starting A549_MV4_d14_1_S3_L001_001_trimmed53_len_filtered at 2016-07-14 01:12:08.261668\n"
     ]
    },
    {
     "name": "stdout",
     "output_type": "stream",
     "text": [
      "Starting A549_MV4_d20_1_S5_L001_001_trimmed53_len_filtered at 2016-07-14 01:12:08.261801\n"
     ]
    },
    {
     "name": "stdout",
     "output_type": "stream",
     "text": [
      "Starting A549_MV4_d20_2_S6_L001_001_trimmed53_len_filtered at 2016-07-14 01:12:08.261888\n"
     ]
    },
    {
     "name": "stdout",
     "output_type": "stream",
     "text": [
      "Starting A549_MV4_d14_2_S4_L001_001_trimmed53_len_filtered at 2016-07-14 01:12:08.261735\n"
     ]
    },
    {
     "name": "stderr",
     "output_type": "stream",
     "text": [
      "/home/ec2-user/miniconda3/envs/crispr_pipeline/lib/python3.4/site-packages/pandas/core/frame.py:2754: SettingWithCopyWarning: \n",
      "A value is trying to be set on a copy of a slice from a DataFrame\n",
      "\n",
      "See the caveats in the documentation: http://pandas.pydata.org/pandas-docs/stable/indexing.html#indexing-view-versus-copy\n",
      "  **kwargs)\n"
     ]
    },
    {
     "name": "stderr",
     "output_type": "stream",
     "text": [
      "/home/ec2-user/miniconda3/envs/crispr_pipeline/lib/python3.4/site-packages/pandas/core/frame.py:2754: SettingWithCopyWarning: \n",
      "A value is trying to be set on a copy of a slice from a DataFrame\n",
      "\n",
      "See the caveats in the documentation: http://pandas.pydata.org/pandas-docs/stable/indexing.html#indexing-view-versus-copy\n",
      "  **kwargs)\n"
     ]
    },
    {
     "name": "stderr",
     "output_type": "stream",
     "text": [
      "/home/ec2-user/miniconda3/envs/crispr_pipeline/lib/python3.4/site-packages/pandas/core/frame.py:2754: SettingWithCopyWarning: \n",
      "A value is trying to be set on a copy of a slice from a DataFrame\n",
      "\n",
      "See the caveats in the documentation: http://pandas.pydata.org/pandas-docs/stable/indexing.html#indexing-view-versus-copy\n",
      "  **kwargs)\n"
     ]
    },
    {
     "name": "stderr",
     "output_type": "stream",
     "text": [
      "/home/ec2-user/miniconda3/envs/crispr_pipeline/lib/python3.4/site-packages/pandas/core/frame.py:2754: SettingWithCopyWarning: \n",
      "A value is trying to be set on a copy of a slice from a DataFrame\n",
      "\n",
      "See the caveats in the documentation: http://pandas.pydata.org/pandas-docs/stable/indexing.html#indexing-view-versus-copy\n",
      "  **kwargs)\n"
     ]
    },
    {
     "name": "stdout",
     "output_type": "stream",
     "text": [
      "On fastq pair number 100000 at 2016-07-14 01:12:16.232065\n"
     ]
    },
    {
     "name": "stdout",
     "output_type": "stream",
     "text": [
      "On fastq pair number 100000 at 2016-07-14 01:12:16.248145\n"
     ]
    },
    {
     "name": "stdout",
     "output_type": "stream",
     "text": [
      "On fastq pair number 100000 at 2016-07-14 01:12:16.264268\n"
     ]
    },
    {
     "name": "stdout",
     "output_type": "stream",
     "text": [
      "On fastq pair number 100000 at 2016-07-14 01:12:16.346624\n"
     ]
    },
    {
     "name": "stdout",
     "output_type": "stream",
     "text": [
      "On fastq pair number 200000 at 2016-07-14 01:12:23.984512\n"
     ]
    },
    {
     "name": "stdout",
     "output_type": "stream",
     "text": [
      "On fastq pair number 200000 at 2016-07-14 01:12:24.064460\n"
     ]
    },
    {
     "name": "stdout",
     "output_type": "stream",
     "text": [
      "On fastq pair number 200000 at 2016-07-14 01:12:24.111096\n"
     ]
    },
    {
     "name": "stdout",
     "output_type": "stream",
     "text": [
      "On fastq pair number 200000 at 2016-07-14 01:12:24.209990\n"
     ]
    },
    {
     "name": "stdout",
     "output_type": "stream",
     "text": [
      "On fastq pair number 300000 at 2016-07-14 01:12:31.789004\n"
     ]
    },
    {
     "name": "stdout",
     "output_type": "stream",
     "text": [
      "On fastq pair number 300000 at 2016-07-14 01:12:31.839995\n"
     ]
    },
    {
     "name": "stdout",
     "output_type": "stream",
     "text": [
      "On fastq pair number 300000 at 2016-07-14 01:12:31.899695\n"
     ]
    },
    {
     "name": "stdout",
     "output_type": "stream",
     "text": [
      "On fastq pair number 300000 at 2016-07-14 01:12:32.028849\n"
     ]
    },
    {
     "name": "stdout",
     "output_type": "stream",
     "text": [
      "On fastq pair number 400000 at 2016-07-14 01:12:39.565180\n"
     ]
    },
    {
     "name": "stdout",
     "output_type": "stream",
     "text": [
      "On fastq pair number 400000 at 2016-07-14 01:12:39.627717\n"
     ]
    },
    {
     "name": "stdout",
     "output_type": "stream",
     "text": [
      "On fastq pair number 400000 at 2016-07-14 01:12:39.727472\n"
     ]
    },
    {
     "name": "stdout",
     "output_type": "stream",
     "text": [
      "On fastq pair number 400000 at 2016-07-14 01:12:39.872233\n"
     ]
    },
    {
     "name": "stdout",
     "output_type": "stream",
     "text": [
      "On fastq pair number 500000 at 2016-07-14 01:12:47.345799\n"
     ]
    },
    {
     "name": "stdout",
     "output_type": "stream",
     "text": [
      "On fastq pair number 500000 at 2016-07-14 01:12:47.364079\n"
     ]
    },
    {
     "name": "stdout",
     "output_type": "stream",
     "text": [
      "On fastq pair number 500000 at 2016-07-14 01:12:47.516250\n"
     ]
    },
    {
     "name": "stdout",
     "output_type": "stream",
     "text": [
      "On fastq pair number 500000 at 2016-07-14 01:12:47.706531\n"
     ]
    },
    {
     "name": "stdout",
     "output_type": "stream",
     "text": [
      "On fastq pair number 600000 at 2016-07-14 01:12:55.105613\n"
     ]
    },
    {
     "name": "stdout",
     "output_type": "stream",
     "text": [
      "On fastq pair number 600000 at 2016-07-14 01:12:55.142157\n"
     ]
    },
    {
     "name": "stdout",
     "output_type": "stream",
     "text": [
      "On fastq pair number 600000 at 2016-07-14 01:12:55.338510\n"
     ]
    },
    {
     "name": "stdout",
     "output_type": "stream",
     "text": [
      "On fastq pair number 600000 at 2016-07-14 01:12:55.550378\n"
     ]
    },
    {
     "name": "stdout",
     "output_type": "stream",
     "text": [
      "On fastq pair number 700000 at 2016-07-14 01:13:02.849305\n"
     ]
    },
    {
     "name": "stdout",
     "output_type": "stream",
     "text": [
      "On fastq pair number 700000 at 2016-07-14 01:13:02.884434\n"
     ]
    },
    {
     "name": "stdout",
     "output_type": "stream",
     "text": [
      "On fastq pair number 700000 at 2016-07-14 01:13:03.051257\n"
     ]
    },
    {
     "name": "stdout",
     "output_type": "stream",
     "text": [
      "On fastq pair number 700000 at 2016-07-14 01:13:03.386590\n"
     ]
    },
    {
     "name": "stdout",
     "output_type": "stream",
     "text": [
      "On fastq pair number 800000 at 2016-07-14 01:13:10.563494\n"
     ]
    },
    {
     "name": "stdout",
     "output_type": "stream",
     "text": [
      "On fastq pair number 800000 at 2016-07-14 01:13:10.632498\n"
     ]
    },
    {
     "name": "stdout",
     "output_type": "stream",
     "text": [
      "On fastq pair number 800000 at 2016-07-14 01:13:10.791054\n"
     ]
    },
    {
     "name": "stdout",
     "output_type": "stream",
     "text": [
      "On fastq pair number 800000 at 2016-07-14 01:13:11.176658\n"
     ]
    },
    {
     "name": "stdout",
     "output_type": "stream",
     "text": [
      "On fastq pair number 900000 at 2016-07-14 01:13:18.356131\n"
     ]
    },
    {
     "name": "stdout",
     "output_type": "stream",
     "text": [
      "On fastq pair number 900000 at 2016-07-14 01:13:18.414177\n"
     ]
    },
    {
     "name": "stdout",
     "output_type": "stream",
     "text": [
      "On fastq pair number 900000 at 2016-07-14 01:13:18.593707\n"
     ]
    },
    {
     "name": "stdout",
     "output_type": "stream",
     "text": [
      "On fastq pair number 900000 at 2016-07-14 01:13:18.989396\n"
     ]
    },
    {
     "name": "stdout",
     "output_type": "stream",
     "text": [
      "On fastq pair number 1000000 at 2016-07-14 01:13:26.104594\n"
     ]
    },
    {
     "name": "stdout",
     "output_type": "stream",
     "text": [
      "On fastq pair number 1000000 at 2016-07-14 01:13:26.150687\n"
     ]
    },
    {
     "name": "stdout",
     "output_type": "stream",
     "text": [
      "On fastq pair number 1000000 at 2016-07-14 01:13:26.570885\n"
     ]
    },
    {
     "name": "stdout",
     "output_type": "stream",
     "text": [
      "On fastq pair number 1000000 at 2016-07-14 01:13:26.869942\n"
     ]
    },
    {
     "name": "stdout",
     "output_type": "stream",
     "text": [
      "On fastq pair number 1100000 at 2016-07-14 01:13:33.807395\n"
     ]
    },
    {
     "name": "stdout",
     "output_type": "stream",
     "text": [
      "On fastq pair number 1100000 at 2016-07-14 01:13:33.953997\n"
     ]
    },
    {
     "name": "stdout",
     "output_type": "stream",
     "text": [
      "On fastq pair number 1100000 at 2016-07-14 01:13:34.435449\n"
     ]
    },
    {
     "name": "stdout",
     "output_type": "stream",
     "text": [
      "On fastq pair number 1100000 at 2016-07-14 01:13:34.817366\n"
     ]
    },
    {
     "name": "stdout",
     "output_type": "stream",
     "text": [
      "On fastq pair number 1200000 at 2016-07-14 01:13:41.564512\n"
     ]
    },
    {
     "name": "stdout",
     "output_type": "stream",
     "text": [
      "On fastq pair number 1200000 at 2016-07-14 01:13:41.737842\n"
     ]
    },
    {
     "name": "stdout",
     "output_type": "stream",
     "text": [
      "On fastq pair number 1200000 at 2016-07-14 01:13:42.311748\n"
     ]
    },
    {
     "name": "stdout",
     "output_type": "stream",
     "text": [
      "On fastq pair number 1200000 at 2016-07-14 01:13:42.750191\n"
     ]
    },
    {
     "name": "stdout",
     "output_type": "stream",
     "text": [
      "On fastq pair number 1300000 at 2016-07-14 01:13:49.339305\n"
     ]
    },
    {
     "name": "stdout",
     "output_type": "stream",
     "text": [
      "On fastq pair number 1300000 at 2016-07-14 01:13:49.571560\n"
     ]
    },
    {
     "name": "stdout",
     "output_type": "stream",
     "text": [
      "On fastq pair number 1300000 at 2016-07-14 01:13:50.215494\n"
     ]
    },
    {
     "name": "stdout",
     "output_type": "stream",
     "text": [
      "On fastq pair number 1300000 at 2016-07-14 01:13:50.636822\n"
     ]
    },
    {
     "name": "stdout",
     "output_type": "stream",
     "text": [
      "On fastq pair number 1400000 at 2016-07-14 01:13:57.159904\n"
     ]
    },
    {
     "name": "stdout",
     "output_type": "stream",
     "text": [
      "On fastq pair number 1400000 at 2016-07-14 01:13:57.376553\n"
     ]
    },
    {
     "name": "stdout",
     "output_type": "stream",
     "text": [
      "On fastq pair number 1400000 at 2016-07-14 01:13:58.119165\n"
     ]
    },
    {
     "name": "stdout",
     "output_type": "stream",
     "text": [
      "On fastq pair number 1400000 at 2016-07-14 01:13:58.553183\n"
     ]
    },
    {
     "name": "stdout",
     "output_type": "stream",
     "text": [
      "On fastq pair number 1500000 at 2016-07-14 01:14:04.982505\n"
     ]
    },
    {
     "name": "stdout",
     "output_type": "stream",
     "text": [
      "On fastq pair number 1500000 at 2016-07-14 01:14:05.194846\n"
     ]
    },
    {
     "name": "stdout",
     "output_type": "stream",
     "text": [
      "On fastq pair number 1500000 at 2016-07-14 01:14:05.973903\n"
     ]
    },
    {
     "name": "stdout",
     "output_type": "stream",
     "text": [
      "On fastq pair number 1500000 at 2016-07-14 01:14:06.459199\n"
     ]
    },
    {
     "name": "stdout",
     "output_type": "stream",
     "text": [
      "On fastq pair number 1600000 at 2016-07-14 01:14:12.789350\n"
     ]
    },
    {
     "name": "stdout",
     "output_type": "stream",
     "text": [
      "On fastq pair number 1600000 at 2016-07-14 01:14:12.925187\n"
     ]
    },
    {
     "name": "stdout",
     "output_type": "stream",
     "text": [
      "On fastq pair number 1600000 at 2016-07-14 01:14:13.817163\n"
     ]
    },
    {
     "name": "stdout",
     "output_type": "stream",
     "text": [
      "On fastq pair number 1600000 at 2016-07-14 01:14:14.356196\n"
     ]
    },
    {
     "name": "stdout",
     "output_type": "stream",
     "text": [
      "On fastq pair number 1700000 at 2016-07-14 01:14:20.622400\n"
     ]
    },
    {
     "name": "stdout",
     "output_type": "stream",
     "text": [
      "On fastq pair number 1700000 at 2016-07-14 01:14:20.687181\n"
     ]
    },
    {
     "name": "stdout",
     "output_type": "stream",
     "text": [
      "On fastq pair number 1700000 at 2016-07-14 01:14:21.688680\n"
     ]
    },
    {
     "name": "stdout",
     "output_type": "stream",
     "text": [
      "On fastq pair number 1700000 at 2016-07-14 01:14:22.259516\n"
     ]
    },
    {
     "name": "stdout",
     "output_type": "stream",
     "text": [
      "On fastq pair number 1800000 at 2016-07-14 01:14:28.444415\n"
     ]
    },
    {
     "name": "stdout",
     "output_type": "stream",
     "text": [
      "On fastq pair number 1800000 at 2016-07-14 01:14:28.466184\n"
     ]
    },
    {
     "name": "stdout",
     "output_type": "stream",
     "text": [
      "On fastq pair number 1800000 at 2016-07-14 01:14:29.532109\n"
     ]
    },
    {
     "name": "stdout",
     "output_type": "stream",
     "text": [
      "On fastq pair number 1800000 at 2016-07-14 01:14:30.165357\n"
     ]
    },
    {
     "name": "stdout",
     "output_type": "stream",
     "text": [
      "On fastq pair number 1900000 at 2016-07-14 01:14:36.226602\n"
     ]
    },
    {
     "name": "stdout",
     "output_type": "stream",
     "text": [
      "On fastq pair number 1900000 at 2016-07-14 01:14:36.350217\n"
     ]
    },
    {
     "name": "stdout",
     "output_type": "stream",
     "text": [
      "On fastq pair number 1900000 at 2016-07-14 01:14:37.265621\n"
     ]
    },
    {
     "name": "stdout",
     "output_type": "stream",
     "text": [
      "On fastq pair number 1900000 at 2016-07-14 01:14:38.056009\n"
     ]
    },
    {
     "name": "stdout",
     "output_type": "stream",
     "text": [
      "On fastq pair number 2000000 at 2016-07-14 01:14:43.928102\n"
     ]
    },
    {
     "name": "stdout",
     "output_type": "stream",
     "text": [
      "On fastq pair number 2000000 at 2016-07-14 01:14:44.229454\n"
     ]
    },
    {
     "name": "stdout",
     "output_type": "stream",
     "text": [
      "On fastq pair number 2000000 at 2016-07-14 01:14:45.013189\n"
     ]
    },
    {
     "name": "stdout",
     "output_type": "stream",
     "text": [
      "On fastq pair number 2000000 at 2016-07-14 01:14:45.928844\n"
     ]
    },
    {
     "name": "stdout",
     "output_type": "stream",
     "text": [
      "On fastq pair number 2100000 at 2016-07-14 01:14:51.631422\n"
     ]
    },
    {
     "name": "stdout",
     "output_type": "stream",
     "text": [
      "On fastq pair number 2100000 at 2016-07-14 01:14:52.066766\n"
     ]
    },
    {
     "name": "stdout",
     "output_type": "stream",
     "text": [
      "On fastq pair number 2100000 at 2016-07-14 01:14:52.728096\n"
     ]
    },
    {
     "name": "stdout",
     "output_type": "stream",
     "text": [
      "On fastq pair number 2100000 at 2016-07-14 01:14:53.769680\n"
     ]
    },
    {
     "name": "stdout",
     "output_type": "stream",
     "text": [
      "On fastq pair number 2200000 at 2016-07-14 01:14:59.341753\n"
     ]
    },
    {
     "name": "stdout",
     "output_type": "stream",
     "text": [
      "On fastq pair number 2200000 at 2016-07-14 01:14:59.905059\n"
     ]
    },
    {
     "name": "stdout",
     "output_type": "stream",
     "text": [
      "On fastq pair number 2200000 at 2016-07-14 01:15:00.430403\n"
     ]
    },
    {
     "name": "stdout",
     "output_type": "stream",
     "text": [
      "On fastq pair number 2200000 at 2016-07-14 01:15:01.609374\n"
     ]
    },
    {
     "name": "stdout",
     "output_type": "stream",
     "text": [
      "On fastq pair number 2300000 at 2016-07-14 01:15:07.037557\n"
     ]
    },
    {
     "name": "stdout",
     "output_type": "stream",
     "text": [
      "On fastq pair number 2300000 at 2016-07-14 01:15:07.734594\n"
     ]
    },
    {
     "name": "stdout",
     "output_type": "stream",
     "text": [
      "On fastq pair number 2300000 at 2016-07-14 01:15:08.190451\n"
     ]
    },
    {
     "name": "stdout",
     "output_type": "stream",
     "text": [
      "On fastq pair number 2300000 at 2016-07-14 01:15:09.426197\n"
     ]
    },
    {
     "name": "stdout",
     "output_type": "stream",
     "text": [
      "On fastq pair number 2400000 at 2016-07-14 01:15:14.726096\n"
     ]
    },
    {
     "name": "stdout",
     "output_type": "stream",
     "text": [
      "On fastq pair number 2400000 at 2016-07-14 01:15:15.539236\n"
     ]
    },
    {
     "name": "stdout",
     "output_type": "stream",
     "text": [
      "On fastq pair number 2400000 at 2016-07-14 01:15:15.927790\n"
     ]
    },
    {
     "name": "stdout",
     "output_type": "stream",
     "text": [
      "On fastq pair number 2400000 at 2016-07-14 01:15:17.236199\n"
     ]
    },
    {
     "name": "stdout",
     "output_type": "stream",
     "text": [
      "On fastq pair number 2500000 at 2016-07-14 01:15:22.485287\n"
     ]
    },
    {
     "name": "stdout",
     "output_type": "stream",
     "text": [
      "On fastq pair number 2500000 at 2016-07-14 01:15:23.370149\n"
     ]
    },
    {
     "name": "stdout",
     "output_type": "stream",
     "text": [
      "On fastq pair number 2500000 at 2016-07-14 01:15:23.635262\n"
     ]
    },
    {
     "name": "stdout",
     "output_type": "stream",
     "text": [
      "On fastq pair number 2500000 at 2016-07-14 01:15:25.035372\n"
     ]
    },
    {
     "name": "stdout",
     "output_type": "stream",
     "text": [
      "On fastq pair number 2600000 at 2016-07-14 01:15:30.281222\n"
     ]
    },
    {
     "name": "stdout",
     "output_type": "stream",
     "text": [
      "On fastq pair number 2600000 at 2016-07-14 01:15:31.178975\n"
     ]
    },
    {
     "name": "stdout",
     "output_type": "stream",
     "text": [
      "On fastq pair number 2600000 at 2016-07-14 01:15:31.379859\n"
     ]
    },
    {
     "name": "stdout",
     "output_type": "stream",
     "text": [
      "On fastq pair number 2600000 at 2016-07-14 01:15:32.819903\n"
     ]
    },
    {
     "name": "stdout",
     "output_type": "stream",
     "text": [
      "On fastq pair number 2700000 at 2016-07-14 01:15:38.103319\n"
     ]
    },
    {
     "name": "stdout",
     "output_type": "stream",
     "text": [
      "On fastq pair number 2700000 at 2016-07-14 01:15:38.934643\n"
     ]
    },
    {
     "name": "stdout",
     "output_type": "stream",
     "text": [
      "On fastq pair number 2700000 at 2016-07-14 01:15:39.209484\n"
     ]
    },
    {
     "name": "stdout",
     "output_type": "stream",
     "text": [
      "On fastq pair number 2700000 at 2016-07-14 01:15:40.591167\n"
     ]
    },
    {
     "name": "stdout",
     "output_type": "stream",
     "text": [
      "On fastq pair number 2800000 at 2016-07-14 01:15:45.927616\n"
     ]
    },
    {
     "name": "stdout",
     "output_type": "stream",
     "text": [
      "On fastq pair number 2800000 at 2016-07-14 01:15:46.730387\n"
     ]
    },
    {
     "name": "stdout",
     "output_type": "stream",
     "text": [
      "On fastq pair number 2800000 at 2016-07-14 01:15:47.050448\n"
     ]
    },
    {
     "name": "stdout",
     "output_type": "stream",
     "text": [
      "On fastq pair number 2800000 at 2016-07-14 01:15:48.387261\n"
     ]
    },
    {
     "name": "stdout",
     "output_type": "stream",
     "text": [
      "On fastq pair number 2900000 at 2016-07-14 01:15:53.724567\n"
     ]
    },
    {
     "name": "stdout",
     "output_type": "stream",
     "text": [
      "On fastq pair number 2900000 at 2016-07-14 01:15:54.484875\n"
     ]
    },
    {
     "name": "stdout",
     "output_type": "stream",
     "text": [
      "On fastq pair number 2900000 at 2016-07-14 01:15:54.884839\n"
     ]
    },
    {
     "name": "stdout",
     "output_type": "stream",
     "text": [
      "On fastq pair number 2900000 at 2016-07-14 01:15:56.246607\n"
     ]
    },
    {
     "name": "stdout",
     "output_type": "stream",
     "text": [
      "On fastq pair number 3000000 at 2016-07-14 01:16:01.531155\n"
     ]
    },
    {
     "name": "stdout",
     "output_type": "stream",
     "text": [
      "On fastq pair number 3000000 at 2016-07-14 01:16:02.194258\n"
     ]
    },
    {
     "name": "stdout",
     "output_type": "stream",
     "text": [
      "On fastq pair number 3000000 at 2016-07-14 01:16:02.714053\n"
     ]
    },
    {
     "name": "stdout",
     "output_type": "stream",
     "text": [
      "On fastq pair number 3000000 at 2016-07-14 01:16:04.170856\n"
     ]
    },
    {
     "name": "stdout",
     "output_type": "stream",
     "text": [
      "On fastq pair number 3100000 at 2016-07-14 01:16:09.326062\n"
     ]
    },
    {
     "name": "stdout",
     "output_type": "stream",
     "text": [
      "On fastq pair number 3100000 at 2016-07-14 01:16:09.914398\n"
     ]
    },
    {
     "name": "stdout",
     "output_type": "stream",
     "text": [
      "On fastq pair number 3100000 at 2016-07-14 01:16:10.617669\n"
     ]
    },
    {
     "name": "stdout",
     "output_type": "stream",
     "text": [
      "On fastq pair number 3100000 at 2016-07-14 01:16:12.050102\n"
     ]
    },
    {
     "name": "stdout",
     "output_type": "stream",
     "text": [
      "On fastq pair number 3200000 at 2016-07-14 01:16:17.171805\n"
     ]
    },
    {
     "name": "stdout",
     "output_type": "stream",
     "text": [
      "On fastq pair number 3200000 at 2016-07-14 01:16:17.610835\n"
     ]
    },
    {
     "name": "stdout",
     "output_type": "stream",
     "text": [
      "On fastq pair number 3200000 at 2016-07-14 01:16:18.494471\n"
     ]
    },
    {
     "name": "stdout",
     "output_type": "stream",
     "text": [
      "On fastq pair number 3200000 at 2016-07-14 01:16:19.998692\n"
     ]
    },
    {
     "name": "stdout",
     "output_type": "stream",
     "text": [
      "On fastq pair number 3300000 at 2016-07-14 01:16:24.974308\n"
     ]
    },
    {
     "name": "stdout",
     "output_type": "stream",
     "text": [
      "On fastq pair number 3300000 at 2016-07-14 01:16:25.375447\n"
     ]
    },
    {
     "name": "stdout",
     "output_type": "stream",
     "text": [
      "On fastq pair number 3300000 at 2016-07-14 01:16:26.293092\n"
     ]
    },
    {
     "name": "stdout",
     "output_type": "stream",
     "text": [
      "On fastq pair number 3300000 at 2016-07-14 01:16:27.874885\n"
     ]
    },
    {
     "name": "stdout",
     "output_type": "stream",
     "text": [
      "On fastq pair number 3400000 at 2016-07-14 01:16:32.804656\n"
     ]
    },
    {
     "name": "stdout",
     "output_type": "stream",
     "text": [
      "On fastq pair number 3400000 at 2016-07-14 01:16:33.071988\n"
     ]
    },
    {
     "name": "stdout",
     "output_type": "stream",
     "text": [
      "On fastq pair number 3400000 at 2016-07-14 01:16:34.146943\n"
     ]
    },
    {
     "name": "stdout",
     "output_type": "stream",
     "text": [
      "On fastq pair number 3400000 at 2016-07-14 01:16:35.794400\n"
     ]
    },
    {
     "name": "stdout",
     "output_type": "stream",
     "text": [
      "On fastq pair number 3500000 at 2016-07-14 01:16:40.769412\n"
     ]
    },
    {
     "name": "stdout",
     "output_type": "stream",
     "text": [
      "On fastq pair number 3500000 at 2016-07-14 01:16:40.806029\n"
     ]
    },
    {
     "name": "stdout",
     "output_type": "stream",
     "text": [
      "On fastq pair number 3500000 at 2016-07-14 01:16:41.976102\n"
     ]
    },
    {
     "name": "stdout",
     "output_type": "stream",
     "text": [
      "On fastq pair number 3500000 at 2016-07-14 01:16:43.700446\n"
     ]
    },
    {
     "name": "stdout",
     "output_type": "stream",
     "text": [
      "On fastq pair number 3600000 at 2016-07-14 01:16:48.499964\n"
     ]
    },
    {
     "name": "stdout",
     "output_type": "stream",
     "text": [
      "On fastq pair number 3600000 at 2016-07-14 01:16:48.579657\n"
     ]
    },
    {
     "name": "stdout",
     "output_type": "stream",
     "text": [
      "On fastq pair number 3600000 at 2016-07-14 01:16:49.996284\n"
     ]
    },
    {
     "name": "stdout",
     "output_type": "stream",
     "text": [
      "On fastq pair number 3600000 at 2016-07-14 01:16:51.580980\n"
     ]
    },
    {
     "name": "stdout",
     "output_type": "stream",
     "text": [
      "On fastq pair number 3700000 at 2016-07-14 01:16:56.280544\n"
     ]
    },
    {
     "name": "stdout",
     "output_type": "stream",
     "text": [
      "On fastq pair number 3700000 at 2016-07-14 01:16:57.432810\n"
     ]
    },
    {
     "name": "stdout",
     "output_type": "stream",
     "text": [
      "On fastq pair number 3700000 at 2016-07-14 01:16:57.991079\n"
     ]
    },
    {
     "name": "stdout",
     "output_type": "stream",
     "text": [
      "On fastq pair number 3700000 at 2016-07-14 01:16:59.443870\n"
     ]
    },
    {
     "name": "stdout",
     "output_type": "stream",
     "text": [
      "On fastq pair number 3800000 at 2016-07-14 01:17:04.018598\n"
     ]
    },
    {
     "name": "stdout",
     "output_type": "stream",
     "text": [
      "On fastq pair number 3800000 at 2016-07-14 01:17:05.202383\n"
     ]
    },
    {
     "name": "stdout",
     "output_type": "stream",
     "text": [
      "On fastq pair number 3800000 at 2016-07-14 01:17:05.757815\n"
     ]
    },
    {
     "name": "stdout",
     "output_type": "stream",
     "text": [
      "On fastq pair number 3800000 at 2016-07-14 01:17:07.275758\n"
     ]
    },
    {
     "name": "stdout",
     "output_type": "stream",
     "text": [
      "On fastq pair number 3900000 at 2016-07-14 01:17:11.844629\n"
     ]
    },
    {
     "name": "stdout",
     "output_type": "stream",
     "text": [
      "On fastq pair number 3900000 at 2016-07-14 01:17:13.352630\n"
     ]
    },
    {
     "name": "stdout",
     "output_type": "stream",
     "text": [
      "On fastq pair number 3900000 at 2016-07-14 01:17:14.682718\n"
     ]
    },
    {
     "name": "stdout",
     "output_type": "stream",
     "text": [
      "On fastq pair number 3900000 at 2016-07-14 01:17:15.126612\n"
     ]
    },
    {
     "name": "stdout",
     "output_type": "stream",
     "text": [
      "On fastq pair number 4000000 at 2016-07-14 01:17:19.646657\n"
     ]
    },
    {
     "name": "stdout",
     "output_type": "stream",
     "text": [
      "On fastq pair number 4000000 at 2016-07-14 01:17:21.223696\n"
     ]
    },
    {
     "name": "stdout",
     "output_type": "stream",
     "text": [
      "On fastq pair number 4000000 at 2016-07-14 01:17:22.446384\n"
     ]
    },
    {
     "name": "stdout",
     "output_type": "stream",
     "text": [
      "On fastq pair number 4000000 at 2016-07-14 01:17:23.316001\n"
     ]
    },
    {
     "name": "stdout",
     "output_type": "stream",
     "text": [
      "On fastq pair number 4100000 at 2016-07-14 01:17:27.453816\n"
     ]
    },
    {
     "name": "stdout",
     "output_type": "stream",
     "text": [
      "On fastq pair number 4100000 at 2016-07-14 01:17:30.638136\n"
     ]
    },
    {
     "name": "stdout",
     "output_type": "stream",
     "text": [
      "On fastq pair number 4100000 at 2016-07-14 01:17:31.171906\n"
     ]
    },
    {
     "name": "stdout",
     "output_type": "stream",
     "text": [
      "On fastq pair number 4100000 at 2016-07-14 01:17:31.871145\n"
     ]
    },
    {
     "name": "stdout",
     "output_type": "stream",
     "text": [
      "On fastq pair number 4200000 at 2016-07-14 01:17:35.274357\n"
     ]
    },
    {
     "name": "stdout",
     "output_type": "stream",
     "text": [
      "On fastq pair number 4200000 at 2016-07-14 01:17:38.385249\n"
     ]
    },
    {
     "name": "stdout",
     "output_type": "stream",
     "text": [
      "On fastq pair number 4200000 at 2016-07-14 01:17:39.067284\n"
     ]
    },
    {
     "name": "stdout",
     "output_type": "stream",
     "text": [
      "On fastq pair number 4200000 at 2016-07-14 01:17:39.947507\n"
     ]
    },
    {
     "name": "stdout",
     "output_type": "stream",
     "text": [
      "On fastq pair number 4300000 at 2016-07-14 01:17:43.083773\n"
     ]
    },
    {
     "name": "stdout",
     "output_type": "stream",
     "text": [
      "On fastq pair number 4300000 at 2016-07-14 01:17:48.044584\n"
     ]
    },
    {
     "name": "stdout",
     "output_type": "stream",
     "text": [
      "On fastq pair number 4300000 at 2016-07-14 01:17:48.105352\n"
     ]
    },
    {
     "name": "stdout",
     "output_type": "stream",
     "text": [
      "On fastq pair number 4300000 at 2016-07-14 01:17:49.199161\n"
     ]
    },
    {
     "name": "stdout",
     "output_type": "stream",
     "text": [
      "On fastq pair number 4400000 at 2016-07-14 01:17:50.984565\n"
     ]
    },
    {
     "name": "stdout",
     "output_type": "stream",
     "text": [
      "On fastq pair number 4400000 at 2016-07-14 01:17:55.965093\n"
     ]
    },
    {
     "name": "stdout",
     "output_type": "stream",
     "text": [
      "On fastq pair number 4400000 at 2016-07-14 01:17:56.127718\n"
     ]
    },
    {
     "name": "stdout",
     "output_type": "stream",
     "text": [
      "On fastq pair number 4400000 at 2016-07-14 01:17:57.272029\n"
     ]
    },
    {
     "name": "stdout",
     "output_type": "stream",
     "text": [
      "On fastq pair number 4500000 at 2016-07-14 01:17:59.081939\n"
     ]
    },
    {
     "name": "stdout",
     "output_type": "stream",
     "text": [
      "On fastq pair number 4500000 at 2016-07-14 01:18:03.953322\n"
     ]
    },
    {
     "name": "stdout",
     "output_type": "stream",
     "text": [
      "On fastq pair number 4500000 at 2016-07-14 01:18:04.274592\n"
     ]
    },
    {
     "name": "stdout",
     "output_type": "stream",
     "text": [
      "On fastq pair number 4500000 at 2016-07-14 01:18:05.568296\n"
     ]
    },
    {
     "name": "stdout",
     "output_type": "stream",
     "text": [
      "On fastq pair number 4600000 at 2016-07-14 01:18:06.880742\n"
     ]
    },
    {
     "name": "stdout",
     "output_type": "stream",
     "text": [
      "On fastq pair number 4600000 at 2016-07-14 01:18:11.781381\n"
     ]
    },
    {
     "name": "stdout",
     "output_type": "stream",
     "text": [
      "On fastq pair number 4600000 at 2016-07-14 01:18:12.457581\n"
     ]
    },
    {
     "name": "stdout",
     "output_type": "stream",
     "text": [
      "On fastq pair number 4600000 at 2016-07-14 01:18:13.443488\n"
     ]
    },
    {
     "name": "stdout",
     "output_type": "stream",
     "text": [
      "On fastq pair number 4700000 at 2016-07-14 01:18:14.706957\n"
     ]
    },
    {
     "name": "stdout",
     "output_type": "stream",
     "text": [
      "On fastq pair number 4700000 at 2016-07-14 01:18:19.581935\n"
     ]
    },
    {
     "name": "stdout",
     "output_type": "stream",
     "text": [
      "On fastq pair number 4700000 at 2016-07-14 01:18:21.268606\n"
     ]
    },
    {
     "name": "stdout",
     "output_type": "stream",
     "text": [
      "On fastq pair number 4800000 at 2016-07-14 01:18:22.553426\n"
     ]
    },
    {
     "name": "stdout",
     "output_type": "stream",
     "text": [
      "On fastq pair number 4700000 at 2016-07-14 01:18:23.260957\n"
     ]
    },
    {
     "name": "stdout",
     "output_type": "stream",
     "text": [
      "On fastq pair number 4800000 at 2016-07-14 01:18:27.325838\n"
     ]
    },
    {
     "name": "stdout",
     "output_type": "stream",
     "text": [
      "On fastq pair number 4800000 at 2016-07-14 01:18:29.176335\n"
     ]
    },
    {
     "name": "stdout",
     "output_type": "stream",
     "text": [
      "On fastq pair number 4900000 at 2016-07-14 01:18:30.345003\n"
     ]
    },
    {
     "name": "stdout",
     "output_type": "stream",
     "text": [
      "On fastq pair number 4800000 at 2016-07-14 01:18:31.286218\n"
     ]
    },
    {
     "name": "stdout",
     "output_type": "stream",
     "text": [
      "On fastq pair number 4900000 at 2016-07-14 01:18:35.136097\n"
     ]
    },
    {
     "name": "stdout",
     "output_type": "stream",
     "text": [
      "On fastq pair number 4900000 at 2016-07-14 01:18:36.986683\n"
     ]
    },
    {
     "name": "stdout",
     "output_type": "stream",
     "text": [
      "On fastq pair number 5000000 at 2016-07-14 01:18:38.112581\n"
     ]
    },
    {
     "name": "stdout",
     "output_type": "stream",
     "text": [
      "On fastq pair number 4900000 at 2016-07-14 01:18:39.730135\n"
     ]
    },
    {
     "name": "stdout",
     "output_type": "stream",
     "text": [
      "On fastq pair number 5000000 at 2016-07-14 01:18:42.956189\n"
     ]
    },
    {
     "name": "stdout",
     "output_type": "stream",
     "text": [
      "On fastq pair number 5000000 at 2016-07-14 01:18:44.841319\n"
     ]
    },
    {
     "name": "stdout",
     "output_type": "stream",
     "text": [
      "On fastq pair number 5100000 at 2016-07-14 01:18:46.049400\n"
     ]
    },
    {
     "name": "stdout",
     "output_type": "stream",
     "text": [
      "On fastq pair number 5000000 at 2016-07-14 01:18:47.596143\n"
     ]
    },
    {
     "name": "stdout",
     "output_type": "stream",
     "text": [
      "On fastq pair number 5100000 at 2016-07-14 01:18:50.933723\n"
     ]
    },
    {
     "name": "stdout",
     "output_type": "stream",
     "text": [
      "On fastq pair number 5100000 at 2016-07-14 01:18:52.703026\n"
     ]
    },
    {
     "name": "stdout",
     "output_type": "stream",
     "text": [
      "On fastq pair number 5200000 at 2016-07-14 01:18:54.167856\n"
     ]
    },
    {
     "name": "stdout",
     "output_type": "stream",
     "text": [
      "On fastq pair number 5100000 at 2016-07-14 01:18:55.464680\n"
     ]
    },
    {
     "name": "stdout",
     "output_type": "stream",
     "text": [
      "On fastq pair number 5200000 at 2016-07-14 01:18:59.959494\n"
     ]
    },
    {
     "name": "stdout",
     "output_type": "stream",
     "text": [
      "On fastq pair number 5200000 at 2016-07-14 01:19:00.589706\n"
     ]
    },
    {
     "name": "stdout",
     "output_type": "stream",
     "text": [
      "On fastq pair number 5300000 at 2016-07-14 01:19:01.988398\n"
     ]
    },
    {
     "name": "stdout",
     "output_type": "stream",
     "text": [
      "On fastq pair number 5200000 at 2016-07-14 01:19:03.354358\n"
     ]
    },
    {
     "name": "stdout",
     "output_type": "stream",
     "text": [
      "On fastq pair number 5300000 at 2016-07-14 01:19:08.500199\n"
     ]
    },
    {
     "name": "stdout",
     "output_type": "stream",
     "text": [
      "On fastq pair number 5300000 at 2016-07-14 01:19:08.843835\n"
     ]
    },
    {
     "name": "stdout",
     "output_type": "stream",
     "text": [
      "On fastq pair number 5400000 at 2016-07-14 01:19:09.793398\n"
     ]
    },
    {
     "name": "stdout",
     "output_type": "stream",
     "text": [
      "On fastq pair number 5300000 at 2016-07-14 01:19:11.241939\n"
     ]
    },
    {
     "name": "stdout",
     "output_type": "stream",
     "text": [
      "On fastq pair number 5400000 at 2016-07-14 01:19:16.919256\n"
     ]
    },
    {
     "name": "stdout",
     "output_type": "stream",
     "text": [
      "On fastq pair number 5400000 at 2016-07-14 01:19:17.305995\n"
     ]
    },
    {
     "name": "stdout",
     "output_type": "stream",
     "text": [
      "On fastq pair number 5500000 at 2016-07-14 01:19:17.768878\n"
     ]
    },
    {
     "name": "stdout",
     "output_type": "stream",
     "text": [
      "On fastq pair number 5400000 at 2016-07-14 01:19:19.129254\n"
     ]
    },
    {
     "name": "stdout",
     "output_type": "stream",
     "text": [
      "On fastq pair number 5500000 at 2016-07-14 01:19:24.657492\n"
     ]
    },
    {
     "name": "stdout",
     "output_type": "stream",
     "text": [
      "On fastq pair number 5500000 at 2016-07-14 01:19:26.932331\n"
     ]
    },
    {
     "name": "stdout",
     "output_type": "stream",
     "text": [
      "On fastq pair number 5600000 at 2016-07-14 01:19:26.965372\n"
     ]
    },
    {
     "name": "stdout",
     "output_type": "stream",
     "text": [
      "On fastq pair number 5500000 at 2016-07-14 01:19:26.979400\n"
     ]
    },
    {
     "name": "stdout",
     "output_type": "stream",
     "text": [
      "On fastq pair number 5600000 at 2016-07-14 01:19:34.710227\n"
     ]
    },
    {
     "name": "stdout",
     "output_type": "stream",
     "text": [
      "On fastq pair number 5700000 at 2016-07-14 01:19:34.715604\n"
     ]
    },
    {
     "name": "stdout",
     "output_type": "stream",
     "text": [
      "On fastq pair number 5600000 at 2016-07-14 01:19:34.908698\n"
     ]
    },
    {
     "name": "stdout",
     "output_type": "stream",
     "text": [
      "On fastq pair number 5600000 at 2016-07-14 01:19:35.537143\n"
     ]
    },
    {
     "name": "stdout",
     "output_type": "stream",
     "text": [
      "On fastq pair number 5700000 at 2016-07-14 01:19:42.796022\n"
     ]
    },
    {
     "name": "stdout",
     "output_type": "stream",
     "text": [
      "On fastq pair number 5700000 at 2016-07-14 01:19:42.836915\n"
     ]
    },
    {
     "name": "stdout",
     "output_type": "stream",
     "text": [
      "On fastq pair number 5800000 at 2016-07-14 01:19:43.023471\n"
     ]
    },
    {
     "name": "stdout",
     "output_type": "stream",
     "text": [
      "On fastq pair number 5700000 at 2016-07-14 01:19:43.287093\n"
     ]
    },
    {
     "name": "stdout",
     "output_type": "stream",
     "text": [
      "On fastq pair number 5800000 at 2016-07-14 01:19:50.526632\n"
     ]
    },
    {
     "name": "stdout",
     "output_type": "stream",
     "text": [
      "On fastq pair number 5900000 at 2016-07-14 01:19:50.780755\n"
     ]
    },
    {
     "name": "stdout",
     "output_type": "stream",
     "text": [
      "On fastq pair number 5800000 at 2016-07-14 01:19:50.793938\n"
     ]
    },
    {
     "name": "stdout",
     "output_type": "stream",
     "text": [
      "On fastq pair number 5800000 at 2016-07-14 01:19:52.391746\n"
     ]
    },
    {
     "name": "stdout",
     "output_type": "stream",
     "text": [
      "On fastq pair number 5900000 at 2016-07-14 01:19:59.284077\n"
     ]
    },
    {
     "name": "stdout",
     "output_type": "stream",
     "text": [
      "On fastq pair number 6000000 at 2016-07-14 01:19:59.441192\n"
     ]
    },
    {
     "name": "stdout",
     "output_type": "stream",
     "text": [
      "On fastq pair number 5900000 at 2016-07-14 01:20:01.480433\n"
     ]
    },
    {
     "name": "stdout",
     "output_type": "stream",
     "text": [
      "On fastq pair number 5900000 at 2016-07-14 01:20:01.643680\n"
     ]
    },
    {
     "name": "stdout",
     "output_type": "stream",
     "text": [
      "On fastq pair number 6000000 at 2016-07-14 01:20:08.718503\n"
     ]
    },
    {
     "name": "stdout",
     "output_type": "stream",
     "text": [
      "On fastq pair number 6000000 at 2016-07-14 01:20:09.399268\n"
     ]
    },
    {
     "name": "stdout",
     "output_type": "stream",
     "text": [
      "On fastq pair number 6000000 at 2016-07-14 01:20:09.407190\n"
     ]
    },
    {
     "name": "stdout",
     "output_type": "stream",
     "text": [
      "On fastq pair number 6100000 at 2016-07-14 01:20:10.465856\n"
     ]
    },
    {
     "name": "stdout",
     "output_type": "stream",
     "text": [
      "On fastq pair number 6100000 at 2016-07-14 01:20:17.208210\n"
     ]
    },
    {
     "name": "stdout",
     "output_type": "stream",
     "text": [
      "On fastq pair number 6100000 at 2016-07-14 01:20:17.227309\n"
     ]
    },
    {
     "name": "stdout",
     "output_type": "stream",
     "text": [
      "On fastq pair number 6100000 at 2016-07-14 01:20:18.211284\n"
     ]
    },
    {
     "name": "stdout",
     "output_type": "stream",
     "text": [
      "On fastq pair number 6200000 at 2016-07-14 01:20:18.626642\n"
     ]
    },
    {
     "name": "stdout",
     "output_type": "stream",
     "text": [
      "On fastq pair number 6200000 at 2016-07-14 01:20:24.946777\n"
     ]
    },
    {
     "name": "stdout",
     "output_type": "stream",
     "text": [
      "On fastq pair number 6200000 at 2016-07-14 01:20:25.377472\n"
     ]
    },
    {
     "name": "stdout",
     "output_type": "stream",
     "text": [
      "On fastq pair number 6300000 at 2016-07-14 01:20:27.091436\n"
     ]
    },
    {
     "name": "stdout",
     "output_type": "stream",
     "text": [
      "On fastq pair number 6200000 at 2016-07-14 01:20:27.825393\n"
     ]
    },
    {
     "name": "stdout",
     "output_type": "stream",
     "text": [
      "On fastq pair number 6300000 at 2016-07-14 01:20:32.735361\n"
     ]
    },
    {
     "name": "stdout",
     "output_type": "stream",
     "text": [
      "On fastq pair number 6300000 at 2016-07-14 01:20:33.161655\n"
     ]
    },
    {
     "name": "stdout",
     "output_type": "stream",
     "text": [
      "On fastq pair number 6400000 at 2016-07-14 01:20:34.975105\n"
     ]
    },
    {
     "name": "stdout",
     "output_type": "stream",
     "text": [
      "On fastq pair number 6300000 at 2016-07-14 01:20:35.741791\n"
     ]
    },
    {
     "name": "stdout",
     "output_type": "stream",
     "text": [
      "On fastq pair number 6400000 at 2016-07-14 01:20:40.506069\n"
     ]
    },
    {
     "name": "stdout",
     "output_type": "stream",
     "text": [
      "On fastq pair number 6400000 at 2016-07-14 01:20:42.397589\n"
     ]
    },
    {
     "name": "stdout",
     "output_type": "stream",
     "text": [
      "On fastq pair number 6500000 at 2016-07-14 01:20:42.772880\n"
     ]
    },
    {
     "name": "stdout",
     "output_type": "stream",
     "text": [
      "On fastq pair number 6400000 at 2016-07-14 01:20:43.607935\n"
     ]
    },
    {
     "name": "stdout",
     "output_type": "stream",
     "text": [
      "On fastq pair number 6500000 at 2016-07-14 01:20:48.328552\n"
     ]
    },
    {
     "name": "stdout",
     "output_type": "stream",
     "text": [
      "On fastq pair number 6600000 at 2016-07-14 01:20:50.573564\n"
     ]
    },
    {
     "name": "stdout",
     "output_type": "stream",
     "text": [
      "On fastq pair number 6500000 at 2016-07-14 01:20:51.482289\n"
     ]
    },
    {
     "name": "stdout",
     "output_type": "stream",
     "text": [
      "On fastq pair number 6500000 at 2016-07-14 01:20:52.337542\n"
     ]
    },
    {
     "name": "stdout",
     "output_type": "stream",
     "text": [
      "On fastq pair number 6600000 at 2016-07-14 01:20:56.740695\n"
     ]
    },
    {
     "name": "stdout",
     "output_type": "stream",
     "text": [
      "On fastq pair number 6700000 at 2016-07-14 01:20:58.456303\n"
     ]
    },
    {
     "name": "stdout",
     "output_type": "stream",
     "text": [
      "On fastq pair number 6600000 at 2016-07-14 01:20:59.306264\n"
     ]
    },
    {
     "name": "stdout",
     "output_type": "stream",
     "text": [
      "On fastq pair number 6600000 at 2016-07-14 01:21:00.207509\n"
     ]
    },
    {
     "name": "stdout",
     "output_type": "stream",
     "text": [
      "On fastq pair number 6700000 at 2016-07-14 01:21:05.080884\n"
     ]
    },
    {
     "name": "stdout",
     "output_type": "stream",
     "text": [
      "On fastq pair number 6800000 at 2016-07-14 01:21:06.333851\n"
     ]
    },
    {
     "name": "stdout",
     "output_type": "stream",
     "text": [
      "On fastq pair number 6700000 at 2016-07-14 01:21:07.116190\n"
     ]
    },
    {
     "name": "stdout",
     "output_type": "stream",
     "text": [
      "On fastq pair number 6700000 at 2016-07-14 01:21:10.802641\n"
     ]
    },
    {
     "name": "stdout",
     "output_type": "stream",
     "text": [
      "On fastq pair number 6800000 at 2016-07-14 01:21:12.908672\n"
     ]
    },
    {
     "name": "stdout",
     "output_type": "stream",
     "text": [
      "On fastq pair number 6900000 at 2016-07-14 01:21:14.161924\n"
     ]
    },
    {
     "name": "stdout",
     "output_type": "stream",
     "text": [
      "On fastq pair number 6800000 at 2016-07-14 01:21:14.954997\n"
     ]
    },
    {
     "name": "stdout",
     "output_type": "stream",
     "text": [
      "A549_MV4_d20_1_S5_L001_001_trimmed53_len_filtered elapsed time: 0:09:06\n"
     ]
    },
    {
     "name": "stdout",
     "output_type": "stream",
     "text": [
      "Starting A549_MV4_d20_1_S5_L002_001_trimmed53_len_filtered at 2016-07-14 01:21:15.044596\n"
     ]
    },
    {
     "name": "stdout",
     "output_type": "stream",
     "text": [
      "On fastq pair number 6800000 at 2016-07-14 01:21:18.948385\n"
     ]
    },
    {
     "name": "stdout",
     "output_type": "stream",
     "text": [
      "On fastq pair number 7000000 at 2016-07-14 01:21:21.972591\n"
     ]
    },
    {
     "name": "stdout",
     "output_type": "stream",
     "text": [
      "On fastq pair number 100000 at 2016-07-14 01:21:22.931237\n"
     ]
    },
    {
     "name": "stdout",
     "output_type": "stream",
     "text": [
      "On fastq pair number 6900000 at 2016-07-14 01:21:22.965986\n"
     ]
    },
    {
     "name": "stdout",
     "output_type": "stream",
     "text": [
      "On fastq pair number 6900000 at 2016-07-14 01:21:27.677535\n"
     ]
    },
    {
     "name": "stdout",
     "output_type": "stream",
     "text": [
      "On fastq pair number 200000 at 2016-07-14 01:21:30.611749\n"
     ]
    },
    {
     "name": "stdout",
     "output_type": "stream",
     "text": [
      "On fastq pair number 7100000 at 2016-07-14 01:21:31.534194\n"
     ]
    },
    {
     "name": "stdout",
     "output_type": "stream",
     "text": [
      "On fastq pair number 7000000 at 2016-07-14 01:21:37.467006\n"
     ]
    },
    {
     "name": "stdout",
     "output_type": "stream",
     "text": [
      "On fastq pair number 300000 at 2016-07-14 01:21:38.609777\n"
     ]
    },
    {
     "name": "stdout",
     "output_type": "stream",
     "text": [
      "On fastq pair number 7000000 at 2016-07-14 01:21:41.201479\n"
     ]
    },
    {
     "name": "stdout",
     "output_type": "stream",
     "text": [
      "On fastq pair number 7200000 at 2016-07-14 01:21:41.531903\n"
     ]
    },
    {
     "name": "stdout",
     "output_type": "stream",
     "text": [
      "On fastq pair number 7100000 at 2016-07-14 01:21:45.354367\n"
     ]
    },
    {
     "name": "stdout",
     "output_type": "stream",
     "text": [
      "On fastq pair number 400000 at 2016-07-14 01:21:46.358831\n"
     ]
    },
    {
     "name": "stdout",
     "output_type": "stream",
     "text": [
      "On fastq pair number 7100000 at 2016-07-14 01:21:49.043325\n"
     ]
    },
    {
     "name": "stdout",
     "output_type": "stream",
     "text": [
      "On fastq pair number 7300000 at 2016-07-14 01:21:49.331159\n"
     ]
    },
    {
     "name": "stdout",
     "output_type": "stream",
     "text": [
      "A549_MV4_d14_1_S3_L001_001_trimmed53_len_filtered elapsed time: 0:09:43\n"
     ]
    },
    {
     "name": "stdout",
     "output_type": "stream",
     "text": [
      "Starting A549_MV4_d14_1_S3_L002_001_trimmed53_len_filtered at 2016-07-14 01:21:52.038289\n"
     ]
    },
    {
     "name": "stdout",
     "output_type": "stream",
     "text": [
      "On fastq pair number 500000 at 2016-07-14 01:21:55.940326\n"
     ]
    },
    {
     "name": "stdout",
     "output_type": "stream",
     "text": [
      "On fastq pair number 7200000 at 2016-07-14 01:21:56.871210\n"
     ]
    },
    {
     "name": "stdout",
     "output_type": "stream",
     "text": [
      "On fastq pair number 7400000 at 2016-07-14 01:21:57.173951\n"
     ]
    },
    {
     "name": "stdout",
     "output_type": "stream",
     "text": [
      "On fastq pair number 100000 at 2016-07-14 01:22:01.834812\n"
     ]
    },
    {
     "name": "stdout",
     "output_type": "stream",
     "text": [
      "On fastq pair number 600000 at 2016-07-14 01:22:03.633802\n"
     ]
    },
    {
     "name": "stdout",
     "output_type": "stream",
     "text": [
      "On fastq pair number 7300000 at 2016-07-14 01:22:04.679538\n"
     ]
    },
    {
     "name": "stdout",
     "output_type": "stream",
     "text": [
      "On fastq pair number 7500000 at 2016-07-14 01:22:05.001775\n"
     ]
    },
    {
     "name": "stdout",
     "output_type": "stream",
     "text": [
      "On fastq pair number 200000 at 2016-07-14 01:22:09.615376\n"
     ]
    },
    {
     "name": "stdout",
     "output_type": "stream",
     "text": [
      "On fastq pair number 700000 at 2016-07-14 01:22:11.318687\n"
     ]
    },
    {
     "name": "stdout",
     "output_type": "stream",
     "text": [
      "On fastq pair number 7400000 at 2016-07-14 01:22:12.515757\n"
     ]
    },
    {
     "name": "stdout",
     "output_type": "stream",
     "text": [
      "On fastq pair number 7600000 at 2016-07-14 01:22:12.835441\n"
     ]
    },
    {
     "name": "stdout",
     "output_type": "stream",
     "text": [
      "On fastq pair number 300000 at 2016-07-14 01:22:17.330225\n"
     ]
    },
    {
     "name": "stdout",
     "output_type": "stream",
     "text": [
      "On fastq pair number 7700000 at 2016-07-14 01:22:21.815764\n"
     ]
    },
    {
     "name": "stdout",
     "output_type": "stream",
     "text": [
      "On fastq pair number 800000 at 2016-07-14 01:22:23.652976\n"
     ]
    },
    {
     "name": "stdout",
     "output_type": "stream",
     "text": [
      "On fastq pair number 400000 at 2016-07-14 01:22:25.061532\n"
     ]
    },
    {
     "name": "stdout",
     "output_type": "stream",
     "text": [
      "On fastq pair number 7500000 at 2016-07-14 01:22:25.080847\n"
     ]
    },
    {
     "name": "stdout",
     "output_type": "stream",
     "text": [
      "On fastq pair number 7800000 at 2016-07-14 01:22:30.596905\n"
     ]
    },
    {
     "name": "stdout",
     "output_type": "stream",
     "text": [
      "On fastq pair number 900000 at 2016-07-14 01:22:31.359126\n"
     ]
    },
    {
     "name": "stdout",
     "output_type": "stream",
     "text": [
      "On fastq pair number 500000 at 2016-07-14 01:22:32.833580\n"
     ]
    },
    {
     "name": "stdout",
     "output_type": "stream",
     "text": [
      "On fastq pair number 7600000 at 2016-07-14 01:22:33.847475\n"
     ]
    },
    {
     "name": "stdout",
     "output_type": "stream",
     "text": [
      "On fastq pair number 1000000 at 2016-07-14 01:22:39.181501\n"
     ]
    },
    {
     "name": "stdout",
     "output_type": "stream",
     "text": [
      "On fastq pair number 7900000 at 2016-07-14 01:22:40.049555\n"
     ]
    },
    {
     "name": "stdout",
     "output_type": "stream",
     "text": [
      "On fastq pair number 600000 at 2016-07-14 01:22:40.554517\n"
     ]
    },
    {
     "name": "stdout",
     "output_type": "stream",
     "text": [
      "On fastq pair number 7700000 at 2016-07-14 01:22:42.024046\n"
     ]
    },
    {
     "name": "stdout",
     "output_type": "stream",
     "text": [
      "On fastq pair number 1100000 at 2016-07-14 01:22:46.953683\n"
     ]
    },
    {
     "name": "stdout",
     "output_type": "stream",
     "text": [
      "On fastq pair number 8000000 at 2016-07-14 01:22:47.936353\n"
     ]
    },
    {
     "name": "stdout",
     "output_type": "stream",
     "text": [
      "On fastq pair number 700000 at 2016-07-14 01:22:48.294417\n"
     ]
    },
    {
     "name": "stdout",
     "output_type": "stream",
     "text": [
      "On fastq pair number 7800000 at 2016-07-14 01:22:49.863211\n"
     ]
    },
    {
     "name": "stdout",
     "output_type": "stream",
     "text": [
      "A549_MV4_d14_2_S4_L001_001_trimmed53_len_filtered elapsed time: 0:10:46\n"
     ]
    },
    {
     "name": "stdout",
     "output_type": "stream",
     "text": [
      "Starting A549_MV4_d14_2_S4_L002_001_trimmed53_len_filtered at 2016-07-14 01:22:54.308893\n"
     ]
    },
    {
     "name": "stdout",
     "output_type": "stream",
     "text": [
      "On fastq pair number 1200000 at 2016-07-14 01:22:54.870523\n"
     ]
    },
    {
     "name": "stdout",
     "output_type": "stream",
     "text": [
      "On fastq pair number 8100000 at 2016-07-14 01:22:55.950401\n"
     ]
    },
    {
     "name": "stdout",
     "output_type": "stream",
     "text": [
      "On fastq pair number 800000 at 2016-07-14 01:22:56.009515\n"
     ]
    },
    {
     "name": "stdout",
     "output_type": "stream",
     "text": [
      "On fastq pair number 100000 at 2016-07-14 01:23:03.530214\n"
     ]
    },
    {
     "name": "stdout",
     "output_type": "stream",
     "text": [
      "On fastq pair number 8200000 at 2016-07-14 01:23:03.671718\n"
     ]
    },
    {
     "name": "stdout",
     "output_type": "stream",
     "text": [
      "On fastq pair number 1300000 at 2016-07-14 01:23:06.601057\n"
     ]
    },
    {
     "name": "stdout",
     "output_type": "stream",
     "text": [
      "On fastq pair number 900000 at 2016-07-14 01:23:06.716092\n"
     ]
    },
    {
     "name": "stdout",
     "output_type": "stream",
     "text": [
      "On fastq pair number 200000 at 2016-07-14 01:23:11.314632\n"
     ]
    },
    {
     "name": "stdout",
     "output_type": "stream",
     "text": [
      "On fastq pair number 8300000 at 2016-07-14 01:23:12.193500\n"
     ]
    },
    {
     "name": "stdout",
     "output_type": "stream",
     "text": [
      "On fastq pair number 1400000 at 2016-07-14 01:23:14.327250\n"
     ]
    },
    {
     "name": "stdout",
     "output_type": "stream",
     "text": [
      "On fastq pair number 1000000 at 2016-07-14 01:23:14.570912\n"
     ]
    },
    {
     "name": "stdout",
     "output_type": "stream",
     "text": [
      "On fastq pair number 300000 at 2016-07-14 01:23:18.998696\n"
     ]
    },
    {
     "name": "stdout",
     "output_type": "stream",
     "text": [
      "On fastq pair number 1500000 at 2016-07-14 01:23:22.092536\n"
     ]
    },
    {
     "name": "stdout",
     "output_type": "stream",
     "text": [
      "On fastq pair number 1100000 at 2016-07-14 01:23:22.436357\n"
     ]
    },
    {
     "name": "stdout",
     "output_type": "stream",
     "text": [
      "On fastq pair number 8400000 at 2016-07-14 01:23:23.732723\n"
     ]
    },
    {
     "name": "stdout",
     "output_type": "stream",
     "text": [
      "On fastq pair number 400000 at 2016-07-14 01:23:26.690188\n"
     ]
    },
    {
     "name": "stdout",
     "output_type": "stream",
     "text": [
      "On fastq pair number 1600000 at 2016-07-14 01:23:29.818130\n"
     ]
    },
    {
     "name": "stdout",
     "output_type": "stream",
     "text": [
      "On fastq pair number 1200000 at 2016-07-14 01:23:30.269778\n"
     ]
    },
    {
     "name": "stdout",
     "output_type": "stream",
     "text": [
      "On fastq pair number 8500000 at 2016-07-14 01:23:31.493878\n"
     ]
    },
    {
     "name": "stdout",
     "output_type": "stream",
     "text": [
      "On fastq pair number 500000 at 2016-07-14 01:23:34.457282\n"
     ]
    },
    {
     "name": "stdout",
     "output_type": "stream",
     "text": [
      "On fastq pair number 1700000 at 2016-07-14 01:23:37.488992\n"
     ]
    },
    {
     "name": "stdout",
     "output_type": "stream",
     "text": [
      "On fastq pair number 1300000 at 2016-07-14 01:23:38.101686\n"
     ]
    },
    {
     "name": "stdout",
     "output_type": "stream",
     "text": [
      "On fastq pair number 8600000 at 2016-07-14 01:23:39.312883\n"
     ]
    },
    {
     "name": "stdout",
     "output_type": "stream",
     "text": [
      "On fastq pair number 600000 at 2016-07-14 01:23:42.213083\n"
     ]
    },
    {
     "name": "stdout",
     "output_type": "stream",
     "text": [
      "On fastq pair number 1800000 at 2016-07-14 01:23:45.211363\n"
     ]
    },
    {
     "name": "stdout",
     "output_type": "stream",
     "text": [
      "On fastq pair number 1400000 at 2016-07-14 01:23:45.879939\n"
     ]
    },
    {
     "name": "stdout",
     "output_type": "stream",
     "text": [
      "On fastq pair number 8700000 at 2016-07-14 01:23:49.643769\n"
     ]
    },
    {
     "name": "stdout",
     "output_type": "stream",
     "text": [
      "On fastq pair number 700000 at 2016-07-14 01:23:49.960789\n"
     ]
    },
    {
     "name": "stdout",
     "output_type": "stream",
     "text": [
      "On fastq pair number 1900000 at 2016-07-14 01:23:52.982274\n"
     ]
    },
    {
     "name": "stdout",
     "output_type": "stream",
     "text": [
      "On fastq pair number 1500000 at 2016-07-14 01:23:53.707519\n"
     ]
    },
    {
     "name": "stdout",
     "output_type": "stream",
     "text": [
      "On fastq pair number 800000 at 2016-07-14 01:23:57.657628\n"
     ]
    },
    {
     "name": "stdout",
     "output_type": "stream",
     "text": [
      "On fastq pair number 8800000 at 2016-07-14 01:23:58.591973\n"
     ]
    },
    {
     "name": "stdout",
     "output_type": "stream",
     "text": [
      "On fastq pair number 2000000 at 2016-07-14 01:24:00.657891\n"
     ]
    },
    {
     "name": "stdout",
     "output_type": "stream",
     "text": [
      "On fastq pair number 1600000 at 2016-07-14 01:24:01.557196\n"
     ]
    },
    {
     "name": "stdout",
     "output_type": "stream",
     "text": [
      "On fastq pair number 900000 at 2016-07-14 01:24:05.413391\n"
     ]
    },
    {
     "name": "stdout",
     "output_type": "stream",
     "text": [
      "On fastq pair number 8900000 at 2016-07-14 01:24:06.641097\n"
     ]
    },
    {
     "name": "stdout",
     "output_type": "stream",
     "text": [
      "On fastq pair number 2100000 at 2016-07-14 01:24:08.357824\n"
     ]
    },
    {
     "name": "stdout",
     "output_type": "stream",
     "text": [
      "On fastq pair number 1700000 at 2016-07-14 01:24:09.390552\n"
     ]
    },
    {
     "name": "stdout",
     "output_type": "stream",
     "text": [
      "On fastq pair number 1000000 at 2016-07-14 01:24:13.177354\n"
     ]
    },
    {
     "name": "stdout",
     "output_type": "stream",
     "text": [
      "On fastq pair number 9000000 at 2016-07-14 01:24:14.462963\n"
     ]
    },
    {
     "name": "stdout",
     "output_type": "stream",
     "text": [
      "On fastq pair number 2200000 at 2016-07-14 01:24:16.076920\n"
     ]
    },
    {
     "name": "stdout",
     "output_type": "stream",
     "text": [
      "On fastq pair number 1800000 at 2016-07-14 01:24:17.207480\n"
     ]
    },
    {
     "name": "stdout",
     "output_type": "stream",
     "text": [
      "On fastq pair number 1100000 at 2016-07-14 01:24:20.999922\n"
     ]
    },
    {
     "name": "stdout",
     "output_type": "stream",
     "text": [
      "On fastq pair number 9100000 at 2016-07-14 01:24:22.284928\n"
     ]
    },
    {
     "name": "stdout",
     "output_type": "stream",
     "text": [
      "On fastq pair number 2300000 at 2016-07-14 01:24:23.822316\n"
     ]
    },
    {
     "name": "stdout",
     "output_type": "stream",
     "text": [
      "On fastq pair number 1900000 at 2016-07-14 01:24:25.065077\n"
     ]
    },
    {
     "name": "stdout",
     "output_type": "stream",
     "text": [
      "On fastq pair number 1200000 at 2016-07-14 01:24:28.802557\n"
     ]
    },
    {
     "name": "stdout",
     "output_type": "stream",
     "text": [
      "On fastq pair number 9200000 at 2016-07-14 01:24:30.114550\n"
     ]
    },
    {
     "name": "stdout",
     "output_type": "stream",
     "text": [
      "On fastq pair number 2400000 at 2016-07-14 01:24:31.522672\n"
     ]
    },
    {
     "name": "stdout",
     "output_type": "stream",
     "text": [
      "On fastq pair number 2000000 at 2016-07-14 01:24:32.832485\n"
     ]
    },
    {
     "name": "stdout",
     "output_type": "stream",
     "text": [
      "On fastq pair number 1300000 at 2016-07-14 01:24:36.621563\n"
     ]
    },
    {
     "name": "stdout",
     "output_type": "stream",
     "text": [
      "On fastq pair number 9300000 at 2016-07-14 01:24:37.902403\n"
     ]
    },
    {
     "name": "stdout",
     "output_type": "stream",
     "text": [
      "On fastq pair number 2500000 at 2016-07-14 01:24:39.311988\n"
     ]
    },
    {
     "name": "stdout",
     "output_type": "stream",
     "text": [
      "On fastq pair number 2100000 at 2016-07-14 01:24:40.603854\n"
     ]
    },
    {
     "name": "stdout",
     "output_type": "stream",
     "text": [
      "On fastq pair number 1400000 at 2016-07-14 01:24:44.424378\n"
     ]
    },
    {
     "name": "stdout",
     "output_type": "stream",
     "text": [
      "On fastq pair number 9400000 at 2016-07-14 01:24:45.668534\n"
     ]
    },
    {
     "name": "stdout",
     "output_type": "stream",
     "text": [
      "On fastq pair number 2600000 at 2016-07-14 01:24:47.050675\n"
     ]
    },
    {
     "name": "stdout",
     "output_type": "stream",
     "text": [
      "On fastq pair number 2200000 at 2016-07-14 01:24:48.331901\n"
     ]
    },
    {
     "name": "stdout",
     "output_type": "stream",
     "text": [
      "On fastq pair number 1500000 at 2016-07-14 01:24:52.212800\n"
     ]
    },
    {
     "name": "stdout",
     "output_type": "stream",
     "text": [
      "On fastq pair number 9500000 at 2016-07-14 01:24:53.443085\n"
     ]
    },
    {
     "name": "stdout",
     "output_type": "stream",
     "text": [
      "On fastq pair number 2700000 at 2016-07-14 01:24:54.833306\n"
     ]
    },
    {
     "name": "stdout",
     "output_type": "stream",
     "text": [
      "On fastq pair number 2300000 at 2016-07-14 01:24:56.095264\n"
     ]
    },
    {
     "name": "stdout",
     "output_type": "stream",
     "text": [
      "On fastq pair number 1600000 at 2016-07-14 01:25:00.003521\n"
     ]
    },
    {
     "name": "stdout",
     "output_type": "stream",
     "text": [
      "On fastq pair number 9600000 at 2016-07-14 01:25:01.251196\n"
     ]
    },
    {
     "name": "stdout",
     "output_type": "stream",
     "text": [
      "On fastq pair number 2800000 at 2016-07-14 01:25:02.581829\n"
     ]
    },
    {
     "name": "stdout",
     "output_type": "stream",
     "text": [
      "On fastq pair number 2400000 at 2016-07-14 01:25:03.884368\n"
     ]
    },
    {
     "name": "stdout",
     "output_type": "stream",
     "text": [
      "On fastq pair number 1700000 at 2016-07-14 01:25:07.867989\n"
     ]
    },
    {
     "name": "stdout",
     "output_type": "stream",
     "text": [
      "On fastq pair number 9700000 at 2016-07-14 01:25:09.080165\n"
     ]
    },
    {
     "name": "stdout",
     "output_type": "stream",
     "text": [
      "On fastq pair number 2900000 at 2016-07-14 01:25:10.312786\n"
     ]
    },
    {
     "name": "stdout",
     "output_type": "stream",
     "text": [
      "On fastq pair number 2500000 at 2016-07-14 01:25:11.626966\n"
     ]
    },
    {
     "name": "stdout",
     "output_type": "stream",
     "text": [
      "On fastq pair number 1800000 at 2016-07-14 01:25:15.692398\n"
     ]
    },
    {
     "name": "stdout",
     "output_type": "stream",
     "text": [
      "On fastq pair number 9800000 at 2016-07-14 01:25:17.047311\n"
     ]
    },
    {
     "name": "stdout",
     "output_type": "stream",
     "text": [
      "On fastq pair number 3000000 at 2016-07-14 01:25:18.116930\n"
     ]
    },
    {
     "name": "stdout",
     "output_type": "stream",
     "text": [
      "On fastq pair number 2600000 at 2016-07-14 01:25:19.374169\n"
     ]
    },
    {
     "name": "stdout",
     "output_type": "stream",
     "text": [
      "On fastq pair number 1900000 at 2016-07-14 01:25:23.544628\n"
     ]
    },
    {
     "name": "stdout",
     "output_type": "stream",
     "text": [
      "On fastq pair number 9900000 at 2016-07-14 01:25:25.693581\n"
     ]
    },
    {
     "name": "stdout",
     "output_type": "stream",
     "text": [
      "On fastq pair number 3100000 at 2016-07-14 01:25:25.873542\n"
     ]
    },
    {
     "name": "stdout",
     "output_type": "stream",
     "text": [
      "On fastq pair number 2700000 at 2016-07-14 01:25:27.191434\n"
     ]
    },
    {
     "name": "stdout",
     "output_type": "stream",
     "text": [
      "On fastq pair number 2000000 at 2016-07-14 01:25:31.298954\n"
     ]
    },
    {
     "name": "stdout",
     "output_type": "stream",
     "text": [
      "On fastq pair number 3200000 at 2016-07-14 01:25:33.644404\n"
     ]
    },
    {
     "name": "stdout",
     "output_type": "stream",
     "text": [
      "On fastq pair number 10000000 at 2016-07-14 01:25:34.231051\n"
     ]
    },
    {
     "name": "stdout",
     "output_type": "stream",
     "text": [
      "On fastq pair number 2800000 at 2016-07-14 01:25:35.019167\n"
     ]
    },
    {
     "name": "stdout",
     "output_type": "stream",
     "text": [
      "On fastq pair number 2100000 at 2016-07-14 01:25:39.116724\n"
     ]
    },
    {
     "name": "stdout",
     "output_type": "stream",
     "text": [
      "On fastq pair number 3300000 at 2016-07-14 01:25:41.393936\n"
     ]
    },
    {
     "name": "stdout",
     "output_type": "stream",
     "text": [
      "On fastq pair number 10100000 at 2016-07-14 01:25:42.043765\n"
     ]
    },
    {
     "name": "stdout",
     "output_type": "stream",
     "text": [
      "On fastq pair number 2900000 at 2016-07-14 01:25:42.875553\n"
     ]
    },
    {
     "name": "stdout",
     "output_type": "stream",
     "text": [
      "On fastq pair number 2200000 at 2016-07-14 01:25:46.871896\n"
     ]
    },
    {
     "name": "stdout",
     "output_type": "stream",
     "text": [
      "On fastq pair number 3400000 at 2016-07-14 01:25:49.097945\n"
     ]
    },
    {
     "name": "stdout",
     "output_type": "stream",
     "text": [
      "On fastq pair number 10200000 at 2016-07-14 01:25:49.817133\n"
     ]
    },
    {
     "name": "stdout",
     "output_type": "stream",
     "text": [
      "On fastq pair number 3000000 at 2016-07-14 01:25:50.726303\n"
     ]
    },
    {
     "name": "stdout",
     "output_type": "stream",
     "text": [
      "A549_MV4_d20_2_S6_L001_001_trimmed53_len_filtered elapsed time: 0:13:44\n"
     ]
    },
    {
     "name": "stdout",
     "output_type": "stream",
     "text": [
      "Starting A549_MV4_d20_2_S6_L002_001_trimmed53_len_filtered at 2016-07-14 01:25:53.256518\n"
     ]
    },
    {
     "name": "stdout",
     "output_type": "stream",
     "text": [
      "On fastq pair number 2300000 at 2016-07-14 01:25:55.880141\n"
     ]
    },
    {
     "name": "stdout",
     "output_type": "stream",
     "text": [
      "On fastq pair number 3500000 at 2016-07-14 01:25:56.801812\n"
     ]
    },
    {
     "name": "stdout",
     "output_type": "stream",
     "text": [
      "On fastq pair number 3100000 at 2016-07-14 01:25:58.521191\n"
     ]
    },
    {
     "name": "stdout",
     "output_type": "stream",
     "text": [
      "On fastq pair number 100000 at 2016-07-14 01:26:04.007137\n"
     ]
    },
    {
     "name": "stdout",
     "output_type": "stream",
     "text": [
      "On fastq pair number 3600000 at 2016-07-14 01:26:04.557824\n"
     ]
    },
    {
     "name": "stdout",
     "output_type": "stream",
     "text": [
      "On fastq pair number 200000 at 2016-07-14 01:26:11.737195\n"
     ]
    },
    {
     "name": "stdout",
     "output_type": "stream",
     "text": [
      "On fastq pair number 3700000 at 2016-07-14 01:26:12.244311\n"
     ]
    },
    {
     "name": "stdout",
     "output_type": "stream",
     "text": [
      "On fastq pair number 2400000 at 2016-07-14 01:26:12.375513\n"
     ]
    },
    {
     "name": "stdout",
     "output_type": "stream",
     "text": [
      "On fastq pair number 3200000 at 2016-07-14 01:26:13.366733\n"
     ]
    },
    {
     "name": "stdout",
     "output_type": "stream",
     "text": [
      "On fastq pair number 300000 at 2016-07-14 01:26:19.851283\n"
     ]
    },
    {
     "name": "stdout",
     "output_type": "stream",
     "text": [
      "On fastq pair number 3800000 at 2016-07-14 01:26:19.900584\n"
     ]
    },
    {
     "name": "stdout",
     "output_type": "stream",
     "text": [
      "On fastq pair number 2500000 at 2016-07-14 01:26:20.290807\n"
     ]
    },
    {
     "name": "stdout",
     "output_type": "stream",
     "text": [
      "On fastq pair number 3300000 at 2016-07-14 01:26:21.209020\n"
     ]
    },
    {
     "name": "stdout",
     "output_type": "stream",
     "text": [
      "On fastq pair number 400000 at 2016-07-14 01:26:27.557499\n"
     ]
    },
    {
     "name": "stdout",
     "output_type": "stream",
     "text": [
      "On fastq pair number 3900000 at 2016-07-14 01:26:27.858458\n"
     ]
    },
    {
     "name": "stdout",
     "output_type": "stream",
     "text": [
      "On fastq pair number 2600000 at 2016-07-14 01:26:28.042015\n"
     ]
    },
    {
     "name": "stdout",
     "output_type": "stream",
     "text": [
      "On fastq pair number 3400000 at 2016-07-14 01:26:29.055948\n"
     ]
    },
    {
     "name": "stdout",
     "output_type": "stream",
     "text": [
      "On fastq pair number 500000 at 2016-07-14 01:26:35.250223\n"
     ]
    },
    {
     "name": "stdout",
     "output_type": "stream",
     "text": [
      "On fastq pair number 4000000 at 2016-07-14 01:26:35.660460\n"
     ]
    },
    {
     "name": "stdout",
     "output_type": "stream",
     "text": [
      "On fastq pair number 2700000 at 2016-07-14 01:26:35.748370\n"
     ]
    },
    {
     "name": "stdout",
     "output_type": "stream",
     "text": [
      "On fastq pair number 3500000 at 2016-07-14 01:26:36.952270\n"
     ]
    },
    {
     "name": "stdout",
     "output_type": "stream",
     "text": [
      "On fastq pair number 600000 at 2016-07-14 01:26:43.068771\n"
     ]
    },
    {
     "name": "stdout",
     "output_type": "stream",
     "text": [
      "On fastq pair number 2800000 at 2016-07-14 01:26:43.511038\n"
     ]
    },
    {
     "name": "stdout",
     "output_type": "stream",
     "text": [
      "On fastq pair number 4100000 at 2016-07-14 01:26:43.786222\n"
     ]
    },
    {
     "name": "stdout",
     "output_type": "stream",
     "text": [
      "On fastq pair number 3600000 at 2016-07-14 01:26:44.774325\n"
     ]
    },
    {
     "name": "stdout",
     "output_type": "stream",
     "text": [
      "On fastq pair number 700000 at 2016-07-14 01:26:50.810900\n"
     ]
    },
    {
     "name": "stdout",
     "output_type": "stream",
     "text": [
      "On fastq pair number 2900000 at 2016-07-14 01:26:51.314265\n"
     ]
    },
    {
     "name": "stdout",
     "output_type": "stream",
     "text": [
      "On fastq pair number 4200000 at 2016-07-14 01:26:51.507726\n"
     ]
    },
    {
     "name": "stdout",
     "output_type": "stream",
     "text": [
      "On fastq pair number 3700000 at 2016-07-14 01:26:52.586110\n"
     ]
    },
    {
     "name": "stdout",
     "output_type": "stream",
     "text": [
      "On fastq pair number 800000 at 2016-07-14 01:26:58.555424\n"
     ]
    },
    {
     "name": "stdout",
     "output_type": "stream",
     "text": [
      "On fastq pair number 3000000 at 2016-07-14 01:26:59.114245\n"
     ]
    },
    {
     "name": "stdout",
     "output_type": "stream",
     "text": [
      "On fastq pair number 4300000 at 2016-07-14 01:26:59.293417\n"
     ]
    },
    {
     "name": "stdout",
     "output_type": "stream",
     "text": [
      "On fastq pair number 3800000 at 2016-07-14 01:27:00.378692\n"
     ]
    },
    {
     "name": "stdout",
     "output_type": "stream",
     "text": [
      "On fastq pair number 900000 at 2016-07-14 01:27:06.289302\n"
     ]
    },
    {
     "name": "stdout",
     "output_type": "stream",
     "text": [
      "On fastq pair number 3100000 at 2016-07-14 01:27:06.927311\n"
     ]
    },
    {
     "name": "stdout",
     "output_type": "stream",
     "text": [
      "On fastq pair number 4400000 at 2016-07-14 01:27:07.076587\n"
     ]
    },
    {
     "name": "stdout",
     "output_type": "stream",
     "text": [
      "On fastq pair number 3900000 at 2016-07-14 01:27:08.115915\n"
     ]
    },
    {
     "name": "stdout",
     "output_type": "stream",
     "text": [
      "On fastq pair number 1000000 at 2016-07-14 01:27:14.031087\n"
     ]
    },
    {
     "name": "stdout",
     "output_type": "stream",
     "text": [
      "On fastq pair number 3200000 at 2016-07-14 01:27:14.748331\n"
     ]
    },
    {
     "name": "stdout",
     "output_type": "stream",
     "text": [
      "On fastq pair number 4500000 at 2016-07-14 01:27:14.893430\n"
     ]
    },
    {
     "name": "stdout",
     "output_type": "stream",
     "text": [
      "On fastq pair number 4000000 at 2016-07-14 01:27:15.811052\n"
     ]
    },
    {
     "name": "stdout",
     "output_type": "stream",
     "text": [
      "On fastq pair number 1100000 at 2016-07-14 01:27:21.711828\n"
     ]
    },
    {
     "name": "stdout",
     "output_type": "stream",
     "text": [
      "On fastq pair number 3300000 at 2016-07-14 01:27:22.575229\n"
     ]
    },
    {
     "name": "stdout",
     "output_type": "stream",
     "text": [
      "On fastq pair number 4600000 at 2016-07-14 01:27:22.673270\n"
     ]
    },
    {
     "name": "stdout",
     "output_type": "stream",
     "text": [
      "On fastq pair number 4100000 at 2016-07-14 01:27:23.596159\n"
     ]
    },
    {
     "name": "stdout",
     "output_type": "stream",
     "text": [
      "On fastq pair number 1200000 at 2016-07-14 01:27:29.521078\n"
     ]
    },
    {
     "name": "stdout",
     "output_type": "stream",
     "text": [
      "On fastq pair number 3400000 at 2016-07-14 01:27:30.359468\n"
     ]
    },
    {
     "name": "stdout",
     "output_type": "stream",
     "text": [
      "On fastq pair number 4700000 at 2016-07-14 01:27:30.434918\n"
     ]
    },
    {
     "name": "stdout",
     "output_type": "stream",
     "text": [
      "On fastq pair number 4200000 at 2016-07-14 01:27:31.587175\n"
     ]
    },
    {
     "name": "stdout",
     "output_type": "stream",
     "text": [
      "On fastq pair number 1300000 at 2016-07-14 01:27:37.359125\n"
     ]
    },
    {
     "name": "stdout",
     "output_type": "stream",
     "text": [
      "On fastq pair number 3500000 at 2016-07-14 01:27:38.203708\n"
     ]
    },
    {
     "name": "stdout",
     "output_type": "stream",
     "text": [
      "On fastq pair number 4800000 at 2016-07-14 01:27:38.277921\n"
     ]
    },
    {
     "name": "stdout",
     "output_type": "stream",
     "text": [
      "On fastq pair number 4300000 at 2016-07-14 01:27:39.560921\n"
     ]
    },
    {
     "name": "stdout",
     "output_type": "stream",
     "text": [
      "On fastq pair number 1400000 at 2016-07-14 01:27:45.209389\n"
     ]
    },
    {
     "name": "stdout",
     "output_type": "stream",
     "text": [
      "On fastq pair number 3600000 at 2016-07-14 01:27:46.007985\n"
     ]
    },
    {
     "name": "stdout",
     "output_type": "stream",
     "text": [
      "On fastq pair number 4900000 at 2016-07-14 01:27:46.071875\n"
     ]
    },
    {
     "name": "stdout",
     "output_type": "stream",
     "text": [
      "On fastq pair number 4400000 at 2016-07-14 01:27:47.667232\n"
     ]
    },
    {
     "name": "stdout",
     "output_type": "stream",
     "text": [
      "On fastq pair number 1500000 at 2016-07-14 01:27:53.044541\n"
     ]
    },
    {
     "name": "stdout",
     "output_type": "stream",
     "text": [
      "On fastq pair number 3700000 at 2016-07-14 01:27:53.827102\n"
     ]
    },
    {
     "name": "stdout",
     "output_type": "stream",
     "text": [
      "On fastq pair number 5000000 at 2016-07-14 01:27:53.861998\n"
     ]
    },
    {
     "name": "stdout",
     "output_type": "stream",
     "text": [
      "On fastq pair number 4500000 at 2016-07-14 01:27:55.490195\n"
     ]
    },
    {
     "name": "stdout",
     "output_type": "stream",
     "text": [
      "On fastq pair number 1600000 at 2016-07-14 01:28:00.867919\n"
     ]
    },
    {
     "name": "stdout",
     "output_type": "stream",
     "text": [
      "On fastq pair number 5100000 at 2016-07-14 01:28:01.577082\n"
     ]
    },
    {
     "name": "stdout",
     "output_type": "stream",
     "text": [
      "On fastq pair number 3800000 at 2016-07-14 01:28:01.694802\n"
     ]
    },
    {
     "name": "stdout",
     "output_type": "stream",
     "text": [
      "On fastq pair number 4600000 at 2016-07-14 01:28:03.363247\n"
     ]
    },
    {
     "name": "stdout",
     "output_type": "stream",
     "text": [
      "On fastq pair number 1700000 at 2016-07-14 01:28:08.729808\n"
     ]
    },
    {
     "name": "stdout",
     "output_type": "stream",
     "text": [
      "On fastq pair number 5200000 at 2016-07-14 01:28:09.377440\n"
     ]
    },
    {
     "name": "stdout",
     "output_type": "stream",
     "text": [
      "On fastq pair number 3900000 at 2016-07-14 01:28:09.427429\n"
     ]
    },
    {
     "name": "stdout",
     "output_type": "stream",
     "text": [
      "On fastq pair number 4700000 at 2016-07-14 01:28:11.245274\n"
     ]
    },
    {
     "name": "stdout",
     "output_type": "stream",
     "text": [
      "On fastq pair number 1800000 at 2016-07-14 01:28:16.534964\n"
     ]
    },
    {
     "name": "stdout",
     "output_type": "stream",
     "text": [
      "On fastq pair number 5300000 at 2016-07-14 01:28:17.067169\n"
     ]
    },
    {
     "name": "stdout",
     "output_type": "stream",
     "text": [
      "On fastq pair number 4000000 at 2016-07-14 01:28:17.231013\n"
     ]
    },
    {
     "name": "stdout",
     "output_type": "stream",
     "text": [
      "On fastq pair number 4800000 at 2016-07-14 01:28:19.062470\n"
     ]
    },
    {
     "name": "stdout",
     "output_type": "stream",
     "text": [
      "On fastq pair number 1900000 at 2016-07-14 01:28:24.312806\n"
     ]
    },
    {
     "name": "stdout",
     "output_type": "stream",
     "text": [
      "On fastq pair number 5400000 at 2016-07-14 01:28:24.763975\n"
     ]
    },
    {
     "name": "stdout",
     "output_type": "stream",
     "text": [
      "On fastq pair number 4100000 at 2016-07-14 01:28:24.984785\n"
     ]
    },
    {
     "name": "stdout",
     "output_type": "stream",
     "text": [
      "On fastq pair number 4900000 at 2016-07-14 01:28:26.964043\n"
     ]
    },
    {
     "name": "stdout",
     "output_type": "stream",
     "text": [
      "On fastq pair number 2000000 at 2016-07-14 01:28:32.146433\n"
     ]
    },
    {
     "name": "stdout",
     "output_type": "stream",
     "text": [
      "On fastq pair number 5500000 at 2016-07-14 01:28:32.455989\n"
     ]
    },
    {
     "name": "stdout",
     "output_type": "stream",
     "text": [
      "On fastq pair number 4200000 at 2016-07-14 01:28:32.746316\n"
     ]
    },
    {
     "name": "stdout",
     "output_type": "stream",
     "text": [
      "On fastq pair number 5000000 at 2016-07-14 01:28:34.823273\n"
     ]
    },
    {
     "name": "stdout",
     "output_type": "stream",
     "text": [
      "On fastq pair number 2100000 at 2016-07-14 01:28:39.987120\n"
     ]
    },
    {
     "name": "stdout",
     "output_type": "stream",
     "text": [
      "On fastq pair number 5600000 at 2016-07-14 01:28:40.142663\n"
     ]
    },
    {
     "name": "stdout",
     "output_type": "stream",
     "text": [
      "On fastq pair number 4300000 at 2016-07-14 01:28:40.443783\n"
     ]
    },
    {
     "name": "stdout",
     "output_type": "stream",
     "text": [
      "On fastq pair number 5100000 at 2016-07-14 01:28:42.674900\n"
     ]
    },
    {
     "name": "stdout",
     "output_type": "stream",
     "text": [
      "On fastq pair number 5700000 at 2016-07-14 01:28:47.824298\n"
     ]
    },
    {
     "name": "stdout",
     "output_type": "stream",
     "text": [
      "On fastq pair number 2200000 at 2016-07-14 01:28:47.930071\n"
     ]
    },
    {
     "name": "stdout",
     "output_type": "stream",
     "text": [
      "On fastq pair number 4400000 at 2016-07-14 01:28:48.121582\n"
     ]
    },
    {
     "name": "stdout",
     "output_type": "stream",
     "text": [
      "On fastq pair number 5200000 at 2016-07-14 01:28:50.537559\n"
     ]
    },
    {
     "name": "stdout",
     "output_type": "stream",
     "text": [
      "On fastq pair number 5800000 at 2016-07-14 01:28:55.526419\n"
     ]
    },
    {
     "name": "stdout",
     "output_type": "stream",
     "text": [
      "On fastq pair number 2300000 at 2016-07-14 01:28:55.790677\n"
     ]
    },
    {
     "name": "stdout",
     "output_type": "stream",
     "text": [
      "On fastq pair number 4500000 at 2016-07-14 01:28:56.151548\n"
     ]
    },
    {
     "name": "stdout",
     "output_type": "stream",
     "text": [
      "On fastq pair number 5300000 at 2016-07-14 01:28:58.385882\n"
     ]
    },
    {
     "name": "stdout",
     "output_type": "stream",
     "text": [
      "On fastq pair number 5900000 at 2016-07-14 01:29:03.257630\n"
     ]
    },
    {
     "name": "stdout",
     "output_type": "stream",
     "text": [
      "On fastq pair number 2400000 at 2016-07-14 01:29:03.684386\n"
     ]
    },
    {
     "name": "stdout",
     "output_type": "stream",
     "text": [
      "On fastq pair number 4600000 at 2016-07-14 01:29:03.953694\n"
     ]
    },
    {
     "name": "stdout",
     "output_type": "stream",
     "text": [
      "On fastq pair number 5400000 at 2016-07-14 01:29:06.272076\n"
     ]
    },
    {
     "name": "stdout",
     "output_type": "stream",
     "text": [
      "On fastq pair number 6000000 at 2016-07-14 01:29:11.038209\n"
     ]
    },
    {
     "name": "stdout",
     "output_type": "stream",
     "text": [
      "On fastq pair number 2500000 at 2016-07-14 01:29:11.516390\n"
     ]
    },
    {
     "name": "stdout",
     "output_type": "stream",
     "text": [
      "On fastq pair number 4700000 at 2016-07-14 01:29:12.133539\n"
     ]
    },
    {
     "name": "stdout",
     "output_type": "stream",
     "text": [
      "On fastq pair number 5500000 at 2016-07-14 01:29:14.152101\n"
     ]
    },
    {
     "name": "stdout",
     "output_type": "stream",
     "text": [
      "On fastq pair number 6100000 at 2016-07-14 01:29:18.824266\n"
     ]
    },
    {
     "name": "stdout",
     "output_type": "stream",
     "text": [
      "On fastq pair number 2600000 at 2016-07-14 01:29:19.242147\n"
     ]
    },
    {
     "name": "stdout",
     "output_type": "stream",
     "text": [
      "On fastq pair number 4800000 at 2016-07-14 01:29:19.903109\n"
     ]
    },
    {
     "name": "stdout",
     "output_type": "stream",
     "text": [
      "On fastq pair number 5600000 at 2016-07-14 01:29:21.971358\n"
     ]
    },
    {
     "name": "stdout",
     "output_type": "stream",
     "text": [
      "On fastq pair number 6200000 at 2016-07-14 01:29:26.591226\n"
     ]
    },
    {
     "name": "stdout",
     "output_type": "stream",
     "text": [
      "On fastq pair number 2700000 at 2016-07-14 01:29:27.688706\n"
     ]
    },
    {
     "name": "stdout",
     "output_type": "stream",
     "text": [
      "On fastq pair number 4900000 at 2016-07-14 01:29:27.732928\n"
     ]
    },
    {
     "name": "stdout",
     "output_type": "stream",
     "text": [
      "On fastq pair number 5700000 at 2016-07-14 01:29:29.733329\n"
     ]
    },
    {
     "name": "stdout",
     "output_type": "stream",
     "text": [
      "On fastq pair number 5000000 at 2016-07-14 01:29:35.646176\n"
     ]
    },
    {
     "name": "stdout",
     "output_type": "stream",
     "text": [
      "On fastq pair number 6300000 at 2016-07-14 01:29:36.384093\n"
     ]
    },
    {
     "name": "stdout",
     "output_type": "stream",
     "text": [
      "On fastq pair number 2800000 at 2016-07-14 01:29:36.833598\n"
     ]
    },
    {
     "name": "stdout",
     "output_type": "stream",
     "text": [
      "On fastq pair number 5800000 at 2016-07-14 01:29:37.526602\n"
     ]
    },
    {
     "name": "stdout",
     "output_type": "stream",
     "text": [
      "On fastq pair number 5100000 at 2016-07-14 01:29:43.458823\n"
     ]
    },
    {
     "name": "stdout",
     "output_type": "stream",
     "text": [
      "On fastq pair number 6400000 at 2016-07-14 01:29:44.253802\n"
     ]
    },
    {
     "name": "stdout",
     "output_type": "stream",
     "text": [
      "On fastq pair number 2900000 at 2016-07-14 01:29:44.592867\n"
     ]
    },
    {
     "name": "stdout",
     "output_type": "stream",
     "text": [
      "On fastq pair number 5900000 at 2016-07-14 01:29:45.229846\n"
     ]
    },
    {
     "name": "stdout",
     "output_type": "stream",
     "text": [
      "On fastq pair number 5200000 at 2016-07-14 01:29:51.312541\n"
     ]
    },
    {
     "name": "stdout",
     "output_type": "stream",
     "text": [
      "On fastq pair number 6500000 at 2016-07-14 01:29:52.073872\n"
     ]
    },
    {
     "name": "stdout",
     "output_type": "stream",
     "text": [
      "On fastq pair number 3000000 at 2016-07-14 01:29:52.386802\n"
     ]
    },
    {
     "name": "stdout",
     "output_type": "stream",
     "text": [
      "On fastq pair number 6000000 at 2016-07-14 01:29:52.991437\n"
     ]
    },
    {
     "name": "stdout",
     "output_type": "stream",
     "text": [
      "On fastq pair number 5300000 at 2016-07-14 01:29:59.164980\n"
     ]
    },
    {
     "name": "stdout",
     "output_type": "stream",
     "text": [
      "On fastq pair number 6600000 at 2016-07-14 01:29:59.913187\n"
     ]
    },
    {
     "name": "stdout",
     "output_type": "stream",
     "text": [
      "On fastq pair number 3100000 at 2016-07-14 01:30:00.084950\n"
     ]
    },
    {
     "name": "stdout",
     "output_type": "stream",
     "text": [
      "On fastq pair number 6100000 at 2016-07-14 01:30:00.758811\n"
     ]
    },
    {
     "name": "stdout",
     "output_type": "stream",
     "text": [
      "On fastq pair number 5400000 at 2016-07-14 01:30:06.970083\n"
     ]
    },
    {
     "name": "stdout",
     "output_type": "stream",
     "text": [
      "On fastq pair number 6700000 at 2016-07-14 01:30:07.784486\n"
     ]
    },
    {
     "name": "stdout",
     "output_type": "stream",
     "text": [
      "On fastq pair number 3200000 at 2016-07-14 01:30:07.814802\n"
     ]
    },
    {
     "name": "stdout",
     "output_type": "stream",
     "text": [
      "On fastq pair number 6200000 at 2016-07-14 01:30:08.538141\n"
     ]
    },
    {
     "name": "stdout",
     "output_type": "stream",
     "text": [
      "On fastq pair number 5500000 at 2016-07-14 01:30:14.803873\n"
     ]
    },
    {
     "name": "stdout",
     "output_type": "stream",
     "text": [
      "On fastq pair number 6800000 at 2016-07-14 01:30:15.550914\n"
     ]
    },
    {
     "name": "stdout",
     "output_type": "stream",
     "text": [
      "On fastq pair number 3300000 at 2016-07-14 01:30:15.663825\n"
     ]
    },
    {
     "name": "stdout",
     "output_type": "stream",
     "text": [
      "On fastq pair number 6300000 at 2016-07-14 01:30:16.329180\n"
     ]
    },
    {
     "name": "stdout",
     "output_type": "stream",
     "text": [
      "A549_MV4_d20_1_S5_L002_001_trimmed53_len_filtered elapsed time: 0:09:04\n"
     ]
    },
    {
     "name": "stdout",
     "output_type": "stream",
     "text": [
      "Starting A549_MV4_d28_1_S7_L001_001_trimmed53_len_filtered at 2016-07-14 01:30:19.933462\n"
     ]
    },
    {
     "name": "stdout",
     "output_type": "stream",
     "text": [
      "On fastq pair number 5600000 at 2016-07-14 01:30:22.626872\n"
     ]
    },
    {
     "name": "stdout",
     "output_type": "stream",
     "text": [
      "On fastq pair number 3400000 at 2016-07-14 01:30:23.443453\n"
     ]
    },
    {
     "name": "stdout",
     "output_type": "stream",
     "text": [
      "On fastq pair number 6400000 at 2016-07-14 01:30:24.169637\n"
     ]
    },
    {
     "name": "stdout",
     "output_type": "stream",
     "text": [
      "On fastq pair number 100000 at 2016-07-14 01:30:27.861919\n"
     ]
    },
    {
     "name": "stdout",
     "output_type": "stream",
     "text": [
      "On fastq pair number 5700000 at 2016-07-14 01:30:30.468846\n"
     ]
    },
    {
     "name": "stdout",
     "output_type": "stream",
     "text": [
      "On fastq pair number 3500000 at 2016-07-14 01:30:31.273603\n"
     ]
    },
    {
     "name": "stdout",
     "output_type": "stream",
     "text": [
      "On fastq pair number 6500000 at 2016-07-14 01:30:32.061579\n"
     ]
    },
    {
     "name": "stdout",
     "output_type": "stream",
     "text": [
      "On fastq pair number 200000 at 2016-07-14 01:30:35.676053\n"
     ]
    },
    {
     "name": "stdout",
     "output_type": "stream",
     "text": [
      "On fastq pair number 5800000 at 2016-07-14 01:30:38.324060\n"
     ]
    },
    {
     "name": "stdout",
     "output_type": "stream",
     "text": [
      "On fastq pair number 3600000 at 2016-07-14 01:30:39.042216\n"
     ]
    },
    {
     "name": "stdout",
     "output_type": "stream",
     "text": [
      "On fastq pair number 6600000 at 2016-07-14 01:30:39.927222\n"
     ]
    },
    {
     "name": "stdout",
     "output_type": "stream",
     "text": [
      "On fastq pair number 300000 at 2016-07-14 01:30:43.491591\n"
     ]
    },
    {
     "name": "stdout",
     "output_type": "stream",
     "text": [
      "On fastq pair number 5900000 at 2016-07-14 01:30:46.150810\n"
     ]
    },
    {
     "name": "stdout",
     "output_type": "stream",
     "text": [
      "On fastq pair number 3700000 at 2016-07-14 01:30:46.815160\n"
     ]
    },
    {
     "name": "stdout",
     "output_type": "stream",
     "text": [
      "On fastq pair number 6700000 at 2016-07-14 01:30:47.787401\n"
     ]
    },
    {
     "name": "stdout",
     "output_type": "stream",
     "text": [
      "On fastq pair number 400000 at 2016-07-14 01:30:51.321119\n"
     ]
    },
    {
     "name": "stdout",
     "output_type": "stream",
     "text": [
      "On fastq pair number 6000000 at 2016-07-14 01:30:53.968778\n"
     ]
    },
    {
     "name": "stdout",
     "output_type": "stream",
     "text": [
      "On fastq pair number 3800000 at 2016-07-14 01:30:54.650736\n"
     ]
    },
    {
     "name": "stdout",
     "output_type": "stream",
     "text": [
      "On fastq pair number 6800000 at 2016-07-14 01:30:55.659191\n"
     ]
    },
    {
     "name": "stdout",
     "output_type": "stream",
     "text": [
      "On fastq pair number 500000 at 2016-07-14 01:30:59.137540\n"
     ]
    },
    {
     "name": "stdout",
     "output_type": "stream",
     "text": [
      "On fastq pair number 6100000 at 2016-07-14 01:31:01.731892\n"
     ]
    },
    {
     "name": "stdout",
     "output_type": "stream",
     "text": [
      "On fastq pair number 3900000 at 2016-07-14 01:31:02.488809\n"
     ]
    },
    {
     "name": "stdout",
     "output_type": "stream",
     "text": [
      "On fastq pair number 6900000 at 2016-07-14 01:31:03.537139\n"
     ]
    },
    {
     "name": "stdout",
     "output_type": "stream",
     "text": [
      "On fastq pair number 600000 at 2016-07-14 01:31:06.931721\n"
     ]
    },
    {
     "name": "stdout",
     "output_type": "stream",
     "text": [
      "On fastq pair number 6200000 at 2016-07-14 01:31:09.443396\n"
     ]
    },
    {
     "name": "stdout",
     "output_type": "stream",
     "text": [
      "On fastq pair number 4000000 at 2016-07-14 01:31:10.336012\n"
     ]
    },
    {
     "name": "stdout",
     "output_type": "stream",
     "text": [
      "On fastq pair number 7000000 at 2016-07-14 01:31:11.408488\n"
     ]
    },
    {
     "name": "stdout",
     "output_type": "stream",
     "text": [
      "On fastq pair number 700000 at 2016-07-14 01:31:14.741406\n"
     ]
    },
    {
     "name": "stdout",
     "output_type": "stream",
     "text": [
      "On fastq pair number 6300000 at 2016-07-14 01:31:17.139199\n"
     ]
    },
    {
     "name": "stdout",
     "output_type": "stream",
     "text": [
      "On fastq pair number 4100000 at 2016-07-14 01:31:18.168390\n"
     ]
    },
    {
     "name": "stdout",
     "output_type": "stream",
     "text": [
      "On fastq pair number 7100000 at 2016-07-14 01:31:19.286604\n"
     ]
    },
    {
     "name": "stdout",
     "output_type": "stream",
     "text": [
      "On fastq pair number 800000 at 2016-07-14 01:31:22.493961\n"
     ]
    },
    {
     "name": "stdout",
     "output_type": "stream",
     "text": [
      "On fastq pair number 6400000 at 2016-07-14 01:31:24.811931\n"
     ]
    },
    {
     "name": "stdout",
     "output_type": "stream",
     "text": [
      "On fastq pair number 4200000 at 2016-07-14 01:31:25.970731\n"
     ]
    },
    {
     "name": "stdout",
     "output_type": "stream",
     "text": [
      "On fastq pair number 7200000 at 2016-07-14 01:31:27.241534\n"
     ]
    },
    {
     "name": "stdout",
     "output_type": "stream",
     "text": [
      "On fastq pair number 900000 at 2016-07-14 01:31:30.305666\n"
     ]
    },
    {
     "name": "stdout",
     "output_type": "stream",
     "text": [
      "On fastq pair number 6500000 at 2016-07-14 01:31:32.538477\n"
     ]
    },
    {
     "name": "stdout",
     "output_type": "stream",
     "text": [
      "On fastq pair number 4300000 at 2016-07-14 01:31:33.773657\n"
     ]
    },
    {
     "name": "stdout",
     "output_type": "stream",
     "text": [
      "On fastq pair number 7300000 at 2016-07-14 01:31:35.175931\n"
     ]
    },
    {
     "name": "stdout",
     "output_type": "stream",
     "text": [
      "A549_MV4_d14_1_S3_L002_001_trimmed53_len_filtered elapsed time: 0:09:43\n"
     ]
    },
    {
     "name": "stdout",
     "output_type": "stream",
     "text": [
      "Starting A549_MV4_d28_2_S8_L001_001_trimmed53_len_filtered at 2016-07-14 01:31:35.864575\n"
     ]
    },
    {
     "name": "stdout",
     "output_type": "stream",
     "text": [
      "On fastq pair number 1000000 at 2016-07-14 01:31:38.698611\n"
     ]
    },
    {
     "name": "stdout",
     "output_type": "stream",
     "text": [
      "On fastq pair number 4400000 at 2016-07-14 01:31:41.595591\n"
     ]
    },
    {
     "name": "stdout",
     "output_type": "stream",
     "text": [
      "On fastq pair number 6600000 at 2016-07-14 01:31:44.213437\n"
     ]
    },
    {
     "name": "stdout",
     "output_type": "stream",
     "text": [
      "On fastq pair number 1100000 at 2016-07-14 01:31:46.525189\n"
     ]
    },
    {
     "name": "stdout",
     "output_type": "stream",
     "text": [
      "On fastq pair number 100000 at 2016-07-14 01:31:51.553789\n"
     ]
    },
    {
     "name": "stdout",
     "output_type": "stream",
     "text": [
      "On fastq pair number 6700000 at 2016-07-14 01:31:51.970613\n"
     ]
    },
    {
     "name": "stdout",
     "output_type": "stream",
     "text": [
      "On fastq pair number 4500000 at 2016-07-14 01:31:52.772963\n"
     ]
    },
    {
     "name": "stdout",
     "output_type": "stream",
     "text": [
      "On fastq pair number 1200000 at 2016-07-14 01:31:54.441108\n"
     ]
    },
    {
     "name": "stdout",
     "output_type": "stream",
     "text": [
      "On fastq pair number 200000 at 2016-07-14 01:31:59.438895\n"
     ]
    },
    {
     "name": "stdout",
     "output_type": "stream",
     "text": [
      "On fastq pair number 6800000 at 2016-07-14 01:31:59.779417\n"
     ]
    },
    {
     "name": "stdout",
     "output_type": "stream",
     "text": [
      "On fastq pair number 4600000 at 2016-07-14 01:32:00.650500\n"
     ]
    },
    {
     "name": "stdout",
     "output_type": "stream",
     "text": [
      "On fastq pair number 1300000 at 2016-07-14 01:32:02.371013\n"
     ]
    },
    {
     "name": "stdout",
     "output_type": "stream",
     "text": [
      "On fastq pair number 300000 at 2016-07-14 01:32:07.273957\n"
     ]
    },
    {
     "name": "stdout",
     "output_type": "stream",
     "text": [
      "On fastq pair number 6900000 at 2016-07-14 01:32:07.627024\n"
     ]
    },
    {
     "name": "stdout",
     "output_type": "stream",
     "text": [
      "On fastq pair number 4700000 at 2016-07-14 01:32:08.481791\n"
     ]
    },
    {
     "name": "stdout",
     "output_type": "stream",
     "text": [
      "On fastq pair number 1400000 at 2016-07-14 01:32:10.303558\n"
     ]
    },
    {
     "name": "stdout",
     "output_type": "stream",
     "text": [
      "On fastq pair number 400000 at 2016-07-14 01:32:15.302166\n"
     ]
    },
    {
     "name": "stdout",
     "output_type": "stream",
     "text": [
      "On fastq pair number 7000000 at 2016-07-14 01:32:15.460948\n"
     ]
    },
    {
     "name": "stdout",
     "output_type": "stream",
     "text": [
      "On fastq pair number 4800000 at 2016-07-14 01:32:16.335917\n"
     ]
    },
    {
     "name": "stdout",
     "output_type": "stream",
     "text": [
      "On fastq pair number 1500000 at 2016-07-14 01:32:18.348144\n"
     ]
    },
    {
     "name": "stdout",
     "output_type": "stream",
     "text": [
      "On fastq pair number 500000 at 2016-07-14 01:32:23.158942\n"
     ]
    },
    {
     "name": "stdout",
     "output_type": "stream",
     "text": [
      "On fastq pair number 7100000 at 2016-07-14 01:32:23.250961\n"
     ]
    },
    {
     "name": "stdout",
     "output_type": "stream",
     "text": [
      "On fastq pair number 4900000 at 2016-07-14 01:32:24.208555\n"
     ]
    },
    {
     "name": "stdout",
     "output_type": "stream",
     "text": [
      "On fastq pair number 1600000 at 2016-07-14 01:32:26.238496\n"
     ]
    },
    {
     "name": "stdout",
     "output_type": "stream",
     "text": [
      "On fastq pair number 600000 at 2016-07-14 01:32:30.996326\n"
     ]
    },
    {
     "name": "stdout",
     "output_type": "stream",
     "text": [
      "On fastq pair number 7200000 at 2016-07-14 01:32:31.106137\n"
     ]
    },
    {
     "name": "stdout",
     "output_type": "stream",
     "text": [
      "On fastq pair number 5000000 at 2016-07-14 01:32:32.000528\n"
     ]
    },
    {
     "name": "stdout",
     "output_type": "stream",
     "text": [
      "On fastq pair number 1700000 at 2016-07-14 01:32:34.107665\n"
     ]
    },
    {
     "name": "stdout",
     "output_type": "stream",
     "text": [
      "On fastq pair number 700000 at 2016-07-14 01:32:38.840891\n"
     ]
    },
    {
     "name": "stdout",
     "output_type": "stream",
     "text": [
      "On fastq pair number 7300000 at 2016-07-14 01:32:38.993750\n"
     ]
    },
    {
     "name": "stdout",
     "output_type": "stream",
     "text": [
      "On fastq pair number 5100000 at 2016-07-14 01:32:39.827184\n"
     ]
    },
    {
     "name": "stdout",
     "output_type": "stream",
     "text": [
      "On fastq pair number 1800000 at 2016-07-14 01:32:42.052332\n"
     ]
    },
    {
     "name": "stdout",
     "output_type": "stream",
     "text": [
      "On fastq pair number 800000 at 2016-07-14 01:32:46.645126\n"
     ]
    },
    {
     "name": "stdout",
     "output_type": "stream",
     "text": [
      "On fastq pair number 7400000 at 2016-07-14 01:32:46.867577\n"
     ]
    },
    {
     "name": "stdout",
     "output_type": "stream",
     "text": [
      "On fastq pair number 5200000 at 2016-07-14 01:32:47.678106\n"
     ]
    },
    {
     "name": "stdout",
     "output_type": "stream",
     "text": [
      "On fastq pair number 1900000 at 2016-07-14 01:32:49.842273\n"
     ]
    },
    {
     "name": "stdout",
     "output_type": "stream",
     "text": [
      "On fastq pair number 900000 at 2016-07-14 01:32:54.475038\n"
     ]
    },
    {
     "name": "stdout",
     "output_type": "stream",
     "text": [
      "On fastq pair number 7500000 at 2016-07-14 01:32:54.736674\n"
     ]
    },
    {
     "name": "stdout",
     "output_type": "stream",
     "text": [
      "On fastq pair number 5300000 at 2016-07-14 01:32:55.502669\n"
     ]
    },
    {
     "name": "stdout",
     "output_type": "stream",
     "text": [
      "On fastq pair number 2000000 at 2016-07-14 01:32:57.613890\n"
     ]
    },
    {
     "name": "stdout",
     "output_type": "stream",
     "text": [
      "On fastq pair number 1000000 at 2016-07-14 01:33:02.348216\n"
     ]
    },
    {
     "name": "stdout",
     "output_type": "stream",
     "text": [
      "On fastq pair number 7600000 at 2016-07-14 01:33:02.602983\n"
     ]
    },
    {
     "name": "stdout",
     "output_type": "stream",
     "text": [
      "On fastq pair number 5400000 at 2016-07-14 01:33:03.272166\n"
     ]
    },
    {
     "name": "stdout",
     "output_type": "stream",
     "text": [
      "On fastq pair number 2100000 at 2016-07-14 01:33:05.404293\n"
     ]
    },
    {
     "name": "stdout",
     "output_type": "stream",
     "text": [
      "On fastq pair number 1100000 at 2016-07-14 01:33:10.270626\n"
     ]
    },
    {
     "name": "stdout",
     "output_type": "stream",
     "text": [
      "On fastq pair number 7700000 at 2016-07-14 01:33:10.409620\n"
     ]
    },
    {
     "name": "stdout",
     "output_type": "stream",
     "text": [
      "On fastq pair number 5500000 at 2016-07-14 01:33:11.002866\n"
     ]
    },
    {
     "name": "stdout",
     "output_type": "stream",
     "text": [
      "On fastq pair number 2200000 at 2016-07-14 01:33:13.158902\n"
     ]
    },
    {
     "name": "stdout",
     "output_type": "stream",
     "text": [
      "On fastq pair number 1200000 at 2016-07-14 01:33:18.200591\n"
     ]
    },
    {
     "name": "stdout",
     "output_type": "stream",
     "text": [
      "On fastq pair number 7800000 at 2016-07-14 01:33:18.243954\n"
     ]
    },
    {
     "name": "stdout",
     "output_type": "stream",
     "text": [
      "On fastq pair number 5600000 at 2016-07-14 01:33:18.776878\n"
     ]
    },
    {
     "name": "stdout",
     "output_type": "stream",
     "text": [
      "On fastq pair number 2300000 at 2016-07-14 01:33:20.932887\n"
     ]
    },
    {
     "name": "stdout",
     "output_type": "stream",
     "text": [
      "On fastq pair number 7900000 at 2016-07-14 01:33:26.088455\n"
     ]
    },
    {
     "name": "stdout",
     "output_type": "stream",
     "text": [
      "On fastq pair number 1300000 at 2016-07-14 01:33:26.157687\n"
     ]
    },
    {
     "name": "stdout",
     "output_type": "stream",
     "text": [
      "On fastq pair number 5700000 at 2016-07-14 01:33:26.512162\n"
     ]
    },
    {
     "name": "stdout",
     "output_type": "stream",
     "text": [
      "A549_MV4_d14_2_S4_L002_001_trimmed53_len_filtered elapsed time: 0:10:33\n"
     ]
    },
    {
     "name": "stdout",
     "output_type": "stream",
     "text": [
      "Starting A549_MV4_d3_1_S1_L001_001_trimmed53_len_filtered at 2016-07-14 01:33:27.433186\n"
     ]
    },
    {
     "name": "stdout",
     "output_type": "stream",
     "text": [
      "On fastq pair number 2400000 at 2016-07-14 01:33:30.050088\n"
     ]
    },
    {
     "name": "stdout",
     "output_type": "stream",
     "text": [
      "On fastq pair number 1400000 at 2016-07-14 01:33:34.048895\n"
     ]
    },
    {
     "name": "stdout",
     "output_type": "stream",
     "text": [
      "On fastq pair number 5800000 at 2016-07-14 01:33:35.033680\n"
     ]
    },
    {
     "name": "stdout",
     "output_type": "stream",
     "text": [
      "On fastq pair number 100000 at 2016-07-14 01:33:36.393604\n"
     ]
    },
    {
     "name": "stdout",
     "output_type": "stream",
     "text": [
      "On fastq pair number 2500000 at 2016-07-14 01:33:38.196767\n"
     ]
    },
    {
     "name": "stdout",
     "output_type": "stream",
     "text": [
      "On fastq pair number 1500000 at 2016-07-14 01:33:42.008476\n"
     ]
    },
    {
     "name": "stdout",
     "output_type": "stream",
     "text": [
      "On fastq pair number 5900000 at 2016-07-14 01:33:42.795240\n"
     ]
    },
    {
     "name": "stdout",
     "output_type": "stream",
     "text": [
      "On fastq pair number 200000 at 2016-07-14 01:33:43.985588\n"
     ]
    },
    {
     "name": "stdout",
     "output_type": "stream",
     "text": [
      "On fastq pair number 2600000 at 2016-07-14 01:33:45.945109\n"
     ]
    },
    {
     "name": "stdout",
     "output_type": "stream",
     "text": [
      "On fastq pair number 1600000 at 2016-07-14 01:33:49.908733\n"
     ]
    },
    {
     "name": "stdout",
     "output_type": "stream",
     "text": [
      "On fastq pair number 6000000 at 2016-07-14 01:33:50.679170\n"
     ]
    },
    {
     "name": "stdout",
     "output_type": "stream",
     "text": [
      "On fastq pair number 300000 at 2016-07-14 01:33:51.517926\n"
     ]
    },
    {
     "name": "stdout",
     "output_type": "stream",
     "text": [
      "On fastq pair number 2700000 at 2016-07-14 01:33:53.774478\n"
     ]
    },
    {
     "name": "stdout",
     "output_type": "stream",
     "text": [
      "On fastq pair number 1700000 at 2016-07-14 01:33:57.853235\n"
     ]
    },
    {
     "name": "stdout",
     "output_type": "stream",
     "text": [
      "On fastq pair number 6100000 at 2016-07-14 01:33:59.098815\n"
     ]
    },
    {
     "name": "stdout",
     "output_type": "stream",
     "text": [
      "On fastq pair number 400000 at 2016-07-14 01:33:59.171635\n"
     ]
    },
    {
     "name": "stdout",
     "output_type": "stream",
     "text": [
      "On fastq pair number 2800000 at 2016-07-14 01:34:01.547035\n"
     ]
    },
    {
     "name": "stdout",
     "output_type": "stream",
     "text": [
      "On fastq pair number 6200000 at 2016-07-14 01:34:06.861235\n"
     ]
    },
    {
     "name": "stdout",
     "output_type": "stream",
     "text": [
      "On fastq pair number 2900000 at 2016-07-14 01:34:09.381249\n"
     ]
    },
    {
     "name": "stdout",
     "output_type": "stream",
     "text": [
      "On fastq pair number 1800000 at 2016-07-14 01:34:11.443587\n"
     ]
    },
    {
     "name": "stdout",
     "output_type": "stream",
     "text": [
      "On fastq pair number 500000 at 2016-07-14 01:34:12.326698\n"
     ]
    },
    {
     "name": "stdout",
     "output_type": "stream",
     "text": [
      "On fastq pair number 6300000 at 2016-07-14 01:34:14.621490\n"
     ]
    },
    {
     "name": "stdout",
     "output_type": "stream",
     "text": [
      "On fastq pair number 3000000 at 2016-07-14 01:34:17.276138\n"
     ]
    },
    {
     "name": "stdout",
     "output_type": "stream",
     "text": [
      "On fastq pair number 1900000 at 2016-07-14 01:34:19.385853\n"
     ]
    },
    {
     "name": "stdout",
     "output_type": "stream",
     "text": [
      "On fastq pair number 600000 at 2016-07-14 01:34:19.826322\n"
     ]
    },
    {
     "name": "stdout",
     "output_type": "stream",
     "text": [
      "On fastq pair number 6400000 at 2016-07-14 01:34:22.476214\n"
     ]
    },
    {
     "name": "stdout",
     "output_type": "stream",
     "text": [
      "On fastq pair number 3100000 at 2016-07-14 01:34:25.150425\n"
     ]
    },
    {
     "name": "stdout",
     "output_type": "stream",
     "text": [
      "On fastq pair number 2000000 at 2016-07-14 01:34:27.290234\n"
     ]
    },
    {
     "name": "stdout",
     "output_type": "stream",
     "text": [
      "On fastq pair number 700000 at 2016-07-14 01:34:27.304471\n"
     ]
    },
    {
     "name": "stdout",
     "output_type": "stream",
     "text": [
      "On fastq pair number 6500000 at 2016-07-14 01:34:30.402798\n"
     ]
    },
    {
     "name": "stdout",
     "output_type": "stream",
     "text": [
      "On fastq pair number 3200000 at 2016-07-14 01:34:33.015348\n"
     ]
    },
    {
     "name": "stdout",
     "output_type": "stream",
     "text": [
      "On fastq pair number 800000 at 2016-07-14 01:34:34.776112\n"
     ]
    },
    {
     "name": "stdout",
     "output_type": "stream",
     "text": [
      "On fastq pair number 2100000 at 2016-07-14 01:34:35.175564\n"
     ]
    },
    {
     "name": "stdout",
     "output_type": "stream",
     "text": [
      "On fastq pair number 6600000 at 2016-07-14 01:34:38.282649\n"
     ]
    },
    {
     "name": "stdout",
     "output_type": "stream",
     "text": [
      "On fastq pair number 3300000 at 2016-07-14 01:34:40.894796\n"
     ]
    },
    {
     "name": "stdout",
     "output_type": "stream",
     "text": [
      "On fastq pair number 900000 at 2016-07-14 01:34:42.292121\n"
     ]
    },
    {
     "name": "stdout",
     "output_type": "stream",
     "text": [
      "On fastq pair number 2200000 at 2016-07-14 01:34:43.062075\n"
     ]
    },
    {
     "name": "stdout",
     "output_type": "stream",
     "text": [
      "On fastq pair number 6700000 at 2016-07-14 01:34:46.145620\n"
     ]
    },
    {
     "name": "stdout",
     "output_type": "stream",
     "text": [
      "On fastq pair number 3400000 at 2016-07-14 01:34:48.729436\n"
     ]
    },
    {
     "name": "stdout",
     "output_type": "stream",
     "text": [
      "On fastq pair number 1000000 at 2016-07-14 01:34:49.908923\n"
     ]
    },
    {
     "name": "stdout",
     "output_type": "stream",
     "text": [
      "On fastq pair number 2300000 at 2016-07-14 01:34:50.889640\n"
     ]
    },
    {
     "name": "stdout",
     "output_type": "stream",
     "text": [
      "On fastq pair number 6800000 at 2016-07-14 01:34:53.981125\n"
     ]
    },
    {
     "name": "stdout",
     "output_type": "stream",
     "text": [
      "On fastq pair number 3500000 at 2016-07-14 01:34:56.618255\n"
     ]
    },
    {
     "name": "stdout",
     "output_type": "stream",
     "text": [
      "On fastq pair number 1100000 at 2016-07-14 01:34:57.511911\n"
     ]
    },
    {
     "name": "stdout",
     "output_type": "stream",
     "text": [
      "On fastq pair number 2400000 at 2016-07-14 01:34:58.705127\n"
     ]
    },
    {
     "name": "stdout",
     "output_type": "stream",
     "text": [
      "On fastq pair number 6900000 at 2016-07-14 01:35:01.883948\n"
     ]
    },
    {
     "name": "stdout",
     "output_type": "stream",
     "text": [
      "On fastq pair number 3600000 at 2016-07-14 01:35:04.474182\n"
     ]
    },
    {
     "name": "stdout",
     "output_type": "stream",
     "text": [
      "On fastq pair number 1200000 at 2016-07-14 01:35:05.110775\n"
     ]
    },
    {
     "name": "stdout",
     "output_type": "stream",
     "text": [
      "On fastq pair number 2500000 at 2016-07-14 01:35:06.547320\n"
     ]
    },
    {
     "name": "stdout",
     "output_type": "stream",
     "text": [
      "On fastq pair number 7000000 at 2016-07-14 01:35:09.731262\n"
     ]
    },
    {
     "name": "stdout",
     "output_type": "stream",
     "text": [
      "On fastq pair number 3700000 at 2016-07-14 01:35:12.377843\n"
     ]
    },
    {
     "name": "stdout",
     "output_type": "stream",
     "text": [
      "On fastq pair number 1300000 at 2016-07-14 01:35:12.691750\n"
     ]
    },
    {
     "name": "stdout",
     "output_type": "stream",
     "text": [
      "On fastq pair number 2600000 at 2016-07-14 01:35:14.382642\n"
     ]
    },
    {
     "name": "stdout",
     "output_type": "stream",
     "text": [
      "On fastq pair number 7100000 at 2016-07-14 01:35:17.544884\n"
     ]
    },
    {
     "name": "stdout",
     "output_type": "stream",
     "text": [
      "On fastq pair number 1400000 at 2016-07-14 01:35:20.259421\n"
     ]
    },
    {
     "name": "stdout",
     "output_type": "stream",
     "text": [
      "On fastq pair number 3800000 at 2016-07-14 01:35:20.388087\n"
     ]
    },
    {
     "name": "stdout",
     "output_type": "stream",
     "text": [
      "On fastq pair number 2700000 at 2016-07-14 01:35:22.192654\n"
     ]
    },
    {
     "name": "stdout",
     "output_type": "stream",
     "text": [
      "On fastq pair number 7200000 at 2016-07-14 01:35:25.432194\n"
     ]
    },
    {
     "name": "stdout",
     "output_type": "stream",
     "text": [
      "On fastq pair number 1500000 at 2016-07-14 01:35:27.842501\n"
     ]
    },
    {
     "name": "stdout",
     "output_type": "stream",
     "text": [
      "On fastq pair number 3900000 at 2016-07-14 01:35:28.204525\n"
     ]
    },
    {
     "name": "stdout",
     "output_type": "stream",
     "text": [
      "On fastq pair number 2800000 at 2016-07-14 01:35:30.059919\n"
     ]
    },
    {
     "name": "stdout",
     "output_type": "stream",
     "text": [
      "On fastq pair number 7300000 at 2016-07-14 01:35:33.249252\n"
     ]
    },
    {
     "name": "stdout",
     "output_type": "stream",
     "text": [
      "On fastq pair number 1600000 at 2016-07-14 01:35:35.416585\n"
     ]
    },
    {
     "name": "stdout",
     "output_type": "stream",
     "text": [
      "On fastq pair number 4000000 at 2016-07-14 01:35:37.100537\n"
     ]
    },
    {
     "name": "stdout",
     "output_type": "stream",
     "text": [
      "On fastq pair number 2900000 at 2016-07-14 01:35:37.996584\n"
     ]
    },
    {
     "name": "stdout",
     "output_type": "stream",
     "text": [
      "On fastq pair number 7400000 at 2016-07-14 01:35:41.193174\n"
     ]
    },
    {
     "name": "stdout",
     "output_type": "stream",
     "text": [
      "On fastq pair number 1700000 at 2016-07-14 01:35:42.996874\n"
     ]
    },
    {
     "name": "stdout",
     "output_type": "stream",
     "text": [
      "On fastq pair number 4100000 at 2016-07-14 01:35:44.865165\n"
     ]
    },
    {
     "name": "stdout",
     "output_type": "stream",
     "text": [
      "On fastq pair number 3000000 at 2016-07-14 01:35:45.979177\n"
     ]
    },
    {
     "name": "stdout",
     "output_type": "stream",
     "text": [
      "On fastq pair number 7500000 at 2016-07-14 01:35:48.972466\n"
     ]
    },
    {
     "name": "stdout",
     "output_type": "stream",
     "text": [
      "On fastq pair number 1800000 at 2016-07-14 01:35:50.573645\n"
     ]
    },
    {
     "name": "stdout",
     "output_type": "stream",
     "text": [
      "On fastq pair number 4200000 at 2016-07-14 01:35:53.091725\n"
     ]
    },
    {
     "name": "stdout",
     "output_type": "stream",
     "text": [
      "On fastq pair number 3100000 at 2016-07-14 01:35:53.883724\n"
     ]
    },
    {
     "name": "stdout",
     "output_type": "stream",
     "text": [
      "On fastq pair number 7600000 at 2016-07-14 01:35:56.804547\n"
     ]
    },
    {
     "name": "stdout",
     "output_type": "stream",
     "text": [
      "On fastq pair number 1900000 at 2016-07-14 01:35:58.052032\n"
     ]
    },
    {
     "name": "stdout",
     "output_type": "stream",
     "text": [
      "On fastq pair number 4300000 at 2016-07-14 01:36:00.853319\n"
     ]
    },
    {
     "name": "stdout",
     "output_type": "stream",
     "text": [
      "On fastq pair number 3200000 at 2016-07-14 01:36:01.851736\n"
     ]
    },
    {
     "name": "stdout",
     "output_type": "stream",
     "text": [
      "On fastq pair number 7700000 at 2016-07-14 01:36:04.634835\n"
     ]
    },
    {
     "name": "stdout",
     "output_type": "stream",
     "text": [
      "On fastq pair number 2000000 at 2016-07-14 01:36:05.497668\n"
     ]
    },
    {
     "name": "stdout",
     "output_type": "stream",
     "text": [
      "On fastq pair number 3300000 at 2016-07-14 01:36:09.786449\n"
     ]
    },
    {
     "name": "stdout",
     "output_type": "stream",
     "text": [
      "On fastq pair number 4400000 at 2016-07-14 01:36:11.481902\n"
     ]
    },
    {
     "name": "stdout",
     "output_type": "stream",
     "text": [
      "On fastq pair number 7800000 at 2016-07-14 01:36:12.420938\n"
     ]
    },
    {
     "name": "stdout",
     "output_type": "stream",
     "text": [
      "On fastq pair number 2100000 at 2016-07-14 01:36:13.010207\n"
     ]
    },
    {
     "name": "stdout",
     "output_type": "stream",
     "text": [
      "On fastq pair number 3400000 at 2016-07-14 01:36:17.814171\n"
     ]
    },
    {
     "name": "stdout",
     "output_type": "stream",
     "text": [
      "On fastq pair number 4500000 at 2016-07-14 01:36:19.679125\n"
     ]
    },
    {
     "name": "stdout",
     "output_type": "stream",
     "text": [
      "On fastq pair number 7900000 at 2016-07-14 01:36:20.291422\n"
     ]
    },
    {
     "name": "stdout",
     "output_type": "stream",
     "text": [
      "On fastq pair number 2200000 at 2016-07-14 01:36:20.442304\n"
     ]
    },
    {
     "name": "stdout",
     "output_type": "stream",
     "text": [
      "On fastq pair number 3500000 at 2016-07-14 01:36:25.760949\n"
     ]
    },
    {
     "name": "stdout",
     "output_type": "stream",
     "text": [
      "On fastq pair number 2300000 at 2016-07-14 01:36:27.939011\n"
     ]
    },
    {
     "name": "stdout",
     "output_type": "stream",
     "text": [
      "On fastq pair number 4600000 at 2016-07-14 01:36:27.987988\n"
     ]
    },
    {
     "name": "stdout",
     "output_type": "stream",
     "text": [
      "On fastq pair number 8000000 at 2016-07-14 01:36:28.023954\n"
     ]
    },
    {
     "name": "stdout",
     "output_type": "stream",
     "text": [
      "On fastq pair number 3600000 at 2016-07-14 01:36:33.718421\n"
     ]
    },
    {
     "name": "stdout",
     "output_type": "stream",
     "text": [
      "On fastq pair number 2400000 at 2016-07-14 01:36:35.425529\n"
     ]
    },
    {
     "name": "stdout",
     "output_type": "stream",
     "text": [
      "On fastq pair number 8100000 at 2016-07-14 01:36:35.736339\n"
     ]
    },
    {
     "name": "stdout",
     "output_type": "stream",
     "text": [
      "On fastq pair number 4700000 at 2016-07-14 01:36:35.877875\n"
     ]
    },
    {
     "name": "stdout",
     "output_type": "stream",
     "text": [
      "On fastq pair number 3700000 at 2016-07-14 01:36:41.644609\n"
     ]
    },
    {
     "name": "stdout",
     "output_type": "stream",
     "text": [
      "On fastq pair number 2500000 at 2016-07-14 01:36:42.907877\n"
     ]
    },
    {
     "name": "stdout",
     "output_type": "stream",
     "text": [
      "On fastq pair number 8200000 at 2016-07-14 01:36:43.538053\n"
     ]
    },
    {
     "name": "stdout",
     "output_type": "stream",
     "text": [
      "On fastq pair number 4800000 at 2016-07-14 01:36:43.719086\n"
     ]
    },
    {
     "name": "stdout",
     "output_type": "stream",
     "text": [
      "On fastq pair number 3800000 at 2016-07-14 01:36:49.558438\n"
     ]
    },
    {
     "name": "stdout",
     "output_type": "stream",
     "text": [
      "On fastq pair number 2600000 at 2016-07-14 01:36:50.391757\n"
     ]
    },
    {
     "name": "stdout",
     "output_type": "stream",
     "text": [
      "On fastq pair number 8300000 at 2016-07-14 01:36:51.242160\n"
     ]
    },
    {
     "name": "stdout",
     "output_type": "stream",
     "text": [
      "On fastq pair number 4900000 at 2016-07-14 01:36:51.621378\n"
     ]
    },
    {
     "name": "stdout",
     "output_type": "stream",
     "text": [
      "On fastq pair number 3900000 at 2016-07-14 01:36:57.443046\n"
     ]
    },
    {
     "name": "stdout",
     "output_type": "stream",
     "text": [
      "On fastq pair number 2700000 at 2016-07-14 01:36:57.896871\n"
     ]
    },
    {
     "name": "stdout",
     "output_type": "stream",
     "text": [
      "On fastq pair number 8400000 at 2016-07-14 01:36:58.965401\n"
     ]
    },
    {
     "name": "stdout",
     "output_type": "stream",
     "text": [
      "On fastq pair number 5000000 at 2016-07-14 01:36:59.451391\n"
     ]
    },
    {
     "name": "stdout",
     "output_type": "stream",
     "text": [
      "On fastq pair number 2800000 at 2016-07-14 01:37:05.449518\n"
     ]
    },
    {
     "name": "stdout",
     "output_type": "stream",
     "text": [
      "On fastq pair number 4000000 at 2016-07-14 01:37:05.758281\n"
     ]
    },
    {
     "name": "stdout",
     "output_type": "stream",
     "text": [
      "On fastq pair number 8500000 at 2016-07-14 01:37:06.756848\n"
     ]
    },
    {
     "name": "stdout",
     "output_type": "stream",
     "text": [
      "On fastq pair number 5100000 at 2016-07-14 01:37:07.258163\n"
     ]
    },
    {
     "name": "stdout",
     "output_type": "stream",
     "text": [
      "On fastq pair number 2900000 at 2016-07-14 01:37:12.987192\n"
     ]
    },
    {
     "name": "stdout",
     "output_type": "stream",
     "text": [
      "On fastq pair number 4100000 at 2016-07-14 01:37:13.686019\n"
     ]
    },
    {
     "name": "stdout",
     "output_type": "stream",
     "text": [
      "On fastq pair number 8600000 at 2016-07-14 01:37:14.514160\n"
     ]
    },
    {
     "name": "stdout",
     "output_type": "stream",
     "text": [
      "On fastq pair number 5200000 at 2016-07-14 01:37:15.138840\n"
     ]
    },
    {
     "name": "stdout",
     "output_type": "stream",
     "text": [
      "On fastq pair number 3000000 at 2016-07-14 01:37:20.554956\n"
     ]
    },
    {
     "name": "stdout",
     "output_type": "stream",
     "text": [
      "On fastq pair number 4200000 at 2016-07-14 01:37:21.621118\n"
     ]
    },
    {
     "name": "stdout",
     "output_type": "stream",
     "text": [
      "On fastq pair number 8700000 at 2016-07-14 01:37:22.278541\n"
     ]
    },
    {
     "name": "stdout",
     "output_type": "stream",
     "text": [
      "On fastq pair number 5300000 at 2016-07-14 01:37:23.021869\n"
     ]
    },
    {
     "name": "stdout",
     "output_type": "stream",
     "text": [
      "On fastq pair number 3100000 at 2016-07-14 01:37:28.112662\n"
     ]
    },
    {
     "name": "stdout",
     "output_type": "stream",
     "text": [
      "On fastq pair number 8800000 at 2016-07-14 01:37:30.043498\n"
     ]
    },
    {
     "name": "stdout",
     "output_type": "stream",
     "text": [
      "On fastq pair number 4300000 at 2016-07-14 01:37:30.707289\n"
     ]
    },
    {
     "name": "stdout",
     "output_type": "stream",
     "text": [
      "On fastq pair number 5400000 at 2016-07-14 01:37:30.841590\n"
     ]
    },
    {
     "name": "stdout",
     "output_type": "stream",
     "text": [
      "On fastq pair number 3200000 at 2016-07-14 01:37:35.699927\n"
     ]
    },
    {
     "name": "stdout",
     "output_type": "stream",
     "text": [
      "On fastq pair number 5500000 at 2016-07-14 01:37:38.727823\n"
     ]
    },
    {
     "name": "stdout",
     "output_type": "stream",
     "text": [
      "On fastq pair number 8900000 at 2016-07-14 01:37:40.001336\n"
     ]
    },
    {
     "name": "stdout",
     "output_type": "stream",
     "text": [
      "On fastq pair number 4400000 at 2016-07-14 01:37:40.677803\n"
     ]
    },
    {
     "name": "stdout",
     "output_type": "stream",
     "text": [
      "On fastq pair number 3300000 at 2016-07-14 01:37:43.280431\n"
     ]
    },
    {
     "name": "stdout",
     "output_type": "stream",
     "text": [
      "On fastq pair number 5600000 at 2016-07-14 01:37:47.624714\n"
     ]
    },
    {
     "name": "stdout",
     "output_type": "stream",
     "text": [
      "On fastq pair number 9000000 at 2016-07-14 01:37:47.872699\n"
     ]
    },
    {
     "name": "stdout",
     "output_type": "stream",
     "text": [
      "On fastq pair number 4500000 at 2016-07-14 01:37:48.963724\n"
     ]
    },
    {
     "name": "stdout",
     "output_type": "stream",
     "text": [
      "On fastq pair number 3400000 at 2016-07-14 01:37:50.805216\n"
     ]
    },
    {
     "name": "stdout",
     "output_type": "stream",
     "text": [
      "On fastq pair number 9100000 at 2016-07-14 01:37:55.795234\n"
     ]
    },
    {
     "name": "stdout",
     "output_type": "stream",
     "text": [
      "On fastq pair number 4600000 at 2016-07-14 01:37:56.913021\n"
     ]
    },
    {
     "name": "stdout",
     "output_type": "stream",
     "text": [
      "On fastq pair number 5700000 at 2016-07-14 01:37:57.040471\n"
     ]
    },
    {
     "name": "stdout",
     "output_type": "stream",
     "text": [
      "On fastq pair number 3500000 at 2016-07-14 01:37:58.351539\n"
     ]
    },
    {
     "name": "stdout",
     "output_type": "stream",
     "text": [
      "On fastq pair number 9200000 at 2016-07-14 01:38:03.692970\n"
     ]
    },
    {
     "name": "stdout",
     "output_type": "stream",
     "text": [
      "On fastq pair number 3600000 at 2016-07-14 01:38:05.895384\n"
     ]
    },
    {
     "name": "stdout",
     "output_type": "stream",
     "text": [
      "On fastq pair number 5800000 at 2016-07-14 01:38:06.034453\n"
     ]
    },
    {
     "name": "stdout",
     "output_type": "stream",
     "text": [
      "On fastq pair number 4700000 at 2016-07-14 01:38:07.885227\n"
     ]
    },
    {
     "name": "stdout",
     "output_type": "stream",
     "text": [
      "On fastq pair number 9300000 at 2016-07-14 01:38:12.535559\n"
     ]
    },
    {
     "name": "stdout",
     "output_type": "stream",
     "text": [
      "On fastq pair number 3700000 at 2016-07-14 01:38:13.767388\n"
     ]
    },
    {
     "name": "stdout",
     "output_type": "stream",
     "text": [
      "On fastq pair number 5900000 at 2016-07-14 01:38:13.836160\n"
     ]
    },
    {
     "name": "stdout",
     "output_type": "stream",
     "text": [
      "On fastq pair number 4800000 at 2016-07-14 01:38:15.951676\n"
     ]
    },
    {
     "name": "stdout",
     "output_type": "stream",
     "text": [
      "On fastq pair number 9400000 at 2016-07-14 01:38:20.401829\n"
     ]
    },
    {
     "name": "stdout",
     "output_type": "stream",
     "text": [
      "On fastq pair number 3800000 at 2016-07-14 01:38:21.298952\n"
     ]
    },
    {
     "name": "stdout",
     "output_type": "stream",
     "text": [
      "On fastq pair number 6000000 at 2016-07-14 01:38:22.563893\n"
     ]
    },
    {
     "name": "stdout",
     "output_type": "stream",
     "text": [
      "On fastq pair number 4900000 at 2016-07-14 01:38:24.378764\n"
     ]
    },
    {
     "name": "stdout",
     "output_type": "stream",
     "text": [
      "On fastq pair number 9500000 at 2016-07-14 01:38:28.323985\n"
     ]
    },
    {
     "name": "stdout",
     "output_type": "stream",
     "text": [
      "On fastq pair number 3900000 at 2016-07-14 01:38:28.848341\n"
     ]
    },
    {
     "name": "stdout",
     "output_type": "stream",
     "text": [
      "On fastq pair number 5000000 at 2016-07-14 01:38:32.283808\n"
     ]
    },
    {
     "name": "stdout",
     "output_type": "stream",
     "text": [
      "On fastq pair number 6100000 at 2016-07-14 01:38:32.684574\n"
     ]
    },
    {
     "name": "stdout",
     "output_type": "stream",
     "text": [
      "On fastq pair number 9600000 at 2016-07-14 01:38:36.281118\n"
     ]
    },
    {
     "name": "stdout",
     "output_type": "stream",
     "text": [
      "On fastq pair number 4000000 at 2016-07-14 01:38:37.578648\n"
     ]
    },
    {
     "name": "stdout",
     "output_type": "stream",
     "text": [
      "On fastq pair number 5100000 at 2016-07-14 01:38:40.137165\n"
     ]
    },
    {
     "name": "stdout",
     "output_type": "stream",
     "text": [
      "On fastq pair number 6200000 at 2016-07-14 01:38:40.472842\n"
     ]
    },
    {
     "name": "stdout",
     "output_type": "stream",
     "text": [
      "On fastq pair number 9700000 at 2016-07-14 01:38:44.176635\n"
     ]
    },
    {
     "name": "stdout",
     "output_type": "stream",
     "text": [
      "On fastq pair number 4100000 at 2016-07-14 01:38:45.114762\n"
     ]
    },
    {
     "name": "stdout",
     "output_type": "stream",
     "text": [
      "On fastq pair number 5200000 at 2016-07-14 01:38:48.076010\n"
     ]
    },
    {
     "name": "stdout",
     "output_type": "stream",
     "text": [
      "On fastq pair number 6300000 at 2016-07-14 01:38:50.858481\n"
     ]
    },
    {
     "name": "stdout",
     "output_type": "stream",
     "text": [
      "On fastq pair number 9800000 at 2016-07-14 01:38:52.158257\n"
     ]
    },
    {
     "name": "stdout",
     "output_type": "stream",
     "text": [
      "On fastq pair number 4200000 at 2016-07-14 01:38:53.108392\n"
     ]
    },
    {
     "name": "stdout",
     "output_type": "stream",
     "text": [
      "On fastq pair number 5300000 at 2016-07-14 01:38:56.022666\n"
     ]
    },
    {
     "name": "stdout",
     "output_type": "stream",
     "text": [
      "On fastq pair number 6400000 at 2016-07-14 01:38:59.033394\n"
     ]
    },
    {
     "name": "stdout",
     "output_type": "stream",
     "text": [
      "On fastq pair number 4300000 at 2016-07-14 01:39:01.134670\n"
     ]
    },
    {
     "name": "stdout",
     "output_type": "stream",
     "text": [
      "On fastq pair number 9900000 at 2016-07-14 01:39:01.164435\n"
     ]
    },
    {
     "name": "stdout",
     "output_type": "stream",
     "text": [
      "On fastq pair number 5400000 at 2016-07-14 01:39:03.960226\n"
     ]
    },
    {
     "name": "stdout",
     "output_type": "stream",
     "text": [
      "On fastq pair number 6500000 at 2016-07-14 01:39:08.008838\n"
     ]
    },
    {
     "name": "stdout",
     "output_type": "stream",
     "text": [
      "On fastq pair number 10000000 at 2016-07-14 01:39:09.073612\n"
     ]
    },
    {
     "name": "stdout",
     "output_type": "stream",
     "text": [
      "On fastq pair number 4400000 at 2016-07-14 01:39:11.383493\n"
     ]
    },
    {
     "name": "stdout",
     "output_type": "stream",
     "text": [
      "On fastq pair number 5500000 at 2016-07-14 01:39:11.896541\n"
     ]
    },
    {
     "name": "stdout",
     "output_type": "stream",
     "text": [
      "On fastq pair number 6600000 at 2016-07-14 01:39:15.791110\n"
     ]
    },
    {
     "name": "stdout",
     "output_type": "stream",
     "text": [
      "On fastq pair number 10100000 at 2016-07-14 01:39:16.981836\n"
     ]
    },
    {
     "name": "stdout",
     "output_type": "stream",
     "text": [
      "On fastq pair number 4500000 at 2016-07-14 01:39:19.070972\n"
     ]
    },
    {
     "name": "stdout",
     "output_type": "stream",
     "text": [
      "On fastq pair number 5600000 at 2016-07-14 01:39:19.873244\n"
     ]
    },
    {
     "name": "stdout",
     "output_type": "stream",
     "text": [
      "On fastq pair number 6700000 at 2016-07-14 01:39:23.656663\n"
     ]
    },
    {
     "name": "stdout",
     "output_type": "stream",
     "text": [
      "On fastq pair number 10200000 at 2016-07-14 01:39:24.837950\n"
     ]
    },
    {
     "name": "stdout",
     "output_type": "stream",
     "text": [
      "On fastq pair number 4600000 at 2016-07-14 01:39:27.155509\n"
     ]
    },
    {
     "name": "stdout",
     "output_type": "stream",
     "text": [
      "On fastq pair number 5700000 at 2016-07-14 01:39:27.857100\n"
     ]
    },
    {
     "name": "stdout",
     "output_type": "stream",
     "text": [
      "On fastq pair number 6800000 at 2016-07-14 01:39:31.500323\n"
     ]
    },
    {
     "name": "stdout",
     "output_type": "stream",
     "text": [
      "On fastq pair number 10300000 at 2016-07-14 01:39:32.677081\n"
     ]
    },
    {
     "name": "stdout",
     "output_type": "stream",
     "text": [
      "On fastq pair number 4700000 at 2016-07-14 01:39:34.734420\n"
     ]
    },
    {
     "name": "stdout",
     "output_type": "stream",
     "text": [
      "On fastq pair number 5800000 at 2016-07-14 01:39:35.831596\n"
     ]
    },
    {
     "name": "stdout",
     "output_type": "stream",
     "text": [
      "A549_MV4_d20_2_S6_L002_001_trimmed53_len_filtered elapsed time: 0:13:43\n"
     ]
    },
    {
     "name": "stdout",
     "output_type": "stream",
     "text": [
      "Starting A549_MV4_d3_2_S2_L001_001_trimmed53_len_filtered at 2016-07-14 01:39:36.398589\n"
     ]
    },
    {
     "name": "stdout",
     "output_type": "stream",
     "text": [
      "On fastq pair number 6900000 at 2016-07-14 01:39:39.325444\n"
     ]
    },
    {
     "name": "stdout",
     "output_type": "stream",
     "text": [
      "On fastq pair number 4800000 at 2016-07-14 01:39:42.350759\n"
     ]
    },
    {
     "name": "stdout",
     "output_type": "stream",
     "text": [
      "On fastq pair number 100000 at 2016-07-14 01:39:44.012720\n"
     ]
    },
    {
     "name": "stdout",
     "output_type": "stream",
     "text": [
      "On fastq pair number 5900000 at 2016-07-14 01:39:44.309750\n"
     ]
    },
    {
     "name": "stdout",
     "output_type": "stream",
     "text": [
      "On fastq pair number 7000000 at 2016-07-14 01:39:47.237765\n"
     ]
    },
    {
     "name": "stdout",
     "output_type": "stream",
     "text": [
      "On fastq pair number 4900000 at 2016-07-14 01:39:49.925295\n"
     ]
    },
    {
     "name": "stdout",
     "output_type": "stream",
     "text": [
      "On fastq pair number 200000 at 2016-07-14 01:39:51.505923\n"
     ]
    },
    {
     "name": "stdout",
     "output_type": "stream",
     "text": [
      "On fastq pair number 6000000 at 2016-07-14 01:39:53.568753\n"
     ]
    },
    {
     "name": "stdout",
     "output_type": "stream",
     "text": [
      "On fastq pair number 7100000 at 2016-07-14 01:39:55.340321\n"
     ]
    },
    {
     "name": "stdout",
     "output_type": "stream",
     "text": [
      "On fastq pair number 5000000 at 2016-07-14 01:39:57.496579\n"
     ]
    },
    {
     "name": "stdout",
     "output_type": "stream",
     "text": [
      "On fastq pair number 300000 at 2016-07-14 01:39:58.984747\n"
     ]
    },
    {
     "name": "stdout",
     "output_type": "stream",
     "text": [
      "On fastq pair number 6100000 at 2016-07-14 01:40:02.516602\n"
     ]
    },
    {
     "name": "stdout",
     "output_type": "stream",
     "text": [
      "On fastq pair number 7200000 at 2016-07-14 01:40:04.177978\n"
     ]
    },
    {
     "name": "stdout",
     "output_type": "stream",
     "text": [
      "On fastq pair number 5100000 at 2016-07-14 01:40:05.065345\n"
     ]
    },
    {
     "name": "stdout",
     "output_type": "stream",
     "text": [
      "On fastq pair number 400000 at 2016-07-14 01:40:06.466257\n"
     ]
    },
    {
     "name": "stdout",
     "output_type": "stream",
     "text": [
      "On fastq pair number 6200000 at 2016-07-14 01:40:10.767899\n"
     ]
    },
    {
     "name": "stdout",
     "output_type": "stream",
     "text": [
      "On fastq pair number 7300000 at 2016-07-14 01:40:12.091720\n"
     ]
    },
    {
     "name": "stdout",
     "output_type": "stream",
     "text": [
      "On fastq pair number 5200000 at 2016-07-14 01:40:12.645289\n"
     ]
    },
    {
     "name": "stdout",
     "output_type": "stream",
     "text": [
      "On fastq pair number 500000 at 2016-07-14 01:40:13.973006\n"
     ]
    },
    {
     "name": "stdout",
     "output_type": "stream",
     "text": [
      "On fastq pair number 6300000 at 2016-07-14 01:40:18.654569\n"
     ]
    },
    {
     "name": "stdout",
     "output_type": "stream",
     "text": [
      "A549_MV4_d28_1_S7_L001_001_trimmed53_len_filtered elapsed time: 0:09:59\n"
     ]
    },
    {
     "name": "stdout",
     "output_type": "stream",
     "text": [
      "Starting A549_MV4_d28_1_S7_L002_001_trimmed53_len_filtered at 2016-07-14 01:40:19.247968\n"
     ]
    },
    {
     "name": "stdout",
     "output_type": "stream",
     "text": [
      "On fastq pair number 5300000 at 2016-07-14 01:40:20.233113\n"
     ]
    },
    {
     "name": "stdout",
     "output_type": "stream",
     "text": [
      "On fastq pair number 600000 at 2016-07-14 01:40:21.473202\n"
     ]
    },
    {
     "name": "stdout",
     "output_type": "stream",
     "text": [
      "On fastq pair number 100000 at 2016-07-14 01:40:27.237267\n"
     ]
    },
    {
     "name": "stdout",
     "output_type": "stream",
     "text": [
      "On fastq pair number 6400000 at 2016-07-14 01:40:27.803563\n"
     ]
    },
    {
     "name": "stdout",
     "output_type": "stream",
     "text": [
      "On fastq pair number 5400000 at 2016-07-14 01:40:27.828545\n"
     ]
    },
    {
     "name": "stdout",
     "output_type": "stream",
     "text": [
      "On fastq pair number 700000 at 2016-07-14 01:40:28.890420\n"
     ]
    },
    {
     "name": "stdout",
     "output_type": "stream",
     "text": [
      "On fastq pair number 200000 at 2016-07-14 01:40:35.036315\n"
     ]
    },
    {
     "name": "stdout",
     "output_type": "stream",
     "text": [
      "On fastq pair number 5500000 at 2016-07-14 01:40:36.029942\n"
     ]
    },
    {
     "name": "stdout",
     "output_type": "stream",
     "text": [
      "On fastq pair number 800000 at 2016-07-14 01:40:36.320596\n"
     ]
    },
    {
     "name": "stdout",
     "output_type": "stream",
     "text": [
      "On fastq pair number 6500000 at 2016-07-14 01:40:37.927612\n"
     ]
    },
    {
     "name": "stdout",
     "output_type": "stream",
     "text": [
      "On fastq pair number 300000 at 2016-07-14 01:40:42.765464\n"
     ]
    },
    {
     "name": "stdout",
     "output_type": "stream",
     "text": [
      "On fastq pair number 900000 at 2016-07-14 01:40:43.740463\n"
     ]
    },
    {
     "name": "stdout",
     "output_type": "stream",
     "text": [
      "On fastq pair number 5600000 at 2016-07-14 01:40:45.388633\n"
     ]
    },
    {
     "name": "stdout",
     "output_type": "stream",
     "text": [
      "On fastq pair number 6600000 at 2016-07-14 01:40:45.823536\n"
     ]
    },
    {
     "name": "stdout",
     "output_type": "stream",
     "text": [
      "On fastq pair number 1000000 at 2016-07-14 01:40:51.257990\n"
     ]
    },
    {
     "name": "stdout",
     "output_type": "stream",
     "text": [
      "On fastq pair number 5700000 at 2016-07-14 01:40:53.263377\n"
     ]
    },
    {
     "name": "stdout",
     "output_type": "stream",
     "text": [
      "On fastq pair number 400000 at 2016-07-14 01:40:54.393866\n"
     ]
    },
    {
     "name": "stdout",
     "output_type": "stream",
     "text": [
      "On fastq pair number 1100000 at 2016-07-14 01:40:58.842374\n"
     ]
    },
    {
     "name": "stdout",
     "output_type": "stream",
     "text": [
      "On fastq pair number 6700000 at 2016-07-14 01:41:00.125226\n"
     ]
    },
    {
     "name": "stdout",
     "output_type": "stream",
     "text": [
      "On fastq pair number 5800000 at 2016-07-14 01:41:01.124870\n"
     ]
    },
    {
     "name": "stdout",
     "output_type": "stream",
     "text": [
      "On fastq pair number 500000 at 2016-07-14 01:41:02.183160\n"
     ]
    },
    {
     "name": "stdout",
     "output_type": "stream",
     "text": [
      "On fastq pair number 1200000 at 2016-07-14 01:41:06.346600\n"
     ]
    },
    {
     "name": "stdout",
     "output_type": "stream",
     "text": [
      "On fastq pair number 6800000 at 2016-07-14 01:41:08.445848\n"
     ]
    },
    {
     "name": "stdout",
     "output_type": "stream",
     "text": [
      "On fastq pair number 5900000 at 2016-07-14 01:41:08.654212\n"
     ]
    },
    {
     "name": "stdout",
     "output_type": "stream",
     "text": [
      "On fastq pair number 600000 at 2016-07-14 01:41:09.996703\n"
     ]
    },
    {
     "name": "stdout",
     "output_type": "stream",
     "text": [
      "On fastq pair number 1300000 at 2016-07-14 01:41:13.900402\n"
     ]
    },
    {
     "name": "stdout",
     "output_type": "stream",
     "text": [
      "On fastq pair number 6900000 at 2016-07-14 01:41:16.477800\n"
     ]
    },
    {
     "name": "stdout",
     "output_type": "stream",
     "text": [
      "On fastq pair number 700000 at 2016-07-14 01:41:17.808201\n"
     ]
    },
    {
     "name": "stdout",
     "output_type": "stream",
     "text": [
      "On fastq pair number 6000000 at 2016-07-14 01:41:19.397473\n"
     ]
    },
    {
     "name": "stdout",
     "output_type": "stream",
     "text": [
      "On fastq pair number 1400000 at 2016-07-14 01:41:21.425439\n"
     ]
    },
    {
     "name": "stdout",
     "output_type": "stream",
     "text": [
      "On fastq pair number 7000000 at 2016-07-14 01:41:24.437013\n"
     ]
    },
    {
     "name": "stdout",
     "output_type": "stream",
     "text": [
      "On fastq pair number 800000 at 2016-07-14 01:41:25.593303\n"
     ]
    },
    {
     "name": "stdout",
     "output_type": "stream",
     "text": [
      "On fastq pair number 6100000 at 2016-07-14 01:41:27.099281\n"
     ]
    },
    {
     "name": "stdout",
     "output_type": "stream",
     "text": [
      "On fastq pair number 1500000 at 2016-07-14 01:41:28.964241\n"
     ]
    },
    {
     "name": "stdout",
     "output_type": "stream",
     "text": [
      "On fastq pair number 7100000 at 2016-07-14 01:41:32.358283\n"
     ]
    },
    {
     "name": "stdout",
     "output_type": "stream",
     "text": [
      "On fastq pair number 900000 at 2016-07-14 01:41:33.473516\n"
     ]
    },
    {
     "name": "stdout",
     "output_type": "stream",
     "text": [
      "On fastq pair number 6200000 at 2016-07-14 01:41:35.221652\n"
     ]
    },
    {
     "name": "stdout",
     "output_type": "stream",
     "text": [
      "On fastq pair number 1600000 at 2016-07-14 01:41:36.479686\n"
     ]
    },
    {
     "name": "stdout",
     "output_type": "stream",
     "text": [
      "On fastq pair number 7200000 at 2016-07-14 01:41:40.239646\n"
     ]
    },
    {
     "name": "stdout",
     "output_type": "stream",
     "text": [
      "On fastq pair number 1000000 at 2016-07-14 01:41:41.357979\n"
     ]
    },
    {
     "name": "stdout",
     "output_type": "stream",
     "text": [
      "On fastq pair number 1700000 at 2016-07-14 01:41:44.011800\n"
     ]
    },
    {
     "name": "stdout",
     "output_type": "stream",
     "text": [
      "On fastq pair number 6300000 at 2016-07-14 01:41:45.045011\n"
     ]
    },
    {
     "name": "stdout",
     "output_type": "stream",
     "text": [
      "On fastq pair number 7300000 at 2016-07-14 01:41:48.147627\n"
     ]
    },
    {
     "name": "stdout",
     "output_type": "stream",
     "text": [
      "On fastq pair number 1100000 at 2016-07-14 01:41:49.287095\n"
     ]
    },
    {
     "name": "stdout",
     "output_type": "stream",
     "text": [
      "On fastq pair number 1800000 at 2016-07-14 01:41:51.511949\n"
     ]
    },
    {
     "name": "stdout",
     "output_type": "stream",
     "text": [
      "On fastq pair number 6400000 at 2016-07-14 01:41:52.802684\n"
     ]
    },
    {
     "name": "stdout",
     "output_type": "stream",
     "text": [
      "On fastq pair number 7400000 at 2016-07-14 01:41:56.090139\n"
     ]
    },
    {
     "name": "stdout",
     "output_type": "stream",
     "text": [
      "On fastq pair number 1200000 at 2016-07-14 01:41:57.177895\n"
     ]
    },
    {
     "name": "stdout",
     "output_type": "stream",
     "text": [
      "On fastq pair number 1900000 at 2016-07-14 01:41:58.988359\n"
     ]
    },
    {
     "name": "stdout",
     "output_type": "stream",
     "text": [
      "On fastq pair number 6500000 at 2016-07-14 01:42:00.342848\n"
     ]
    },
    {
     "name": "stdout",
     "output_type": "stream",
     "text": [
      "On fastq pair number 7500000 at 2016-07-14 01:42:04.066614\n"
     ]
    },
    {
     "name": "stdout",
     "output_type": "stream",
     "text": [
      "On fastq pair number 1300000 at 2016-07-14 01:42:05.025583\n"
     ]
    },
    {
     "name": "stdout",
     "output_type": "stream",
     "text": [
      "On fastq pair number 2000000 at 2016-07-14 01:42:06.492020\n"
     ]
    },
    {
     "name": "stdout",
     "output_type": "stream",
     "text": [
      "On fastq pair number 6600000 at 2016-07-14 01:42:07.941868\n"
     ]
    },
    {
     "name": "stdout",
     "output_type": "stream",
     "text": [
      "On fastq pair number 7600000 at 2016-07-14 01:42:12.526946\n"
     ]
    },
    {
     "name": "stdout",
     "output_type": "stream",
     "text": [
      "On fastq pair number 1400000 at 2016-07-14 01:42:12.884855\n"
     ]
    },
    {
     "name": "stdout",
     "output_type": "stream",
     "text": [
      "On fastq pair number 2100000 at 2016-07-14 01:42:13.980989\n"
     ]
    },
    {
     "name": "stdout",
     "output_type": "stream",
     "text": [
      "On fastq pair number 6700000 at 2016-07-14 01:42:15.499640\n"
     ]
    },
    {
     "name": "stdout",
     "output_type": "stream",
     "text": [
      "On fastq pair number 1500000 at 2016-07-14 01:42:20.776609\n"
     ]
    },
    {
     "name": "stdout",
     "output_type": "stream",
     "text": [
      "On fastq pair number 7700000 at 2016-07-14 01:42:21.207399\n"
     ]
    },
    {
     "name": "stdout",
     "output_type": "stream",
     "text": [
      "On fastq pair number 2200000 at 2016-07-14 01:42:21.471609\n"
     ]
    },
    {
     "name": "stdout",
     "output_type": "stream",
     "text": [
      "On fastq pair number 6800000 at 2016-07-14 01:42:23.056609\n"
     ]
    },
    {
     "name": "stdout",
     "output_type": "stream",
     "text": [
      "On fastq pair number 1600000 at 2016-07-14 01:42:28.765703\n"
     ]
    },
    {
     "name": "stdout",
     "output_type": "stream",
     "text": [
      "On fastq pair number 2300000 at 2016-07-14 01:42:28.950727\n"
     ]
    },
    {
     "name": "stdout",
     "output_type": "stream",
     "text": [
      "On fastq pair number 7800000 at 2016-07-14 01:42:29.133107\n"
     ]
    },
    {
     "name": "stdout",
     "output_type": "stream",
     "text": [
      "On fastq pair number 6900000 at 2016-07-14 01:42:30.630118\n"
     ]
    },
    {
     "name": "stdout",
     "output_type": "stream",
     "text": [
      "A549_MV4_d28_2_S8_L001_001_trimmed53_len_filtered elapsed time: 0:10:58\n"
     ]
    },
    {
     "name": "stdout",
     "output_type": "stream",
     "text": [
      "Starting A549_MV4_d28_2_S8_L002_001_trimmed53_len_filtered at 2016-07-14 01:42:34.737029\n"
     ]
    },
    {
     "name": "stdout",
     "output_type": "stream",
     "text": [
      "On fastq pair number 2400000 at 2016-07-14 01:42:36.382582\n"
     ]
    },
    {
     "name": "stdout",
     "output_type": "stream",
     "text": [
      "On fastq pair number 1700000 at 2016-07-14 01:42:36.685459\n"
     ]
    },
    {
     "name": "stdout",
     "output_type": "stream",
     "text": [
      "On fastq pair number 7000000 at 2016-07-14 01:42:38.271978\n"
     ]
    },
    {
     "name": "stdout",
     "output_type": "stream",
     "text": [
      "On fastq pair number 100000 at 2016-07-14 01:42:42.654721\n"
     ]
    },
    {
     "name": "stdout",
     "output_type": "stream",
     "text": [
      "On fastq pair number 2500000 at 2016-07-14 01:42:45.805903\n"
     ]
    },
    {
     "name": "stdout",
     "output_type": "stream",
     "text": [
      "On fastq pair number 7100000 at 2016-07-14 01:42:46.957849\n"
     ]
    },
    {
     "name": "stdout",
     "output_type": "stream",
     "text": [
      "On fastq pair number 1800000 at 2016-07-14 01:42:50.983720\n"
     ]
    },
    {
     "name": "stdout",
     "output_type": "stream",
     "text": [
      "On fastq pair number 7200000 at 2016-07-14 01:42:54.591835\n"
     ]
    },
    {
     "name": "stdout",
     "output_type": "stream",
     "text": [
      "On fastq pair number 200000 at 2016-07-14 01:42:54.848083\n"
     ]
    },
    {
     "name": "stdout",
     "output_type": "stream",
     "text": [
      "On fastq pair number 2600000 at 2016-07-14 01:42:54.903381\n"
     ]
    },
    {
     "name": "stdout",
     "output_type": "stream",
     "text": [
      "On fastq pair number 1900000 at 2016-07-14 01:43:00.476766\n"
     ]
    },
    {
     "name": "stdout",
     "output_type": "stream",
     "text": [
      "On fastq pair number 7300000 at 2016-07-14 01:43:03.350358\n"
     ]
    },
    {
     "name": "stdout",
     "output_type": "stream",
     "text": [
      "On fastq pair number 2700000 at 2016-07-14 01:43:03.672245\n"
     ]
    },
    {
     "name": "stdout",
     "output_type": "stream",
     "text": [
      "On fastq pair number 300000 at 2016-07-14 01:43:03.911171\n"
     ]
    },
    {
     "name": "stdout",
     "output_type": "stream",
     "text": [
      "A549_MV4_d3_1_S1_L001_001_trimmed53_len_filtered elapsed time: 0:09:37\n"
     ]
    },
    {
     "name": "stdout",
     "output_type": "stream",
     "text": [
      "Starting A549_MV4_d3_1_S1_L002_001_trimmed53_len_filtered at 2016-07-14 01:43:05.112034\n"
     ]
    },
    {
     "name": "stdout",
     "output_type": "stream",
     "text": [
      "On fastq pair number 2000000 at 2016-07-14 01:43:09.911997\n"
     ]
    },
    {
     "name": "stdout",
     "output_type": "stream",
     "text": [
      "On fastq pair number 2800000 at 2016-07-14 01:43:11.210280\n"
     ]
    },
    {
     "name": "stdout",
     "output_type": "stream",
     "text": [
      "On fastq pair number 400000 at 2016-07-14 01:43:11.646247\n"
     ]
    },
    {
     "name": "stdout",
     "output_type": "stream",
     "text": [
      "On fastq pair number 100000 at 2016-07-14 01:43:12.789153\n"
     ]
    },
    {
     "name": "stdout",
     "output_type": "stream",
     "text": [
      "On fastq pair number 2100000 at 2016-07-14 01:43:17.781151\n"
     ]
    },
    {
     "name": "stdout",
     "output_type": "stream",
     "text": [
      "On fastq pair number 2900000 at 2016-07-14 01:43:18.747334\n"
     ]
    },
    {
     "name": "stdout",
     "output_type": "stream",
     "text": [
      "On fastq pair number 500000 at 2016-07-14 01:43:19.450401\n"
     ]
    },
    {
     "name": "stdout",
     "output_type": "stream",
     "text": [
      "On fastq pair number 200000 at 2016-07-14 01:43:20.310312\n"
     ]
    },
    {
     "name": "stdout",
     "output_type": "stream",
     "text": [
      "On fastq pair number 2200000 at 2016-07-14 01:43:25.635573\n"
     ]
    },
    {
     "name": "stdout",
     "output_type": "stream",
     "text": [
      "On fastq pair number 3000000 at 2016-07-14 01:43:26.278228\n"
     ]
    },
    {
     "name": "stdout",
     "output_type": "stream",
     "text": [
      "On fastq pair number 600000 at 2016-07-14 01:43:27.192650\n"
     ]
    },
    {
     "name": "stdout",
     "output_type": "stream",
     "text": [
      "On fastq pair number 300000 at 2016-07-14 01:43:27.818384\n"
     ]
    },
    {
     "name": "stdout",
     "output_type": "stream",
     "text": [
      "On fastq pair number 2300000 at 2016-07-14 01:43:33.432398\n"
     ]
    },
    {
     "name": "stdout",
     "output_type": "stream",
     "text": [
      "On fastq pair number 3100000 at 2016-07-14 01:43:33.810138\n"
     ]
    },
    {
     "name": "stdout",
     "output_type": "stream",
     "text": [
      "On fastq pair number 700000 at 2016-07-14 01:43:34.915037\n"
     ]
    },
    {
     "name": "stdout",
     "output_type": "stream",
     "text": [
      "On fastq pair number 400000 at 2016-07-14 01:43:35.308237\n"
     ]
    },
    {
     "name": "stdout",
     "output_type": "stream",
     "text": [
      "On fastq pair number 2400000 at 2016-07-14 01:43:41.354906\n"
     ]
    },
    {
     "name": "stdout",
     "output_type": "stream",
     "text": [
      "On fastq pair number 3200000 at 2016-07-14 01:43:41.429084\n"
     ]
    },
    {
     "name": "stdout",
     "output_type": "stream",
     "text": [
      "On fastq pair number 800000 at 2016-07-14 01:43:42.653240\n"
     ]
    },
    {
     "name": "stdout",
     "output_type": "stream",
     "text": [
      "On fastq pair number 500000 at 2016-07-14 01:43:42.863377\n"
     ]
    },
    {
     "name": "stdout",
     "output_type": "stream",
     "text": [
      "On fastq pair number 3300000 at 2016-07-14 01:43:49.043771\n"
     ]
    },
    {
     "name": "stdout",
     "output_type": "stream",
     "text": [
      "On fastq pair number 2500000 at 2016-07-14 01:43:49.197402\n"
     ]
    },
    {
     "name": "stdout",
     "output_type": "stream",
     "text": [
      "On fastq pair number 600000 at 2016-07-14 01:43:50.370374\n"
     ]
    },
    {
     "name": "stdout",
     "output_type": "stream",
     "text": [
      "On fastq pair number 900000 at 2016-07-14 01:43:50.389037\n"
     ]
    },
    {
     "name": "stdout",
     "output_type": "stream",
     "text": [
      "On fastq pair number 3400000 at 2016-07-14 01:43:56.649808\n"
     ]
    },
    {
     "name": "stdout",
     "output_type": "stream",
     "text": [
      "On fastq pair number 2600000 at 2016-07-14 01:43:57.030894\n"
     ]
    },
    {
     "name": "stdout",
     "output_type": "stream",
     "text": [
      "On fastq pair number 700000 at 2016-07-14 01:43:57.880061\n"
     ]
    },
    {
     "name": "stdout",
     "output_type": "stream",
     "text": [
      "On fastq pair number 1000000 at 2016-07-14 01:43:58.164620\n"
     ]
    },
    {
     "name": "stdout",
     "output_type": "stream",
     "text": [
      "On fastq pair number 3500000 at 2016-07-14 01:44:04.226737\n"
     ]
    },
    {
     "name": "stdout",
     "output_type": "stream",
     "text": [
      "On fastq pair number 2700000 at 2016-07-14 01:44:04.863312\n"
     ]
    },
    {
     "name": "stdout",
     "output_type": "stream",
     "text": [
      "On fastq pair number 800000 at 2016-07-14 01:44:05.358370\n"
     ]
    },
    {
     "name": "stdout",
     "output_type": "stream",
     "text": [
      "On fastq pair number 1100000 at 2016-07-14 01:44:05.982123\n"
     ]
    },
    {
     "name": "stdout",
     "output_type": "stream",
     "text": [
      "On fastq pair number 3600000 at 2016-07-14 01:44:11.756139\n"
     ]
    },
    {
     "name": "stdout",
     "output_type": "stream",
     "text": [
      "On fastq pair number 2800000 at 2016-07-14 01:44:12.758997\n"
     ]
    },
    {
     "name": "stdout",
     "output_type": "stream",
     "text": [
      "On fastq pair number 900000 at 2016-07-14 01:44:12.891472\n"
     ]
    },
    {
     "name": "stdout",
     "output_type": "stream",
     "text": [
      "On fastq pair number 1200000 at 2016-07-14 01:44:13.836901\n"
     ]
    },
    {
     "name": "stdout",
     "output_type": "stream",
     "text": [
      "On fastq pair number 3700000 at 2016-07-14 01:44:19.292119\n"
     ]
    },
    {
     "name": "stdout",
     "output_type": "stream",
     "text": [
      "On fastq pair number 1000000 at 2016-07-14 01:44:20.458960\n"
     ]
    },
    {
     "name": "stdout",
     "output_type": "stream",
     "text": [
      "On fastq pair number 2900000 at 2016-07-14 01:44:20.665522\n"
     ]
    },
    {
     "name": "stdout",
     "output_type": "stream",
     "text": [
      "On fastq pair number 1300000 at 2016-07-14 01:44:21.665537\n"
     ]
    },
    {
     "name": "stdout",
     "output_type": "stream",
     "text": [
      "On fastq pair number 3800000 at 2016-07-14 01:44:29.112960\n"
     ]
    },
    {
     "name": "stdout",
     "output_type": "stream",
     "text": [
      "On fastq pair number 3000000 at 2016-07-14 01:44:30.201929\n"
     ]
    },
    {
     "name": "stdout",
     "output_type": "stream",
     "text": [
      "On fastq pair number 1400000 at 2016-07-14 01:44:34.390180\n"
     ]
    },
    {
     "name": "stdout",
     "output_type": "stream",
     "text": [
      "On fastq pair number 1100000 at 2016-07-14 01:44:36.455252\n"
     ]
    },
    {
     "name": "stdout",
     "output_type": "stream",
     "text": [
      "On fastq pair number 3900000 at 2016-07-14 01:44:36.614108\n"
     ]
    },
    {
     "name": "stdout",
     "output_type": "stream",
     "text": [
      "On fastq pair number 1500000 at 2016-07-14 01:44:42.130967\n"
     ]
    },
    {
     "name": "stdout",
     "output_type": "stream",
     "text": [
      "On fastq pair number 3100000 at 2016-07-14 01:44:44.049718\n"
     ]
    },
    {
     "name": "stdout",
     "output_type": "stream",
     "text": [
      "On fastq pair number 4000000 at 2016-07-14 01:44:44.254065\n"
     ]
    },
    {
     "name": "stdout",
     "output_type": "stream",
     "text": [
      "On fastq pair number 1200000 at 2016-07-14 01:44:47.231495\n"
     ]
    },
    {
     "name": "stdout",
     "output_type": "stream",
     "text": [
      "On fastq pair number 1600000 at 2016-07-14 01:44:49.971367\n"
     ]
    },
    {
     "name": "stdout",
     "output_type": "stream",
     "text": [
      "On fastq pair number 3200000 at 2016-07-14 01:44:51.927133\n"
     ]
    },
    {
     "name": "stdout",
     "output_type": "stream",
     "text": [
      "On fastq pair number 4100000 at 2016-07-14 01:44:51.988395\n"
     ]
    },
    {
     "name": "stdout",
     "output_type": "stream",
     "text": [
      "On fastq pair number 1300000 at 2016-07-14 01:44:54.807136\n"
     ]
    },
    {
     "name": "stdout",
     "output_type": "stream",
     "text": [
      "On fastq pair number 1700000 at 2016-07-14 01:44:57.833083\n"
     ]
    },
    {
     "name": "stdout",
     "output_type": "stream",
     "text": [
      "On fastq pair number 4200000 at 2016-07-14 01:44:59.540128\n"
     ]
    },
    {
     "name": "stdout",
     "output_type": "stream",
     "text": [
      "On fastq pair number 3300000 at 2016-07-14 01:44:59.745929\n"
     ]
    },
    {
     "name": "stdout",
     "output_type": "stream",
     "text": [
      "On fastq pair number 1400000 at 2016-07-14 01:45:02.359033\n"
     ]
    },
    {
     "name": "stdout",
     "output_type": "stream",
     "text": [
      "On fastq pair number 1800000 at 2016-07-14 01:45:05.679174\n"
     ]
    },
    {
     "name": "stdout",
     "output_type": "stream",
     "text": [
      "On fastq pair number 4300000 at 2016-07-14 01:45:07.314849\n"
     ]
    },
    {
     "name": "stdout",
     "output_type": "stream",
     "text": [
      "On fastq pair number 3400000 at 2016-07-14 01:45:07.643637\n"
     ]
    },
    {
     "name": "stdout",
     "output_type": "stream",
     "text": [
      "On fastq pair number 1500000 at 2016-07-14 01:45:09.954143\n"
     ]
    },
    {
     "name": "stdout",
     "output_type": "stream",
     "text": [
      "On fastq pair number 1900000 at 2016-07-14 01:45:13.506407\n"
     ]
    },
    {
     "name": "stdout",
     "output_type": "stream",
     "text": [
      "On fastq pair number 3500000 at 2016-07-14 01:45:15.531885\n"
     ]
    },
    {
     "name": "stdout",
     "output_type": "stream",
     "text": [
      "On fastq pair number 4400000 at 2016-07-14 01:45:15.825202\n"
     ]
    },
    {
     "name": "stdout",
     "output_type": "stream",
     "text": [
      "On fastq pair number 1600000 at 2016-07-14 01:45:17.579477\n"
     ]
    },
    {
     "name": "stdout",
     "output_type": "stream",
     "text": [
      "On fastq pair number 2000000 at 2016-07-14 01:45:21.301895\n"
     ]
    },
    {
     "name": "stdout",
     "output_type": "stream",
     "text": [
      "On fastq pair number 3600000 at 2016-07-14 01:45:23.385763\n"
     ]
    },
    {
     "name": "stdout",
     "output_type": "stream",
     "text": [
      "On fastq pair number 4500000 at 2016-07-14 01:45:23.789846\n"
     ]
    },
    {
     "name": "stdout",
     "output_type": "stream",
     "text": [
      "On fastq pair number 1700000 at 2016-07-14 01:45:25.194100\n"
     ]
    },
    {
     "name": "stdout",
     "output_type": "stream",
     "text": [
      "On fastq pair number 2100000 at 2016-07-14 01:45:29.181792\n"
     ]
    },
    {
     "name": "stdout",
     "output_type": "stream",
     "text": [
      "On fastq pair number 3700000 at 2016-07-14 01:45:31.196520\n"
     ]
    },
    {
     "name": "stdout",
     "output_type": "stream",
     "text": [
      "On fastq pair number 4600000 at 2016-07-14 01:45:31.294505\n"
     ]
    },
    {
     "name": "stdout",
     "output_type": "stream",
     "text": [
      "On fastq pair number 1800000 at 2016-07-14 01:45:32.720365\n"
     ]
    },
    {
     "name": "stdout",
     "output_type": "stream",
     "text": [
      "On fastq pair number 2200000 at 2016-07-14 01:45:37.018427\n"
     ]
    },
    {
     "name": "stdout",
     "output_type": "stream",
     "text": [
      "On fastq pair number 3800000 at 2016-07-14 01:45:38.978503\n"
     ]
    },
    {
     "name": "stdout",
     "output_type": "stream",
     "text": [
      "On fastq pair number 4700000 at 2016-07-14 01:45:39.474884\n"
     ]
    },
    {
     "name": "stdout",
     "output_type": "stream",
     "text": [
      "On fastq pair number 1900000 at 2016-07-14 01:45:40.216649\n"
     ]
    },
    {
     "name": "stdout",
     "output_type": "stream",
     "text": [
      "On fastq pair number 2300000 at 2016-07-14 01:45:44.850402\n"
     ]
    },
    {
     "name": "stdout",
     "output_type": "stream",
     "text": [
      "On fastq pair number 3900000 at 2016-07-14 01:45:46.748380\n"
     ]
    },
    {
     "name": "stdout",
     "output_type": "stream",
     "text": [
      "On fastq pair number 2000000 at 2016-07-14 01:45:47.829814\n"
     ]
    },
    {
     "name": "stdout",
     "output_type": "stream",
     "text": [
      "On fastq pair number 4800000 at 2016-07-14 01:45:49.858586\n"
     ]
    },
    {
     "name": "stdout",
     "output_type": "stream",
     "text": [
      "On fastq pair number 2400000 at 2016-07-14 01:45:52.580484\n"
     ]
    },
    {
     "name": "stdout",
     "output_type": "stream",
     "text": [
      "On fastq pair number 4000000 at 2016-07-14 01:45:54.471593\n"
     ]
    },
    {
     "name": "stdout",
     "output_type": "stream",
     "text": [
      "On fastq pair number 2100000 at 2016-07-14 01:45:55.348248\n"
     ]
    },
    {
     "name": "stdout",
     "output_type": "stream",
     "text": [
      "On fastq pair number 4900000 at 2016-07-14 01:45:58.442525\n"
     ]
    },
    {
     "name": "stdout",
     "output_type": "stream",
     "text": [
      "On fastq pair number 2500000 at 2016-07-14 01:46:01.387283\n"
     ]
    },
    {
     "name": "stdout",
     "output_type": "stream",
     "text": [
      "On fastq pair number 4100000 at 2016-07-14 01:46:02.222932\n"
     ]
    },
    {
     "name": "stdout",
     "output_type": "stream",
     "text": [
      "On fastq pair number 2200000 at 2016-07-14 01:46:02.880317\n"
     ]
    },
    {
     "name": "stdout",
     "output_type": "stream",
     "text": [
      "On fastq pair number 5000000 at 2016-07-14 01:46:06.549804\n"
     ]
    },
    {
     "name": "stdout",
     "output_type": "stream",
     "text": [
      "On fastq pair number 2600000 at 2016-07-14 01:46:09.190444\n"
     ]
    },
    {
     "name": "stdout",
     "output_type": "stream",
     "text": [
      "On fastq pair number 4200000 at 2016-07-14 01:46:10.307950\n"
     ]
    },
    {
     "name": "stdout",
     "output_type": "stream",
     "text": [
      "On fastq pair number 2300000 at 2016-07-14 01:46:10.365094\n"
     ]
    },
    {
     "name": "stdout",
     "output_type": "stream",
     "text": [
      "On fastq pair number 5100000 at 2016-07-14 01:46:14.104126\n"
     ]
    },
    {
     "name": "stdout",
     "output_type": "stream",
     "text": [
      "On fastq pair number 2700000 at 2016-07-14 01:46:16.969644\n"
     ]
    },
    {
     "name": "stdout",
     "output_type": "stream",
     "text": [
      "On fastq pair number 2400000 at 2016-07-14 01:46:17.975382\n"
     ]
    },
    {
     "name": "stdout",
     "output_type": "stream",
     "text": [
      "On fastq pair number 4300000 at 2016-07-14 01:46:18.143385\n"
     ]
    },
    {
     "name": "stdout",
     "output_type": "stream",
     "text": [
      "On fastq pair number 5200000 at 2016-07-14 01:46:21.627713\n"
     ]
    },
    {
     "name": "stdout",
     "output_type": "stream",
     "text": [
      "On fastq pair number 2800000 at 2016-07-14 01:46:24.794430\n"
     ]
    },
    {
     "name": "stdout",
     "output_type": "stream",
     "text": [
      "On fastq pair number 2500000 at 2016-07-14 01:46:25.472268\n"
     ]
    },
    {
     "name": "stdout",
     "output_type": "stream",
     "text": [
      "On fastq pair number 4400000 at 2016-07-14 01:46:26.470530\n"
     ]
    },
    {
     "name": "stdout",
     "output_type": "stream",
     "text": [
      "On fastq pair number 5300000 at 2016-07-14 01:46:29.219549\n"
     ]
    },
    {
     "name": "stdout",
     "output_type": "stream",
     "text": [
      "On fastq pair number 2900000 at 2016-07-14 01:46:32.679274\n"
     ]
    },
    {
     "name": "stdout",
     "output_type": "stream",
     "text": [
      "On fastq pair number 2600000 at 2016-07-14 01:46:32.957724\n"
     ]
    },
    {
     "name": "stdout",
     "output_type": "stream",
     "text": [
      "On fastq pair number 4500000 at 2016-07-14 01:46:34.253446\n"
     ]
    },
    {
     "name": "stdout",
     "output_type": "stream",
     "text": [
      "On fastq pair number 5400000 at 2016-07-14 01:46:36.835617\n"
     ]
    },
    {
     "name": "stdout",
     "output_type": "stream",
     "text": [
      "On fastq pair number 2700000 at 2016-07-14 01:46:40.507485\n"
     ]
    },
    {
     "name": "stdout",
     "output_type": "stream",
     "text": [
      "On fastq pair number 3000000 at 2016-07-14 01:46:40.572263\n"
     ]
    },
    {
     "name": "stdout",
     "output_type": "stream",
     "text": [
      "On fastq pair number 4600000 at 2016-07-14 01:46:42.083349\n"
     ]
    },
    {
     "name": "stdout",
     "output_type": "stream",
     "text": [
      "On fastq pair number 5500000 at 2016-07-14 01:46:44.346949\n"
     ]
    },
    {
     "name": "stdout",
     "output_type": "stream",
     "text": [
      "On fastq pair number 2800000 at 2016-07-14 01:46:48.110659\n"
     ]
    },
    {
     "name": "stdout",
     "output_type": "stream",
     "text": [
      "On fastq pair number 3100000 at 2016-07-14 01:46:48.455208\n"
     ]
    },
    {
     "name": "stdout",
     "output_type": "stream",
     "text": [
      "On fastq pair number 4700000 at 2016-07-14 01:46:50.105071\n"
     ]
    },
    {
     "name": "stdout",
     "output_type": "stream",
     "text": [
      "On fastq pair number 5600000 at 2016-07-14 01:46:51.871123\n"
     ]
    },
    {
     "name": "stdout",
     "output_type": "stream",
     "text": [
      "On fastq pair number 2900000 at 2016-07-14 01:46:55.698836\n"
     ]
    },
    {
     "name": "stdout",
     "output_type": "stream",
     "text": [
      "On fastq pair number 3200000 at 2016-07-14 01:46:56.317259\n"
     ]
    },
    {
     "name": "stdout",
     "output_type": "stream",
     "text": [
      "On fastq pair number 4800000 at 2016-07-14 01:46:57.984669\n"
     ]
    },
    {
     "name": "stdout",
     "output_type": "stream",
     "text": [
      "On fastq pair number 5700000 at 2016-07-14 01:46:59.465176\n"
     ]
    },
    {
     "name": "stdout",
     "output_type": "stream",
     "text": [
      "On fastq pair number 3000000 at 2016-07-14 01:47:03.289256\n"
     ]
    },
    {
     "name": "stdout",
     "output_type": "stream",
     "text": [
      "On fastq pair number 3300000 at 2016-07-14 01:47:04.169644\n"
     ]
    },
    {
     "name": "stdout",
     "output_type": "stream",
     "text": [
      "On fastq pair number 4900000 at 2016-07-14 01:47:05.858180\n"
     ]
    },
    {
     "name": "stdout",
     "output_type": "stream",
     "text": [
      "On fastq pair number 5800000 at 2016-07-14 01:47:07.078416\n"
     ]
    },
    {
     "name": "stdout",
     "output_type": "stream",
     "text": [
      "On fastq pair number 3100000 at 2016-07-14 01:47:10.874391\n"
     ]
    },
    {
     "name": "stdout",
     "output_type": "stream",
     "text": [
      "On fastq pair number 3400000 at 2016-07-14 01:47:12.030112\n"
     ]
    },
    {
     "name": "stdout",
     "output_type": "stream",
     "text": [
      "On fastq pair number 5000000 at 2016-07-14 01:47:13.766032\n"
     ]
    },
    {
     "name": "stdout",
     "output_type": "stream",
     "text": [
      "On fastq pair number 5900000 at 2016-07-14 01:47:14.665076\n"
     ]
    },
    {
     "name": "stdout",
     "output_type": "stream",
     "text": [
      "On fastq pair number 3500000 at 2016-07-14 01:47:19.917993\n"
     ]
    },
    {
     "name": "stdout",
     "output_type": "stream",
     "text": [
      "On fastq pair number 5100000 at 2016-07-14 01:47:21.695243\n"
     ]
    },
    {
     "name": "stdout",
     "output_type": "stream",
     "text": [
      "On fastq pair number 3200000 at 2016-07-14 01:47:22.216827\n"
     ]
    },
    {
     "name": "stdout",
     "output_type": "stream",
     "text": [
      "On fastq pair number 6000000 at 2016-07-14 01:47:26.937555\n"
     ]
    },
    {
     "name": "stdout",
     "output_type": "stream",
     "text": [
      "On fastq pair number 3600000 at 2016-07-14 01:47:28.416728\n"
     ]
    },
    {
     "name": "stdout",
     "output_type": "stream",
     "text": [
      "On fastq pair number 3300000 at 2016-07-14 01:47:29.784260\n"
     ]
    },
    {
     "name": "stdout",
     "output_type": "stream",
     "text": [
      "On fastq pair number 5200000 at 2016-07-14 01:47:29.887806\n"
     ]
    },
    {
     "name": "stdout",
     "output_type": "stream",
     "text": [
      "On fastq pair number 3400000 at 2016-07-14 01:47:37.346310\n"
     ]
    },
    {
     "name": "stdout",
     "output_type": "stream",
     "text": [
      "On fastq pair number 5300000 at 2016-07-14 01:47:37.808731\n"
     ]
    },
    {
     "name": "stdout",
     "output_type": "stream",
     "text": [
      "On fastq pair number 3500000 at 2016-07-14 01:47:44.959338\n"
     ]
    },
    {
     "name": "stdout",
     "output_type": "stream",
     "text": [
      "On fastq pair number 3700000 at 2016-07-14 01:47:45.016726\n"
     ]
    },
    {
     "name": "stdout",
     "output_type": "stream",
     "text": [
      "On fastq pair number 6100000 at 2016-07-14 01:47:45.388862\n"
     ]
    },
    {
     "name": "stdout",
     "output_type": "stream",
     "text": [
      "On fastq pair number 5400000 at 2016-07-14 01:47:45.663358\n"
     ]
    },
    {
     "name": "stdout",
     "output_type": "stream",
     "text": [
      "On fastq pair number 3600000 at 2016-07-14 01:47:52.669751\n"
     ]
    },
    {
     "name": "stdout",
     "output_type": "stream",
     "text": [
      "On fastq pair number 3800000 at 2016-07-14 01:47:52.859451\n"
     ]
    },
    {
     "name": "stdout",
     "output_type": "stream",
     "text": [
      "On fastq pair number 3700000 at 2016-07-14 01:48:00.202350\n"
     ]
    },
    {
     "name": "stdout",
     "output_type": "stream",
     "text": [
      "On fastq pair number 3900000 at 2016-07-14 01:48:00.876602\n"
     ]
    },
    {
     "name": "stdout",
     "output_type": "stream",
     "text": [
      "On fastq pair number 5500000 at 2016-07-14 01:48:01.138369\n"
     ]
    },
    {
     "name": "stdout",
     "output_type": "stream",
     "text": [
      "On fastq pair number 6200000 at 2016-07-14 01:48:01.348921\n"
     ]
    },
    {
     "name": "stdout",
     "output_type": "stream",
     "text": [
      "On fastq pair number 3800000 at 2016-07-14 01:48:08.052688\n"
     ]
    },
    {
     "name": "stdout",
     "output_type": "stream",
     "text": [
      "On fastq pair number 4000000 at 2016-07-14 01:48:08.829466\n"
     ]
    },
    {
     "name": "stdout",
     "output_type": "stream",
     "text": [
      "On fastq pair number 5600000 at 2016-07-14 01:48:09.036767\n"
     ]
    },
    {
     "name": "stdout",
     "output_type": "stream",
     "text": [
      "On fastq pair number 6300000 at 2016-07-14 01:48:09.210155\n"
     ]
    },
    {
     "name": "stdout",
     "output_type": "stream",
     "text": [
      "On fastq pair number 3900000 at 2016-07-14 01:48:15.547249\n"
     ]
    },
    {
     "name": "stdout",
     "output_type": "stream",
     "text": [
      "On fastq pair number 4100000 at 2016-07-14 01:48:16.581073\n"
     ]
    },
    {
     "name": "stdout",
     "output_type": "stream",
     "text": [
      "On fastq pair number 6400000 at 2016-07-14 01:48:16.694140\n"
     ]
    },
    {
     "name": "stdout",
     "output_type": "stream",
     "text": [
      "On fastq pair number 5700000 at 2016-07-14 01:48:16.922162\n"
     ]
    },
    {
     "name": "stdout",
     "output_type": "stream",
     "text": [
      "On fastq pair number 4000000 at 2016-07-14 01:48:23.100391\n"
     ]
    },
    {
     "name": "stdout",
     "output_type": "stream",
     "text": [
      "On fastq pair number 4200000 at 2016-07-14 01:48:24.363659\n"
     ]
    },
    {
     "name": "stdout",
     "output_type": "stream",
     "text": [
      "On fastq pair number 5800000 at 2016-07-14 01:48:24.725734\n"
     ]
    },
    {
     "name": "stdout",
     "output_type": "stream",
     "text": [
      "On fastq pair number 6500000 at 2016-07-14 01:48:25.527739\n"
     ]
    },
    {
     "name": "stdout",
     "output_type": "stream",
     "text": [
      "On fastq pair number 4100000 at 2016-07-14 01:48:30.537096\n"
     ]
    },
    {
     "name": "stdout",
     "output_type": "stream",
     "text": [
      "On fastq pair number 4300000 at 2016-07-14 01:48:32.314344\n"
     ]
    },
    {
     "name": "stdout",
     "output_type": "stream",
     "text": [
      "On fastq pair number 5900000 at 2016-07-14 01:48:32.514746\n"
     ]
    },
    {
     "name": "stdout",
     "output_type": "stream",
     "text": [
      "On fastq pair number 6600000 at 2016-07-14 01:48:35.612557\n"
     ]
    },
    {
     "name": "stdout",
     "output_type": "stream",
     "text": [
      "On fastq pair number 4200000 at 2016-07-14 01:48:38.335699\n"
     ]
    },
    {
     "name": "stdout",
     "output_type": "stream",
     "text": [
      "On fastq pair number 4400000 at 2016-07-14 01:48:40.078198\n"
     ]
    },
    {
     "name": "stdout",
     "output_type": "stream",
     "text": [
      "On fastq pair number 6000000 at 2016-07-14 01:48:40.272363\n"
     ]
    },
    {
     "name": "stdout",
     "output_type": "stream",
     "text": [
      "On fastq pair number 6700000 at 2016-07-14 01:48:43.040219\n"
     ]
    },
    {
     "name": "stdout",
     "output_type": "stream",
     "text": [
      "On fastq pair number 4300000 at 2016-07-14 01:48:45.895679\n"
     ]
    },
    {
     "name": "stdout",
     "output_type": "stream",
     "text": [
      "On fastq pair number 6100000 at 2016-07-14 01:48:48.092380\n"
     ]
    },
    {
     "name": "stdout",
     "output_type": "stream",
     "text": [
      "On fastq pair number 4500000 at 2016-07-14 01:48:48.196028\n"
     ]
    },
    {
     "name": "stdout",
     "output_type": "stream",
     "text": [
      "On fastq pair number 6800000 at 2016-07-14 01:48:52.598325\n"
     ]
    },
    {
     "name": "stdout",
     "output_type": "stream",
     "text": [
      "On fastq pair number 4400000 at 2016-07-14 01:48:53.906983\n"
     ]
    },
    {
     "name": "stdout",
     "output_type": "stream",
     "text": [
      "On fastq pair number 6200000 at 2016-07-14 01:48:55.923975\n"
     ]
    },
    {
     "name": "stdout",
     "output_type": "stream",
     "text": [
      "On fastq pair number 4600000 at 2016-07-14 01:48:56.029268\n"
     ]
    },
    {
     "name": "stdout",
     "output_type": "stream",
     "text": [
      "On fastq pair number 6900000 at 2016-07-14 01:49:01.236664\n"
     ]
    },
    {
     "name": "stdout",
     "output_type": "stream",
     "text": [
      "On fastq pair number 4500000 at 2016-07-14 01:49:01.482776\n"
     ]
    },
    {
     "name": "stdout",
     "output_type": "stream",
     "text": [
      "On fastq pair number 6300000 at 2016-07-14 01:49:03.791381\n"
     ]
    },
    {
     "name": "stdout",
     "output_type": "stream",
     "text": [
      "On fastq pair number 4700000 at 2016-07-14 01:49:04.318276\n"
     ]
    },
    {
     "name": "stdout",
     "output_type": "stream",
     "text": [
      "On fastq pair number 7000000 at 2016-07-14 01:49:08.882191\n"
     ]
    },
    {
     "name": "stdout",
     "output_type": "stream",
     "text": [
      "On fastq pair number 4600000 at 2016-07-14 01:49:09.024331\n"
     ]
    },
    {
     "name": "stdout",
     "output_type": "stream",
     "text": [
      "On fastq pair number 6400000 at 2016-07-14 01:49:11.646006\n"
     ]
    },
    {
     "name": "stdout",
     "output_type": "stream",
     "text": [
      "On fastq pair number 4800000 at 2016-07-14 01:49:12.131268\n"
     ]
    },
    {
     "name": "stdout",
     "output_type": "stream",
     "text": [
      "On fastq pair number 7100000 at 2016-07-14 01:49:16.370531\n"
     ]
    },
    {
     "name": "stdout",
     "output_type": "stream",
     "text": [
      "On fastq pair number 4700000 at 2016-07-14 01:49:16.695184\n"
     ]
    },
    {
     "name": "stdout",
     "output_type": "stream",
     "text": [
      "On fastq pair number 6500000 at 2016-07-14 01:49:19.563029\n"
     ]
    },
    {
     "name": "stdout",
     "output_type": "stream",
     "text": [
      "On fastq pair number 4900000 at 2016-07-14 01:49:20.050219\n"
     ]
    },
    {
     "name": "stdout",
     "output_type": "stream",
     "text": [
      "On fastq pair number 7200000 at 2016-07-14 01:49:23.905569\n"
     ]
    },
    {
     "name": "stdout",
     "output_type": "stream",
     "text": [
      "On fastq pair number 4800000 at 2016-07-14 01:49:24.304558\n"
     ]
    },
    {
     "name": "stdout",
     "output_type": "stream",
     "text": [
      "On fastq pair number 6600000 at 2016-07-14 01:49:27.446170\n"
     ]
    },
    {
     "name": "stdout",
     "output_type": "stream",
     "text": [
      "On fastq pair number 5000000 at 2016-07-14 01:49:28.034366\n"
     ]
    },
    {
     "name": "stdout",
     "output_type": "stream",
     "text": [
      "On fastq pair number 7300000 at 2016-07-14 01:49:31.378062\n"
     ]
    },
    {
     "name": "stdout",
     "output_type": "stream",
     "text": [
      "On fastq pair number 4900000 at 2016-07-14 01:49:31.900817\n"
     ]
    },
    {
     "name": "stdout",
     "output_type": "stream",
     "text": [
      "On fastq pair number 6700000 at 2016-07-14 01:49:35.382227\n"
     ]
    },
    {
     "name": "stdout",
     "output_type": "stream",
     "text": [
      "On fastq pair number 5100000 at 2016-07-14 01:49:35.913938\n"
     ]
    },
    {
     "name": "stdout",
     "output_type": "stream",
     "text": [
      "On fastq pair number 7400000 at 2016-07-14 01:49:38.865009\n"
     ]
    },
    {
     "name": "stdout",
     "output_type": "stream",
     "text": [
      "On fastq pair number 5000000 at 2016-07-14 01:49:39.492473\n"
     ]
    },
    {
     "name": "stdout",
     "output_type": "stream",
     "text": [
      "On fastq pair number 6800000 at 2016-07-14 01:49:43.288388\n"
     ]
    },
    {
     "name": "stdout",
     "output_type": "stream",
     "text": [
      "On fastq pair number 5200000 at 2016-07-14 01:49:43.859339\n"
     ]
    },
    {
     "name": "stdout",
     "output_type": "stream",
     "text": [
      "On fastq pair number 7500000 at 2016-07-14 01:49:46.332203\n"
     ]
    },
    {
     "name": "stdout",
     "output_type": "stream",
     "text": [
      "On fastq pair number 5100000 at 2016-07-14 01:49:47.085398\n"
     ]
    },
    {
     "name": "stdout",
     "output_type": "stream",
     "text": [
      "On fastq pair number 6900000 at 2016-07-14 01:49:51.340606\n"
     ]
    },
    {
     "name": "stdout",
     "output_type": "stream",
     "text": [
      "On fastq pair number 5300000 at 2016-07-14 01:49:52.036045\n"
     ]
    },
    {
     "name": "stdout",
     "output_type": "stream",
     "text": [
      "On fastq pair number 7600000 at 2016-07-14 01:49:53.819462\n"
     ]
    },
    {
     "name": "stdout",
     "output_type": "stream",
     "text": [
      "On fastq pair number 5200000 at 2016-07-14 01:49:54.692350\n"
     ]
    },
    {
     "name": "stdout",
     "output_type": "stream",
     "text": [
      "On fastq pair number 7000000 at 2016-07-14 01:49:59.492594\n"
     ]
    },
    {
     "name": "stdout",
     "output_type": "stream",
     "text": [
      "On fastq pair number 5400000 at 2016-07-14 01:49:59.872288\n"
     ]
    },
    {
     "name": "stdout",
     "output_type": "stream",
     "text": [
      "On fastq pair number 7700000 at 2016-07-14 01:50:01.733744\n"
     ]
    },
    {
     "name": "stdout",
     "output_type": "stream",
     "text": [
      "On fastq pair number 5300000 at 2016-07-14 01:50:02.336945\n"
     ]
    },
    {
     "name": "stdout",
     "output_type": "stream",
     "text": [
      "On fastq pair number 7100000 at 2016-07-14 01:50:07.427978\n"
     ]
    },
    {
     "name": "stdout",
     "output_type": "stream",
     "text": [
      "On fastq pair number 5500000 at 2016-07-14 01:50:07.728190\n"
     ]
    },
    {
     "name": "stdout",
     "output_type": "stream",
     "text": [
      "On fastq pair number 5400000 at 2016-07-14 01:50:09.932246\n"
     ]
    },
    {
     "name": "stdout",
     "output_type": "stream",
     "text": [
      "On fastq pair number 7800000 at 2016-07-14 01:50:10.255207\n"
     ]
    },
    {
     "name": "stdout",
     "output_type": "stream",
     "text": [
      "On fastq pair number 7200000 at 2016-07-14 01:50:16.073224\n"
     ]
    },
    {
     "name": "stdout",
     "output_type": "stream",
     "text": [
      "On fastq pair number 5600000 at 2016-07-14 01:50:16.267587\n"
     ]
    },
    {
     "name": "stdout",
     "output_type": "stream",
     "text": [
      "On fastq pair number 5500000 at 2016-07-14 01:50:17.564291\n"
     ]
    },
    {
     "name": "stdout",
     "output_type": "stream",
     "text": [
      "On fastq pair number 7900000 at 2016-07-14 01:50:17.803114\n"
     ]
    },
    {
     "name": "stdout",
     "output_type": "stream",
     "text": [
      "On fastq pair number 7300000 at 2016-07-14 01:50:24.319211\n"
     ]
    },
    {
     "name": "stdout",
     "output_type": "stream",
     "text": [
      "On fastq pair number 5700000 at 2016-07-14 01:50:24.543911\n"
     ]
    },
    {
     "name": "stdout",
     "output_type": "stream",
     "text": [
      "A549_MV4_d3_2_S2_L001_001_trimmed53_len_filtered elapsed time: 0:10:48\n"
     ]
    },
    {
     "name": "stdout",
     "output_type": "stream",
     "text": [
      "Starting A549_MV4_d3_2_S2_L002_001_trimmed53_len_filtered at 2016-07-14 01:50:24.785551\n"
     ]
    },
    {
     "name": "stdout",
     "output_type": "stream",
     "text": [
      "On fastq pair number 5600000 at 2016-07-14 01:50:25.255043\n"
     ]
    },
    {
     "name": "stdout",
     "output_type": "stream",
     "text": [
      "On fastq pair number 100000 at 2016-07-14 01:50:32.340515\n"
     ]
    },
    {
     "name": "stdout",
     "output_type": "stream",
     "text": [
      "On fastq pair number 7400000 at 2016-07-14 01:50:32.379805\n"
     ]
    },
    {
     "name": "stdout",
     "output_type": "stream",
     "text": [
      "On fastq pair number 5800000 at 2016-07-14 01:50:32.392194\n"
     ]
    },
    {
     "name": "stdout",
     "output_type": "stream",
     "text": [
      "On fastq pair number 5700000 at 2016-07-14 01:50:32.830077\n"
     ]
    },
    {
     "name": "stdout",
     "output_type": "stream",
     "text": [
      "A549_MV4_d28_1_S7_L002_001_trimmed53_len_filtered elapsed time: 0:10:16\n"
     ]
    },
    {
     "name": "stdout",
     "output_type": "stream",
     "text": [
      "Starting Hela_MV4_d20_1_S9_L001_001_trimmed53_len_filtered at 2016-07-14 01:50:35.265639\n"
     ]
    },
    {
     "name": "stdout",
     "output_type": "stream",
     "text": [
      "On fastq pair number 200000 at 2016-07-14 01:50:39.780194\n"
     ]
    },
    {
     "name": "stdout",
     "output_type": "stream",
     "text": [
      "On fastq pair number 5900000 at 2016-07-14 01:50:40.248262\n"
     ]
    },
    {
     "name": "stdout",
     "output_type": "stream",
     "text": [
      "On fastq pair number 5800000 at 2016-07-14 01:50:40.314260\n"
     ]
    },
    {
     "name": "stdout",
     "output_type": "stream",
     "text": [
      "On fastq pair number 100000 at 2016-07-14 01:50:43.688971\n"
     ]
    },
    {
     "name": "stdout",
     "output_type": "stream",
     "text": [
      "On fastq pair number 300000 at 2016-07-14 01:50:47.119210\n"
     ]
    },
    {
     "name": "stdout",
     "output_type": "stream",
     "text": [
      "On fastq pair number 5900000 at 2016-07-14 01:50:47.838134\n"
     ]
    },
    {
     "name": "stdout",
     "output_type": "stream",
     "text": [
      "On fastq pair number 6000000 at 2016-07-14 01:50:48.128389\n"
     ]
    },
    {
     "name": "stdout",
     "output_type": "stream",
     "text": [
      "On fastq pair number 200000 at 2016-07-14 01:50:52.017886\n"
     ]
    },
    {
     "name": "stdout",
     "output_type": "stream",
     "text": [
      "On fastq pair number 400000 at 2016-07-14 01:50:54.487584\n"
     ]
    },
    {
     "name": "stdout",
     "output_type": "stream",
     "text": [
      "On fastq pair number 6000000 at 2016-07-14 01:50:55.288362\n"
     ]
    },
    {
     "name": "stdout",
     "output_type": "stream",
     "text": [
      "On fastq pair number 6100000 at 2016-07-14 01:50:55.930619\n"
     ]
    },
    {
     "name": "stdout",
     "output_type": "stream",
     "text": [
      "On fastq pair number 300000 at 2016-07-14 01:51:00.376772\n"
     ]
    },
    {
     "name": "stdout",
     "output_type": "stream",
     "text": [
      "On fastq pair number 500000 at 2016-07-14 01:51:01.906312\n"
     ]
    },
    {
     "name": "stdout",
     "output_type": "stream",
     "text": [
      "On fastq pair number 6100000 at 2016-07-14 01:51:02.851255\n"
     ]
    },
    {
     "name": "stdout",
     "output_type": "stream",
     "text": [
      "On fastq pair number 6200000 at 2016-07-14 01:51:03.693613\n"
     ]
    },
    {
     "name": "stdout",
     "output_type": "stream",
     "text": [
      "On fastq pair number 400000 at 2016-07-14 01:51:08.696253\n"
     ]
    },
    {
     "name": "stdout",
     "output_type": "stream",
     "text": [
      "On fastq pair number 600000 at 2016-07-14 01:51:09.267587\n"
     ]
    },
    {
     "name": "stdout",
     "output_type": "stream",
     "text": [
      "On fastq pair number 6200000 at 2016-07-14 01:51:10.357022\n"
     ]
    },
    {
     "name": "stdout",
     "output_type": "stream",
     "text": [
      "On fastq pair number 6300000 at 2016-07-14 01:51:11.543700\n"
     ]
    },
    {
     "name": "stdout",
     "output_type": "stream",
     "text": [
      "On fastq pair number 500000 at 2016-07-14 01:51:17.078790\n"
     ]
    },
    {
     "name": "stdout",
     "output_type": "stream",
     "text": [
      "On fastq pair number 6300000 at 2016-07-14 01:51:17.925733\n"
     ]
    },
    {
     "name": "stdout",
     "output_type": "stream",
     "text": [
      "On fastq pair number 700000 at 2016-07-14 01:51:19.569289\n"
     ]
    },
    {
     "name": "stdout",
     "output_type": "stream",
     "text": [
      "On fastq pair number 6400000 at 2016-07-14 01:51:24.795345\n"
     ]
    },
    {
     "name": "stdout",
     "output_type": "stream",
     "text": [
      "On fastq pair number 600000 at 2016-07-14 01:51:25.780205\n"
     ]
    },
    {
     "name": "stdout",
     "output_type": "stream",
     "text": [
      "On fastq pair number 800000 at 2016-07-14 01:51:26.934200\n"
     ]
    },
    {
     "name": "stdout",
     "output_type": "stream",
     "text": [
      "On fastq pair number 6400000 at 2016-07-14 01:51:29.034447\n"
     ]
    },
    {
     "name": "stdout",
     "output_type": "stream",
     "text": [
      "On fastq pair number 6500000 at 2016-07-14 01:51:33.168777\n"
     ]
    },
    {
     "name": "stdout",
     "output_type": "stream",
     "text": [
      "On fastq pair number 700000 at 2016-07-14 01:51:34.014177\n"
     ]
    },
    {
     "name": "stdout",
     "output_type": "stream",
     "text": [
      "On fastq pair number 900000 at 2016-07-14 01:51:34.326848\n"
     ]
    },
    {
     "name": "stdout",
     "output_type": "stream",
     "text": [
      "On fastq pair number 6500000 at 2016-07-14 01:51:36.680300\n"
     ]
    },
    {
     "name": "stdout",
     "output_type": "stream",
     "text": [
      "On fastq pair number 6600000 at 2016-07-14 01:51:41.009120\n"
     ]
    },
    {
     "name": "stdout",
     "output_type": "stream",
     "text": [
      "On fastq pair number 1000000 at 2016-07-14 01:51:41.765909\n"
     ]
    },
    {
     "name": "stdout",
     "output_type": "stream",
     "text": [
      "On fastq pair number 800000 at 2016-07-14 01:51:42.300642\n"
     ]
    },
    {
     "name": "stdout",
     "output_type": "stream",
     "text": [
      "On fastq pair number 6600000 at 2016-07-14 01:51:44.963023\n"
     ]
    },
    {
     "name": "stdout",
     "output_type": "stream",
     "text": [
      "On fastq pair number 900000 at 2016-07-14 01:51:50.638339\n"
     ]
    },
    {
     "name": "stdout",
     "output_type": "stream",
     "text": [
      "On fastq pair number 1100000 at 2016-07-14 01:51:50.672320\n"
     ]
    },
    {
     "name": "stdout",
     "output_type": "stream",
     "text": [
      "On fastq pair number 6700000 at 2016-07-14 01:51:51.151814\n"
     ]
    },
    {
     "name": "stdout",
     "output_type": "stream",
     "text": [
      "On fastq pair number 6700000 at 2016-07-14 01:51:52.835246\n"
     ]
    },
    {
     "name": "stdout",
     "output_type": "stream",
     "text": [
      "On fastq pair number 1200000 at 2016-07-14 01:51:58.146461\n"
     ]
    },
    {
     "name": "stdout",
     "output_type": "stream",
     "text": [
      "On fastq pair number 6800000 at 2016-07-14 01:51:58.985631\n"
     ]
    },
    {
     "name": "stdout",
     "output_type": "stream",
     "text": [
      "On fastq pair number 1000000 at 2016-07-14 01:51:59.005976\n"
     ]
    },
    {
     "name": "stdout",
     "output_type": "stream",
     "text": [
      "On fastq pair number 6800000 at 2016-07-14 01:52:00.471159\n"
     ]
    },
    {
     "name": "stdout",
     "output_type": "stream",
     "text": [
      "On fastq pair number 1300000 at 2016-07-14 01:52:05.609150\n"
     ]
    },
    {
     "name": "stdout",
     "output_type": "stream",
     "text": [
      "On fastq pair number 6900000 at 2016-07-14 01:52:06.839236\n"
     ]
    },
    {
     "name": "stdout",
     "output_type": "stream",
     "text": [
      "On fastq pair number 1100000 at 2016-07-14 01:52:07.347393\n"
     ]
    },
    {
     "name": "stdout",
     "output_type": "stream",
     "text": [
      "On fastq pair number 6900000 at 2016-07-14 01:52:08.133171\n"
     ]
    },
    {
     "name": "stdout",
     "output_type": "stream",
     "text": [
      "On fastq pair number 1400000 at 2016-07-14 01:52:13.054730\n"
     ]
    },
    {
     "name": "stdout",
     "output_type": "stream",
     "text": [
      "On fastq pair number 7000000 at 2016-07-14 01:52:14.760768\n"
     ]
    },
    {
     "name": "stdout",
     "output_type": "stream",
     "text": [
      "On fastq pair number 1200000 at 2016-07-14 01:52:15.673177\n"
     ]
    },
    {
     "name": "stdout",
     "output_type": "stream",
     "text": [
      "On fastq pair number 7000000 at 2016-07-14 01:52:15.791818\n"
     ]
    },
    {
     "name": "stdout",
     "output_type": "stream",
     "text": [
      "On fastq pair number 1500000 at 2016-07-14 01:52:20.426223\n"
     ]
    },
    {
     "name": "stdout",
     "output_type": "stream",
     "text": [
      "On fastq pair number 7100000 at 2016-07-14 01:52:22.633778\n"
     ]
    },
    {
     "name": "stdout",
     "output_type": "stream",
     "text": [
      "On fastq pair number 7100000 at 2016-07-14 01:52:23.457567\n"
     ]
    },
    {
     "name": "stdout",
     "output_type": "stream",
     "text": [
      "On fastq pair number 1300000 at 2016-07-14 01:52:24.009940\n"
     ]
    },
    {
     "name": "stdout",
     "output_type": "stream",
     "text": [
      "On fastq pair number 1600000 at 2016-07-14 01:52:27.875199\n"
     ]
    },
    {
     "name": "stdout",
     "output_type": "stream",
     "text": [
      "On fastq pair number 7200000 at 2016-07-14 01:52:30.516360\n"
     ]
    },
    {
     "name": "stdout",
     "output_type": "stream",
     "text": [
      "On fastq pair number 7200000 at 2016-07-14 01:52:31.150057\n"
     ]
    },
    {
     "name": "stdout",
     "output_type": "stream",
     "text": [
      "On fastq pair number 1400000 at 2016-07-14 01:52:32.376484\n"
     ]
    },
    {
     "name": "stdout",
     "output_type": "stream",
     "text": [
      "On fastq pair number 1700000 at 2016-07-14 01:52:35.364864\n"
     ]
    },
    {
     "name": "stdout",
     "output_type": "stream",
     "text": [
      "On fastq pair number 7300000 at 2016-07-14 01:52:38.409339\n"
     ]
    },
    {
     "name": "stdout",
     "output_type": "stream",
     "text": [
      "On fastq pair number 7300000 at 2016-07-14 01:52:38.791105\n"
     ]
    },
    {
     "name": "stdout",
     "output_type": "stream",
     "text": [
      "On fastq pair number 1500000 at 2016-07-14 01:52:40.725513\n"
     ]
    },
    {
     "name": "stdout",
     "output_type": "stream",
     "text": [
      "On fastq pair number 1800000 at 2016-07-14 01:52:42.824652\n"
     ]
    },
    {
     "name": "stdout",
     "output_type": "stream",
     "text": [
      "A549_MV4_d3_1_S1_L002_001_trimmed53_len_filtered elapsed time: 0:09:38\n"
     ]
    },
    {
     "name": "stdout",
     "output_type": "stream",
     "text": [
      "Starting Hela_MV4_d20_2_S10_L001_001_trimmed53_len_filtered at 2016-07-14 01:52:43.939228\n"
     ]
    },
    {
     "name": "stdout",
     "output_type": "stream",
     "text": [
      "On fastq pair number 7400000 at 2016-07-14 01:52:46.329754\n"
     ]
    },
    {
     "name": "stdout",
     "output_type": "stream",
     "text": [
      "On fastq pair number 1600000 at 2016-07-14 01:52:48.996194\n"
     ]
    },
    {
     "name": "stdout",
     "output_type": "stream",
     "text": [
      "On fastq pair number 1900000 at 2016-07-14 01:52:50.252180\n"
     ]
    },
    {
     "name": "stdout",
     "output_type": "stream",
     "text": [
      "On fastq pair number 100000 at 2016-07-14 01:52:52.242697\n"
     ]
    },
    {
     "name": "stdout",
     "output_type": "stream",
     "text": [
      "On fastq pair number 7500000 at 2016-07-14 01:52:54.250813\n"
     ]
    },
    {
     "name": "stdout",
     "output_type": "stream",
     "text": [
      "On fastq pair number 1700000 at 2016-07-14 01:52:57.285021\n"
     ]
    },
    {
     "name": "stdout",
     "output_type": "stream",
     "text": [
      "On fastq pair number 2000000 at 2016-07-14 01:52:57.630147\n"
     ]
    },
    {
     "name": "stdout",
     "output_type": "stream",
     "text": [
      "On fastq pair number 200000 at 2016-07-14 01:53:00.465394\n"
     ]
    },
    {
     "name": "stdout",
     "output_type": "stream",
     "text": [
      "On fastq pair number 7600000 at 2016-07-14 01:53:02.161526\n"
     ]
    },
    {
     "name": "stdout",
     "output_type": "stream",
     "text": [
      "On fastq pair number 2100000 at 2016-07-14 01:53:05.103823\n"
     ]
    },
    {
     "name": "stdout",
     "output_type": "stream",
     "text": [
      "On fastq pair number 1800000 at 2016-07-14 01:53:05.508988\n"
     ]
    },
    {
     "name": "stdout",
     "output_type": "stream",
     "text": [
      "On fastq pair number 300000 at 2016-07-14 01:53:08.645515\n"
     ]
    },
    {
     "name": "stdout",
     "output_type": "stream",
     "text": [
      "On fastq pair number 7700000 at 2016-07-14 01:53:10.017291\n"
     ]
    },
    {
     "name": "stdout",
     "output_type": "stream",
     "text": [
      "On fastq pair number 2200000 at 2016-07-14 01:53:12.558056\n"
     ]
    },
    {
     "name": "stdout",
     "output_type": "stream",
     "text": [
      "On fastq pair number 1900000 at 2016-07-14 01:53:13.707094\n"
     ]
    },
    {
     "name": "stdout",
     "output_type": "stream",
     "text": [
      "On fastq pair number 400000 at 2016-07-14 01:53:16.848445\n"
     ]
    },
    {
     "name": "stdout",
     "output_type": "stream",
     "text": [
      "On fastq pair number 7800000 at 2016-07-14 01:53:17.895908\n"
     ]
    },
    {
     "name": "stdout",
     "output_type": "stream",
     "text": [
      "On fastq pair number 2300000 at 2016-07-14 01:53:19.943198\n"
     ]
    },
    {
     "name": "stdout",
     "output_type": "stream",
     "text": [
      "On fastq pair number 2000000 at 2016-07-14 01:53:21.973530\n"
     ]
    },
    {
     "name": "stdout",
     "output_type": "stream",
     "text": [
      "On fastq pair number 500000 at 2016-07-14 01:53:25.058185\n"
     ]
    },
    {
     "name": "stdout",
     "output_type": "stream",
     "text": [
      "On fastq pair number 7900000 at 2016-07-14 01:53:25.750476\n"
     ]
    },
    {
     "name": "stdout",
     "output_type": "stream",
     "text": [
      "A549_MV4_d28_2_S8_L002_001_trimmed53_len_filtered elapsed time: 0:10:53\n"
     ]
    },
    {
     "name": "stdout",
     "output_type": "stream",
     "text": [
      "On fastq pair number 2400000 at 2016-07-14 01:53:28.991342\n"
     ]
    },
    {
     "name": "stdout",
     "output_type": "stream",
     "text": [
      "On fastq pair number 2100000 at 2016-07-14 01:53:31.878777\n"
     ]
    },
    {
     "name": "stdout",
     "output_type": "stream",
     "text": [
      "On fastq pair number 2500000 at 2016-07-14 01:53:37.839641\n"
     ]
    },
    {
     "name": "stdout",
     "output_type": "stream",
     "text": [
      "On fastq pair number 600000 at 2016-07-14 01:53:39.140303\n"
     ]
    },
    {
     "name": "stdout",
     "output_type": "stream",
     "text": [
      "On fastq pair number 2200000 at 2016-07-14 01:53:41.291810\n"
     ]
    },
    {
     "name": "stdout",
     "output_type": "stream",
     "text": [
      "On fastq pair number 2600000 at 2016-07-14 01:53:45.312125\n"
     ]
    },
    {
     "name": "stdout",
     "output_type": "stream",
     "text": [
      "On fastq pair number 700000 at 2016-07-14 01:53:48.957975\n"
     ]
    },
    {
     "name": "stdout",
     "output_type": "stream",
     "text": [
      "On fastq pair number 2300000 at 2016-07-14 01:53:51.260590\n"
     ]
    },
    {
     "name": "stdout",
     "output_type": "stream",
     "text": [
      "On fastq pair number 2700000 at 2016-07-14 01:53:52.792564\n"
     ]
    },
    {
     "name": "stdout",
     "output_type": "stream",
     "text": [
      "On fastq pair number 800000 at 2016-07-14 01:53:57.067783\n"
     ]
    },
    {
     "name": "stdout",
     "output_type": "stream",
     "text": [
      "On fastq pair number 2400000 at 2016-07-14 01:53:59.598161\n"
     ]
    },
    {
     "name": "stdout",
     "output_type": "stream",
     "text": [
      "On fastq pair number 2800000 at 2016-07-14 01:54:00.237798\n"
     ]
    },
    {
     "name": "stdout",
     "output_type": "stream",
     "text": [
      "On fastq pair number 900000 at 2016-07-14 01:54:05.177582\n"
     ]
    },
    {
     "name": "stdout",
     "output_type": "stream",
     "text": [
      "On fastq pair number 2500000 at 2016-07-14 01:54:07.874403\n"
     ]
    },
    {
     "name": "stdout",
     "output_type": "stream",
     "text": [
      "On fastq pair number 2900000 at 2016-07-14 01:54:10.367154\n"
     ]
    },
    {
     "name": "stdout",
     "output_type": "stream",
     "text": [
      "On fastq pair number 2600000 at 2016-07-14 01:54:16.200234\n"
     ]
    },
    {
     "name": "stdout",
     "output_type": "stream",
     "text": [
      "On fastq pair number 1000000 at 2016-07-14 01:54:21.350968\n"
     ]
    },
    {
     "name": "stdout",
     "output_type": "stream",
     "text": [
      "On fastq pair number 2700000 at 2016-07-14 01:54:24.531319\n"
     ]
    },
    {
     "name": "stdout",
     "output_type": "stream",
     "text": [
      "On fastq pair number 3000000 at 2016-07-14 01:54:25.018905\n"
     ]
    },
    {
     "name": "stdout",
     "output_type": "stream",
     "text": [
      "On fastq pair number 1100000 at 2016-07-14 01:54:31.848741\n"
     ]
    },
    {
     "name": "stdout",
     "output_type": "stream",
     "text": [
      "On fastq pair number 3100000 at 2016-07-14 01:54:32.560930\n"
     ]
    },
    {
     "name": "stdout",
     "output_type": "stream",
     "text": [
      "On fastq pair number 2800000 at 2016-07-14 01:54:33.210035\n"
     ]
    },
    {
     "name": "stdout",
     "output_type": "stream",
     "text": [
      "On fastq pair number 3200000 at 2016-07-14 01:54:40.082917\n"
     ]
    },
    {
     "name": "stdout",
     "output_type": "stream",
     "text": [
      "On fastq pair number 1200000 at 2016-07-14 01:54:40.107967\n"
     ]
    },
    {
     "name": "stdout",
     "output_type": "stream",
     "text": [
      "On fastq pair number 2900000 at 2016-07-14 01:54:41.519820\n"
     ]
    },
    {
     "name": "stdout",
     "output_type": "stream",
     "text": [
      "On fastq pair number 3300000 at 2016-07-14 01:54:47.549192\n"
     ]
    },
    {
     "name": "stdout",
     "output_type": "stream",
     "text": [
      "On fastq pair number 1300000 at 2016-07-14 01:54:48.302974\n"
     ]
    },
    {
     "name": "stdout",
     "output_type": "stream",
     "text": [
      "On fastq pair number 3000000 at 2016-07-14 01:54:49.761730\n"
     ]
    },
    {
     "name": "stdout",
     "output_type": "stream",
     "text": [
      "On fastq pair number 3400000 at 2016-07-14 01:54:55.017351\n"
     ]
    },
    {
     "name": "stdout",
     "output_type": "stream",
     "text": [
      "On fastq pair number 1400000 at 2016-07-14 01:54:56.463233\n"
     ]
    },
    {
     "name": "stdout",
     "output_type": "stream",
     "text": [
      "On fastq pair number 3100000 at 2016-07-14 01:54:58.134093\n"
     ]
    },
    {
     "name": "stdout",
     "output_type": "stream",
     "text": [
      "On fastq pair number 3500000 at 2016-07-14 01:55:02.499566\n"
     ]
    },
    {
     "name": "stdout",
     "output_type": "stream",
     "text": [
      "On fastq pair number 1500000 at 2016-07-14 01:55:04.660784\n"
     ]
    },
    {
     "name": "stdout",
     "output_type": "stream",
     "text": [
      "On fastq pair number 3200000 at 2016-07-14 01:55:06.602260\n"
     ]
    },
    {
     "name": "stdout",
     "output_type": "stream",
     "text": [
      "On fastq pair number 3600000 at 2016-07-14 01:55:09.967626\n"
     ]
    },
    {
     "name": "stdout",
     "output_type": "stream",
     "text": [
      "On fastq pair number 1600000 at 2016-07-14 01:55:12.932141\n"
     ]
    },
    {
     "name": "stdout",
     "output_type": "stream",
     "text": [
      "On fastq pair number 3300000 at 2016-07-14 01:55:14.868418\n"
     ]
    },
    {
     "name": "stdout",
     "output_type": "stream",
     "text": [
      "On fastq pair number 3700000 at 2016-07-14 01:55:17.455281\n"
     ]
    },
    {
     "name": "stdout",
     "output_type": "stream",
     "text": [
      "On fastq pair number 1700000 at 2016-07-14 01:55:21.143290\n"
     ]
    },
    {
     "name": "stdout",
     "output_type": "stream",
     "text": [
      "On fastq pair number 3400000 at 2016-07-14 01:55:24.124554\n"
     ]
    },
    {
     "name": "stdout",
     "output_type": "stream",
     "text": [
      "On fastq pair number 3800000 at 2016-07-14 01:55:24.969320\n"
     ]
    },
    {
     "name": "stdout",
     "output_type": "stream",
     "text": [
      "On fastq pair number 1800000 at 2016-07-14 01:55:29.330681\n"
     ]
    },
    {
     "name": "stdout",
     "output_type": "stream",
     "text": [
      "On fastq pair number 3900000 at 2016-07-14 01:55:32.428992\n"
     ]
    },
    {
     "name": "stdout",
     "output_type": "stream",
     "text": [
      "On fastq pair number 3500000 at 2016-07-14 01:55:32.744797\n"
     ]
    },
    {
     "name": "stdout",
     "output_type": "stream",
     "text": [
      "On fastq pair number 1900000 at 2016-07-14 01:55:37.522971\n"
     ]
    },
    {
     "name": "stdout",
     "output_type": "stream",
     "text": [
      "On fastq pair number 4000000 at 2016-07-14 01:55:40.118737\n"
     ]
    },
    {
     "name": "stdout",
     "output_type": "stream",
     "text": [
      "On fastq pair number 3600000 at 2016-07-14 01:55:41.305297\n"
     ]
    },
    {
     "name": "stdout",
     "output_type": "stream",
     "text": [
      "On fastq pair number 4100000 at 2016-07-14 01:55:47.549451\n"
     ]
    },
    {
     "name": "stdout",
     "output_type": "stream",
     "text": [
      "On fastq pair number 2000000 at 2016-07-14 01:55:50.550593\n"
     ]
    },
    {
     "name": "stdout",
     "output_type": "stream",
     "text": [
      "On fastq pair number 4200000 at 2016-07-14 01:55:55.008078\n"
     ]
    },
    {
     "name": "stdout",
     "output_type": "stream",
     "text": [
      "On fastq pair number 3700000 at 2016-07-14 01:55:56.804520\n"
     ]
    },
    {
     "name": "stdout",
     "output_type": "stream",
     "text": [
      "On fastq pair number 2100000 at 2016-07-14 01:55:58.749171\n"
     ]
    },
    {
     "name": "stdout",
     "output_type": "stream",
     "text": [
      "On fastq pair number 4300000 at 2016-07-14 01:56:02.424475\n"
     ]
    },
    {
     "name": "stdout",
     "output_type": "stream",
     "text": [
      "On fastq pair number 3800000 at 2016-07-14 01:56:09.435827\n"
     ]
    },
    {
     "name": "stdout",
     "output_type": "stream",
     "text": [
      "On fastq pair number 4400000 at 2016-07-14 01:56:09.825198\n"
     ]
    },
    {
     "name": "stdout",
     "output_type": "stream",
     "text": [
      "On fastq pair number 2200000 at 2016-07-14 01:56:10.821230\n"
     ]
    },
    {
     "name": "stdout",
     "output_type": "stream",
     "text": [
      "On fastq pair number 4500000 at 2016-07-14 01:56:17.252623\n"
     ]
    },
    {
     "name": "stdout",
     "output_type": "stream",
     "text": [
      "On fastq pair number 3900000 at 2016-07-14 01:56:18.200121\n"
     ]
    },
    {
     "name": "stdout",
     "output_type": "stream",
     "text": [
      "On fastq pair number 2300000 at 2016-07-14 01:56:18.911610\n"
     ]
    },
    {
     "name": "stdout",
     "output_type": "stream",
     "text": [
      "On fastq pair number 4600000 at 2016-07-14 01:56:25.077056\n"
     ]
    },
    {
     "name": "stdout",
     "output_type": "stream",
     "text": [
      "On fastq pair number 4000000 at 2016-07-14 01:56:26.509134\n"
     ]
    },
    {
     "name": "stdout",
     "output_type": "stream",
     "text": [
      "On fastq pair number 2400000 at 2016-07-14 01:56:27.007600\n"
     ]
    },
    {
     "name": "stdout",
     "output_type": "stream",
     "text": [
      "On fastq pair number 4700000 at 2016-07-14 01:56:32.579147\n"
     ]
    },
    {
     "name": "stdout",
     "output_type": "stream",
     "text": [
      "On fastq pair number 4100000 at 2016-07-14 01:56:34.904762\n"
     ]
    },
    {
     "name": "stdout",
     "output_type": "stream",
     "text": [
      "On fastq pair number 2500000 at 2016-07-14 01:56:35.103081\n"
     ]
    },
    {
     "name": "stdout",
     "output_type": "stream",
     "text": [
      "On fastq pair number 4800000 at 2016-07-14 01:56:40.489491\n"
     ]
    },
    {
     "name": "stdout",
     "output_type": "stream",
     "text": [
      "On fastq pair number 4200000 at 2016-07-14 01:56:43.273364\n"
     ]
    },
    {
     "name": "stdout",
     "output_type": "stream",
     "text": [
      "On fastq pair number 2600000 at 2016-07-14 01:56:45.928058\n"
     ]
    },
    {
     "name": "stdout",
     "output_type": "stream",
     "text": [
      "On fastq pair number 4300000 at 2016-07-14 01:56:51.572252\n"
     ]
    },
    {
     "name": "stdout",
     "output_type": "stream",
     "text": [
      "On fastq pair number 4900000 at 2016-07-14 01:56:55.780958\n"
     ]
    },
    {
     "name": "stdout",
     "output_type": "stream",
     "text": [
      "On fastq pair number 2700000 at 2016-07-14 01:56:59.198864\n"
     ]
    },
    {
     "name": "stdout",
     "output_type": "stream",
     "text": [
      "On fastq pair number 4400000 at 2016-07-14 01:56:59.875028\n"
     ]
    },
    {
     "name": "stdout",
     "output_type": "stream",
     "text": [
      "On fastq pair number 5000000 at 2016-07-14 01:57:03.579164\n"
     ]
    },
    {
     "name": "stdout",
     "output_type": "stream",
     "text": [
      "On fastq pair number 2800000 at 2016-07-14 01:57:07.653595\n"
     ]
    },
    {
     "name": "stdout",
     "output_type": "stream",
     "text": [
      "On fastq pair number 4500000 at 2016-07-14 01:57:08.228451\n"
     ]
    },
    {
     "name": "stdout",
     "output_type": "stream",
     "text": [
      "On fastq pair number 5100000 at 2016-07-14 01:57:11.204533\n"
     ]
    },
    {
     "name": "stdout",
     "output_type": "stream",
     "text": [
      "On fastq pair number 2900000 at 2016-07-14 01:57:15.837654\n"
     ]
    },
    {
     "name": "stdout",
     "output_type": "stream",
     "text": [
      "On fastq pair number 4600000 at 2016-07-14 01:57:16.570530\n"
     ]
    },
    {
     "name": "stdout",
     "output_type": "stream",
     "text": [
      "On fastq pair number 5200000 at 2016-07-14 01:57:18.762532\n"
     ]
    },
    {
     "name": "stdout",
     "output_type": "stream",
     "text": [
      "On fastq pair number 3000000 at 2016-07-14 01:57:23.959337\n"
     ]
    },
    {
     "name": "stdout",
     "output_type": "stream",
     "text": [
      "On fastq pair number 4700000 at 2016-07-14 01:57:25.754752\n"
     ]
    },
    {
     "name": "stdout",
     "output_type": "stream",
     "text": [
      "On fastq pair number 5300000 at 2016-07-14 01:57:26.249532\n"
     ]
    },
    {
     "name": "stdout",
     "output_type": "stream",
     "text": [
      "On fastq pair number 3100000 at 2016-07-14 01:57:32.146143\n"
     ]
    },
    {
     "name": "stdout",
     "output_type": "stream",
     "text": [
      "On fastq pair number 5400000 at 2016-07-14 01:57:33.768834\n"
     ]
    },
    {
     "name": "stdout",
     "output_type": "stream",
     "text": [
      "On fastq pair number 4800000 at 2016-07-14 01:57:35.333826\n"
     ]
    },
    {
     "name": "stdout",
     "output_type": "stream",
     "text": [
      "On fastq pair number 3200000 at 2016-07-14 01:57:40.362230\n"
     ]
    },
    {
     "name": "stdout",
     "output_type": "stream",
     "text": [
      "On fastq pair number 5500000 at 2016-07-14 01:57:41.285346\n"
     ]
    },
    {
     "name": "stdout",
     "output_type": "stream",
     "text": [
      "On fastq pair number 4900000 at 2016-07-14 01:57:43.855546\n"
     ]
    },
    {
     "name": "stdout",
     "output_type": "stream",
     "text": [
      "On fastq pair number 3300000 at 2016-07-14 01:57:48.626219\n"
     ]
    },
    {
     "name": "stdout",
     "output_type": "stream",
     "text": [
      "On fastq pair number 5600000 at 2016-07-14 01:57:48.856414\n"
     ]
    },
    {
     "name": "stdout",
     "output_type": "stream",
     "text": [
      "On fastq pair number 5000000 at 2016-07-14 01:57:52.052589\n"
     ]
    },
    {
     "name": "stdout",
     "output_type": "stream",
     "text": [
      "On fastq pair number 5700000 at 2016-07-14 01:57:56.385006\n"
     ]
    },
    {
     "name": "stdout",
     "output_type": "stream",
     "text": [
      "On fastq pair number 3400000 at 2016-07-14 01:57:56.854142\n"
     ]
    },
    {
     "name": "stdout",
     "output_type": "stream",
     "text": [
      "On fastq pair number 5100000 at 2016-07-14 01:58:03.114990\n"
     ]
    },
    {
     "name": "stdout",
     "output_type": "stream",
     "text": [
      "On fastq pair number 5800000 at 2016-07-14 01:58:03.928749\n"
     ]
    },
    {
     "name": "stdout",
     "output_type": "stream",
     "text": [
      "On fastq pair number 3500000 at 2016-07-14 01:58:05.041053\n"
     ]
    },
    {
     "name": "stdout",
     "output_type": "stream",
     "text": [
      "On fastq pair number 5200000 at 2016-07-14 01:58:11.363801\n"
     ]
    },
    {
     "name": "stdout",
     "output_type": "stream",
     "text": [
      "On fastq pair number 5900000 at 2016-07-14 01:58:11.467419\n"
     ]
    },
    {
     "name": "stdout",
     "output_type": "stream",
     "text": [
      "On fastq pair number 3600000 at 2016-07-14 01:58:13.262534\n"
     ]
    },
    {
     "name": "stdout",
     "output_type": "stream",
     "text": [
      "On fastq pair number 6000000 at 2016-07-14 01:58:18.996403\n"
     ]
    },
    {
     "name": "stdout",
     "output_type": "stream",
     "text": [
      "On fastq pair number 3700000 at 2016-07-14 01:58:21.403307\n"
     ]
    },
    {
     "name": "stdout",
     "output_type": "stream",
     "text": [
      "On fastq pair number 5300000 at 2016-07-14 01:58:21.793618\n"
     ]
    },
    {
     "name": "stdout",
     "output_type": "stream",
     "text": [
      "On fastq pair number 6100000 at 2016-07-14 01:58:26.491519\n"
     ]
    },
    {
     "name": "stdout",
     "output_type": "stream",
     "text": [
      "On fastq pair number 3800000 at 2016-07-14 01:58:29.622936\n"
     ]
    },
    {
     "name": "stdout",
     "output_type": "stream",
     "text": [
      "On fastq pair number 5400000 at 2016-07-14 01:58:30.438912\n"
     ]
    },
    {
     "name": "stdout",
     "output_type": "stream",
     "text": [
      "On fastq pair number 6200000 at 2016-07-14 01:58:33.928161\n"
     ]
    },
    {
     "name": "stdout",
     "output_type": "stream",
     "text": [
      "On fastq pair number 3900000 at 2016-07-14 01:58:38.026882\n"
     ]
    },
    {
     "name": "stdout",
     "output_type": "stream",
     "text": [
      "On fastq pair number 5500000 at 2016-07-14 01:58:38.762882\n"
     ]
    },
    {
     "name": "stdout",
     "output_type": "stream",
     "text": [
      "On fastq pair number 6300000 at 2016-07-14 01:58:41.302830\n"
     ]
    },
    {
     "name": "stdout",
     "output_type": "stream",
     "text": [
      "On fastq pair number 4000000 at 2016-07-14 01:58:46.193227\n"
     ]
    },
    {
     "name": "stdout",
     "output_type": "stream",
     "text": [
      "On fastq pair number 5600000 at 2016-07-14 01:58:47.121208\n"
     ]
    },
    {
     "name": "stdout",
     "output_type": "stream",
     "text": [
      "On fastq pair number 6400000 at 2016-07-14 01:58:48.712737\n"
     ]
    },
    {
     "name": "stdout",
     "output_type": "stream",
     "text": [
      "On fastq pair number 4100000 at 2016-07-14 01:58:54.410806\n"
     ]
    },
    {
     "name": "stdout",
     "output_type": "stream",
     "text": [
      "On fastq pair number 5700000 at 2016-07-14 01:58:55.396261\n"
     ]
    },
    {
     "name": "stdout",
     "output_type": "stream",
     "text": [
      "On fastq pair number 6500000 at 2016-07-14 01:58:56.091250\n"
     ]
    },
    {
     "name": "stdout",
     "output_type": "stream",
     "text": [
      "On fastq pair number 6600000 at 2016-07-14 01:59:03.523818\n"
     ]
    },
    {
     "name": "stdout",
     "output_type": "stream",
     "text": [
      "On fastq pair number 4200000 at 2016-07-14 01:59:07.128021\n"
     ]
    },
    {
     "name": "stdout",
     "output_type": "stream",
     "text": [
      "On fastq pair number 5800000 at 2016-07-14 01:59:07.146467\n"
     ]
    },
    {
     "name": "stdout",
     "output_type": "stream",
     "text": [
      "On fastq pair number 6700000 at 2016-07-14 01:59:10.951115\n"
     ]
    },
    {
     "name": "stdout",
     "output_type": "stream",
     "text": [
      "On fastq pair number 5900000 at 2016-07-14 01:59:15.440702\n"
     ]
    },
    {
     "name": "stdout",
     "output_type": "stream",
     "text": [
      "On fastq pair number 4300000 at 2016-07-14 01:59:15.690912\n"
     ]
    },
    {
     "name": "stdout",
     "output_type": "stream",
     "text": [
      "On fastq pair number 6800000 at 2016-07-14 01:59:18.354297\n"
     ]
    },
    {
     "name": "stdout",
     "output_type": "stream",
     "text": [
      "On fastq pair number 4400000 at 2016-07-14 01:59:23.856000\n"
     ]
    },
    {
     "name": "stdout",
     "output_type": "stream",
     "text": [
      "On fastq pair number 6000000 at 2016-07-14 01:59:24.337806\n"
     ]
    },
    {
     "name": "stdout",
     "output_type": "stream",
     "text": [
      "On fastq pair number 6900000 at 2016-07-14 01:59:25.820917\n"
     ]
    },
    {
     "name": "stdout",
     "output_type": "stream",
     "text": [
      "On fastq pair number 4500000 at 2016-07-14 01:59:33.064173\n"
     ]
    },
    {
     "name": "stdout",
     "output_type": "stream",
     "text": [
      "On fastq pair number 6100000 at 2016-07-14 01:59:33.067896\n"
     ]
    },
    {
     "name": "stdout",
     "output_type": "stream",
     "text": [
      "On fastq pair number 7000000 at 2016-07-14 01:59:33.282394\n"
     ]
    },
    {
     "name": "stdout",
     "output_type": "stream",
     "text": [
      "On fastq pair number 7100000 at 2016-07-14 01:59:40.840960\n"
     ]
    },
    {
     "name": "stdout",
     "output_type": "stream",
     "text": [
      "Hela_MV4_d20_1_S9_L001_001_trimmed53_len_filtered elapsed time: 0:09:05\n"
     ]
    },
    {
     "name": "stdout",
     "output_type": "stream",
     "text": [
      "Starting Hela_MV4_d20_1_S9_L002_001_trimmed53_len_filtered at 2016-07-14 01:59:41.055070\n"
     ]
    },
    {
     "name": "stdout",
     "output_type": "stream",
     "text": [
      "On fastq pair number 4600000 at 2016-07-14 01:59:43.554359\n"
     ]
    },
    {
     "name": "stdout",
     "output_type": "stream",
     "text": [
      "On fastq pair number 7200000 at 2016-07-14 01:59:48.354499\n"
     ]
    },
    {
     "name": "stdout",
     "output_type": "stream",
     "text": [
      "On fastq pair number 100000 at 2016-07-14 01:59:49.446687\n"
     ]
    },
    {
     "name": "stdout",
     "output_type": "stream",
     "text": [
      "On fastq pair number 4700000 at 2016-07-14 01:59:52.152996\n"
     ]
    },
    {
     "name": "stdout",
     "output_type": "stream",
     "text": [
      "On fastq pair number 7300000 at 2016-07-14 01:59:55.884190\n"
     ]
    },
    {
     "name": "stdout",
     "output_type": "stream",
     "text": [
      "On fastq pair number 200000 at 2016-07-14 01:59:57.710847\n"
     ]
    },
    {
     "name": "stdout",
     "output_type": "stream",
     "text": [
      "On fastq pair number 4800000 at 2016-07-14 02:00:00.547224\n"
     ]
    },
    {
     "name": "stdout",
     "output_type": "stream",
     "text": [
      "On fastq pair number 7400000 at 2016-07-14 02:00:03.464141\n"
     ]
    },
    {
     "name": "stdout",
     "output_type": "stream",
     "text": [
      "On fastq pair number 300000 at 2016-07-14 02:00:05.900629\n"
     ]
    },
    {
     "name": "stdout",
     "output_type": "stream",
     "text": [
      "On fastq pair number 4900000 at 2016-07-14 02:00:08.782752\n"
     ]
    },
    {
     "name": "stdout",
     "output_type": "stream",
     "text": [
      "On fastq pair number 7500000 at 2016-07-14 02:00:10.998145\n"
     ]
    },
    {
     "name": "stdout",
     "output_type": "stream",
     "text": [
      "On fastq pair number 400000 at 2016-07-14 02:00:14.176972\n"
     ]
    },
    {
     "name": "stdout",
     "output_type": "stream",
     "text": [
      "On fastq pair number 5000000 at 2016-07-14 02:00:16.995892\n"
     ]
    },
    {
     "name": "stdout",
     "output_type": "stream",
     "text": [
      "On fastq pair number 7600000 at 2016-07-14 02:00:18.540046\n"
     ]
    },
    {
     "name": "stdout",
     "output_type": "stream",
     "text": [
      "On fastq pair number 500000 at 2016-07-14 02:00:22.417065\n"
     ]
    },
    {
     "name": "stdout",
     "output_type": "stream",
     "text": [
      "On fastq pair number 5100000 at 2016-07-14 02:00:25.239402\n"
     ]
    },
    {
     "name": "stdout",
     "output_type": "stream",
     "text": [
      "On fastq pair number 7700000 at 2016-07-14 02:00:26.112562\n"
     ]
    },
    {
     "name": "stdout",
     "output_type": "stream",
     "text": [
      "On fastq pair number 600000 at 2016-07-14 02:00:30.719770\n"
     ]
    },
    {
     "name": "stdout",
     "output_type": "stream",
     "text": [
      "On fastq pair number 5200000 at 2016-07-14 02:00:33.475151\n"
     ]
    },
    {
     "name": "stdout",
     "output_type": "stream",
     "text": [
      "On fastq pair number 7800000 at 2016-07-14 02:00:33.609149\n"
     ]
    },
    {
     "name": "stdout",
     "output_type": "stream",
     "text": [
      "On fastq pair number 700000 at 2016-07-14 02:00:38.929558\n"
     ]
    },
    {
     "name": "stdout",
     "output_type": "stream",
     "text": [
      "On fastq pair number 7900000 at 2016-07-14 02:00:41.202111\n"
     ]
    },
    {
     "name": "stdout",
     "output_type": "stream",
     "text": [
      "On fastq pair number 5300000 at 2016-07-14 02:00:41.647054\n"
     ]
    },
    {
     "name": "stdout",
     "output_type": "stream",
     "text": [
      "On fastq pair number 800000 at 2016-07-14 02:00:47.209922\n"
     ]
    },
    {
     "name": "stdout",
     "output_type": "stream",
     "text": [
      "On fastq pair number 8000000 at 2016-07-14 02:00:48.735407\n"
     ]
    },
    {
     "name": "stdout",
     "output_type": "stream",
     "text": [
      "On fastq pair number 5400000 at 2016-07-14 02:00:49.872314\n"
     ]
    },
    {
     "name": "stdout",
     "output_type": "stream",
     "text": [
      "A549_MV4_d3_2_S2_L002_001_trimmed53_len_filtered elapsed time: 0:10:28\n"
     ]
    },
    {
     "name": "stdout",
     "output_type": "stream",
     "text": [
      "On fastq pair number 900000 at 2016-07-14 02:00:55.562986\n"
     ]
    },
    {
     "name": "stdout",
     "output_type": "stream",
     "text": [
      "On fastq pair number 5500000 at 2016-07-14 02:00:58.108644\n"
     ]
    },
    {
     "name": "stdout",
     "output_type": "stream",
     "text": [
      "On fastq pair number 1000000 at 2016-07-14 02:01:03.897812\n"
     ]
    },
    {
     "name": "stdout",
     "output_type": "stream",
     "text": [
      "On fastq pair number 5600000 at 2016-07-14 02:01:06.286656\n"
     ]
    },
    {
     "name": "stdout",
     "output_type": "stream",
     "text": [
      "On fastq pair number 1100000 at 2016-07-14 02:01:12.204667\n"
     ]
    },
    {
     "name": "stdout",
     "output_type": "stream",
     "text": [
      "On fastq pair number 5700000 at 2016-07-14 02:01:14.563393\n"
     ]
    },
    {
     "name": "stdout",
     "output_type": "stream",
     "text": [
      "On fastq pair number 1200000 at 2016-07-14 02:01:20.424542\n"
     ]
    },
    {
     "name": "stdout",
     "output_type": "stream",
     "text": [
      "On fastq pair number 5800000 at 2016-07-14 02:01:23.815596\n"
     ]
    },
    {
     "name": "stdout",
     "output_type": "stream",
     "text": [
      "On fastq pair number 1300000 at 2016-07-14 02:01:28.736093\n"
     ]
    },
    {
     "name": "stdout",
     "output_type": "stream",
     "text": [
      "On fastq pair number 5900000 at 2016-07-14 02:01:33.676048\n"
     ]
    },
    {
     "name": "stdout",
     "output_type": "stream",
     "text": [
      "On fastq pair number 1400000 at 2016-07-14 02:01:37.086247\n"
     ]
    },
    {
     "name": "stdout",
     "output_type": "stream",
     "text": [
      "On fastq pair number 6000000 at 2016-07-14 02:01:42.155434\n"
     ]
    },
    {
     "name": "stdout",
     "output_type": "stream",
     "text": [
      "On fastq pair number 1500000 at 2016-07-14 02:01:45.430627\n"
     ]
    },
    {
     "name": "stdout",
     "output_type": "stream",
     "text": [
      "On fastq pair number 6100000 at 2016-07-14 02:01:50.284205\n"
     ]
    },
    {
     "name": "stdout",
     "output_type": "stream",
     "text": [
      "On fastq pair number 1600000 at 2016-07-14 02:01:53.654699\n"
     ]
    },
    {
     "name": "stdout",
     "output_type": "stream",
     "text": [
      "On fastq pair number 6200000 at 2016-07-14 02:01:59.105218\n"
     ]
    },
    {
     "name": "stdout",
     "output_type": "stream",
     "text": [
      "On fastq pair number 1700000 at 2016-07-14 02:02:01.941447\n"
     ]
    },
    {
     "name": "stdout",
     "output_type": "stream",
     "text": [
      "On fastq pair number 6300000 at 2016-07-14 02:02:09.979029\n"
     ]
    },
    {
     "name": "stdout",
     "output_type": "stream",
     "text": [
      "On fastq pair number 1800000 at 2016-07-14 02:02:10.227432\n"
     ]
    },
    {
     "name": "stdout",
     "output_type": "stream",
     "text": [
      "On fastq pair number 6400000 at 2016-07-14 02:02:25.869741\n"
     ]
    },
    {
     "name": "stdout",
     "output_type": "stream",
     "text": [
      "On fastq pair number 1900000 at 2016-07-14 02:02:26.474658\n"
     ]
    },
    {
     "name": "stdout",
     "output_type": "stream",
     "text": [
      "On fastq pair number 2000000 at 2016-07-14 02:02:34.781591\n"
     ]
    },
    {
     "name": "stdout",
     "output_type": "stream",
     "text": [
      "On fastq pair number 6500000 at 2016-07-14 02:02:36.040551\n"
     ]
    },
    {
     "name": "stdout",
     "output_type": "stream",
     "text": [
      "On fastq pair number 2100000 at 2016-07-14 02:02:43.099983\n"
     ]
    },
    {
     "name": "stdout",
     "output_type": "stream",
     "text": [
      "On fastq pair number 6600000 at 2016-07-14 02:02:45.255544\n"
     ]
    },
    {
     "name": "stdout",
     "output_type": "stream",
     "text": [
      "On fastq pair number 2200000 at 2016-07-14 02:02:51.464929\n"
     ]
    },
    {
     "name": "stdout",
     "output_type": "stream",
     "text": [
      "On fastq pair number 6700000 at 2016-07-14 02:02:53.573987\n"
     ]
    },
    {
     "name": "stdout",
     "output_type": "stream",
     "text": [
      "On fastq pair number 2300000 at 2016-07-14 02:02:59.801849\n"
     ]
    },
    {
     "name": "stdout",
     "output_type": "stream",
     "text": [
      "On fastq pair number 6800000 at 2016-07-14 02:03:01.776245\n"
     ]
    },
    {
     "name": "stdout",
     "output_type": "stream",
     "text": [
      "On fastq pair number 2400000 at 2016-07-14 02:03:08.130572\n"
     ]
    },
    {
     "name": "stdout",
     "output_type": "stream",
     "text": [
      "On fastq pair number 6900000 at 2016-07-14 02:03:09.958103\n"
     ]
    },
    {
     "name": "stdout",
     "output_type": "stream",
     "text": [
      "On fastq pair number 2500000 at 2016-07-14 02:03:16.493915\n"
     ]
    },
    {
     "name": "stdout",
     "output_type": "stream",
     "text": [
      "On fastq pair number 7000000 at 2016-07-14 02:03:18.159691\n"
     ]
    },
    {
     "name": "stdout",
     "output_type": "stream",
     "text": [
      "On fastq pair number 2600000 at 2016-07-14 02:03:24.863013\n"
     ]
    },
    {
     "name": "stdout",
     "output_type": "stream",
     "text": [
      "On fastq pair number 7100000 at 2016-07-14 02:03:27.680212\n"
     ]
    },
    {
     "name": "stdout",
     "output_type": "stream",
     "text": [
      "On fastq pair number 2700000 at 2016-07-14 02:03:41.206994\n"
     ]
    },
    {
     "name": "stdout",
     "output_type": "stream",
     "text": [
      "On fastq pair number 7200000 at 2016-07-14 02:03:42.506685\n"
     ]
    },
    {
     "name": "stdout",
     "output_type": "stream",
     "text": [
      "On fastq pair number 2800000 at 2016-07-14 02:03:49.563179\n"
     ]
    },
    {
     "name": "stdout",
     "output_type": "stream",
     "text": [
      "On fastq pair number 7300000 at 2016-07-14 02:03:50.800303\n"
     ]
    },
    {
     "name": "stdout",
     "output_type": "stream",
     "text": [
      "On fastq pair number 2900000 at 2016-07-14 02:03:57.949249\n"
     ]
    },
    {
     "name": "stdout",
     "output_type": "stream",
     "text": [
      "On fastq pair number 7400000 at 2016-07-14 02:04:00.077719\n"
     ]
    },
    {
     "name": "stdout",
     "output_type": "stream",
     "text": [
      "On fastq pair number 3000000 at 2016-07-14 02:04:07.195896\n"
     ]
    },
    {
     "name": "stdout",
     "output_type": "stream",
     "text": [
      "On fastq pair number 7500000 at 2016-07-14 02:04:09.278694\n"
     ]
    },
    {
     "name": "stdout",
     "output_type": "stream",
     "text": [
      "On fastq pair number 3100000 at 2016-07-14 02:04:15.463195\n"
     ]
    },
    {
     "name": "stdout",
     "output_type": "stream",
     "text": [
      "On fastq pair number 7600000 at 2016-07-14 02:04:17.512203\n"
     ]
    },
    {
     "name": "stdout",
     "output_type": "stream",
     "text": [
      "Hela_MV4_d20_2_S10_L001_001_trimmed53_len_filtered elapsed time: 0:11:36\n"
     ]
    },
    {
     "name": "stdout",
     "output_type": "stream",
     "text": [
      "Starting Hela_MV4_d20_2_S10_L002_001_trimmed53_len_filtered at 2016-07-14 02:04:20.672340\n"
     ]
    },
    {
     "name": "stdout",
     "output_type": "stream",
     "text": [
      "On fastq pair number 3200000 at 2016-07-14 02:04:23.766769\n"
     ]
    },
    {
     "name": "stdout",
     "output_type": "stream",
     "text": [
      "On fastq pair number 100000 at 2016-07-14 02:04:29.043919\n"
     ]
    },
    {
     "name": "stdout",
     "output_type": "stream",
     "text": [
      "On fastq pair number 3300000 at 2016-07-14 02:04:32.050825\n"
     ]
    },
    {
     "name": "stdout",
     "output_type": "stream",
     "text": [
      "On fastq pair number 200000 at 2016-07-14 02:04:37.135473\n"
     ]
    },
    {
     "name": "stdout",
     "output_type": "stream",
     "text": [
      "On fastq pair number 3400000 at 2016-07-14 02:04:40.365577\n"
     ]
    },
    {
     "name": "stdout",
     "output_type": "stream",
     "text": [
      "On fastq pair number 300000 at 2016-07-14 02:04:45.246131\n"
     ]
    },
    {
     "name": "stdout",
     "output_type": "stream",
     "text": [
      "On fastq pair number 3500000 at 2016-07-14 02:04:48.665274\n"
     ]
    },
    {
     "name": "stdout",
     "output_type": "stream",
     "text": [
      "On fastq pair number 400000 at 2016-07-14 02:04:53.373637\n"
     ]
    },
    {
     "name": "stdout",
     "output_type": "stream",
     "text": [
      "On fastq pair number 3600000 at 2016-07-14 02:04:57.217168\n"
     ]
    },
    {
     "name": "stdout",
     "output_type": "stream",
     "text": [
      "On fastq pair number 500000 at 2016-07-14 02:05:01.523380\n"
     ]
    },
    {
     "name": "stdout",
     "output_type": "stream",
     "text": [
      "On fastq pair number 3700000 at 2016-07-14 02:05:05.609406\n"
     ]
    },
    {
     "name": "stdout",
     "output_type": "stream",
     "text": [
      "On fastq pair number 600000 at 2016-07-14 02:05:09.675009\n"
     ]
    },
    {
     "name": "stdout",
     "output_type": "stream",
     "text": [
      "On fastq pair number 3800000 at 2016-07-14 02:05:14.256505\n"
     ]
    },
    {
     "name": "stdout",
     "output_type": "stream",
     "text": [
      "On fastq pair number 700000 at 2016-07-14 02:05:17.787197\n"
     ]
    },
    {
     "name": "stdout",
     "output_type": "stream",
     "text": [
      "On fastq pair number 3900000 at 2016-07-14 02:05:22.584639\n"
     ]
    },
    {
     "name": "stdout",
     "output_type": "stream",
     "text": [
      "On fastq pair number 800000 at 2016-07-14 02:05:25.880247\n"
     ]
    },
    {
     "name": "stdout",
     "output_type": "stream",
     "text": [
      "On fastq pair number 4000000 at 2016-07-14 02:05:31.012523\n"
     ]
    },
    {
     "name": "stdout",
     "output_type": "stream",
     "text": [
      "On fastq pair number 900000 at 2016-07-14 02:05:34.001732\n"
     ]
    },
    {
     "name": "stdout",
     "output_type": "stream",
     "text": [
      "On fastq pair number 4100000 at 2016-07-14 02:05:39.394179\n"
     ]
    },
    {
     "name": "stdout",
     "output_type": "stream",
     "text": [
      "On fastq pair number 1000000 at 2016-07-14 02:05:42.139369\n"
     ]
    },
    {
     "name": "stdout",
     "output_type": "stream",
     "text": [
      "On fastq pair number 4200000 at 2016-07-14 02:05:47.802188\n"
     ]
    },
    {
     "name": "stdout",
     "output_type": "stream",
     "text": [
      "On fastq pair number 1100000 at 2016-07-14 02:05:50.330038\n"
     ]
    },
    {
     "name": "stdout",
     "output_type": "stream",
     "text": [
      "On fastq pair number 4300000 at 2016-07-14 02:05:56.193476\n"
     ]
    },
    {
     "name": "stdout",
     "output_type": "stream",
     "text": [
      "On fastq pair number 1200000 at 2016-07-14 02:05:58.517261\n"
     ]
    },
    {
     "name": "stdout",
     "output_type": "stream",
     "text": [
      "On fastq pair number 4400000 at 2016-07-14 02:06:04.567701\n"
     ]
    },
    {
     "name": "stdout",
     "output_type": "stream",
     "text": [
      "On fastq pair number 1300000 at 2016-07-14 02:06:06.661034\n"
     ]
    },
    {
     "name": "stdout",
     "output_type": "stream",
     "text": [
      "On fastq pair number 4500000 at 2016-07-14 02:06:12.979692\n"
     ]
    },
    {
     "name": "stdout",
     "output_type": "stream",
     "text": [
      "On fastq pair number 1400000 at 2016-07-14 02:06:14.753910\n"
     ]
    },
    {
     "name": "stdout",
     "output_type": "stream",
     "text": [
      "On fastq pair number 4600000 at 2016-07-14 02:06:21.356473\n"
     ]
    },
    {
     "name": "stdout",
     "output_type": "stream",
     "text": [
      "On fastq pair number 1500000 at 2016-07-14 02:06:22.894661\n"
     ]
    },
    {
     "name": "stdout",
     "output_type": "stream",
     "text": [
      "On fastq pair number 4700000 at 2016-07-14 02:06:29.694081\n"
     ]
    },
    {
     "name": "stdout",
     "output_type": "stream",
     "text": [
      "On fastq pair number 1600000 at 2016-07-14 02:06:31.111044\n"
     ]
    },
    {
     "name": "stdout",
     "output_type": "stream",
     "text": [
      "On fastq pair number 4800000 at 2016-07-14 02:06:38.044694\n"
     ]
    },
    {
     "name": "stdout",
     "output_type": "stream",
     "text": [
      "On fastq pair number 1700000 at 2016-07-14 02:06:39.371831\n"
     ]
    },
    {
     "name": "stdout",
     "output_type": "stream",
     "text": [
      "On fastq pair number 4900000 at 2016-07-14 02:06:46.283797\n"
     ]
    },
    {
     "name": "stdout",
     "output_type": "stream",
     "text": [
      "On fastq pair number 1800000 at 2016-07-14 02:06:47.609444\n"
     ]
    },
    {
     "name": "stdout",
     "output_type": "stream",
     "text": [
      "On fastq pair number 5000000 at 2016-07-14 02:06:54.542741\n"
     ]
    },
    {
     "name": "stdout",
     "output_type": "stream",
     "text": [
      "On fastq pair number 1900000 at 2016-07-14 02:06:55.802888\n"
     ]
    },
    {
     "name": "stdout",
     "output_type": "stream",
     "text": [
      "On fastq pair number 5100000 at 2016-07-14 02:07:02.820825\n"
     ]
    },
    {
     "name": "stdout",
     "output_type": "stream",
     "text": [
      "On fastq pair number 2000000 at 2016-07-14 02:07:04.003363\n"
     ]
    },
    {
     "name": "stdout",
     "output_type": "stream",
     "text": [
      "On fastq pair number 5200000 at 2016-07-14 02:07:11.118612\n"
     ]
    },
    {
     "name": "stdout",
     "output_type": "stream",
     "text": [
      "On fastq pair number 2100000 at 2016-07-14 02:07:12.216603\n"
     ]
    },
    {
     "name": "stdout",
     "output_type": "stream",
     "text": [
      "On fastq pair number 5300000 at 2016-07-14 02:07:19.396612\n"
     ]
    },
    {
     "name": "stdout",
     "output_type": "stream",
     "text": [
      "On fastq pair number 2200000 at 2016-07-14 02:07:20.372734\n"
     ]
    },
    {
     "name": "stdout",
     "output_type": "stream",
     "text": [
      "On fastq pair number 5400000 at 2016-07-14 02:07:27.739834\n"
     ]
    },
    {
     "name": "stdout",
     "output_type": "stream",
     "text": [
      "On fastq pair number 2300000 at 2016-07-14 02:07:28.523375\n"
     ]
    },
    {
     "name": "stdout",
     "output_type": "stream",
     "text": [
      "On fastq pair number 5500000 at 2016-07-14 02:07:36.091308\n"
     ]
    },
    {
     "name": "stdout",
     "output_type": "stream",
     "text": [
      "On fastq pair number 2400000 at 2016-07-14 02:07:36.661267\n"
     ]
    },
    {
     "name": "stdout",
     "output_type": "stream",
     "text": [
      "On fastq pair number 5600000 at 2016-07-14 02:07:44.465430\n"
     ]
    },
    {
     "name": "stdout",
     "output_type": "stream",
     "text": [
      "On fastq pair number 2500000 at 2016-07-14 02:07:44.859693\n"
     ]
    },
    {
     "name": "stdout",
     "output_type": "stream",
     "text": [
      "On fastq pair number 5700000 at 2016-07-14 02:07:52.811649\n"
     ]
    },
    {
     "name": "stdout",
     "output_type": "stream",
     "text": [
      "On fastq pair number 2600000 at 2016-07-14 02:07:53.048304\n"
     ]
    },
    {
     "name": "stdout",
     "output_type": "stream",
     "text": [
      "On fastq pair number 2700000 at 2016-07-14 02:08:01.226949\n"
     ]
    },
    {
     "name": "stdout",
     "output_type": "stream",
     "text": [
      "On fastq pair number 5800000 at 2016-07-14 02:08:01.239930\n"
     ]
    },
    {
     "name": "stdout",
     "output_type": "stream",
     "text": [
      "On fastq pair number 2800000 at 2016-07-14 02:08:09.415441\n"
     ]
    },
    {
     "name": "stdout",
     "output_type": "stream",
     "text": [
      "On fastq pair number 5900000 at 2016-07-14 02:08:09.630144\n"
     ]
    },
    {
     "name": "stdout",
     "output_type": "stream",
     "text": [
      "On fastq pair number 2900000 at 2016-07-14 02:08:17.625075\n"
     ]
    },
    {
     "name": "stdout",
     "output_type": "stream",
     "text": [
      "On fastq pair number 6000000 at 2016-07-14 02:08:18.011932\n"
     ]
    },
    {
     "name": "stdout",
     "output_type": "stream",
     "text": [
      "On fastq pair number 3000000 at 2016-07-14 02:08:25.876237\n"
     ]
    },
    {
     "name": "stdout",
     "output_type": "stream",
     "text": [
      "On fastq pair number 6100000 at 2016-07-14 02:08:26.451449\n"
     ]
    },
    {
     "name": "stdout",
     "output_type": "stream",
     "text": [
      "On fastq pair number 3100000 at 2016-07-14 02:08:34.085408\n"
     ]
    },
    {
     "name": "stdout",
     "output_type": "stream",
     "text": [
      "On fastq pair number 6200000 at 2016-07-14 02:08:34.838004\n"
     ]
    },
    {
     "name": "stdout",
     "output_type": "stream",
     "text": [
      "On fastq pair number 3200000 at 2016-07-14 02:08:42.285633\n"
     ]
    },
    {
     "name": "stdout",
     "output_type": "stream",
     "text": [
      "On fastq pair number 6300000 at 2016-07-14 02:08:43.201838\n"
     ]
    },
    {
     "name": "stdout",
     "output_type": "stream",
     "text": [
      "Hela_MV4_d20_1_S9_L002_001_trimmed53_len_filtered elapsed time: 0:09:02\n"
     ]
    },
    {
     "name": "stdout",
     "output_type": "stream",
     "text": [
      "On fastq pair number 3300000 at 2016-07-14 02:08:50.485143\n"
     ]
    },
    {
     "name": "stdout",
     "output_type": "stream",
     "text": [
      "On fastq pair number 3400000 at 2016-07-14 02:08:58.699130\n"
     ]
    },
    {
     "name": "stdout",
     "output_type": "stream",
     "text": [
      "On fastq pair number 3500000 at 2016-07-14 02:09:06.939297\n"
     ]
    },
    {
     "name": "stdout",
     "output_type": "stream",
     "text": [
      "On fastq pair number 3600000 at 2016-07-14 02:09:15.188033\n"
     ]
    },
    {
     "name": "stdout",
     "output_type": "stream",
     "text": [
      "On fastq pair number 3700000 at 2016-07-14 02:09:23.375614\n"
     ]
    },
    {
     "name": "stdout",
     "output_type": "stream",
     "text": [
      "On fastq pair number 3800000 at 2016-07-14 02:09:31.540014\n"
     ]
    },
    {
     "name": "stdout",
     "output_type": "stream",
     "text": [
      "On fastq pair number 3900000 at 2016-07-14 02:09:39.745004\n"
     ]
    },
    {
     "name": "stdout",
     "output_type": "stream",
     "text": [
      "On fastq pair number 4000000 at 2016-07-14 02:09:47.932128\n"
     ]
    },
    {
     "name": "stdout",
     "output_type": "stream",
     "text": [
      "On fastq pair number 4100000 at 2016-07-14 02:09:56.097026\n"
     ]
    },
    {
     "name": "stdout",
     "output_type": "stream",
     "text": [
      "On fastq pair number 4200000 at 2016-07-14 02:10:04.183750\n"
     ]
    },
    {
     "name": "stdout",
     "output_type": "stream",
     "text": [
      "On fastq pair number 4300000 at 2016-07-14 02:10:12.370246\n"
     ]
    },
    {
     "name": "stdout",
     "output_type": "stream",
     "text": [
      "On fastq pair number 4400000 at 2016-07-14 02:10:20.727956\n"
     ]
    },
    {
     "name": "stdout",
     "output_type": "stream",
     "text": [
      "On fastq pair number 4500000 at 2016-07-14 02:10:29.023206\n"
     ]
    },
    {
     "name": "stdout",
     "output_type": "stream",
     "text": [
      "On fastq pair number 4600000 at 2016-07-14 02:10:37.494734\n"
     ]
    },
    {
     "name": "stdout",
     "output_type": "stream",
     "text": [
      "On fastq pair number 4700000 at 2016-07-14 02:10:45.640581\n"
     ]
    },
    {
     "name": "stdout",
     "output_type": "stream",
     "text": [
      "On fastq pair number 4800000 at 2016-07-14 02:10:53.847510\n"
     ]
    },
    {
     "name": "stdout",
     "output_type": "stream",
     "text": [
      "On fastq pair number 4900000 at 2016-07-14 02:11:02.150776\n"
     ]
    },
    {
     "name": "stdout",
     "output_type": "stream",
     "text": [
      "On fastq pair number 5000000 at 2016-07-14 02:11:10.349553\n"
     ]
    },
    {
     "name": "stdout",
     "output_type": "stream",
     "text": [
      "On fastq pair number 5100000 at 2016-07-14 02:11:18.599232\n"
     ]
    },
    {
     "name": "stdout",
     "output_type": "stream",
     "text": [
      "On fastq pair number 5200000 at 2016-07-14 02:11:26.823438\n"
     ]
    },
    {
     "name": "stdout",
     "output_type": "stream",
     "text": [
      "On fastq pair number 5300000 at 2016-07-14 02:11:34.992587\n"
     ]
    },
    {
     "name": "stdout",
     "output_type": "stream",
     "text": [
      "On fastq pair number 5400000 at 2016-07-14 02:11:43.218095\n"
     ]
    },
    {
     "name": "stdout",
     "output_type": "stream",
     "text": [
      "On fastq pair number 5500000 at 2016-07-14 02:11:51.450959\n"
     ]
    },
    {
     "name": "stdout",
     "output_type": "stream",
     "text": [
      "On fastq pair number 5600000 at 2016-07-14 02:11:59.689370\n"
     ]
    },
    {
     "name": "stdout",
     "output_type": "stream",
     "text": [
      "On fastq pair number 5700000 at 2016-07-14 02:12:07.872298\n"
     ]
    },
    {
     "name": "stdout",
     "output_type": "stream",
     "text": [
      "On fastq pair number 5800000 at 2016-07-14 02:12:16.094680\n"
     ]
    },
    {
     "name": "stdout",
     "output_type": "stream",
     "text": [
      "On fastq pair number 5900000 at 2016-07-14 02:12:24.283611\n"
     ]
    },
    {
     "name": "stdout",
     "output_type": "stream",
     "text": [
      "On fastq pair number 6000000 at 2016-07-14 02:12:32.413504\n"
     ]
    },
    {
     "name": "stdout",
     "output_type": "stream",
     "text": [
      "On fastq pair number 6100000 at 2016-07-14 02:12:40.572928\n"
     ]
    },
    {
     "name": "stdout",
     "output_type": "stream",
     "text": [
      "On fastq pair number 6200000 at 2016-07-14 02:12:48.695941\n"
     ]
    },
    {
     "name": "stdout",
     "output_type": "stream",
     "text": [
      "On fastq pair number 6300000 at 2016-07-14 02:12:56.851058\n"
     ]
    },
    {
     "name": "stdout",
     "output_type": "stream",
     "text": [
      "On fastq pair number 6400000 at 2016-07-14 02:13:04.993101\n"
     ]
    },
    {
     "name": "stdout",
     "output_type": "stream",
     "text": [
      "On fastq pair number 6500000 at 2016-07-14 02:13:13.114011\n"
     ]
    },
    {
     "name": "stdout",
     "output_type": "stream",
     "text": [
      "On fastq pair number 6600000 at 2016-07-14 02:13:21.279079\n"
     ]
    },
    {
     "name": "stdout",
     "output_type": "stream",
     "text": [
      "On fastq pair number 6700000 at 2016-07-14 02:13:29.516562\n"
     ]
    },
    {
     "name": "stdout",
     "output_type": "stream",
     "text": [
      "On fastq pair number 6800000 at 2016-07-14 02:13:37.718623\n"
     ]
    },
    {
     "name": "stdout",
     "output_type": "stream",
     "text": [
      "On fastq pair number 6900000 at 2016-07-14 02:13:45.915586\n"
     ]
    },
    {
     "name": "stdout",
     "output_type": "stream",
     "text": [
      "On fastq pair number 7000000 at 2016-07-14 02:13:54.150103\n"
     ]
    },
    {
     "name": "stdout",
     "output_type": "stream",
     "text": [
      "On fastq pair number 7100000 at 2016-07-14 02:14:02.379065\n"
     ]
    },
    {
     "name": "stdout",
     "output_type": "stream",
     "text": [
      "On fastq pair number 7200000 at 2016-07-14 02:14:10.629643\n"
     ]
    },
    {
     "name": "stdout",
     "output_type": "stream",
     "text": [
      "On fastq pair number 7300000 at 2016-07-14 02:14:18.901068\n"
     ]
    },
    {
     "name": "stdout",
     "output_type": "stream",
     "text": [
      "On fastq pair number 7400000 at 2016-07-14 02:14:27.087793\n"
     ]
    },
    {
     "name": "stdout",
     "output_type": "stream",
     "text": [
      "On fastq pair number 7500000 at 2016-07-14 02:14:35.320721\n"
     ]
    },
    {
     "name": "stdout",
     "output_type": "stream",
     "text": [
      "On fastq pair number 7600000 at 2016-07-14 02:14:43.559249\n"
     ]
    },
    {
     "name": "stdout",
     "output_type": "stream",
     "text": [
      "Hela_MV4_d20_2_S10_L002_001_trimmed53_len_filtered elapsed time: 0:10:30\n"
     ]
    },
    {
     "name": "stdout",
     "output_type": "stream",
     "text": [
      "parallel processing elapsed time: 1:02:42\n"
     ]
    }
   ],
   "source": [
    "from ccbbucsd.utilities.parallel_process_fastqs import parallel_process_paired_reads, concatenate_parallel_results\n",
    "\n",
    "g_col_indices = [int(x.strip()) for x in g_col_indices_str.split(\",\")]\n",
    "g_parallel_results = parallel_process_paired_reads(g_filtered_fastqs_dir, get_filtered_file_suffix(), g_num_processors, \n",
    "                              count_constructs_for_one_fastq_pair, [g_fastq_counts_run_prefix, g_len_of_seq_to_match,\n",
    "                                                                    g_num_allowed_mismatches, g_constructs_fp, \n",
    "                                                                    g_col_indices, g_fastq_counts_dir], True)"
   ]
  },
  {
   "cell_type": "code",
   "execution_count": 13,
   "metadata": {
    "collapsed": false
   },
   "outputs": [
    {
     "name": "stdout",
     "output_type": "stream",
     "text": [
      "A549_MV4_d14_1_S3_L001_001_trimmed53_len_filtered: finished\n",
      "A549_MV4_d14_1_S3_L002_001_trimmed53_len_filtered: finished\n",
      "A549_MV4_d14_2_S4_L001_001_trimmed53_len_filtered: finished\n",
      "A549_MV4_d14_2_S4_L002_001_trimmed53_len_filtered: finished\n",
      "A549_MV4_d20_1_S5_L001_001_trimmed53_len_filtered: finished\n",
      "A549_MV4_d20_1_S5_L002_001_trimmed53_len_filtered: finished\n",
      "A549_MV4_d20_2_S6_L001_001_trimmed53_len_filtered: finished\n",
      "A549_MV4_d20_2_S6_L002_001_trimmed53_len_filtered: finished\n",
      "A549_MV4_d28_1_S7_L001_001_trimmed53_len_filtered: finished\n",
      "A549_MV4_d28_1_S7_L002_001_trimmed53_len_filtered: finished\n",
      "A549_MV4_d28_2_S8_L001_001_trimmed53_len_filtered: finished\n",
      "A549_MV4_d28_2_S8_L002_001_trimmed53_len_filtered: finished\n",
      "A549_MV4_d3_1_S1_L001_001_trimmed53_len_filtered: finished\n",
      "A549_MV4_d3_1_S1_L002_001_trimmed53_len_filtered: finished\n",
      "A549_MV4_d3_2_S2_L001_001_trimmed53_len_filtered: finished\n",
      "A549_MV4_d3_2_S2_L002_001_trimmed53_len_filtered: finished\n",
      "Hela_MV4_d20_1_S9_L001_001_trimmed53_len_filtered: finished\n",
      "Hela_MV4_d20_1_S9_L002_001_trimmed53_len_filtered: finished\n",
      "Hela_MV4_d20_2_S10_L001_001_trimmed53_len_filtered: finished\n",
      "Hela_MV4_d20_2_S10_L002_001_trimmed53_len_filtered: finished\n",
      "\n"
     ]
    }
   ],
   "source": [
    "print(concatenate_parallel_results(g_parallel_results))"
   ]
  },
  {
   "cell_type": "code",
   "execution_count": 14,
   "metadata": {
    "collapsed": true
   },
   "outputs": [],
   "source": []
  }
 ],
 "metadata": {
  "kernelspec": {
   "display_name": "Python 3",
   "language": "python",
   "name": "python3"
  },
  "language_info": {
   "codemirror_mode": {
    "name": "ipython",
    "version": 3
   },
   "file_extension": ".py",
   "mimetype": "text/x-python",
   "name": "python",
   "nbconvert_exporter": "python",
   "pygments_lexer": "ipython3",
   "version": "3.4.2"
  }
 },
 "nbformat": 4,
 "nbformat_minor": 0
}
