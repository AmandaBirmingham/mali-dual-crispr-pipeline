{
 "cells": [
  {
   "cell_type": "markdown",
   "metadata": {},
   "source": [
    "# Dual CRISPR Screen Analysis\n",
    "# Construct Scaffold Trimming\n",
    "Amanda Birmingham, CCBB, UCSD (abirmingham@ucsd.edu)"
   ]
  },
  {
   "cell_type": "markdown",
   "metadata": {},
   "source": [
    "## Instructions\n",
    "\n",
    "To run this notebook reproducibly, follow these steps:\n",
    "1. Click **Kernel** > **Restart & Clear Output**\n",
    "2. When prompted, click the red **Restart & clear all outputs** button\n",
    "3. Fill in the values for your analysis for each of the variables in the [Input Parameters](#input-parameters) section\n",
    "4. Click **Cell** > **Run All**"
   ]
  },
  {
   "cell_type": "markdown",
   "metadata": {},
   "source": [
    "<a name = \"input-parameters\"></a>\n",
    "\n",
    "## Input Parameters"
   ]
  },
  {
   "cell_type": "code",
   "execution_count": 1,
   "metadata": {
    "collapsed": true
   },
   "outputs": [],
   "source": [
    "g_num_processors = 4\n",
    "g_fastqs_dir = '/data/raw/20160706_D00611_0304_BHVVJ3BCXX'\n",
    "g_trimmed_fastqs_dir = '/data/interim/20160706_D00611_0304_BHVVJ3BCXX'\n",
    "g_full_5p_r1 = 'TATATATCTTGTGGAAAGGACGAAACACCG'\n",
    "g_full_5p_r2 = 'CCTTATTTTAACTTGCTATTTCTAGCTCTAAAAC'\n",
    "g_full_3p_r1 = 'GTTTCAGAGCTATGCTGGAAACTGCATAGCAAGTTGAAATAAGGCTAGTCCGTTATCAACTTGAAAAAGTGGCACCGAGTCGGTGCTTTTTTGTACTGAG'\n",
    "g_full_3p_r2 = 'CAAACAAGGCTTTTCTCCAAGGGATATTTATAGTCTCAAAACACACAATTACTTTACAGTTAGGGTGAGTTTCCTTTTGTGCTGTTTTTTAAAATA'\n",
    "g_code_location = '/home/ec2-user/jupyter-genomics/src/crispr'"
   ]
  },
  {
   "cell_type": "markdown",
   "metadata": {},
   "source": [
    "## CCBB Library Imports"
   ]
  },
  {
   "cell_type": "code",
   "execution_count": 2,
   "metadata": {
    "collapsed": true
   },
   "outputs": [],
   "source": [
    "import sys\n",
    "sys.path.append(g_code_location)"
   ]
  },
  {
   "cell_type": "markdown",
   "metadata": {},
   "source": [
    "## Automated Set-Up"
   ]
  },
  {
   "cell_type": "code",
   "execution_count": 3,
   "metadata": {
    "collapsed": false
   },
   "outputs": [],
   "source": [
    "# %load -s describe_var_list /Users/Birmingham/Repositories/ccbb_tickets/20160210_mali_crispr/src/python/ccbbucsd/utilities/analysis_run_prefixes.py\n",
    "def describe_var_list(input_var_name_list):\n",
    "    description_list =  [\"{0}: {1}\\n\".format(name, eval(name)) for name in input_var_name_list]\n",
    "    return \"\".join(description_list)\n"
   ]
  },
  {
   "cell_type": "code",
   "execution_count": 4,
   "metadata": {
    "collapsed": false
   },
   "outputs": [
    {
     "name": "stdout",
     "output_type": "stream",
     "text": [
      "g_trimmed_fastqs_dir: /data/interim/20160706_D00611_0304_BHVVJ3BCXX\n",
      "\n"
     ]
    }
   ],
   "source": [
    "from ccbbucsd.utilities.analysis_run_prefixes import check_or_set, get_run_prefix, get_timestamp\n",
    "g_trimmed_fastqs_dir = check_or_set(g_trimmed_fastqs_dir, g_fastqs_dir)\n",
    "print(describe_var_list(['g_trimmed_fastqs_dir']))"
   ]
  },
  {
   "cell_type": "code",
   "execution_count": 5,
   "metadata": {
    "collapsed": true
   },
   "outputs": [],
   "source": [
    "from ccbbucsd.utilities.files_and_paths import verify_or_make_dir\n",
    "verify_or_make_dir(g_trimmed_fastqs_dir)"
   ]
  },
  {
   "cell_type": "markdown",
   "metadata": {},
   "source": [
    "## Info Logging Pass-Through"
   ]
  },
  {
   "cell_type": "code",
   "execution_count": 6,
   "metadata": {
    "collapsed": true
   },
   "outputs": [],
   "source": [
    "from ccbbucsd.utilities.notebook_logging import set_stdout_info_logger\n",
    "set_stdout_info_logger()"
   ]
  },
  {
   "cell_type": "markdown",
   "metadata": {},
   "source": [
    "## Scaffold Trimming Functions"
   ]
  },
  {
   "cell_type": "code",
   "execution_count": 7,
   "metadata": {
    "collapsed": false
   },
   "outputs": [],
   "source": [
    "# %load /Users/Birmingham/Repositories/ccbb_tickets/20160210_mali_crispr/src/python/ccbbucsd/malicrispr/scaffold_trim.py\n",
    "# standard libraries\n",
    "import enum\n",
    "\n",
    "# third-party libraries\n",
    "import cutadapt.scripts.cutadapt\n",
    "\n",
    "# ccbb libraries\n",
    "from ccbbucsd.utilities.files_and_paths import get_file_name_pieces, make_file_path\n",
    "\n",
    "__author__ = 'Amanda Birmingham'\n",
    "__maintainer__ = \"Amanda Birmingham\"\n",
    "__email__ = \"abirmingham@ucsd.edu\"\n",
    "__status__ = \"prototype\"\n",
    "\n",
    "\n",
    "class TrimType(enum.Enum):\n",
    "    FIVE = \"5\"\n",
    "    THREE = \"3\"\n",
    "    FIVE_THREE = \"53\"\n",
    "\n",
    "\n",
    "def get_trimmed_suffix(trimtype):\n",
    "    return \"_trimmed{0}.fastq\".format(trimtype.value)\n",
    "\n",
    "\n",
    "def trim_linked_scaffold(output_dir, fastq_fp, scaffold_seq_5p, scaffold_seq_3p, quiet=True):\n",
    "    args = [\"-a\", \"{0}...{1}\".format(scaffold_seq_5p,scaffold_seq_3p)]\n",
    "    return _run_cutadapt(output_dir, fastq_fp, TrimType.FIVE_THREE, args, quiet)\n",
    "\n",
    "\n",
    "def trim_global_scaffold(output_dir, fastq_fp, scaffold_seq_5p=None, scaffold_seq_3p=None, quiet=True):\n",
    "    curr_fastq_fp = fastq_fp\n",
    "\n",
    "    if scaffold_seq_5p is not None:\n",
    "        curr_fastq_fp = _run_cutadapt_global(output_dir, curr_fastq_fp, scaffold_seq_5p, True, quiet)\n",
    "\n",
    "    if scaffold_seq_3p is not None:\n",
    "        curr_fastq_fp = _run_cutadapt_global(output_dir, curr_fastq_fp, scaffold_seq_3p, False, quiet)\n",
    "\n",
    "    return curr_fastq_fp\n",
    "\n",
    "\n",
    "def _run_cutadapt_global(output_dir, input_fastq_fp, seq_to_trim, is_5p, quiet):\n",
    "    end_switch = \"-g\"\n",
    "    end_name = TrimType.FIVE\n",
    "    if not is_5p:\n",
    "        end_switch = \"-a\"\n",
    "        end_name = TrimType.THREE\n",
    "\n",
    "    args = [end_switch, seq_to_trim]\n",
    "    return _run_cutadapt(output_dir, input_fastq_fp, end_name, args, quiet)\n",
    "\n",
    "\n",
    "def _run_cutadapt(output_dir, input_fastq_fp, trim_name, partial_args, quiet):\n",
    "    _, input_base, _ = get_file_name_pieces(input_fastq_fp)\n",
    "    output_fastq_fp = make_file_path(output_dir, input_base, get_trimmed_suffix(trim_name))\n",
    "    args = [x for x in partial_args]\n",
    "    if quiet:\n",
    "        args.append(\"--quiet\")\n",
    "    args.extend([\"-o\", output_fastq_fp, input_fastq_fp])\n",
    "    cutadapt.scripts.cutadapt.main(args)\n",
    "    return output_fastq_fp\n"
   ]
  },
  {
   "cell_type": "code",
   "execution_count": 8,
   "metadata": {
    "collapsed": false
   },
   "outputs": [],
   "source": [
    "def trim_fw_and_rv_reads(output_dir, full_5p_r1, full_3p_r1, full_5p_r2, full_3p_r2, fw_fastq_fp, rv_fastq_fp):        \n",
    "    trim_linked_scaffold(output_dir, fw_fastq_fp, full_5p_r1, full_3p_r1)\n",
    "    trim_linked_scaffold(output_dir, rv_fastq_fp, full_5p_r2, full_3p_r2) "
   ]
  },
  {
   "cell_type": "markdown",
   "metadata": {},
   "source": [
    "## Gzipped FASTQ Filenames"
   ]
  },
  {
   "cell_type": "code",
   "execution_count": 9,
   "metadata": {
    "collapsed": true
   },
   "outputs": [],
   "source": [
    "g_seq_file_ext_name = \".fastq\"\n",
    "g_gzip_ext_name = \".gz\""
   ]
  },
  {
   "cell_type": "code",
   "execution_count": 10,
   "metadata": {
    "collapsed": false
   },
   "outputs": [
    {
     "name": "stdout",
     "output_type": "stream",
     "text": [
      "A549_MV4_d14_1_S3_L001_R1_001.fastq.gz\n",
      "A549_MV4_d14_1_S3_L001_R2_001.fastq.gz\n",
      "A549_MV4_d14_1_S3_L002_R1_001.fastq.gz\n",
      "A549_MV4_d14_1_S3_L002_R2_001.fastq.gz\n",
      "A549_MV4_d14_2_S4_L001_R1_001.fastq.gz\n",
      "A549_MV4_d14_2_S4_L001_R2_001.fastq.gz\n",
      "A549_MV4_d14_2_S4_L002_R1_001.fastq.gz\n",
      "A549_MV4_d14_2_S4_L002_R2_001.fastq.gz\n",
      "A549_MV4_d20_1_S5_L001_R1_001.fastq.gz\n",
      "A549_MV4_d20_1_S5_L001_R2_001.fastq.gz\n",
      "A549_MV4_d20_1_S5_L002_R1_001.fastq.gz\n",
      "A549_MV4_d20_1_S5_L002_R2_001.fastq.gz\n",
      "A549_MV4_d20_2_S6_L001_R1_001.fastq.gz\n",
      "A549_MV4_d20_2_S6_L001_R2_001.fastq.gz\n",
      "A549_MV4_d20_2_S6_L002_R1_001.fastq.gz\n",
      "A549_MV4_d20_2_S6_L002_R2_001.fastq.gz\n",
      "A549_MV4_d28_1_S7_L001_R1_001.fastq.gz\n",
      "A549_MV4_d28_1_S7_L001_R2_001.fastq.gz\n",
      "A549_MV4_d28_1_S7_L002_R1_001.fastq.gz\n",
      "A549_MV4_d28_1_S7_L002_R2_001.fastq.gz\n",
      "A549_MV4_d28_2_S8_L001_R1_001.fastq.gz\n",
      "A549_MV4_d28_2_S8_L001_R2_001.fastq.gz\n",
      "A549_MV4_d28_2_S8_L002_R1_001.fastq.gz\n",
      "A549_MV4_d28_2_S8_L002_R2_001.fastq.gz\n",
      "A549_MV4_d3_1_S1_L001_R1_001.fastq.gz\n",
      "A549_MV4_d3_1_S1_L001_R2_001.fastq.gz\n",
      "A549_MV4_d3_1_S1_L002_R1_001.fastq.gz\n",
      "A549_MV4_d3_1_S1_L002_R2_001.fastq.gz\n",
      "A549_MV4_d3_2_S2_L001_R1_001.fastq.gz\n",
      "A549_MV4_d3_2_S2_L001_R2_001.fastq.gz\n",
      "A549_MV4_d3_2_S2_L002_R1_001.fastq.gz\n",
      "A549_MV4_d3_2_S2_L002_R2_001.fastq.gz\n",
      "Hela_MV4_d20_1_S9_L001_R1_001.fastq.gz\n",
      "Hela_MV4_d20_1_S9_L001_R2_001.fastq.gz\n",
      "Hela_MV4_d20_1_S9_L002_R1_001.fastq.gz\n",
      "Hela_MV4_d20_1_S9_L002_R2_001.fastq.gz\n",
      "Hela_MV4_d20_2_S10_L001_R1_001.fastq.gz\n",
      "Hela_MV4_d20_2_S10_L001_R2_001.fastq.gz\n",
      "Hela_MV4_d20_2_S10_L002_R1_001.fastq.gz\n",
      "Hela_MV4_d20_2_S10_L002_R2_001.fastq.gz\n"
     ]
    }
   ],
   "source": [
    "from ccbbucsd.utilities.files_and_paths import summarize_filenames_for_prefix_and_suffix\n",
    "print(summarize_filenames_for_prefix_and_suffix(g_fastqs_dir, \"\", \n",
    "                                                \"{0}{1}\".format(g_seq_file_ext_name, g_gzip_ext_name), \n",
    "                                                all_subdirs=True))"
   ]
  },
  {
   "cell_type": "markdown",
   "metadata": {},
   "source": [
    "## FASTQ Gunzip Execution"
   ]
  },
  {
   "cell_type": "code",
   "execution_count": 11,
   "metadata": {
    "collapsed": true
   },
   "outputs": [],
   "source": [
    "from ccbbucsd.utilities.files_and_paths import gunzip_wildpath, move_to_dir_and_flatten\n",
    "\n",
    "def unzip_and_flatten_seq_files(top_fastqs_dir, ext_name, gzip_ext_name, keep_gzs):\n",
    "    # first, recursively unzip all fastq.gz files anywhere under the input dir\n",
    "    gunzip_wildpath(top_fastqs_dir, ext_name + gzip_ext_name, keep_gzs, True)  # True = do recursive\n",
    "    # now move all fastqs to top-level directory so don't have to work recursively in future\n",
    "    move_to_dir_and_flatten(top_fastqs_dir, top_fastqs_dir, ext_name)"
   ]
  },
  {
   "cell_type": "code",
   "execution_count": 12,
   "metadata": {
    "collapsed": false
   },
   "outputs": [],
   "source": [
    "# False = don't keep gzs as well as expanding, True = do keep them (True only works for gzip 1.6+)\n",
    "unzip_and_flatten_seq_files(g_fastqs_dir, g_seq_file_ext_name, g_gzip_ext_name, False)  "
   ]
  },
  {
   "cell_type": "markdown",
   "metadata": {},
   "source": [
    "## FASTQ Filenames"
   ]
  },
  {
   "cell_type": "code",
   "execution_count": 13,
   "metadata": {
    "collapsed": false
   },
   "outputs": [
    {
     "name": "stdout",
     "output_type": "stream",
     "text": [
      "A549_MV4_d14_1_S3_L001_R1_001.fastq\n",
      "A549_MV4_d14_1_S3_L001_R2_001.fastq\n",
      "A549_MV4_d14_1_S3_L002_R1_001.fastq\n",
      "A549_MV4_d14_1_S3_L002_R2_001.fastq\n",
      "A549_MV4_d14_2_S4_L001_R1_001.fastq\n",
      "A549_MV4_d14_2_S4_L001_R2_001.fastq\n",
      "A549_MV4_d14_2_S4_L002_R1_001.fastq\n",
      "A549_MV4_d14_2_S4_L002_R2_001.fastq\n",
      "A549_MV4_d20_1_S5_L001_R1_001.fastq\n",
      "A549_MV4_d20_1_S5_L001_R2_001.fastq\n",
      "A549_MV4_d20_1_S5_L002_R1_001.fastq\n",
      "A549_MV4_d20_1_S5_L002_R2_001.fastq\n",
      "A549_MV4_d20_2_S6_L001_R1_001.fastq\n",
      "A549_MV4_d20_2_S6_L001_R2_001.fastq\n",
      "A549_MV4_d20_2_S6_L002_R1_001.fastq\n",
      "A549_MV4_d20_2_S6_L002_R2_001.fastq\n",
      "A549_MV4_d28_1_S7_L001_R1_001.fastq\n",
      "A549_MV4_d28_1_S7_L001_R2_001.fastq\n",
      "A549_MV4_d28_1_S7_L002_R1_001.fastq\n",
      "A549_MV4_d28_1_S7_L002_R2_001.fastq\n",
      "A549_MV4_d28_2_S8_L001_R1_001.fastq\n",
      "A549_MV4_d28_2_S8_L001_R2_001.fastq\n",
      "A549_MV4_d28_2_S8_L002_R1_001.fastq\n",
      "A549_MV4_d28_2_S8_L002_R2_001.fastq\n",
      "A549_MV4_d3_1_S1_L001_R1_001.fastq\n",
      "A549_MV4_d3_1_S1_L001_R2_001.fastq\n",
      "A549_MV4_d3_1_S1_L002_R1_001.fastq\n",
      "A549_MV4_d3_1_S1_L002_R2_001.fastq\n",
      "A549_MV4_d3_2_S2_L001_R1_001.fastq\n",
      "A549_MV4_d3_2_S2_L001_R2_001.fastq\n",
      "A549_MV4_d3_2_S2_L002_R1_001.fastq\n",
      "A549_MV4_d3_2_S2_L002_R2_001.fastq\n",
      "Hela_MV4_d20_1_S9_L001_R1_001.fastq\n",
      "Hela_MV4_d20_1_S9_L001_R2_001.fastq\n",
      "Hela_MV4_d20_1_S9_L002_R1_001.fastq\n",
      "Hela_MV4_d20_1_S9_L002_R2_001.fastq\n",
      "Hela_MV4_d20_2_S10_L001_R1_001.fastq\n",
      "Hela_MV4_d20_2_S10_L001_R2_001.fastq\n",
      "Hela_MV4_d20_2_S10_L002_R1_001.fastq\n",
      "Hela_MV4_d20_2_S10_L002_R2_001.fastq\n"
     ]
    }
   ],
   "source": [
    "print(summarize_filenames_for_prefix_and_suffix(g_fastqs_dir, \"\", g_seq_file_ext_name))"
   ]
  },
  {
   "cell_type": "markdown",
   "metadata": {},
   "source": [
    "## Scaffold Trim Execution"
   ]
  },
  {
   "cell_type": "code",
   "execution_count": 14,
   "metadata": {
    "collapsed": false
   },
   "outputs": [
    {
     "name": "stdout",
     "output_type": "stream",
     "text": [
      "Starting parallel processing at 2016-07-14 00:08:53.018504\n"
     ]
    },
    {
     "name": "stdout",
     "output_type": "stream",
     "text": [
      "Starting A549_MV4_d14_2_S4_L001_001 at 2016-07-14 00:08:53.035748\n"
     ]
    },
    {
     "name": "stdout",
     "output_type": "stream",
     "text": [
      "Starting A549_MV4_d20_2_S6_L001_001 at 2016-07-14 00:08:53.035927\n"
     ]
    },
    {
     "name": "stdout",
     "output_type": "stream",
     "text": [
      "Starting A549_MV4_d14_1_S3_L001_001 at 2016-07-14 00:08:53.035676\n"
     ]
    },
    {
     "name": "stdout",
     "output_type": "stream",
     "text": [
      "Starting A549_MV4_d20_1_S5_L001_001 at 2016-07-14 00:08:53.035851\n"
     ]
    },
    {
     "name": "stdout",
     "output_type": "stream",
     "text": [
      "This is cutadapt 1.10 with Python 3.4.5\n"
     ]
    },
    {
     "name": "stdout",
     "output_type": "stream",
     "text": [
      "This is cutadapt 1.10 with Python 3.4.5\n"
     ]
    },
    {
     "name": "stdout",
     "output_type": "stream",
     "text": [
      "This is cutadapt 1.10 with Python 3.4.5\n"
     ]
    },
    {
     "name": "stdout",
     "output_type": "stream",
     "text": [
      "This is cutadapt 1.10 with Python 3.4.5\n"
     ]
    },
    {
     "name": "stdout",
     "output_type": "stream",
     "text": [
      "Command line parameters: -a TATATATCTTGTGGAAAGGACGAAACACCG...GTTTCAGAGCTATGCTGGAAACTGCATAGCAAGTTGAAATAAGGCTAGTCCGTTATCAACTTGAAAAAGTGGCACCGAGTCGGTGCTTTTTTGTACTGAG --quiet -o /data/interim/20160706_D00611_0304_BHVVJ3BCXX/A549_MV4_d14_2_S4_L001_R1_001_trimmed53.fastq /data/raw/20160706_D00611_0304_BHVVJ3BCXX/A549_MV4_d14_2_S4_L001_R1_001.fastq\n"
     ]
    },
    {
     "name": "stdout",
     "output_type": "stream",
     "text": [
      "Command line parameters: -a TATATATCTTGTGGAAAGGACGAAACACCG...GTTTCAGAGCTATGCTGGAAACTGCATAGCAAGTTGAAATAAGGCTAGTCCGTTATCAACTTGAAAAAGTGGCACCGAGTCGGTGCTTTTTTGTACTGAG --quiet -o /data/interim/20160706_D00611_0304_BHVVJ3BCXX/A549_MV4_d20_2_S6_L001_R1_001_trimmed53.fastq /data/raw/20160706_D00611_0304_BHVVJ3BCXX/A549_MV4_d20_2_S6_L001_R1_001.fastq\n"
     ]
    },
    {
     "name": "stdout",
     "output_type": "stream",
     "text": [
      "Command line parameters: -a TATATATCTTGTGGAAAGGACGAAACACCG...GTTTCAGAGCTATGCTGGAAACTGCATAGCAAGTTGAAATAAGGCTAGTCCGTTATCAACTTGAAAAAGTGGCACCGAGTCGGTGCTTTTTTGTACTGAG --quiet -o /data/interim/20160706_D00611_0304_BHVVJ3BCXX/A549_MV4_d14_1_S3_L001_R1_001_trimmed53.fastq /data/raw/20160706_D00611_0304_BHVVJ3BCXX/A549_MV4_d14_1_S3_L001_R1_001.fastq\n"
     ]
    },
    {
     "name": "stdout",
     "output_type": "stream",
     "text": [
      "Trimming 1 adapter with at most 10.0% errors in single-end mode ...\n"
     ]
    },
    {
     "name": "stdout",
     "output_type": "stream",
     "text": [
      "Command line parameters: -a TATATATCTTGTGGAAAGGACGAAACACCG...GTTTCAGAGCTATGCTGGAAACTGCATAGCAAGTTGAAATAAGGCTAGTCCGTTATCAACTTGAAAAAGTGGCACCGAGTCGGTGCTTTTTTGTACTGAG --quiet -o /data/interim/20160706_D00611_0304_BHVVJ3BCXX/A549_MV4_d20_1_S5_L001_R1_001_trimmed53.fastq /data/raw/20160706_D00611_0304_BHVVJ3BCXX/A549_MV4_d20_1_S5_L001_R1_001.fastq\n"
     ]
    },
    {
     "name": "stdout",
     "output_type": "stream",
     "text": [
      "Trimming 1 adapter with at most 10.0% errors in single-end mode ...\n"
     ]
    },
    {
     "name": "stdout",
     "output_type": "stream",
     "text": [
      "Trimming 1 adapter with at most 10.0% errors in single-end mode ...\n"
     ]
    },
    {
     "name": "stdout",
     "output_type": "stream",
     "text": [
      "Trimming 1 adapter with at most 10.0% errors in single-end mode ...\n"
     ]
    },
    {
     "name": "stdout",
     "output_type": "stream",
     "text": [
      "This is cutadapt 1.10 with Python 3.4.5\n"
     ]
    },
    {
     "name": "stdout",
     "output_type": "stream",
     "text": [
      "Command line parameters: -a CCTTATTTTAACTTGCTATTTCTAGCTCTAAAAC...CAAACAAGGCTTTTCTCCAAGGGATATTTATAGTCTCAAAACACACAATTACTTTACAGTTAGGGTGAGTTTCCTTTTGTGCTGTTTTTTAAAATA --quiet -o /data/interim/20160706_D00611_0304_BHVVJ3BCXX/A549_MV4_d20_1_S5_L001_R2_001_trimmed53.fastq /data/raw/20160706_D00611_0304_BHVVJ3BCXX/A549_MV4_d20_1_S5_L001_R2_001.fastq\n"
     ]
    },
    {
     "name": "stdout",
     "output_type": "stream",
     "text": [
      "Trimming 1 adapter with at most 10.0% errors in single-end mode ...\n"
     ]
    },
    {
     "name": "stdout",
     "output_type": "stream",
     "text": [
      "This is cutadapt 1.10 with Python 3.4.5\n"
     ]
    },
    {
     "name": "stdout",
     "output_type": "stream",
     "text": [
      "Command line parameters: -a CCTTATTTTAACTTGCTATTTCTAGCTCTAAAAC...CAAACAAGGCTTTTCTCCAAGGGATATTTATAGTCTCAAAACACACAATTACTTTACAGTTAGGGTGAGTTTCCTTTTGTGCTGTTTTTTAAAATA --quiet -o /data/interim/20160706_D00611_0304_BHVVJ3BCXX/A549_MV4_d14_1_S3_L001_R2_001_trimmed53.fastq /data/raw/20160706_D00611_0304_BHVVJ3BCXX/A549_MV4_d14_1_S3_L001_R2_001.fastq\n"
     ]
    },
    {
     "name": "stdout",
     "output_type": "stream",
     "text": [
      "Trimming 1 adapter with at most 10.0% errors in single-end mode ...\n"
     ]
    },
    {
     "name": "stdout",
     "output_type": "stream",
     "text": [
      "This is cutadapt 1.10 with Python 3.4.5\n"
     ]
    },
    {
     "name": "stdout",
     "output_type": "stream",
     "text": [
      "Command line parameters: -a CCTTATTTTAACTTGCTATTTCTAGCTCTAAAAC...CAAACAAGGCTTTTCTCCAAGGGATATTTATAGTCTCAAAACACACAATTACTTTACAGTTAGGGTGAGTTTCCTTTTGTGCTGTTTTTTAAAATA --quiet -o /data/interim/20160706_D00611_0304_BHVVJ3BCXX/A549_MV4_d14_2_S4_L001_R2_001_trimmed53.fastq /data/raw/20160706_D00611_0304_BHVVJ3BCXX/A549_MV4_d14_2_S4_L001_R2_001.fastq\n"
     ]
    },
    {
     "name": "stdout",
     "output_type": "stream",
     "text": [
      "Trimming 1 adapter with at most 10.0% errors in single-end mode ...\n"
     ]
    },
    {
     "name": "stdout",
     "output_type": "stream",
     "text": [
      "This is cutadapt 1.10 with Python 3.4.5\n"
     ]
    },
    {
     "name": "stdout",
     "output_type": "stream",
     "text": [
      "Command line parameters: -a CCTTATTTTAACTTGCTATTTCTAGCTCTAAAAC...CAAACAAGGCTTTTCTCCAAGGGATATTTATAGTCTCAAAACACACAATTACTTTACAGTTAGGGTGAGTTTCCTTTTGTGCTGTTTTTTAAAATA --quiet -o /data/interim/20160706_D00611_0304_BHVVJ3BCXX/A549_MV4_d20_2_S6_L001_R2_001_trimmed53.fastq /data/raw/20160706_D00611_0304_BHVVJ3BCXX/A549_MV4_d20_2_S6_L001_R2_001.fastq\n"
     ]
    },
    {
     "name": "stdout",
     "output_type": "stream",
     "text": [
      "Trimming 1 adapter with at most 10.0% errors in single-end mode ...\n"
     ]
    },
    {
     "name": "stdout",
     "output_type": "stream",
     "text": [
      "A549_MV4_d20_1_S5_L001_001 elapsed time: 0:06:55\n"
     ]
    },
    {
     "name": "stdout",
     "output_type": "stream",
     "text": [
      "Starting A549_MV4_d20_1_S5_L002_001 at 2016-07-14 00:15:48.584083\n"
     ]
    },
    {
     "name": "stdout",
     "output_type": "stream",
     "text": [
      "This is cutadapt 1.10 with Python 3.4.5\n"
     ]
    },
    {
     "name": "stdout",
     "output_type": "stream",
     "text": [
      "Command line parameters: -a TATATATCTTGTGGAAAGGACGAAACACCG...GTTTCAGAGCTATGCTGGAAACTGCATAGCAAGTTGAAATAAGGCTAGTCCGTTATCAACTTGAAAAAGTGGCACCGAGTCGGTGCTTTTTTGTACTGAG --quiet -o /data/interim/20160706_D00611_0304_BHVVJ3BCXX/A549_MV4_d20_1_S5_L002_R1_001_trimmed53.fastq /data/raw/20160706_D00611_0304_BHVVJ3BCXX/A549_MV4_d20_1_S5_L002_R1_001.fastq\n"
     ]
    },
    {
     "name": "stdout",
     "output_type": "stream",
     "text": [
      "Trimming 1 adapter with at most 10.0% errors in single-end mode ...\n"
     ]
    },
    {
     "name": "stdout",
     "output_type": "stream",
     "text": [
      "A549_MV4_d14_1_S3_L001_001 elapsed time: 0:07:22\n"
     ]
    },
    {
     "name": "stdout",
     "output_type": "stream",
     "text": [
      "Starting A549_MV4_d14_1_S3_L002_001 at 2016-07-14 00:16:15.743650\n"
     ]
    },
    {
     "name": "stdout",
     "output_type": "stream",
     "text": [
      "This is cutadapt 1.10 with Python 3.4.5\n"
     ]
    },
    {
     "name": "stdout",
     "output_type": "stream",
     "text": [
      "Command line parameters: -a TATATATCTTGTGGAAAGGACGAAACACCG...GTTTCAGAGCTATGCTGGAAACTGCATAGCAAGTTGAAATAAGGCTAGTCCGTTATCAACTTGAAAAAGTGGCACCGAGTCGGTGCTTTTTTGTACTGAG --quiet -o /data/interim/20160706_D00611_0304_BHVVJ3BCXX/A549_MV4_d14_1_S3_L002_R1_001_trimmed53.fastq /data/raw/20160706_D00611_0304_BHVVJ3BCXX/A549_MV4_d14_1_S3_L002_R1_001.fastq\n"
     ]
    },
    {
     "name": "stdout",
     "output_type": "stream",
     "text": [
      "Trimming 1 adapter with at most 10.0% errors in single-end mode ...\n"
     ]
    },
    {
     "name": "stdout",
     "output_type": "stream",
     "text": [
      "A549_MV4_d14_2_S4_L001_001 elapsed time: 0:07:58\n"
     ]
    },
    {
     "name": "stdout",
     "output_type": "stream",
     "text": [
      "Starting A549_MV4_d14_2_S4_L002_001 at 2016-07-14 00:16:51.828649\n"
     ]
    },
    {
     "name": "stdout",
     "output_type": "stream",
     "text": [
      "This is cutadapt 1.10 with Python 3.4.5\n"
     ]
    },
    {
     "name": "stdout",
     "output_type": "stream",
     "text": [
      "Command line parameters: -a TATATATCTTGTGGAAAGGACGAAACACCG...GTTTCAGAGCTATGCTGGAAACTGCATAGCAAGTTGAAATAAGGCTAGTCCGTTATCAACTTGAAAAAGTGGCACCGAGTCGGTGCTTTTTTGTACTGAG --quiet -o /data/interim/20160706_D00611_0304_BHVVJ3BCXX/A549_MV4_d14_2_S4_L002_R1_001_trimmed53.fastq /data/raw/20160706_D00611_0304_BHVVJ3BCXX/A549_MV4_d14_2_S4_L002_R1_001.fastq\n"
     ]
    },
    {
     "name": "stdout",
     "output_type": "stream",
     "text": [
      "Trimming 1 adapter with at most 10.0% errors in single-end mode ...\n"
     ]
    },
    {
     "name": "stdout",
     "output_type": "stream",
     "text": [
      "A549_MV4_d20_2_S6_L001_001 elapsed time: 0:10:15\n"
     ]
    },
    {
     "name": "stdout",
     "output_type": "stream",
     "text": [
      "Starting A549_MV4_d20_2_S6_L002_001 at 2016-07-14 00:19:08.585885\n"
     ]
    },
    {
     "name": "stdout",
     "output_type": "stream",
     "text": [
      "This is cutadapt 1.10 with Python 3.4.5\n"
     ]
    },
    {
     "name": "stdout",
     "output_type": "stream",
     "text": [
      "Command line parameters: -a TATATATCTTGTGGAAAGGACGAAACACCG...GTTTCAGAGCTATGCTGGAAACTGCATAGCAAGTTGAAATAAGGCTAGTCCGTTATCAACTTGAAAAAGTGGCACCGAGTCGGTGCTTTTTTGTACTGAG --quiet -o /data/interim/20160706_D00611_0304_BHVVJ3BCXX/A549_MV4_d20_2_S6_L002_R1_001_trimmed53.fastq /data/raw/20160706_D00611_0304_BHVVJ3BCXX/A549_MV4_d20_2_S6_L002_R1_001.fastq\n"
     ]
    },
    {
     "name": "stdout",
     "output_type": "stream",
     "text": [
      "Trimming 1 adapter with at most 10.0% errors in single-end mode ...\n"
     ]
    },
    {
     "name": "stdout",
     "output_type": "stream",
     "text": [
      "This is cutadapt 1.10 with Python 3.4.5\n"
     ]
    },
    {
     "name": "stdout",
     "output_type": "stream",
     "text": [
      "Command line parameters: -a CCTTATTTTAACTTGCTATTTCTAGCTCTAAAAC...CAAACAAGGCTTTTCTCCAAGGGATATTTATAGTCTCAAAACACACAATTACTTTACAGTTAGGGTGAGTTTCCTTTTGTGCTGTTTTTTAAAATA --quiet -o /data/interim/20160706_D00611_0304_BHVVJ3BCXX/A549_MV4_d20_1_S5_L002_R2_001_trimmed53.fastq /data/raw/20160706_D00611_0304_BHVVJ3BCXX/A549_MV4_d20_1_S5_L002_R2_001.fastq\n"
     ]
    },
    {
     "name": "stdout",
     "output_type": "stream",
     "text": [
      "Trimming 1 adapter with at most 10.0% errors in single-end mode ...\n"
     ]
    },
    {
     "name": "stdout",
     "output_type": "stream",
     "text": [
      "This is cutadapt 1.10 with Python 3.4.5\n"
     ]
    },
    {
     "name": "stdout",
     "output_type": "stream",
     "text": [
      "Command line parameters: -a CCTTATTTTAACTTGCTATTTCTAGCTCTAAAAC...CAAACAAGGCTTTTCTCCAAGGGATATTTATAGTCTCAAAACACACAATTACTTTACAGTTAGGGTGAGTTTCCTTTTGTGCTGTTTTTTAAAATA --quiet -o /data/interim/20160706_D00611_0304_BHVVJ3BCXX/A549_MV4_d14_1_S3_L002_R2_001_trimmed53.fastq /data/raw/20160706_D00611_0304_BHVVJ3BCXX/A549_MV4_d14_1_S3_L002_R2_001.fastq\n"
     ]
    },
    {
     "name": "stdout",
     "output_type": "stream",
     "text": [
      "Trimming 1 adapter with at most 10.0% errors in single-end mode ...\n"
     ]
    },
    {
     "name": "stdout",
     "output_type": "stream",
     "text": [
      "This is cutadapt 1.10 with Python 3.4.5\n"
     ]
    },
    {
     "name": "stdout",
     "output_type": "stream",
     "text": [
      "Command line parameters: -a CCTTATTTTAACTTGCTATTTCTAGCTCTAAAAC...CAAACAAGGCTTTTCTCCAAGGGATATTTATAGTCTCAAAACACACAATTACTTTACAGTTAGGGTGAGTTTCCTTTTGTGCTGTTTTTTAAAATA --quiet -o /data/interim/20160706_D00611_0304_BHVVJ3BCXX/A549_MV4_d14_2_S4_L002_R2_001_trimmed53.fastq /data/raw/20160706_D00611_0304_BHVVJ3BCXX/A549_MV4_d14_2_S4_L002_R2_001.fastq\n"
     ]
    },
    {
     "name": "stdout",
     "output_type": "stream",
     "text": [
      "Trimming 1 adapter with at most 10.0% errors in single-end mode ...\n"
     ]
    },
    {
     "name": "stdout",
     "output_type": "stream",
     "text": [
      "A549_MV4_d20_1_S5_L002_001 elapsed time: 0:07:12\n"
     ]
    },
    {
     "name": "stdout",
     "output_type": "stream",
     "text": [
      "Starting A549_MV4_d28_1_S7_L001_001 at 2016-07-14 00:23:01.246675\n"
     ]
    },
    {
     "name": "stdout",
     "output_type": "stream",
     "text": [
      "This is cutadapt 1.10 with Python 3.4.5\n"
     ]
    },
    {
     "name": "stdout",
     "output_type": "stream",
     "text": [
      "Command line parameters: -a TATATATCTTGTGGAAAGGACGAAACACCG...GTTTCAGAGCTATGCTGGAAACTGCATAGCAAGTTGAAATAAGGCTAGTCCGTTATCAACTTGAAAAAGTGGCACCGAGTCGGTGCTTTTTTGTACTGAG --quiet -o /data/interim/20160706_D00611_0304_BHVVJ3BCXX/A549_MV4_d28_1_S7_L001_R1_001_trimmed53.fastq /data/raw/20160706_D00611_0304_BHVVJ3BCXX/A549_MV4_d28_1_S7_L001_R1_001.fastq\n"
     ]
    },
    {
     "name": "stdout",
     "output_type": "stream",
     "text": [
      "Trimming 1 adapter with at most 10.0% errors in single-end mode ...\n"
     ]
    },
    {
     "name": "stdout",
     "output_type": "stream",
     "text": [
      "A549_MV4_d14_1_S3_L002_001 elapsed time: 0:07:19\n"
     ]
    },
    {
     "name": "stdout",
     "output_type": "stream",
     "text": [
      "Starting A549_MV4_d28_2_S8_L001_001 at 2016-07-14 00:23:35.187163\n"
     ]
    },
    {
     "name": "stdout",
     "output_type": "stream",
     "text": [
      "This is cutadapt 1.10 with Python 3.4.5\n"
     ]
    },
    {
     "name": "stdout",
     "output_type": "stream",
     "text": [
      "Command line parameters: -a TATATATCTTGTGGAAAGGACGAAACACCG...GTTTCAGAGCTATGCTGGAAACTGCATAGCAAGTTGAAATAAGGCTAGTCCGTTATCAACTTGAAAAAGTGGCACCGAGTCGGTGCTTTTTTGTACTGAG --quiet -o /data/interim/20160706_D00611_0304_BHVVJ3BCXX/A549_MV4_d28_2_S8_L001_R1_001_trimmed53.fastq /data/raw/20160706_D00611_0304_BHVVJ3BCXX/A549_MV4_d28_2_S8_L001_R1_001.fastq\n"
     ]
    },
    {
     "name": "stdout",
     "output_type": "stream",
     "text": [
      "Trimming 1 adapter with at most 10.0% errors in single-end mode ...\n"
     ]
    },
    {
     "name": "stdout",
     "output_type": "stream",
     "text": [
      "This is cutadapt 1.10 with Python 3.4.5\n"
     ]
    },
    {
     "name": "stdout",
     "output_type": "stream",
     "text": [
      "Command line parameters: -a CCTTATTTTAACTTGCTATTTCTAGCTCTAAAAC...CAAACAAGGCTTTTCTCCAAGGGATATTTATAGTCTCAAAACACACAATTACTTTACAGTTAGGGTGAGTTTCCTTTTGTGCTGTTTTTTAAAATA --quiet -o /data/interim/20160706_D00611_0304_BHVVJ3BCXX/A549_MV4_d20_2_S6_L002_R2_001_trimmed53.fastq /data/raw/20160706_D00611_0304_BHVVJ3BCXX/A549_MV4_d20_2_S6_L002_R2_001.fastq\n"
     ]
    },
    {
     "name": "stdout",
     "output_type": "stream",
     "text": [
      "Trimming 1 adapter with at most 10.0% errors in single-end mode ...\n"
     ]
    },
    {
     "name": "stdout",
     "output_type": "stream",
     "text": [
      "A549_MV4_d14_2_S4_L002_001 elapsed time: 0:07:49\n"
     ]
    },
    {
     "name": "stdout",
     "output_type": "stream",
     "text": [
      "Starting A549_MV4_d3_1_S1_L001_001 at 2016-07-14 00:24:41.394230\n"
     ]
    },
    {
     "name": "stdout",
     "output_type": "stream",
     "text": [
      "This is cutadapt 1.10 with Python 3.4.5\n"
     ]
    },
    {
     "name": "stdout",
     "output_type": "stream",
     "text": [
      "Command line parameters: -a TATATATCTTGTGGAAAGGACGAAACACCG...GTTTCAGAGCTATGCTGGAAACTGCATAGCAAGTTGAAATAAGGCTAGTCCGTTATCAACTTGAAAAAGTGGCACCGAGTCGGTGCTTTTTTGTACTGAG --quiet -o /data/interim/20160706_D00611_0304_BHVVJ3BCXX/A549_MV4_d3_1_S1_L001_R1_001_trimmed53.fastq /data/raw/20160706_D00611_0304_BHVVJ3BCXX/A549_MV4_d3_1_S1_L001_R1_001.fastq\n"
     ]
    },
    {
     "name": "stdout",
     "output_type": "stream",
     "text": [
      "Trimming 1 adapter with at most 10.0% errors in single-end mode ...\n"
     ]
    },
    {
     "name": "stdout",
     "output_type": "stream",
     "text": [
      "This is cutadapt 1.10 with Python 3.4.5\n"
     ]
    },
    {
     "name": "stdout",
     "output_type": "stream",
     "text": [
      "Command line parameters: -a CCTTATTTTAACTTGCTATTTCTAGCTCTAAAAC...CAAACAAGGCTTTTCTCCAAGGGATATTTATAGTCTCAAAACACACAATTACTTTACAGTTAGGGTGAGTTTCCTTTTGTGCTGTTTTTTAAAATA --quiet -o /data/interim/20160706_D00611_0304_BHVVJ3BCXX/A549_MV4_d28_1_S7_L001_R2_001_trimmed53.fastq /data/raw/20160706_D00611_0304_BHVVJ3BCXX/A549_MV4_d28_1_S7_L001_R2_001.fastq\n"
     ]
    },
    {
     "name": "stdout",
     "output_type": "stream",
     "text": [
      "Trimming 1 adapter with at most 10.0% errors in single-end mode ...\n"
     ]
    },
    {
     "name": "stdout",
     "output_type": "stream",
     "text": [
      "This is cutadapt 1.10 with Python 3.4.5\n"
     ]
    },
    {
     "name": "stdout",
     "output_type": "stream",
     "text": [
      "Command line parameters: -a CCTTATTTTAACTTGCTATTTCTAGCTCTAAAAC...CAAACAAGGCTTTTCTCCAAGGGATATTTATAGTCTCAAAACACACAATTACTTTACAGTTAGGGTGAGTTTCCTTTTGTGCTGTTTTTTAAAATA --quiet -o /data/interim/20160706_D00611_0304_BHVVJ3BCXX/A549_MV4_d28_2_S8_L001_R2_001_trimmed53.fastq /data/raw/20160706_D00611_0304_BHVVJ3BCXX/A549_MV4_d28_2_S8_L001_R2_001.fastq\n"
     ]
    },
    {
     "name": "stdout",
     "output_type": "stream",
     "text": [
      "Trimming 1 adapter with at most 10.0% errors in single-end mode ...\n"
     ]
    },
    {
     "name": "stdout",
     "output_type": "stream",
     "text": [
      "This is cutadapt 1.10 with Python 3.4.5\n"
     ]
    },
    {
     "name": "stdout",
     "output_type": "stream",
     "text": [
      "Command line parameters: -a CCTTATTTTAACTTGCTATTTCTAGCTCTAAAAC...CAAACAAGGCTTTTCTCCAAGGGATATTTATAGTCTCAAAACACACAATTACTTTACAGTTAGGGTGAGTTTCCTTTTGTGCTGTTTTTTAAAATA --quiet -o /data/interim/20160706_D00611_0304_BHVVJ3BCXX/A549_MV4_d3_1_S1_L001_R2_001_trimmed53.fastq /data/raw/20160706_D00611_0304_BHVVJ3BCXX/A549_MV4_d3_1_S1_L001_R2_001.fastq\n"
     ]
    },
    {
     "name": "stdout",
     "output_type": "stream",
     "text": [
      "Trimming 1 adapter with at most 10.0% errors in single-end mode ...\n"
     ]
    },
    {
     "name": "stdout",
     "output_type": "stream",
     "text": [
      "A549_MV4_d20_2_S6_L002_001 elapsed time: 0:10:10\n"
     ]
    },
    {
     "name": "stdout",
     "output_type": "stream",
     "text": [
      "Starting A549_MV4_d3_2_S2_L001_001 at 2016-07-14 00:29:18.755651\n"
     ]
    },
    {
     "name": "stdout",
     "output_type": "stream",
     "text": [
      "This is cutadapt 1.10 with Python 3.4.5\n"
     ]
    },
    {
     "name": "stdout",
     "output_type": "stream",
     "text": [
      "Command line parameters: -a TATATATCTTGTGGAAAGGACGAAACACCG...GTTTCAGAGCTATGCTGGAAACTGCATAGCAAGTTGAAATAAGGCTAGTCCGTTATCAACTTGAAAAAGTGGCACCGAGTCGGTGCTTTTTTGTACTGAG --quiet -o /data/interim/20160706_D00611_0304_BHVVJ3BCXX/A549_MV4_d3_2_S2_L001_R1_001_trimmed53.fastq /data/raw/20160706_D00611_0304_BHVVJ3BCXX/A549_MV4_d3_2_S2_L001_R1_001.fastq\n"
     ]
    },
    {
     "name": "stdout",
     "output_type": "stream",
     "text": [
      "Trimming 1 adapter with at most 10.0% errors in single-end mode ...\n"
     ]
    },
    {
     "name": "stdout",
     "output_type": "stream",
     "text": [
      "A549_MV4_d28_1_S7_L001_001 elapsed time: 0:07:29\n"
     ]
    },
    {
     "name": "stdout",
     "output_type": "stream",
     "text": [
      "Starting A549_MV4_d28_1_S7_L002_001 at 2016-07-14 00:30:30.635393\n"
     ]
    },
    {
     "name": "stdout",
     "output_type": "stream",
     "text": [
      "This is cutadapt 1.10 with Python 3.4.5\n"
     ]
    },
    {
     "name": "stdout",
     "output_type": "stream",
     "text": [
      "Command line parameters: -a TATATATCTTGTGGAAAGGACGAAACACCG...GTTTCAGAGCTATGCTGGAAACTGCATAGCAAGTTGAAATAAGGCTAGTCCGTTATCAACTTGAAAAAGTGGCACCGAGTCGGTGCTTTTTTGTACTGAG --quiet -o /data/interim/20160706_D00611_0304_BHVVJ3BCXX/A549_MV4_d28_1_S7_L002_R1_001_trimmed53.fastq /data/raw/20160706_D00611_0304_BHVVJ3BCXX/A549_MV4_d28_1_S7_L002_R1_001.fastq\n"
     ]
    },
    {
     "name": "stdout",
     "output_type": "stream",
     "text": [
      "Trimming 1 adapter with at most 10.0% errors in single-end mode ...\n"
     ]
    },
    {
     "name": "stdout",
     "output_type": "stream",
     "text": [
      "A549_MV4_d28_2_S8_L001_001 elapsed time: 0:07:57\n"
     ]
    },
    {
     "name": "stdout",
     "output_type": "stream",
     "text": [
      "Starting A549_MV4_d28_2_S8_L002_001 at 2016-07-14 00:31:32.456968\n"
     ]
    },
    {
     "name": "stdout",
     "output_type": "stream",
     "text": [
      "This is cutadapt 1.10 with Python 3.4.5\n"
     ]
    },
    {
     "name": "stdout",
     "output_type": "stream",
     "text": [
      "Command line parameters: -a TATATATCTTGTGGAAAGGACGAAACACCG...GTTTCAGAGCTATGCTGGAAACTGCATAGCAAGTTGAAATAAGGCTAGTCCGTTATCAACTTGAAAAAGTGGCACCGAGTCGGTGCTTTTTTGTACTGAG --quiet -o /data/interim/20160706_D00611_0304_BHVVJ3BCXX/A549_MV4_d28_2_S8_L002_R1_001_trimmed53.fastq /data/raw/20160706_D00611_0304_BHVVJ3BCXX/A549_MV4_d28_2_S8_L002_R1_001.fastq\n"
     ]
    },
    {
     "name": "stdout",
     "output_type": "stream",
     "text": [
      "Trimming 1 adapter with at most 10.0% errors in single-end mode ...\n"
     ]
    },
    {
     "name": "stdout",
     "output_type": "stream",
     "text": [
      "A549_MV4_d3_1_S1_L001_001 elapsed time: 0:07:13\n"
     ]
    },
    {
     "name": "stdout",
     "output_type": "stream",
     "text": [
      "Starting A549_MV4_d3_1_S1_L002_001 at 2016-07-14 00:31:54.754034\n"
     ]
    },
    {
     "name": "stdout",
     "output_type": "stream",
     "text": [
      "This is cutadapt 1.10 with Python 3.4.5\n"
     ]
    },
    {
     "name": "stdout",
     "output_type": "stream",
     "text": [
      "Command line parameters: -a TATATATCTTGTGGAAAGGACGAAACACCG...GTTTCAGAGCTATGCTGGAAACTGCATAGCAAGTTGAAATAAGGCTAGTCCGTTATCAACTTGAAAAAGTGGCACCGAGTCGGTGCTTTTTTGTACTGAG --quiet -o /data/interim/20160706_D00611_0304_BHVVJ3BCXX/A549_MV4_d3_1_S1_L002_R1_001_trimmed53.fastq /data/raw/20160706_D00611_0304_BHVVJ3BCXX/A549_MV4_d3_1_S1_L002_R1_001.fastq\n"
     ]
    },
    {
     "name": "stdout",
     "output_type": "stream",
     "text": [
      "Trimming 1 adapter with at most 10.0% errors in single-end mode ...\n"
     ]
    },
    {
     "name": "stdout",
     "output_type": "stream",
     "text": [
      "This is cutadapt 1.10 with Python 3.4.5\n"
     ]
    },
    {
     "name": "stdout",
     "output_type": "stream",
     "text": [
      "Command line parameters: -a CCTTATTTTAACTTGCTATTTCTAGCTCTAAAAC...CAAACAAGGCTTTTCTCCAAGGGATATTTATAGTCTCAAAACACACAATTACTTTACAGTTAGGGTGAGTTTCCTTTTGTGCTGTTTTTTAAAATA --quiet -o /data/interim/20160706_D00611_0304_BHVVJ3BCXX/A549_MV4_d3_2_S2_L001_R2_001_trimmed53.fastq /data/raw/20160706_D00611_0304_BHVVJ3BCXX/A549_MV4_d3_2_S2_L001_R2_001.fastq\n"
     ]
    },
    {
     "name": "stdout",
     "output_type": "stream",
     "text": [
      "Trimming 1 adapter with at most 10.0% errors in single-end mode ...\n"
     ]
    },
    {
     "name": "stdout",
     "output_type": "stream",
     "text": [
      "This is cutadapt 1.10 with Python 3.4.5\n"
     ]
    },
    {
     "name": "stdout",
     "output_type": "stream",
     "text": [
      "Command line parameters: -a CCTTATTTTAACTTGCTATTTCTAGCTCTAAAAC...CAAACAAGGCTTTTCTCCAAGGGATATTTATAGTCTCAAAACACACAATTACTTTACAGTTAGGGTGAGTTTCCTTTTGTGCTGTTTTTTAAAATA --quiet -o /data/interim/20160706_D00611_0304_BHVVJ3BCXX/A549_MV4_d28_1_S7_L002_R2_001_trimmed53.fastq /data/raw/20160706_D00611_0304_BHVVJ3BCXX/A549_MV4_d28_1_S7_L002_R2_001.fastq\n"
     ]
    },
    {
     "name": "stdout",
     "output_type": "stream",
     "text": [
      "Trimming 1 adapter with at most 10.0% errors in single-end mode ...\n"
     ]
    },
    {
     "name": "stdout",
     "output_type": "stream",
     "text": [
      "This is cutadapt 1.10 with Python 3.4.5\n"
     ]
    },
    {
     "name": "stdout",
     "output_type": "stream",
     "text": [
      "Command line parameters: -a CCTTATTTTAACTTGCTATTTCTAGCTCTAAAAC...CAAACAAGGCTTTTCTCCAAGGGATATTTATAGTCTCAAAACACACAATTACTTTACAGTTAGGGTGAGTTTCCTTTTGTGCTGTTTTTTAAAATA --quiet -o /data/interim/20160706_D00611_0304_BHVVJ3BCXX/A549_MV4_d3_1_S1_L002_R2_001_trimmed53.fastq /data/raw/20160706_D00611_0304_BHVVJ3BCXX/A549_MV4_d3_1_S1_L002_R2_001.fastq\n"
     ]
    },
    {
     "name": "stdout",
     "output_type": "stream",
     "text": [
      "Trimming 1 adapter with at most 10.0% errors in single-end mode ...\n"
     ]
    },
    {
     "name": "stdout",
     "output_type": "stream",
     "text": [
      "This is cutadapt 1.10 with Python 3.4.5\n"
     ]
    },
    {
     "name": "stdout",
     "output_type": "stream",
     "text": [
      "Command line parameters: -a CCTTATTTTAACTTGCTATTTCTAGCTCTAAAAC...CAAACAAGGCTTTTCTCCAAGGGATATTTATAGTCTCAAAACACACAATTACTTTACAGTTAGGGTGAGTTTCCTTTTGTGCTGTTTTTTAAAATA --quiet -o /data/interim/20160706_D00611_0304_BHVVJ3BCXX/A549_MV4_d28_2_S8_L002_R2_001_trimmed53.fastq /data/raw/20160706_D00611_0304_BHVVJ3BCXX/A549_MV4_d28_2_S8_L002_R2_001.fastq\n"
     ]
    },
    {
     "name": "stdout",
     "output_type": "stream",
     "text": [
      "Trimming 1 adapter with at most 10.0% errors in single-end mode ...\n"
     ]
    },
    {
     "name": "stdout",
     "output_type": "stream",
     "text": [
      "A549_MV4_d3_2_S2_L001_001 elapsed time: 0:07:44\n"
     ]
    },
    {
     "name": "stdout",
     "output_type": "stream",
     "text": [
      "Starting A549_MV4_d3_2_S2_L002_001 at 2016-07-14 00:37:03.441826\n"
     ]
    },
    {
     "name": "stdout",
     "output_type": "stream",
     "text": [
      "This is cutadapt 1.10 with Python 3.4.5\n"
     ]
    },
    {
     "name": "stdout",
     "output_type": "stream",
     "text": [
      "Command line parameters: -a TATATATCTTGTGGAAAGGACGAAACACCG...GTTTCAGAGCTATGCTGGAAACTGCATAGCAAGTTGAAATAAGGCTAGTCCGTTATCAACTTGAAAAAGTGGCACCGAGTCGGTGCTTTTTTGTACTGAG --quiet -o /data/interim/20160706_D00611_0304_BHVVJ3BCXX/A549_MV4_d3_2_S2_L002_R1_001_trimmed53.fastq /data/raw/20160706_D00611_0304_BHVVJ3BCXX/A549_MV4_d3_2_S2_L002_R1_001.fastq\n"
     ]
    },
    {
     "name": "stdout",
     "output_type": "stream",
     "text": [
      "Trimming 1 adapter with at most 10.0% errors in single-end mode ...\n"
     ]
    },
    {
     "name": "stdout",
     "output_type": "stream",
     "text": [
      "A549_MV4_d28_1_S7_L002_001 elapsed time: 0:07:36\n"
     ]
    },
    {
     "name": "stdout",
     "output_type": "stream",
     "text": [
      "Starting Hela_MV4_d20_1_S9_L001_001 at 2016-07-14 00:38:07.108974\n"
     ]
    },
    {
     "name": "stdout",
     "output_type": "stream",
     "text": [
      "This is cutadapt 1.10 with Python 3.4.5\n"
     ]
    },
    {
     "name": "stdout",
     "output_type": "stream",
     "text": [
      "Command line parameters: -a TATATATCTTGTGGAAAGGACGAAACACCG...GTTTCAGAGCTATGCTGGAAACTGCATAGCAAGTTGAAATAAGGCTAGTCCGTTATCAACTTGAAAAAGTGGCACCGAGTCGGTGCTTTTTTGTACTGAG --quiet -o /data/interim/20160706_D00611_0304_BHVVJ3BCXX/Hela_MV4_d20_1_S9_L001_R1_001_trimmed53.fastq /data/raw/20160706_D00611_0304_BHVVJ3BCXX/Hela_MV4_d20_1_S9_L001_R1_001.fastq\n"
     ]
    },
    {
     "name": "stdout",
     "output_type": "stream",
     "text": [
      "Trimming 1 adapter with at most 10.0% errors in single-end mode ...\n"
     ]
    },
    {
     "name": "stdout",
     "output_type": "stream",
     "text": [
      "A549_MV4_d3_1_S1_L002_001 elapsed time: 0:07:10\n"
     ]
    },
    {
     "name": "stdout",
     "output_type": "stream",
     "text": [
      "Starting Hela_MV4_d20_2_S10_L001_001 at 2016-07-14 00:39:04.963445\n"
     ]
    },
    {
     "name": "stdout",
     "output_type": "stream",
     "text": [
      "This is cutadapt 1.10 with Python 3.4.5\n"
     ]
    },
    {
     "name": "stdout",
     "output_type": "stream",
     "text": [
      "Command line parameters: -a TATATATCTTGTGGAAAGGACGAAACACCG...GTTTCAGAGCTATGCTGGAAACTGCATAGCAAGTTGAAATAAGGCTAGTCCGTTATCAACTTGAAAAAGTGGCACCGAGTCGGTGCTTTTTTGTACTGAG --quiet -o /data/interim/20160706_D00611_0304_BHVVJ3BCXX/Hela_MV4_d20_2_S10_L001_R1_001_trimmed53.fastq /data/raw/20160706_D00611_0304_BHVVJ3BCXX/Hela_MV4_d20_2_S10_L001_R1_001.fastq\n"
     ]
    },
    {
     "name": "stdout",
     "output_type": "stream",
     "text": [
      "Trimming 1 adapter with at most 10.0% errors in single-end mode ...\n"
     ]
    },
    {
     "name": "stdout",
     "output_type": "stream",
     "text": [
      "A549_MV4_d28_2_S8_L002_001 elapsed time: 0:07:52\n"
     ]
    },
    {
     "name": "stdout",
     "output_type": "stream",
     "text": [
      "This is cutadapt 1.10 with Python 3.4.5\n"
     ]
    },
    {
     "name": "stdout",
     "output_type": "stream",
     "text": [
      "Command line parameters: -a CCTTATTTTAACTTGCTATTTCTAGCTCTAAAAC...CAAACAAGGCTTTTCTCCAAGGGATATTTATAGTCTCAAAACACACAATTACTTTACAGTTAGGGTGAGTTTCCTTTTGTGCTGTTTTTTAAAATA --quiet -o /data/interim/20160706_D00611_0304_BHVVJ3BCXX/A549_MV4_d3_2_S2_L002_R2_001_trimmed53.fastq /data/raw/20160706_D00611_0304_BHVVJ3BCXX/A549_MV4_d3_2_S2_L002_R2_001.fastq\n"
     ]
    },
    {
     "name": "stdout",
     "output_type": "stream",
     "text": [
      "Trimming 1 adapter with at most 10.0% errors in single-end mode ...\n"
     ]
    },
    {
     "name": "stdout",
     "output_type": "stream",
     "text": [
      "This is cutadapt 1.10 with Python 3.4.5\n"
     ]
    },
    {
     "name": "stdout",
     "output_type": "stream",
     "text": [
      "Command line parameters: -a CCTTATTTTAACTTGCTATTTCTAGCTCTAAAAC...CAAACAAGGCTTTTCTCCAAGGGATATTTATAGTCTCAAAACACACAATTACTTTACAGTTAGGGTGAGTTTCCTTTTGTGCTGTTTTTTAAAATA --quiet -o /data/interim/20160706_D00611_0304_BHVVJ3BCXX/Hela_MV4_d20_1_S9_L001_R2_001_trimmed53.fastq /data/raw/20160706_D00611_0304_BHVVJ3BCXX/Hela_MV4_d20_1_S9_L001_R2_001.fastq\n"
     ]
    },
    {
     "name": "stdout",
     "output_type": "stream",
     "text": [
      "Trimming 1 adapter with at most 10.0% errors in single-end mode ...\n"
     ]
    },
    {
     "name": "stdout",
     "output_type": "stream",
     "text": [
      "This is cutadapt 1.10 with Python 3.4.5\n"
     ]
    },
    {
     "name": "stdout",
     "output_type": "stream",
     "text": [
      "Command line parameters: -a CCTTATTTTAACTTGCTATTTCTAGCTCTAAAAC...CAAACAAGGCTTTTCTCCAAGGGATATTTATAGTCTCAAAACACACAATTACTTTACAGTTAGGGTGAGTTTCCTTTTGTGCTGTTTTTTAAAATA --quiet -o /data/interim/20160706_D00611_0304_BHVVJ3BCXX/Hela_MV4_d20_2_S10_L001_R2_001_trimmed53.fastq /data/raw/20160706_D00611_0304_BHVVJ3BCXX/Hela_MV4_d20_2_S10_L001_R2_001.fastq\n"
     ]
    },
    {
     "name": "stdout",
     "output_type": "stream",
     "text": [
      "Trimming 1 adapter with at most 10.0% errors in single-end mode ...\n"
     ]
    },
    {
     "name": "stdout",
     "output_type": "stream",
     "text": [
      "A549_MV4_d3_2_S2_L002_001 elapsed time: 0:07:41\n"
     ]
    },
    {
     "name": "stdout",
     "output_type": "stream",
     "text": [
      "Hela_MV4_d20_1_S9_L001_001 elapsed time: 0:06:38\n"
     ]
    },
    {
     "name": "stdout",
     "output_type": "stream",
     "text": [
      "Starting Hela_MV4_d20_1_S9_L002_001 at 2016-07-14 00:44:45.432116\n"
     ]
    },
    {
     "name": "stdout",
     "output_type": "stream",
     "text": [
      "This is cutadapt 1.10 with Python 3.4.5\n"
     ]
    },
    {
     "name": "stdout",
     "output_type": "stream",
     "text": [
      "Command line parameters: -a TATATATCTTGTGGAAAGGACGAAACACCG...GTTTCAGAGCTATGCTGGAAACTGCATAGCAAGTTGAAATAAGGCTAGTCCGTTATCAACTTGAAAAAGTGGCACCGAGTCGGTGCTTTTTTGTACTGAG --quiet -o /data/interim/20160706_D00611_0304_BHVVJ3BCXX/Hela_MV4_d20_1_S9_L002_R1_001_trimmed53.fastq /data/raw/20160706_D00611_0304_BHVVJ3BCXX/Hela_MV4_d20_1_S9_L002_R1_001.fastq\n"
     ]
    },
    {
     "name": "stdout",
     "output_type": "stream",
     "text": [
      "Trimming 1 adapter with at most 10.0% errors in single-end mode ...\n"
     ]
    },
    {
     "name": "stdout",
     "output_type": "stream",
     "text": [
      "Hela_MV4_d20_2_S10_L001_001 elapsed time: 0:07:47\n"
     ]
    },
    {
     "name": "stdout",
     "output_type": "stream",
     "text": [
      "Starting Hela_MV4_d20_2_S10_L002_001 at 2016-07-14 00:46:52.931454\n"
     ]
    },
    {
     "name": "stdout",
     "output_type": "stream",
     "text": [
      "This is cutadapt 1.10 with Python 3.4.5\n"
     ]
    },
    {
     "name": "stdout",
     "output_type": "stream",
     "text": [
      "Command line parameters: -a TATATATCTTGTGGAAAGGACGAAACACCG...GTTTCAGAGCTATGCTGGAAACTGCATAGCAAGTTGAAATAAGGCTAGTCCGTTATCAACTTGAAAAAGTGGCACCGAGTCGGTGCTTTTTTGTACTGAG --quiet -o /data/interim/20160706_D00611_0304_BHVVJ3BCXX/Hela_MV4_d20_2_S10_L002_R1_001_trimmed53.fastq /data/raw/20160706_D00611_0304_BHVVJ3BCXX/Hela_MV4_d20_2_S10_L002_R1_001.fastq\n"
     ]
    },
    {
     "name": "stdout",
     "output_type": "stream",
     "text": [
      "Trimming 1 adapter with at most 10.0% errors in single-end mode ...\n"
     ]
    },
    {
     "name": "stdout",
     "output_type": "stream",
     "text": [
      "This is cutadapt 1.10 with Python 3.4.5\n"
     ]
    },
    {
     "name": "stdout",
     "output_type": "stream",
     "text": [
      "Command line parameters: -a CCTTATTTTAACTTGCTATTTCTAGCTCTAAAAC...CAAACAAGGCTTTTCTCCAAGGGATATTTATAGTCTCAAAACACACAATTACTTTACAGTTAGGGTGAGTTTCCTTTTGTGCTGTTTTTTAAAATA --quiet -o /data/interim/20160706_D00611_0304_BHVVJ3BCXX/Hela_MV4_d20_1_S9_L002_R2_001_trimmed53.fastq /data/raw/20160706_D00611_0304_BHVVJ3BCXX/Hela_MV4_d20_1_S9_L002_R2_001.fastq\n"
     ]
    },
    {
     "name": "stdout",
     "output_type": "stream",
     "text": [
      "Trimming 1 adapter with at most 10.0% errors in single-end mode ...\n"
     ]
    },
    {
     "name": "stdout",
     "output_type": "stream",
     "text": [
      "This is cutadapt 1.10 with Python 3.4.5\n"
     ]
    },
    {
     "name": "stdout",
     "output_type": "stream",
     "text": [
      "Command line parameters: -a CCTTATTTTAACTTGCTATTTCTAGCTCTAAAAC...CAAACAAGGCTTTTCTCCAAGGGATATTTATAGTCTCAAAACACACAATTACTTTACAGTTAGGGTGAGTTTCCTTTTGTGCTGTTTTTTAAAATA --quiet -o /data/interim/20160706_D00611_0304_BHVVJ3BCXX/Hela_MV4_d20_2_S10_L002_R2_001_trimmed53.fastq /data/raw/20160706_D00611_0304_BHVVJ3BCXX/Hela_MV4_d20_2_S10_L002_R2_001.fastq\n"
     ]
    },
    {
     "name": "stdout",
     "output_type": "stream",
     "text": [
      "Trimming 1 adapter with at most 10.0% errors in single-end mode ...\n"
     ]
    },
    {
     "name": "stdout",
     "output_type": "stream",
     "text": [
      "Hela_MV4_d20_1_S9_L002_001 elapsed time: 0:06:32\n"
     ]
    },
    {
     "name": "stdout",
     "output_type": "stream",
     "text": [
      "Hela_MV4_d20_2_S10_L002_001 elapsed time: 0:07:40\n"
     ]
    },
    {
     "name": "stdout",
     "output_type": "stream",
     "text": [
      "parallel processing elapsed time: 0:45:40\n"
     ]
    }
   ],
   "source": [
    "from ccbbucsd.utilities.parallel_process_fastqs import parallel_process_paired_reads, concatenate_parallel_results\n",
    "g_parallel_results = parallel_process_paired_reads(g_fastqs_dir, g_seq_file_ext_name, g_num_processors, \n",
    "                                                   trim_fw_and_rv_reads, [g_trimmed_fastqs_dir, g_full_5p_r1, \n",
    "                                                                          g_full_3p_r1, g_full_5p_r2, g_full_3p_r2])"
   ]
  },
  {
   "cell_type": "code",
   "execution_count": 15,
   "metadata": {
    "collapsed": false
   },
   "outputs": [
    {
     "name": "stdout",
     "output_type": "stream",
     "text": [
      "A549_MV4_d14_1_S3_L001_001: finished\n",
      "A549_MV4_d14_1_S3_L002_001: finished\n",
      "A549_MV4_d14_2_S4_L001_001: finished\n",
      "A549_MV4_d14_2_S4_L002_001: finished\n",
      "A549_MV4_d20_1_S5_L001_001: finished\n",
      "A549_MV4_d20_1_S5_L002_001: finished\n",
      "A549_MV4_d20_2_S6_L001_001: finished\n",
      "A549_MV4_d20_2_S6_L002_001: finished\n",
      "A549_MV4_d28_1_S7_L001_001: finished\n",
      "A549_MV4_d28_1_S7_L002_001: finished\n",
      "A549_MV4_d28_2_S8_L001_001: finished\n",
      "A549_MV4_d28_2_S8_L002_001: finished\n",
      "A549_MV4_d3_1_S1_L001_001: finished\n",
      "A549_MV4_d3_1_S1_L002_001: finished\n",
      "A549_MV4_d3_2_S2_L001_001: finished\n",
      "A549_MV4_d3_2_S2_L002_001: finished\n",
      "Hela_MV4_d20_1_S9_L001_001: finished\n",
      "Hela_MV4_d20_1_S9_L002_001: finished\n",
      "Hela_MV4_d20_2_S10_L001_001: finished\n",
      "Hela_MV4_d20_2_S10_L002_001: finished\n",
      "\n"
     ]
    }
   ],
   "source": [
    "print(concatenate_parallel_results(g_parallel_results))"
   ]
  },
  {
   "cell_type": "markdown",
   "metadata": {},
   "source": [
    "## Trimmed FASTQ Filenames"
   ]
  },
  {
   "cell_type": "code",
   "execution_count": 16,
   "metadata": {
    "collapsed": false
   },
   "outputs": [
    {
     "name": "stdout",
     "output_type": "stream",
     "text": [
      "A549_MV4_d14_1_S3_L001_R1_001_trimmed53.fastq\n",
      "A549_MV4_d14_1_S3_L001_R2_001_trimmed53.fastq\n",
      "A549_MV4_d14_1_S3_L002_R1_001_trimmed53.fastq\n",
      "A549_MV4_d14_1_S3_L002_R2_001_trimmed53.fastq\n",
      "A549_MV4_d14_2_S4_L001_R1_001_trimmed53.fastq\n",
      "A549_MV4_d14_2_S4_L001_R2_001_trimmed53.fastq\n",
      "A549_MV4_d14_2_S4_L002_R1_001_trimmed53.fastq\n",
      "A549_MV4_d14_2_S4_L002_R2_001_trimmed53.fastq\n",
      "A549_MV4_d20_1_S5_L001_R1_001_trimmed53.fastq\n",
      "A549_MV4_d20_1_S5_L001_R2_001_trimmed53.fastq\n",
      "A549_MV4_d20_1_S5_L002_R1_001_trimmed53.fastq\n",
      "A549_MV4_d20_1_S5_L002_R2_001_trimmed53.fastq\n",
      "A549_MV4_d20_2_S6_L001_R1_001_trimmed53.fastq\n",
      "A549_MV4_d20_2_S6_L001_R2_001_trimmed53.fastq\n",
      "A549_MV4_d20_2_S6_L002_R1_001_trimmed53.fastq\n",
      "A549_MV4_d20_2_S6_L002_R2_001_trimmed53.fastq\n",
      "A549_MV4_d28_1_S7_L001_R1_001_trimmed53.fastq\n",
      "A549_MV4_d28_1_S7_L001_R2_001_trimmed53.fastq\n",
      "A549_MV4_d28_1_S7_L002_R1_001_trimmed53.fastq\n",
      "A549_MV4_d28_1_S7_L002_R2_001_trimmed53.fastq\n",
      "A549_MV4_d28_2_S8_L001_R1_001_trimmed53.fastq\n",
      "A549_MV4_d28_2_S8_L001_R2_001_trimmed53.fastq\n",
      "A549_MV4_d28_2_S8_L002_R1_001_trimmed53.fastq\n",
      "A549_MV4_d28_2_S8_L002_R2_001_trimmed53.fastq\n",
      "A549_MV4_d3_1_S1_L001_R1_001_trimmed53.fastq\n",
      "A549_MV4_d3_1_S1_L001_R2_001_trimmed53.fastq\n",
      "A549_MV4_d3_1_S1_L002_R1_001_trimmed53.fastq\n",
      "A549_MV4_d3_1_S1_L002_R2_001_trimmed53.fastq\n",
      "A549_MV4_d3_2_S2_L001_R1_001_trimmed53.fastq\n",
      "A549_MV4_d3_2_S2_L001_R2_001_trimmed53.fastq\n",
      "A549_MV4_d3_2_S2_L002_R1_001_trimmed53.fastq\n",
      "A549_MV4_d3_2_S2_L002_R2_001_trimmed53.fastq\n",
      "Hela_MV4_d20_1_S9_L001_R1_001_trimmed53.fastq\n",
      "Hela_MV4_d20_1_S9_L001_R2_001_trimmed53.fastq\n",
      "Hela_MV4_d20_1_S9_L002_R1_001_trimmed53.fastq\n",
      "Hela_MV4_d20_1_S9_L002_R2_001_trimmed53.fastq\n",
      "Hela_MV4_d20_2_S10_L001_R1_001_trimmed53.fastq\n",
      "Hela_MV4_d20_2_S10_L001_R2_001_trimmed53.fastq\n",
      "Hela_MV4_d20_2_S10_L002_R1_001_trimmed53.fastq\n",
      "Hela_MV4_d20_2_S10_L002_R2_001_trimmed53.fastq\n"
     ]
    }
   ],
   "source": [
    "print(summarize_filenames_for_prefix_and_suffix(g_trimmed_fastqs_dir, \"\", get_trimmed_suffix(TrimType.FIVE_THREE)))"
   ]
  }
 ],
 "metadata": {
  "kernelspec": {
   "display_name": "Python 3",
   "language": "python",
   "name": "python3"
  },
  "language_info": {
   "codemirror_mode": {
    "name": "ipython",
    "version": 3
   },
   "file_extension": ".py",
   "mimetype": "text/x-python",
   "name": "python",
   "nbconvert_exporter": "python",
   "pygments_lexer": "ipython3",
   "version": "3.4.2"
  }
 },
 "nbformat": 4,
 "nbformat_minor": 0
}
