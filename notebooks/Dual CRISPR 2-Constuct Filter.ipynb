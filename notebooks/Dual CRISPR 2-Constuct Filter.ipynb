{
 "cells": [
  {
   "cell_type": "markdown",
   "metadata": {},
   "source": [
    "# Dual CRISPR Screen Analysis\n",
    "# Step 2: Construct Filter\n",
    "Amanda Birmingham, CCBB, UCSD (abirmingham@ucsd.edu)\n",
    "\n",
    "## Instructions\n",
    "\n",
    "To run this notebook reproducibly, follow these steps:\n",
    "1. Click **Kernel** > **Restart & Clear Output**\n",
    "2. When prompted, click the red **Restart & clear all outputs** button\n",
    "3. Fill in the values for your analysis for each of the variables in the [Input Parameters](#Input-Parameters) section\n",
    "4. Click **Cell** > **Run All**\n",
    "\n",
    "## Input Parameters"
   ]
  },
  {
   "cell_type": "code",
   "execution_count": 1,
   "metadata": {
    "collapsed": true
   },
   "outputs": [],
   "source": [
    "g_num_processors = 3\n",
    "g_trimmed_fastqs_dir = ('/Users/Birmingham/Work/Repositories/ccbb_tickets_2017/mali-dual-crispr-pipeline/src/python/'\n",
    "    'test_files/known_goods/trimmed_fastq_20160706_HeLa_A549_CV4')\n",
    "g_filtered_fastas_dir = ('/Users/Birmingham/Work/Repositories/ccbb_tickets_2017/mali-dual-crispr-pipeline/src/python/'\n",
    "    'test_files/test_outputs/notebook2_20160706_HeLa_A549_CV4')\n",
    "g_min_trimmed_grna_len = 19\n",
    "g_max_trimmed_grna_len = 21\n",
    "g_len_of_seq_to_match = 19\n",
    "g_code_location = '/Users/Birmingham/Work/Repositories/ccbb_tickets_2017/mali-dual-crispr-pipeline/src/python/'"
   ]
  },
  {
   "cell_type": "markdown",
   "metadata": {},
   "source": [
    "## Automated Set-Up"
   ]
  },
  {
   "cell_type": "code",
   "execution_count": 2,
   "metadata": {
    "collapsed": false
   },
   "outputs": [],
   "source": [
    "import inspect\n",
    "import sys\n",
    "sys.path.append(g_code_location)\n",
    "\n",
    "import ccbbucsd.utilities.analysis_run_prefixes as ns_runs\n",
    "import ccbbucsd.utilities.files_and_paths as ns_files\n",
    "import ccbbucsd.utilities.notebook_logging as ns_logs\n",
    "\n",
    "\n",
    "def describe_var_list(input_var_name_list):\n",
    "    description_list =  [\"{0}: {1}\\n\".format(name, eval(name)) for name in input_var_name_list]\n",
    "    return \"\".join(description_list)\n",
    "\n",
    "\n",
    "ns_logs.set_stdout_info_logger()"
   ]
  },
  {
   "cell_type": "code",
   "execution_count": 4,
   "metadata": {
    "collapsed": false
   },
   "outputs": [
    {
     "name": "stdout",
     "output_type": "stream",
     "text": [
      "g_filtered_fastas_dir: /Users/Birmingham/Work/Repositories/ccbb_tickets_2017/mali-dual-crispr-pipeline/src/python/test_files/test_outputs/notebook2_20160706_HeLa_A549_CV4\n",
      "\n"
     ]
    }
   ],
   "source": [
    "g_filtered_fastas_dir = ns_runs.check_or_set(g_filtered_fastas_dir, g_trimmed_fastqs_dir)\n",
    "print(describe_var_list(['g_filtered_fastas_dir']))\n",
    "ns_files.verify_or_make_dir(g_filtered_fastas_dir)"
   ]
  },
  {
   "cell_type": "markdown",
   "metadata": {},
   "source": [
    "## Construct Filtering Functions"
   ]
  },
  {
   "cell_type": "code",
   "execution_count": 5,
   "metadata": {
    "collapsed": false
   },
   "outputs": [
    {
     "name": "stdout",
     "output_type": "stream",
     "text": [
      "# standard libraries\n",
      "import enum\n",
      "\n",
      "# third-party libraries\n",
      "import cutadapt.scripts.cutadapt\n",
      "\n",
      "# ccbb libraries\n",
      "from ccbbucsd.utilities.files_and_paths import get_file_name_pieces, make_file_path\n",
      "\n",
      "__author__ = 'Amanda Birmingham'\n",
      "__maintainer__ = \"Amanda Birmingham\"\n",
      "__email__ = \"abirmingham@ucsd.edu\"\n",
      "__status__ = \"prototype\"\n",
      "\n",
      "\n",
      "class TrimType(enum.Enum):\n",
      "    FIVE = \"5\"\n",
      "    THREE = \"3\"\n",
      "    FIVE_THREE = \"53\"\n",
      "\n",
      "\n",
      "def get_trimmed_suffix(trimtype):\n",
      "    return \"_trimmed{0}.fastq\".format(trimtype.value)\n",
      "\n",
      "\n",
      "def trim_linked_scaffold(output_dir, fastq_fp, scaffold_seq_5p, scaffold_seq_3p, quiet=True):\n",
      "    args = [\"-a\", \"{0}...{1}\".format(scaffold_seq_5p,scaffold_seq_3p)]\n",
      "    return _run_cutadapt(output_dir, fastq_fp, TrimType.FIVE_THREE, args, quiet)\n",
      "\n",
      "\n",
      "def trim_global_scaffold(output_dir, fastq_fp, scaffold_seq_5p=None, scaffold_seq_3p=None, quiet=True):\n",
      "    curr_fastq_fp = fastq_fp\n",
      "\n",
      "    if scaffold_seq_5p is not None:\n",
      "        curr_fastq_fp = _run_cutadapt_global(output_dir, curr_fastq_fp, scaffold_seq_5p, True, quiet)\n",
      "\n",
      "    if scaffold_seq_3p is not None:\n",
      "        curr_fastq_fp = _run_cutadapt_global(output_dir, curr_fastq_fp, scaffold_seq_3p, False, quiet)\n",
      "\n",
      "    return curr_fastq_fp\n",
      "\n",
      "\n",
      "def _run_cutadapt_global(output_dir, input_fastq_fp, seq_to_trim, is_5p, quiet):\n",
      "    end_switch = \"-g\"\n",
      "    end_name = TrimType.FIVE\n",
      "    if not is_5p:\n",
      "        end_switch = \"-a\"\n",
      "        end_name = TrimType.THREE\n",
      "\n",
      "    args = [end_switch, seq_to_trim]\n",
      "    return _run_cutadapt(output_dir, input_fastq_fp, end_name, args, quiet)\n",
      "\n",
      "\n",
      "def _run_cutadapt(output_dir, input_fastq_fp, trim_name, partial_args, quiet):\n",
      "    _, input_base, _ = get_file_name_pieces(input_fastq_fp)\n",
      "    output_fastq_fp = make_file_path(output_dir, input_base, get_trimmed_suffix(trim_name))\n",
      "    args = [x for x in partial_args]\n",
      "    if quiet:\n",
      "        args.append(\"--quiet\")\n",
      "    args.extend([\"-o\", output_fastq_fp, input_fastq_fp])\n",
      "    cutadapt.scripts.cutadapt.main(args)\n",
      "    return output_fastq_fp\n",
      "\n"
     ]
    }
   ],
   "source": [
    "import ccbbucsd.malicrispr.scaffold_trim as trim\n",
    "print(inspect.getsource(trim))"
   ]
  },
  {
   "cell_type": "code",
   "execution_count": 6,
   "metadata": {
    "collapsed": false
   },
   "outputs": [
    {
     "name": "stdout",
     "output_type": "stream",
     "text": [
      "# standard libraries\n",
      "import logging\n",
      "\n",
      "# ccbb libraries\n",
      "from ccbbucsd.utilities.bio_seq_utilities import trim_seq\n",
      "from ccbbucsd.utilities.basic_fastq import FastqHandler, paired_fastq_generator\n",
      "from ccbbucsd.utilities.files_and_paths import transform_path\n",
      "\n",
      "__author__ = \"Amanda Birmingham\"\n",
      "__maintainer__ = \"Amanda Birmingham\"\n",
      "__email__ = \"abirmingham@ucsd.edu\"\n",
      "__status__ = \"development\"\n",
      "\n",
      "\n",
      "def get_filtered_file_suffix():\n",
      "    return \"_len_filtered.fastq\"\n",
      "\n",
      "\n",
      "def filter_pair_by_len(min_len, max_len, retain_len, output_dir, fw_fastq_fp, rv_fastq_fp):\n",
      "    fw_fastq_handler = FastqHandler(fw_fastq_fp)\n",
      "    rv_fastq_handler = FastqHandler(rv_fastq_fp)\n",
      "    fw_out_handle, rv_out_handle = _open_output_file_pair(fw_fastq_fp, rv_fastq_fp, output_dir)\n",
      "    counters = {\"num_pairs\": 0, \"num_pairs_passing\": 0}\n",
      "\n",
      "    filtered_fastq_records = _filtered_fastq_generator(fw_fastq_handler, rv_fastq_handler, min_len, max_len, retain_len,\n",
      "                                                       counters)\n",
      "    for fw_record, rv_record in filtered_fastq_records:\n",
      "        fw_out_handle.writelines(fw_record.lines)\n",
      "        rv_out_handle.writelines(rv_record.lines)\n",
      "\n",
      "    fw_out_handle.close()\n",
      "    rv_out_handle.close()\n",
      "    return _summarize_counts(counters)\n",
      "\n",
      "\n",
      "def _filtered_fastq_generator(fw_fastq_handler, rv_fastq_handler, min_len, max_len, retain_len, counters):\n",
      "    paired_fastq_records = paired_fastq_generator(fw_fastq_handler, rv_fastq_handler, True)\n",
      "    for curr_pair_fastq_records in paired_fastq_records:\n",
      "        counters[\"num_pairs\"] += 1\n",
      "        _report_progress(counters[\"num_pairs\"])\n",
      "\n",
      "        fw_record = curr_pair_fastq_records[0]\n",
      "        fw_passing_seq = _check_and_trim_seq(_get_upper_seq(fw_record), min_len, max_len, retain_len, False)\n",
      "        if fw_passing_seq is not None:\n",
      "            rv_record = curr_pair_fastq_records[1]\n",
      "            rv_passing_seq = _check_and_trim_seq(_get_upper_seq(rv_record), min_len, max_len, retain_len, True)\n",
      "            if rv_passing_seq is not None:\n",
      "                counters[\"num_pairs_passing\"] += 1\n",
      "                fw_record.sequence = fw_passing_seq\n",
      "                fw_record.quality = trim_seq(fw_record.quality, retain_len, False)\n",
      "                rv_record.sequence = rv_passing_seq\n",
      "                rv_record.quality = trim_seq(rv_record.quality, retain_len, True)\n",
      "                yield fw_record, rv_record\n",
      "\n",
      "\n",
      "def _open_output_file_pair(fw_fastq_fp, rv_fastq_fp, output_dir):\n",
      "    fw_fp = transform_path(fw_fastq_fp, output_dir, get_filtered_file_suffix())\n",
      "    rv_fp = transform_path(rv_fastq_fp, output_dir, get_filtered_file_suffix())\n",
      "    fw_handle = open(fw_fp, 'w')\n",
      "    rv_handle = open(rv_fp, 'w')\n",
      "    return fw_handle, rv_handle\n",
      "\n",
      "\n",
      "def _report_progress(num_fastq_pairs):\n",
      "    if num_fastq_pairs % 100000 == 0:\n",
      "        logging.debug(\"On fastq pair number {0}\".format(num_fastq_pairs))\n",
      "\n",
      "\n",
      "def _get_upper_seq(fastq_record):\n",
      "    return fastq_record.sequence.upper()\n",
      "\n",
      "\n",
      "def _check_and_trim_seq(input_seq, min_len, max_len, retain_len, retain_5p_end):\n",
      "    result = None\n",
      "    seq_len = len(input_seq)\n",
      "    if seq_len >= min_len and seq_len <= max_len:\n",
      "        result = trim_seq(input_seq, retain_len, retain_5p_end)\n",
      "    return result\n",
      "\n",
      "\n",
      "def _summarize_counts(counts_by_type):\n",
      "    summary_pieces = []\n",
      "    sorted_keys = sorted(counts_by_type.keys())  # sort to ensure deterministic output ordering\n",
      "    for curr_key in sorted_keys:\n",
      "        curr_value = counts_by_type[curr_key]\n",
      "        summary_pieces.append(\"{0}:{1}\".format(curr_key, curr_value))\n",
      "    result = \",\".join(summary_pieces)\n",
      "    return result\n",
      "\n"
     ]
    }
   ],
   "source": [
    "import ccbbucsd.malicrispr.count_filterer as fltr\n",
    "print(inspect.getsource(fltr))"
   ]
  },
  {
   "cell_type": "code",
   "execution_count": 7,
   "metadata": {
    "collapsed": false
   },
   "outputs": [
    {
     "name": "stdout",
     "output_type": "stream",
     "text": [
      "Starting parallel processing at 2017-03-11 13:41:54.256524\n",
      "Starting A549-CV4-d21-1_S3_L002_001_trimmed53 at 2017-03-11 13:41:54.331087\n",
      "Starting A549-CV4-d21-1_S3_L001_001_trimmed53 at 2017-03-11 13:41:54.331089\n",
      "Starting A549-CV4-d21-2_S4_L001_001_trimmed53 at 2017-03-11 13:41:54.333641\n",
      "A549-CV4-d21-2_S4_L001_001_trimmed53 elapsed time: 0:07:49\n",
      "Starting A549-CV4-d21-2_S4_L002_001_trimmed53 at 2017-03-11 13:49:43.833308\n",
      "A549-CV4-d21-1_S3_L001_001_trimmed53 elapsed time: 0:07:53\n",
      "Starting A549-CV4-d28-1_S5_L001_001_trimmed53 at 2017-03-11 13:49:47.438210\n",
      "A549-CV4-d21-1_S3_L002_001_trimmed53 elapsed time: 0:07:53\n",
      "Starting A549-CV4-d28-1_S5_L002_001_trimmed53 at 2017-03-11 13:49:47.857085\n",
      "A549-CV4-d21-2_S4_L002_001_trimmed53 elapsed time: 0:07:22\n",
      "Starting A549-CV4-d28-2_S6_L001_001_trimmed53 at 2017-03-11 13:57:06.810958\n",
      "A549-CV4-d28-1_S5_L001_001_trimmed53 elapsed time: 0:08:44\n",
      "Starting A549-CV4-d28-2_S6_L002_001_trimmed53 at 2017-03-11 13:58:31.515856\n",
      "A549-CV4-d28-1_S5_L002_001_trimmed53 elapsed time: 0:08:50\n",
      "A549-CV4-d28-2_S6_L001_001_trimmed53 elapsed time: 0:08:30\n",
      "A549-CV4-d28-2_S6_L002_001_trimmed53 elapsed time: 0:08:03\n",
      "parallel processing elapsed time: 0:24:41\n"
     ]
    }
   ],
   "source": [
    "import ccbbucsd.utilities.parallel_process_fastqs as ns_parallel\n",
    "\n",
    "g_parallel_results = ns_parallel.parallel_process_paired_reads(g_trimmed_fastqs_dir, \n",
    "    trim.get_trimmed_suffix(trim.TrimType.FIVE_THREE), g_num_processors, \n",
    "    fltr.filter_pair_by_len, [g_min_trimmed_grna_len, g_max_trimmed_grna_len, \n",
    "    g_len_of_seq_to_match, g_filtered_fastas_dir])"
   ]
  },
  {
   "cell_type": "code",
   "execution_count": 8,
   "metadata": {
    "collapsed": false
   },
   "outputs": [
    {
     "name": "stdout",
     "output_type": "stream",
     "text": [
      "A549-CV4-d21-1_S3_L001_001_trimmed53: num_pairs:13985001,num_pairs_passing:11090180\n",
      "A549-CV4-d21-1_S3_L002_001_trimmed53: num_pairs:13985929,num_pairs_passing:11059401\n",
      "A549-CV4-d21-2_S4_L001_001_trimmed53: num_pairs:13860989,num_pairs_passing:11013990\n",
      "A549-CV4-d21-2_S4_L002_001_trimmed53: num_pairs:14020200,num_pairs_passing:11113434\n",
      "A549-CV4-d28-1_S5_L001_001_trimmed53: num_pairs:16699890,num_pairs_passing:13303189\n",
      "A549-CV4-d28-1_S5_L002_001_trimmed53: num_pairs:16920809,num_pairs_passing:13448977\n",
      "A549-CV4-d28-2_S6_L001_001_trimmed53: num_pairs:20070590,num_pairs_passing:15414999\n",
      "A549-CV4-d28-2_S6_L002_001_trimmed53: num_pairs:20197369,num_pairs_passing:15481427\n",
      "\n"
     ]
    }
   ],
   "source": [
    "print(ns_parallel.concatenate_parallel_results(g_parallel_results))"
   ]
  },
  {
   "cell_type": "code",
   "execution_count": null,
   "metadata": {
    "collapsed": true
   },
   "outputs": [],
   "source": [
    ""
   ]
  }
 ],
 "metadata": {
  "anaconda-cloud": {},
  "kernelspec": {
   "display_name": "Python 3",
   "language": "python",
   "name": "python3"
  },
  "language_info": {
   "codemirror_mode": {
    "name": "ipython",
    "version": 3.0
   },
   "file_extension": ".py",
   "mimetype": "text/x-python",
   "name": "python",
   "nbconvert_exporter": "python",
   "pygments_lexer": "ipython3",
   "version": "3.4.5"
  }
 },
 "nbformat": 4,
 "nbformat_minor": 0
}