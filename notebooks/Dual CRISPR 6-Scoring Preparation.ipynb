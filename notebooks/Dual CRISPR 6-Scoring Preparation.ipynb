{
 "cells": [
  {
   "cell_type": "markdown",
   "metadata": {},
   "source": [
    "# Dual CRISPR Screen Analysis\n",
    "# Step 6: Scoring Preparation\n",
    "Amanda Birmingham, CCBB, UCSD (abirmingham@ucsd.edu)\n",
    "\n",
    "\n",
    "## Instructions\n",
    "\n",
    "To run this notebook reproducibly, follow these steps:\n",
    "1. Click **Kernel** > **Restart & Clear Output**\n",
    "2. When prompted, click the red **Restart & clear all outputs** button\n",
    "3. Fill in the values for your analysis for each of the variables in the [Input Parameters](#Input-Parameters) section\n",
    "4. Click **Cell** > **Run All**\n",
    "\n",
    "## Input Parameters"
   ]
  },
  {
   "cell_type": "code",
   "execution_count": null,
   "metadata": {
    "collapsed": false
   },
   "outputs": [],
   "source": [
    "g_dataset_name = \"smallNotebookTest\"\n",
    "g_library_fp = ('/Users/Birmingham/Work/Repositories/ccbb_tickets_2017/mali-dual-crispr-pipeline/src/python/'\n",
    "    'test_files/small_notebook_test/CV4_2spacers_w_probe_names_wo_duplicate.txt')\n",
    "g_count_fps_or_dirs = ('/Users/Birmingham/Work/Repositories/ccbb_tickets_2017/mali-dual-crispr-pipeline/src/python/'\n",
    "    'test_files/small_notebook_test/notebook4_small_notebook_test')\n",
    "g_prepped_counts_run_prefix = \"test_small_notebook\"\n",
    "g_prepped_counts_dir = ('/Users/Birmingham/Work/Repositories/ccbb_tickets_2017/mali-dual-crispr-pipeline/src/python/'\n",
    "    'test_files/small_notebook_test/notebook6_small_notebook_test')\n",
    "g_time_prefixes = \"T,D\"\n",
    "g_code_location = '/Users/Birmingham/Work/Repositories/ccbb_tickets_2017/mali-dual-crispr-pipeline/src/python/'"
   ]
  },
  {
   "cell_type": "markdown",
   "metadata": {},
   "source": [
    "## Automated Set-Up"
   ]
  },
  {
   "cell_type": "code",
   "execution_count": null,
   "metadata": {
    "collapsed": true
   },
   "outputs": [],
   "source": [
    "import inspect\n",
    "import sys\n",
    "sys.path.append(g_code_location)\n",
    "\n",
    "import ccbbucsd.utilities.analysis_run_prefixes as ns_runs\n",
    "import ccbbucsd.utilities.files_and_paths as ns_files\n",
    "import ccbbucsd.utilities.notebook_logging as ns_logs\n",
    "\n",
    "\n",
    "def describe_var_list(input_var_name_list):\n",
    "    description_list =  [\"{0}: {1}\\n\".format(name, eval(name)) for name in input_var_name_list]\n",
    "    return \"\".join(description_list)\n",
    "\n",
    "\n",
    "ns_logs.set_stdout_info_logger()"
   ]
  },
  {
   "cell_type": "code",
   "execution_count": null,
   "metadata": {
    "collapsed": false
   },
   "outputs": [],
   "source": [
    "import ccbbucsd.malicrispr.count_combination as ns_combine\n",
    "print(inspect.getsource(ns_combine.get_combined_counts_file_suffix))"
   ]
  },
  {
   "cell_type": "code",
   "execution_count": null,
   "metadata": {
    "collapsed": false
   },
   "outputs": [],
   "source": [
    "import ccbbucsd.utilities.string_utils as ns_string\n",
    "print(inspect.getsource(ns_string.split_delimited_string_to_list))"
   ]
  },
  {
   "cell_type": "code",
   "execution_count": null,
   "metadata": {
    "collapsed": false
   },
   "outputs": [],
   "source": [
    "import os \n",
    "\n",
    "def get_count_file_fps(comma_sep_fps_or_dirs_str):\n",
    "    result = []\n",
    "    \n",
    "    fps_or_dirs = comma_sep_fps_or_dirs_str.split(\",\")\n",
    "    for curr_fp_or_dir in fps_or_dirs:\n",
    "        trimmed_curr = curr_fp_or_dir.strip()\n",
    "        if os.path.isdir(trimmed_curr):\n",
    "            combined_counts_fps = ns_files.get_filepaths_from_wildcard(trimmed_curr, \n",
    "                ns_combine.get_combined_counts_file_suffix())    \n",
    "            result.extend(combined_counts_fps)\n",
    "        else:\n",
    "            result.append(trimmed_curr)\n",
    "    \n",
    "    return result\n",
    "        \n",
    "\n",
    "g_count_file_fps = get_count_file_fps(g_count_fps_or_dirs)\n",
    "g_prepped_counts_run_prefix = ns_runs.check_or_set(g_prepped_counts_run_prefix,\n",
    "                                                   ns_runs.generate_run_prefix(g_dataset_name))\n",
    "g_time_prefixes_list = ns_string.split_delimited_string_to_list(g_time_prefixes)\n",
    "print(describe_var_list(['g_count_file_fps', 'g_prepped_counts_run_prefix', 'g_time_prefixes_list']))\n",
    "ns_files.verify_or_make_dir(g_prepped_counts_dir)"
   ]
  },
  {
   "cell_type": "markdown",
   "metadata": {},
   "source": [
    "## Scoring-Ready File Preparation"
   ]
  },
  {
   "cell_type": "code",
   "execution_count": null,
   "metadata": {
    "collapsed": false,
    "scrolled": false
   },
   "outputs": [],
   "source": [
    "import ccbbucsd.malicrispr.scoring_prep as ns_prep\n",
    "print(inspect.getsource(ns_prep))"
   ]
  },
  {
   "cell_type": "code",
   "execution_count": null,
   "metadata": {
    "collapsed": false
   },
   "outputs": [],
   "source": [
    "def merge_and_write_timepoint_counts(count_file_fps, constructs_fp, run_prefix, dataset_name, time_prefixes_list,\n",
    "                                     output_dir, disregard_order=True):   \n",
    "    \n",
    "    joined_df = ns_prep.merge_and_annotate_counts(count_file_fps, constructs_fp, dataset_name, \n",
    "        time_prefixes_list, disregard_order=True)\n",
    "    prepped_file_suffix = ns_prep.get_prepped_file_suffix()\n",
    "    output_fp = ns_files.build_multipart_fp(output_dir, [run_prefix, prepped_file_suffix])\n",
    "    joined_df.to_csv(output_fp, index=False, sep='\\t')"
   ]
  },
  {
   "cell_type": "code",
   "execution_count": null,
   "metadata": {
    "collapsed": false
   },
   "outputs": [],
   "source": [
    "merge_and_write_timepoint_counts(g_count_file_fps, g_library_fp, g_prepped_counts_run_prefix, g_dataset_name,\n",
    "                                 g_time_prefixes_list, g_prepped_counts_dir, True)"
   ]
  },
  {
   "cell_type": "code",
   "execution_count": null,
   "metadata": {
    "collapsed": true
   },
   "outputs": [],
   "source": [
    "print(ns_files.summarize_filenames_for_prefix_and_suffix(g_prepped_counts_dir, g_prepped_counts_run_prefix, \n",
    "                                                         ns_prep.get_prepped_file_suffix()))"
   ]
  }
 ],
 "metadata": {
  "anaconda-cloud": {},
  "kernelspec": {
   "display_name": "Python [default]",
   "language": "python",
   "name": "python3"
  },
  "language_info": {
   "codemirror_mode": {
    "name": "ipython",
    "version": 3
   },
   "file_extension": ".py",
   "mimetype": "text/x-python",
   "name": "python",
   "nbconvert_exporter": "python",
   "pygments_lexer": "ipython3",
   "version": "3.5.2"
  }
 },
 "nbformat": 4,
 "nbformat_minor": 0
}
