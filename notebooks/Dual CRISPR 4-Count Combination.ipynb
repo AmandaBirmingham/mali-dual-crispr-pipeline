{
 "cells": [
  {
   "cell_type": "markdown",
   "metadata": {},
   "source": [
    "# Dual CRISPR Screen Analysis\n",
    "# Step 4: Count Combination\n",
    "Amanda Birmingham, CCBB, UCSD (abirmingham@ucsd.edu)\n",
    "\n",
    "## Instructions\n",
    "\n",
    "To run this notebook reproducibly, follow these steps:\n",
    "1. Click **Kernel** > **Restart & Clear Output**\n",
    "2. When prompted, click the red **Restart & clear all outputs** button\n",
    "3. Fill in the values for your analysis for each of the variables in the [Input Parameters](#Input-Parameters) section\n",
    "4. Click **Cell** > **Run All**\n",
    "\n",
    "## Input Parameters"
   ]
  },
  {
   "cell_type": "code",
   "execution_count": 1,
   "metadata": {
    "collapsed": false
   },
   "outputs": [],
   "source": [
    "g_dataset_name = \"small_notebook_test\"\n",
    "g_fastq_counts_run_prefix = \"test_small_notebook\"\n",
    "g_fastq_counts_dir = ('/Users/Birmingham/Work/Repositories/ccbb_tickets_2017/mali-dual-crispr-pipeline/src/python/'\n",
    "    'test_files/small_notebook_test/notebook3_small_notebook_test')\n",
    "g_collapsed_counts_run_prefix = \"test_small_notebook\"\n",
    "g_collapsed_counts_dir = ('/Users/Birmingham/Work/Repositories/ccbb_tickets_2017/mali-dual-crispr-pipeline/src/python/'\n",
    "    'test_files/small_notebook_test/notebook4_small_notebook_test')\n",
    "g_combined_counts_dir = \"\"\n",
    "g_combined_counts_run_prefix = \"\"\n",
    "g_code_location = '/Users/Birmingham/Work/Repositories/ccbb_tickets_2017/mali-dual-crispr-pipeline/src/python/'"
   ]
  },
  {
   "cell_type": "markdown",
   "metadata": {},
   "source": [
    "## Automated Set-Up"
   ]
  },
  {
   "cell_type": "code",
   "execution_count": 2,
   "metadata": {
    "collapsed": true
   },
   "outputs": [],
   "source": [
    "import inspect\n",
    "import sys\n",
    "sys.path.append(g_code_location)\n",
    "\n",
    "import ccbbucsd.utilities.analysis_run_prefixes as ns_runs\n",
    "import ccbbucsd.utilities.files_and_paths as ns_files\n",
    "import ccbbucsd.utilities.notebook_logging as ns_logs\n",
    "\n",
    "\n",
    "def describe_var_list(input_var_name_list):\n",
    "    description_list =  [\"{0}: {1}\\n\".format(name, eval(name)) for name in input_var_name_list]\n",
    "    return \"\".join(description_list)\n",
    "\n",
    "\n",
    "ns_logs.set_stdout_info_logger()"
   ]
  },
  {
   "cell_type": "code",
   "execution_count": 3,
   "metadata": {
    "collapsed": false
   },
   "outputs": [
    {
     "name": "stdout",
     "output_type": "stream",
     "text": [
      "g_collapsed_counts_run_prefix: test_small_notebook\n",
      "g_collapsed_counts_dir: /Users/Birmingham/Work/Repositories/ccbb_tickets_2017/mali-dual-crispr-pipeline/src/python/test_files/small_notebook_test/notebook4_small_notebook_test\n",
      "g_combined_counts_run_prefix: test_small_notebook\n",
      "g_combined_counts_dir: /Users/Birmingham/Work/Repositories/ccbb_tickets_2017/mali-dual-crispr-pipeline/src/python/test_files/small_notebook_test/notebook4_small_notebook_test\n",
      "\n"
     ]
    }
   ],
   "source": [
    "g_collapsed_counts_run_prefix = ns_runs.check_or_set(g_collapsed_counts_run_prefix, \n",
    "                                                     ns_runs.generate_run_prefix(g_dataset_name))\n",
    "g_collapsed_counts_dir = ns_runs.check_or_set(g_collapsed_counts_dir, g_fastq_counts_dir)\n",
    "g_combined_counts_run_prefix = ns_runs.check_or_set(g_combined_counts_run_prefix, g_collapsed_counts_run_prefix)\n",
    "g_combined_counts_dir = ns_runs.check_or_set(g_combined_counts_dir, g_collapsed_counts_dir)\n",
    "\n",
    "print(describe_var_list(['g_collapsed_counts_run_prefix','g_collapsed_counts_dir',\n",
    "                         'g_combined_counts_run_prefix','g_combined_counts_dir']))\n",
    "ns_files.verify_or_make_dir(g_collapsed_counts_dir)\n",
    "ns_files.verify_or_make_dir(g_combined_counts_dir)"
   ]
  },
  {
   "cell_type": "markdown",
   "metadata": {},
   "source": [
    "## Count Combination Functions"
   ]
  },
  {
   "cell_type": "code",
   "execution_count": 4,
   "metadata": {
    "collapsed": false
   },
   "outputs": [
    {
     "name": "stdout",
     "output_type": "stream",
     "text": [
      "def get_counts_file_suffix():\n",
      "    return \"counts.txt\"\n",
      "\n"
     ]
    }
   ],
   "source": [
    "import ccbbucsd.malicrispr.construct_counter as ns_counter\n",
    "print(inspect.getsource(ns_counter.get_counts_file_suffix))"
   ]
  },
  {
   "cell_type": "code",
   "execution_count": 5,
   "metadata": {
    "collapsed": false
   },
   "outputs": [
    {
     "name": "stdout",
     "output_type": "stream",
     "text": [
      "# ccbb libraries\n",
      "from ccbbucsd.utilities.analysis_run_prefixes import strip_run_prefix\n",
      "from ccbbucsd.utilities.files_and_paths import build_multipart_fp, group_files, get_filepaths_by_prefix_and_suffix\n",
      "\n",
      "# project-specific libraries\n",
      "import ccbbucsd.malicrispr.count_files_and_dataframes as ns_counts\n",
      "\n",
      "__author__ = \"Amanda Birmingham\"\n",
      "__maintainer__ = \"Amanda Birmingham\"\n",
      "__email__ = \"abirmingham@ucsd.edu\"\n",
      "__status__ = \"prototype\"\n",
      "\n",
      "\n",
      "def get_collapsed_counts_file_suffix():\n",
      "    return \"collapsed.txt\"\n",
      "\n",
      "\n",
      "def get_combined_counts_file_suffix():\n",
      "    return \"counts_combined.txt\"\n",
      "\n",
      "\n",
      "def group_lane_and_set_files(filepaths):\n",
      "    # NB: this regex assumes read designator has *already* been removed\n",
      "    # and replaced with _ as done by group_read_pairs\n",
      "    return group_files(filepaths, \"_L\\d\\d\\d_\\d\\d\\d\", \"\")\n",
      "\n",
      "\n",
      "def combine_count_files(counts_fp_for_dataset, run_prefix):\n",
      "    combined_df = None\n",
      "\n",
      "    for curr_counts_fp in counts_fp_for_dataset:\n",
      "        count_header, curr_counts_df = ns_counts.get_counts_df(curr_counts_fp, run_prefix)\n",
      "\n",
      "        if combined_df is None:\n",
      "            combined_df = curr_counts_df\n",
      "        else:\n",
      "            combined_df[count_header] = curr_counts_df[count_header]\n",
      "\n",
      "    return combined_df\n",
      "\n",
      "\n",
      "def write_collapsed_count_files(input_dir, output_dir, curr_run_prefix, counts_run_prefix, counts_suffix,\n",
      "                                counts_collapsed_file_suffix):\n",
      "    counts_fps_for_dataset = get_filepaths_by_prefix_and_suffix(input_dir, counts_run_prefix, counts_suffix)\n",
      "    fps_by_sample = group_lane_and_set_files(counts_fps_for_dataset)\n",
      "\n",
      "    for curr_sample, curr_fps in fps_by_sample.items():\n",
      "        stripped_sample = strip_run_prefix(curr_sample, counts_run_prefix)\n",
      "        output_fp = build_multipart_fp(output_dir, [curr_run_prefix, stripped_sample, counts_collapsed_file_suffix])\n",
      "        combined_df = None\n",
      "\n",
      "        for curr_fp in curr_fps:\n",
      "            count_header, curr_counts_df = ns_counts.get_counts_df(curr_fp, counts_run_prefix)\n",
      "\n",
      "            if combined_df is None:\n",
      "                combined_df = curr_counts_df\n",
      "                combined_df.rename(columns={count_header: stripped_sample}, inplace=True)\n",
      "            else:\n",
      "                combined_df[stripped_sample] = combined_df[stripped_sample] + curr_counts_df[count_header]\n",
      "\n",
      "        combined_df.to_csv(output_fp, sep=\"\\t\", index=False)\n",
      "\n",
      "\n",
      "def write_combined_count_file(input_dir, output_dir, curr_run_prefix, counts_run_prefix, counts_suffix,\n",
      "                              combined_suffix):\n",
      "    output_fp = build_multipart_fp(output_dir, [curr_run_prefix, combined_suffix])\n",
      "    counts_fps_for_run = get_filepaths_by_prefix_and_suffix(input_dir, counts_run_prefix, counts_suffix)\n",
      "    combined_df = combine_count_files(counts_fps_for_run, curr_run_prefix)\n",
      "    combined_df.to_csv(output_fp, sep=\"\\t\", index=False)\n",
      "\n"
     ]
    }
   ],
   "source": [
    "import ccbbucsd.malicrispr.count_combination as ns_combine\n",
    "print(inspect.getsource(ns_combine))"
   ]
  },
  {
   "cell_type": "markdown",
   "metadata": {},
   "source": [
    "## Input Count Filenames"
   ]
  },
  {
   "cell_type": "code",
   "execution_count": 6,
   "metadata": {
    "collapsed": false
   },
   "outputs": [
    {
     "name": "stdout",
     "output_type": "stream",
     "text": [
      "A549-CV4-100-d21-1_S3_L001_001_trimmed53_len_filtered_test_small_notebook_counts.txt\n",
      "A549-CV4-100-d21-2_S4_L001_001_trimmed53_len_filtered_test_small_notebook_counts.txt\n",
      "A549-CV4-100-d28-1_S5_L001_001_trimmed53_len_filtered_test_small_notebook_counts.txt\n",
      "A549-CV4-100-d28-2_S6_L001_001_trimmed53_len_filtered_test_small_notebook_counts.txt\n"
     ]
    }
   ],
   "source": [
    "print(ns_files.summarize_filenames_for_prefix_and_suffix(g_fastq_counts_dir, g_fastq_counts_run_prefix, \n",
    "                                                         ns_counter.get_counts_file_suffix()))"
   ]
  },
  {
   "cell_type": "markdown",
   "metadata": {},
   "source": [
    "## Count Combination Execution"
   ]
  },
  {
   "cell_type": "code",
   "execution_count": 7,
   "metadata": {
    "collapsed": false
   },
   "outputs": [],
   "source": [
    "ns_combine.write_collapsed_count_files(g_fastq_counts_dir, g_collapsed_counts_dir, g_collapsed_counts_run_prefix, \n",
    "                            g_fastq_counts_run_prefix, ns_counter.get_counts_file_suffix(), \n",
    "                            ns_combine.get_collapsed_counts_file_suffix())"
   ]
  },
  {
   "cell_type": "code",
   "execution_count": 8,
   "metadata": {
    "collapsed": false
   },
   "outputs": [],
   "source": [
    "ns_combine.write_combined_count_file(g_collapsed_counts_dir, g_combined_counts_dir, g_collapsed_counts_run_prefix, \n",
    "                          g_combined_counts_run_prefix, ns_combine.get_collapsed_counts_file_suffix(), \n",
    "                          ns_combine.get_combined_counts_file_suffix())"
   ]
  },
  {
   "cell_type": "code",
   "execution_count": null,
   "metadata": {
    "collapsed": true
   },
   "outputs": [],
   "source": []
  }
 ],
 "metadata": {
  "kernelspec": {
   "display_name": "Python 3",
   "language": "python",
   "name": "python3"
  },
  "language_info": {
   "codemirror_mode": {
    "name": "ipython",
    "version": 3
   },
   "file_extension": ".py",
   "mimetype": "text/x-python",
   "name": "python",
   "nbconvert_exporter": "python",
   "pygments_lexer": "ipython3",
   "version": "3.4.5"
  }
 },
 "nbformat": 4,
 "nbformat_minor": 0
}
