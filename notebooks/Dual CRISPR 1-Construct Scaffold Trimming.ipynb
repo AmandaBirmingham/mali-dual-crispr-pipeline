{
 "cells": [
  {
   "cell_type": "markdown",
   "metadata": {},
   "source": [
    "# Dual CRISPR Screen Analysis\n",
    "# Step 1: Construct Scaffold Trimming\n",
    "Amanda Birmingham, CCBB, UCSD (abirmingham@ucsd.edu)\n",
    "\n",
    "## Instructions\n",
    "\n",
    "To run this notebook reproducibly, follow these steps:\n",
    "1. Click **Kernel** > **Restart & Clear Output**\n",
    "2. When prompted, click the red **Restart & clear all outputs** button\n",
    "3. Fill in the values for your analysis for each of the variables in the [Input Parameters](#Input-Parameters) section\n",
    "4. Click **Cell** > **Run All**\n",
    "\n",
    "## Input Parameters"
   ]
  },
  {
   "cell_type": "code",
   "execution_count": 1,
   "metadata": {
    "collapsed": true
   },
   "outputs": [],
   "source": [
    "g_num_processors = 3\n",
    "g_fastqs_dir = ('/Users/Birmingham/Work/Repositories/ccbb_tickets_2017/mali-dual-crispr-pipeline/src/python/'\n",
    "    'test_files/small_notebook_test/raw')\n",
    "g_trimmed_fastqs_dir = ('/Users/Birmingham/Work/Repositories/ccbb_tickets_2017/mali-dual-crispr-pipeline/src/python/'\n",
    "    'test_files/small_notebook_test/notebook1_small_notebook_test')\n",
    "g_full_5p_r1 = 'TATATATCTTGTGGAAAGGACGAAACACCG'\n",
    "g_full_5p_r2 = 'CCTTATTTTAACTTGCTATTTCTAGCTCTAAAAC'\n",
    "g_full_3p_r1 = 'GTTTCAGAGCTATGCTGGAAACTGCATAGCAAGTTGAAATAAGGCTAGTCCGTTATCAACTTGAAAAAGTGGCACCGAGTCGGTGCTTTTTTGTACTGAG'\n",
    "g_full_3p_r2 = 'CAAACAAGGCTTTTCTCCAAGGGATATTTATAGTCTCAAAACACACAATTACTTTACAGTTAGGGTGAGTTTCCTTTTGTGCTGTTTTTTAAAATA'\n",
    "g_keep_gzs = False  # True only works for gzip 1.6+ (apparently not available on AWS linux)\n",
    "g_code_location = '/Users/Birmingham/Work/Repositories/ccbb_tickets_2017/mali-dual-crispr-pipeline/src/python/'"
   ]
  },
  {
   "cell_type": "markdown",
   "metadata": {},
   "source": [
    "## Automated Set-Up"
   ]
  },
  {
   "cell_type": "code",
   "execution_count": 2,
   "metadata": {
    "collapsed": false
   },
   "outputs": [],
   "source": [
    "import inspect\n",
    "import sys\n",
    "sys.path.append(g_code_location)\n",
    "\n",
    "import ccbbucsd.utilities.analysis_run_prefixes as ns_runs\n",
    "import ccbbucsd.utilities.files_and_paths as ns_files\n",
    "import ccbbucsd.utilities.notebook_logging as ns_logs\n",
    "\n",
    "\n",
    "def describe_var_list(input_var_name_list):\n",
    "    description_list =  [\"{0}: {1}\\n\".format(name, eval(name)) for name in input_var_name_list]\n",
    "    return \"\".join(description_list)\n",
    "\n",
    "\n",
    "ns_logs.set_stdout_info_logger()"
   ]
  },
  {
   "cell_type": "code",
   "execution_count": 3,
   "metadata": {
    "collapsed": false
   },
   "outputs": [
    {
     "name": "stdout",
     "output_type": "stream",
     "text": [
      "g_trimmed_fastqs_dir: /Users/Birmingham/Work/Repositories/ccbb_tickets_2017/mali-dual-crispr-pipeline/src/python/test_files/small_notebook_test/notebook1_small_notebook_test\n",
      "\n"
     ]
    }
   ],
   "source": [
    "g_trimmed_fastqs_dir = ns_runs.check_or_set(g_trimmed_fastqs_dir, g_fastqs_dir)\n",
    "print(describe_var_list(['g_trimmed_fastqs_dir']))\n",
    "ns_files.verify_or_make_dir(g_trimmed_fastqs_dir)"
   ]
  },
  {
   "cell_type": "markdown",
   "metadata": {},
   "source": [
    "## Scaffold Trimming Functions"
   ]
  },
  {
   "cell_type": "code",
   "execution_count": 4,
   "metadata": {
    "collapsed": false
   },
   "outputs": [
    {
     "name": "stdout",
     "output_type": "stream",
     "text": [
      "# standard libraries\n",
      "import enum\n",
      "\n",
      "# third-party libraries\n",
      "import cutadapt.scripts.cutadapt\n",
      "\n",
      "# ccbb libraries\n",
      "from ccbbucsd.utilities.files_and_paths import get_file_name_pieces, make_file_path\n",
      "\n",
      "__author__ = 'Amanda Birmingham'\n",
      "__maintainer__ = \"Amanda Birmingham\"\n",
      "__email__ = \"abirmingham@ucsd.edu\"\n",
      "__status__ = \"prototype\"\n",
      "\n",
      "\n",
      "class TrimType(enum.Enum):\n",
      "    FIVE = \"5\"\n",
      "    THREE = \"3\"\n",
      "    FIVE_THREE = \"53\"\n",
      "\n",
      "\n",
      "def get_trimmed_suffix(trimtype):\n",
      "    return \"_trimmed{0}.fastq\".format(trimtype.value)\n",
      "\n",
      "\n",
      "def trim_linked_scaffold(output_dir, fastq_fp, scaffold_seq_5p, scaffold_seq_3p, quiet=True):\n",
      "    args = [\"-a\", \"{0}...{1}\".format(scaffold_seq_5p,scaffold_seq_3p)]\n",
      "    return _run_cutadapt(output_dir, fastq_fp, TrimType.FIVE_THREE, args, quiet)\n",
      "\n",
      "\n",
      "def trim_global_scaffold(output_dir, fastq_fp, scaffold_seq_5p=None, scaffold_seq_3p=None, quiet=True):\n",
      "    curr_fastq_fp = fastq_fp\n",
      "\n",
      "    if scaffold_seq_5p is not None:\n",
      "        curr_fastq_fp = _run_cutadapt_global(output_dir, curr_fastq_fp, scaffold_seq_5p, True, quiet)\n",
      "\n",
      "    if scaffold_seq_3p is not None:\n",
      "        curr_fastq_fp = _run_cutadapt_global(output_dir, curr_fastq_fp, scaffold_seq_3p, False, quiet)\n",
      "\n",
      "    return curr_fastq_fp\n",
      "\n",
      "\n",
      "def _run_cutadapt_global(output_dir, input_fastq_fp, seq_to_trim, is_5p, quiet):\n",
      "    end_switch = \"-g\"\n",
      "    end_name = TrimType.FIVE\n",
      "    if not is_5p:\n",
      "        end_switch = \"-a\"\n",
      "        end_name = TrimType.THREE\n",
      "\n",
      "    args = [end_switch, seq_to_trim]\n",
      "    return _run_cutadapt(output_dir, input_fastq_fp, end_name, args, quiet)\n",
      "\n",
      "\n",
      "def _run_cutadapt(output_dir, input_fastq_fp, trim_name, partial_args, quiet):\n",
      "    _, input_base, _ = get_file_name_pieces(input_fastq_fp)\n",
      "    output_fastq_fp = make_file_path(output_dir, input_base, get_trimmed_suffix(trim_name))\n",
      "    args = [x for x in partial_args]\n",
      "    if quiet:\n",
      "        args.append(\"--quiet\")\n",
      "    args.extend([\"-o\", output_fastq_fp, input_fastq_fp])\n",
      "    cutadapt.scripts.cutadapt.main(args)\n",
      "    return output_fastq_fp\n",
      "\n"
     ]
    }
   ],
   "source": [
    "import ccbbucsd.malicrispr.scaffold_trim as trim\n",
    "print(inspect.getsource(trim))"
   ]
  },
  {
   "cell_type": "code",
   "execution_count": 5,
   "metadata": {
    "collapsed": false
   },
   "outputs": [],
   "source": [
    "def trim_fw_and_rv_reads(output_dir, full_5p_r1, full_3p_r1, full_5p_r2, full_3p_r2, fw_fastq_fp, rv_fastq_fp):        \n",
    "    trim.trim_linked_scaffold(output_dir, fw_fastq_fp, full_5p_r1, full_3p_r1)\n",
    "    trim.trim_linked_scaffold(output_dir, rv_fastq_fp, full_5p_r2, full_3p_r2) "
   ]
  },
  {
   "cell_type": "markdown",
   "metadata": {},
   "source": [
    "## Gzipped FASTQ Filenames"
   ]
  },
  {
   "cell_type": "code",
   "execution_count": 6,
   "metadata": {
    "collapsed": true
   },
   "outputs": [],
   "source": [
    "g_seq_file_ext_name = \".fastq\"\n",
    "g_gzip_ext_name = \".gz\""
   ]
  },
  {
   "cell_type": "code",
   "execution_count": 7,
   "metadata": {
    "collapsed": false
   },
   "outputs": [
    {
     "name": "stdout",
     "output_type": "stream",
     "text": [
      "\n"
     ]
    }
   ],
   "source": [
    "print(ns_files.summarize_filenames_for_prefix_and_suffix(g_fastqs_dir, \"\", \n",
    "                                                \"{0}{1}\".format(g_seq_file_ext_name, g_gzip_ext_name), \n",
    "                                                all_subdirs=True))"
   ]
  },
  {
   "cell_type": "markdown",
   "metadata": {},
   "source": [
    "## FASTQ Gunzip Execution"
   ]
  },
  {
   "cell_type": "code",
   "execution_count": 8,
   "metadata": {
    "collapsed": true
   },
   "outputs": [],
   "source": [
    "import ccbbucsd.utilities.files_and_paths as ns_files\n",
    "\n",
    "def unzip_and_flatten_seq_files(top_fastqs_dir, ext_name, gzip_ext_name, keep_gzs):\n",
    "    # first, recursively unzip all fastq.gz files anywhere under the input dir\n",
    "    ns_files.gunzip_wildpath(top_fastqs_dir, ext_name + gzip_ext_name, keep_gzs, True)  # True = do recursive\n",
    "    # now move all fastqs to top-level directory so don't have to work recursively in future\n",
    "    ns_files.move_to_dir_and_flatten(top_fastqs_dir, top_fastqs_dir, ext_name)"
   ]
  },
  {
   "cell_type": "code",
   "execution_count": 9,
   "metadata": {
    "collapsed": false
   },
   "outputs": [],
   "source": [
    "# False = don't keep gzs as well as expanding, True = do keep them (True only works for gzip 1.6+)\n",
    "unzip_and_flatten_seq_files(g_fastqs_dir, g_seq_file_ext_name, g_gzip_ext_name, g_keep_gzs)  "
   ]
  },
  {
   "cell_type": "markdown",
   "metadata": {},
   "source": [
    "## FASTQ Filenames"
   ]
  },
  {
   "cell_type": "code",
   "execution_count": 10,
   "metadata": {
    "collapsed": false
   },
   "outputs": [
    {
     "name": "stdout",
     "output_type": "stream",
     "text": [
      "A549-CV4-100-d21-1_S3_L001_R1_001.fastq\n",
      "A549-CV4-100-d21-1_S3_L001_R2_001.fastq\n",
      "A549-CV4-100-d21-2_S4_L001_R1_001.fastq\n",
      "A549-CV4-100-d21-2_S4_L001_R2_001.fastq\n",
      "A549-CV4-100-d28-1_S5_L001_R1_001.fastq\n",
      "A549-CV4-100-d28-1_S5_L001_R2_001.fastq\n",
      "A549-CV4-100-d28-2_S6_L001_R1_001.fastq\n",
      "A549-CV4-100-d28-2_S6_L001_R2_001.fastq\n"
     ]
    }
   ],
   "source": [
    "print(ns_files.summarize_filenames_for_prefix_and_suffix(g_fastqs_dir, \"\", g_seq_file_ext_name))"
   ]
  },
  {
   "cell_type": "markdown",
   "metadata": {},
   "source": [
    "## Scaffold Trim Execution"
   ]
  },
  {
   "cell_type": "code",
   "execution_count": 11,
   "metadata": {
    "collapsed": false
   },
   "outputs": [
    {
     "name": "stdout",
     "output_type": "stream",
     "text": [
      "Starting parallel processing at 2017-03-23 14:38:04.808767\n",
      "Starting A549-CV4-100-d21-1_S3_L001_001 at 2017-03-23 14:38:04.864685\n",
      "Starting A549-CV4-100-d28-1_S5_L001_001 at 2017-03-23 14:38:04.865974\n",
      "Starting A549-CV4-100-d21-2_S4_L001_001 at 2017-03-23 14:38:04.865120\n",
      "This is cutadapt 1.10 with Python 3.4.5\n",
      "This is cutadapt 1.10 with Python 3.4.5\n",
      "This is cutadapt 1.10 with Python 3.4.5\n",
      "Command line parameters: -a TATATATCTTGTGGAAAGGACGAAACACCG...GTTTCAGAGCTATGCTGGAAACTGCATAGCAAGTTGAAATAAGGCTAGTCCGTTATCAACTTGAAAAAGTGGCACCGAGTCGGTGCTTTTTTGTACTGAG --quiet -o /Users/Birmingham/Work/Repositories/ccbb_tickets_2017/mali-dual-crispr-pipeline/src/python/test_files/small_notebook_test/notebook1_small_notebook_test/A549-CV4-100-d21-1_S3_L001_R1_001_trimmed53.fastq /Users/Birmingham/Work/Repositories/ccbb_tickets_2017/mali-dual-crispr-pipeline/src/python/test_files/small_notebook_test/raw/A549-CV4-100-d21-1_S3_L001_R1_001.fastq\n",
      "Command line parameters: -a TATATATCTTGTGGAAAGGACGAAACACCG...GTTTCAGAGCTATGCTGGAAACTGCATAGCAAGTTGAAATAAGGCTAGTCCGTTATCAACTTGAAAAAGTGGCACCGAGTCGGTGCTTTTTTGTACTGAG --quiet -o /Users/Birmingham/Work/Repositories/ccbb_tickets_2017/mali-dual-crispr-pipeline/src/python/test_files/small_notebook_test/notebook1_small_notebook_test/A549-CV4-100-d21-2_S4_L001_R1_001_trimmed53.fastq /Users/Birmingham/Work/Repositories/ccbb_tickets_2017/mali-dual-crispr-pipeline/src/python/test_files/small_notebook_test/raw/A549-CV4-100-d21-2_S4_L001_R1_001.fastq\n",
      "Trimming 1 adapter with at most 10.0% errors in single-end mode ...\n",
      "Trimming 1 adapter with at most 10.0% errors in single-end mode ...\n",
      "Command line parameters: -a TATATATCTTGTGGAAAGGACGAAACACCG...GTTTCAGAGCTATGCTGGAAACTGCATAGCAAGTTGAAATAAGGCTAGTCCGTTATCAACTTGAAAAAGTGGCACCGAGTCGGTGCTTTTTTGTACTGAG --quiet -o /Users/Birmingham/Work/Repositories/ccbb_tickets_2017/mali-dual-crispr-pipeline/src/python/test_files/small_notebook_test/notebook1_small_notebook_test/A549-CV4-100-d28-1_S5_L001_R1_001_trimmed53.fastq /Users/Birmingham/Work/Repositories/ccbb_tickets_2017/mali-dual-crispr-pipeline/src/python/test_files/small_notebook_test/raw/A549-CV4-100-d28-1_S5_L001_R1_001.fastq\n",
      "Trimming 1 adapter with at most 10.0% errors in single-end mode ...\n",
      "This is cutadapt 1.10 with Python 3.4.5\n",
      "This is cutadapt 1.10 with Python 3.4.5\n",
      "Command line parameters: -a CCTTATTTTAACTTGCTATTTCTAGCTCTAAAAC...CAAACAAGGCTTTTCTCCAAGGGATATTTATAGTCTCAAAACACACAATTACTTTACAGTTAGGGTGAGTTTCCTTTTGTGCTGTTTTTTAAAATA --quiet -o /Users/Birmingham/Work/Repositories/ccbb_tickets_2017/mali-dual-crispr-pipeline/src/python/test_files/small_notebook_test/notebook1_small_notebook_test/A549-CV4-100-d21-2_S4_L001_R2_001_trimmed53.fastq /Users/Birmingham/Work/Repositories/ccbb_tickets_2017/mali-dual-crispr-pipeline/src/python/test_files/small_notebook_test/raw/A549-CV4-100-d21-2_S4_L001_R2_001.fastq\n",
      "Command line parameters: -a CCTTATTTTAACTTGCTATTTCTAGCTCTAAAAC...CAAACAAGGCTTTTCTCCAAGGGATATTTATAGTCTCAAAACACACAATTACTTTACAGTTAGGGTGAGTTTCCTTTTGTGCTGTTTTTTAAAATA --quiet -o /Users/Birmingham/Work/Repositories/ccbb_tickets_2017/mali-dual-crispr-pipeline/src/python/test_files/small_notebook_test/notebook1_small_notebook_test/A549-CV4-100-d21-1_S3_L001_R2_001_trimmed53.fastq /Users/Birmingham/Work/Repositories/ccbb_tickets_2017/mali-dual-crispr-pipeline/src/python/test_files/small_notebook_test/raw/A549-CV4-100-d21-1_S3_L001_R2_001.fastq\n",
      "This is cutadapt 1.10 with Python 3.4.5\n",
      "Trimming 1 adapter with at most 10.0% errors in single-end mode ...\n",
      "Trimming 1 adapter with at most 10.0% errors in single-end mode ...\n",
      "Command line parameters: -a CCTTATTTTAACTTGCTATTTCTAGCTCTAAAAC...CAAACAAGGCTTTTCTCCAAGGGATATTTATAGTCTCAAAACACACAATTACTTTACAGTTAGGGTGAGTTTCCTTTTGTGCTGTTTTTTAAAATA --quiet -o /Users/Birmingham/Work/Repositories/ccbb_tickets_2017/mali-dual-crispr-pipeline/src/python/test_files/small_notebook_test/notebook1_small_notebook_test/A549-CV4-100-d28-1_S5_L001_R2_001_trimmed53.fastq /Users/Birmingham/Work/Repositories/ccbb_tickets_2017/mali-dual-crispr-pipeline/src/python/test_files/small_notebook_test/raw/A549-CV4-100-d28-1_S5_L001_R2_001.fastq\n",
      "Trimming 1 adapter with at most 10.0% errors in single-end mode ...\n",
      "A549-CV4-100-d21-1_S3_L001_001 elapsed time: 0:00:00\n",
      "A549-CV4-100-d21-2_S4_L001_001 elapsed time: 0:00:00\n",
      "Starting A549-CV4-100-d28-2_S6_L001_001 at 2017-03-23 14:38:04.957782\n",
      "A549-CV4-100-d28-1_S5_L001_001 elapsed time: 0:00:00\n",
      "This is cutadapt 1.10 with Python 3.4.5\n",
      "Command line parameters: -a TATATATCTTGTGGAAAGGACGAAACACCG...GTTTCAGAGCTATGCTGGAAACTGCATAGCAAGTTGAAATAAGGCTAGTCCGTTATCAACTTGAAAAAGTGGCACCGAGTCGGTGCTTTTTTGTACTGAG --quiet -o /Users/Birmingham/Work/Repositories/ccbb_tickets_2017/mali-dual-crispr-pipeline/src/python/test_files/small_notebook_test/notebook1_small_notebook_test/A549-CV4-100-d28-2_S6_L001_R1_001_trimmed53.fastq /Users/Birmingham/Work/Repositories/ccbb_tickets_2017/mali-dual-crispr-pipeline/src/python/test_files/small_notebook_test/raw/A549-CV4-100-d28-2_S6_L001_R1_001.fastq\n",
      "Trimming 1 adapter with at most 10.0% errors in single-end mode ...\n",
      "This is cutadapt 1.10 with Python 3.4.5\n",
      "Command line parameters: -a CCTTATTTTAACTTGCTATTTCTAGCTCTAAAAC...CAAACAAGGCTTTTCTCCAAGGGATATTTATAGTCTCAAAACACACAATTACTTTACAGTTAGGGTGAGTTTCCTTTTGTGCTGTTTTTTAAAATA --quiet -o /Users/Birmingham/Work/Repositories/ccbb_tickets_2017/mali-dual-crispr-pipeline/src/python/test_files/small_notebook_test/notebook1_small_notebook_test/A549-CV4-100-d28-2_S6_L001_R2_001_trimmed53.fastq /Users/Birmingham/Work/Repositories/ccbb_tickets_2017/mali-dual-crispr-pipeline/src/python/test_files/small_notebook_test/raw/A549-CV4-100-d28-2_S6_L001_R2_001.fastq\n",
      "Trimming 1 adapter with at most 10.0% errors in single-end mode ...\n",
      "A549-CV4-100-d28-2_S6_L001_001 elapsed time: 0:00:00\n",
      "parallel processing elapsed time: 0:00:00\n"
     ]
    }
   ],
   "source": [
    "import ccbbucsd.utilities.parallel_process_fastqs as ns_parallel\n",
    "g_parallel_results = ns_parallel.parallel_process_paired_reads(g_fastqs_dir, g_seq_file_ext_name, g_num_processors, \n",
    "                                                   trim_fw_and_rv_reads, [g_trimmed_fastqs_dir, g_full_5p_r1, \n",
    "                                                                          g_full_3p_r1, g_full_5p_r2, g_full_3p_r2])"
   ]
  },
  {
   "cell_type": "code",
   "execution_count": 12,
   "metadata": {
    "collapsed": false
   },
   "outputs": [
    {
     "name": "stdout",
     "output_type": "stream",
     "text": [
      "A549-CV4-100-d21-1_S3_L001_001: finished\n",
      "A549-CV4-100-d21-2_S4_L001_001: finished\n",
      "A549-CV4-100-d28-1_S5_L001_001: finished\n",
      "A549-CV4-100-d28-2_S6_L001_001: finished\n",
      "\n"
     ]
    }
   ],
   "source": [
    "print(ns_parallel.concatenate_parallel_results(g_parallel_results))"
   ]
  },
  {
   "cell_type": "markdown",
   "metadata": {},
   "source": [
    "## Trimmed FASTQ Filenames"
   ]
  },
  {
   "cell_type": "code",
   "execution_count": 13,
   "metadata": {
    "collapsed": false
   },
   "outputs": [
    {
     "name": "stdout",
     "output_type": "stream",
     "text": [
      "A549-CV4-100-d21-1_S3_L001_R1_001_trimmed53.fastq\n",
      "A549-CV4-100-d21-1_S3_L001_R2_001_trimmed53.fastq\n",
      "A549-CV4-100-d21-2_S4_L001_R1_001_trimmed53.fastq\n",
      "A549-CV4-100-d21-2_S4_L001_R2_001_trimmed53.fastq\n",
      "A549-CV4-100-d28-1_S5_L001_R1_001_trimmed53.fastq\n",
      "A549-CV4-100-d28-1_S5_L001_R2_001_trimmed53.fastq\n",
      "A549-CV4-100-d28-2_S6_L001_R1_001_trimmed53.fastq\n",
      "A549-CV4-100-d28-2_S6_L001_R2_001_trimmed53.fastq\n"
     ]
    }
   ],
   "source": [
    "print(ns_files.summarize_filenames_for_prefix_and_suffix(g_trimmed_fastqs_dir, \"\", \n",
    "    trim.get_trimmed_suffix(trim.TrimType.FIVE_THREE)))"
   ]
  },
  {
   "cell_type": "code",
   "execution_count": null,
   "metadata": {
    "collapsed": true
   },
   "outputs": [],
   "source": []
  }
 ],
 "metadata": {
  "anaconda-cloud": {},
  "kernelspec": {
   "display_name": "Python 3",
   "language": "python",
   "name": "python3"
  },
  "language_info": {
   "codemirror_mode": {
    "name": "ipython",
    "version": 3
   },
   "file_extension": ".py",
   "mimetype": "text/x-python",
   "name": "python",
   "nbconvert_exporter": "python",
   "pygments_lexer": "ipython3",
   "version": "3.4.5"
  }
 },
 "nbformat": 4,
 "nbformat_minor": 0
}
